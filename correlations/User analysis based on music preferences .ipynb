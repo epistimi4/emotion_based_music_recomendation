{
 "cells": [
  {
   "cell_type": "markdown",
   "metadata": {},
   "source": [
    "# User analysis based on music preferences #\n",
    "### Import libraries, setup environment ###"
   ]
  },
  {
   "cell_type": "code",
   "execution_count": 1,
   "metadata": {
    "ExecuteTime": {
     "end_time": "2020-02-14T15:37:26.428477Z",
     "start_time": "2020-02-14T15:37:23.206761Z"
    }
   },
   "outputs": [],
   "source": [
    "import pandas as pd\n",
    "import numpy as np\n",
    "from collections import Counter\n",
    "from sklearn.manifold import TSNE\n",
    "from sklearn.preprocessing import OneHotEncoder,LabelEncoder\n",
    "from sklearn.cluster import KMeans\n",
    "from sklearn.metrics import silhouette_score\n",
    "\n",
    "import seaborn as sns\n",
    "import matplotlib.pyplot as plt\n",
    "%matplotlib inline\n",
    "\n",
    "pd.set_option('display.max_columns', 150)\n",
    "path='C:\\\\usersCode\\\\MScDataScience\\\\Multimodal analysis\\\\Preprocessing\\\\'"
   ]
  },
  {
   "cell_type": "markdown",
   "metadata": {},
   "source": [
    "#### Read input user data ####"
   ]
  },
  {
   "cell_type": "code",
   "execution_count": 6,
   "metadata": {
    "ExecuteTime": {
     "end_time": "2020-02-14T17:14:12.585972Z",
     "start_time": "2020-02-14T17:14:12.304348Z"
    }
   },
   "outputs": [
    {
     "data": {
      "text/html": [
       "<div>\n",
       "<style scoped>\n",
       "    .dataframe tbody tr th:only-of-type {\n",
       "        vertical-align: middle;\n",
       "    }\n",
       "\n",
       "    .dataframe tbody tr th {\n",
       "        vertical-align: top;\n",
       "    }\n",
       "\n",
       "    .dataframe thead th {\n",
       "        text-align: right;\n",
       "    }\n",
       "</style>\n",
       "<table border=\"1\" class=\"dataframe\">\n",
       "  <thead>\n",
       "    <tr style=\"text-align: right;\">\n",
       "      <th></th>\n",
       "      <th>acousticness</th>\n",
       "      <th>activity</th>\n",
       "      <th>age</th>\n",
       "      <th>artist_name</th>\n",
       "      <th>danceability</th>\n",
       "      <th>energy</th>\n",
       "      <th>gender</th>\n",
       "      <th>id</th>\n",
       "      <th>instrumentalness</th>\n",
       "      <th>liveness</th>\n",
       "      <th>location</th>\n",
       "      <th>loudness</th>\n",
       "      <th>mood</th>\n",
       "      <th>period</th>\n",
       "      <th>popularity</th>\n",
       "      <th>release_date</th>\n",
       "      <th>song_name</th>\n",
       "      <th>speechiness</th>\n",
       "      <th>tempo</th>\n",
       "      <th>user_id</th>\n",
       "      <th>valence</th>\n",
       "      <th>age_group</th>\n",
       "      <th>clusters</th>\n",
       "    </tr>\n",
       "  </thead>\n",
       "  <tbody>\n",
       "    <tr>\n",
       "      <th>618</th>\n",
       "      <td>0.09830</td>\n",
       "      <td>commuting</td>\n",
       "      <td>40</td>\n",
       "      <td>Deep Purple</td>\n",
       "      <td>0.632</td>\n",
       "      <td>0.586</td>\n",
       "      <td>male</td>\n",
       "      <td>5SAUIWdZ04OxYfJFDchC7S</td>\n",
       "      <td>0.581000</td>\n",
       "      <td>0.0535</td>\n",
       "      <td>outdoor</td>\n",
       "      <td>-11.333</td>\n",
       "      <td>excited</td>\n",
       "      <td>midday</td>\n",
       "      <td>63</td>\n",
       "      <td>1972-03-25</td>\n",
       "      <td>Smoke on the Water</td>\n",
       "      <td>0.0284</td>\n",
       "      <td>114.243</td>\n",
       "      <td>9</td>\n",
       "      <td>0.890</td>\n",
       "      <td>41-50</td>\n",
       "      <td>7</td>\n",
       "    </tr>\n",
       "    <tr>\n",
       "      <th>619</th>\n",
       "      <td>0.07900</td>\n",
       "      <td>commuting</td>\n",
       "      <td>40</td>\n",
       "      <td>The Clash</td>\n",
       "      <td>0.742</td>\n",
       "      <td>0.833</td>\n",
       "      <td>male</td>\n",
       "      <td>39shmbIHICJ2Wxnk1fPSdz</td>\n",
       "      <td>0.000000</td>\n",
       "      <td>0.3840</td>\n",
       "      <td>outdoor</td>\n",
       "      <td>-6.463</td>\n",
       "      <td>excited</td>\n",
       "      <td>midday</td>\n",
       "      <td>77</td>\n",
       "      <td>1982</td>\n",
       "      <td>Should I Stay or Should I Go - Remastered</td>\n",
       "      <td>0.1150</td>\n",
       "      <td>113.375</td>\n",
       "      <td>9</td>\n",
       "      <td>0.816</td>\n",
       "      <td>41-50</td>\n",
       "      <td>7</td>\n",
       "    </tr>\n",
       "    <tr>\n",
       "      <th>620</th>\n",
       "      <td>0.00705</td>\n",
       "      <td>commuting</td>\n",
       "      <td>40</td>\n",
       "      <td>Motörhead</td>\n",
       "      <td>0.448</td>\n",
       "      <td>0.936</td>\n",
       "      <td>male</td>\n",
       "      <td>1s0koYJ8UkZstIYYGboZa3</td>\n",
       "      <td>0.245000</td>\n",
       "      <td>0.1280</td>\n",
       "      <td>outdoor</td>\n",
       "      <td>-6.300</td>\n",
       "      <td>excited</td>\n",
       "      <td>midday</td>\n",
       "      <td>29</td>\n",
       "      <td>1992-07-28</td>\n",
       "      <td>You Better Run</td>\n",
       "      <td>0.0589</td>\n",
       "      <td>135.135</td>\n",
       "      <td>9</td>\n",
       "      <td>0.536</td>\n",
       "      <td>41-50</td>\n",
       "      <td>7</td>\n",
       "    </tr>\n",
       "    <tr>\n",
       "      <th>621</th>\n",
       "      <td>0.00377</td>\n",
       "      <td>commuting</td>\n",
       "      <td>40</td>\n",
       "      <td>Motörhead</td>\n",
       "      <td>0.660</td>\n",
       "      <td>0.778</td>\n",
       "      <td>male</td>\n",
       "      <td>7BwYSuWTyfcG3vtp1SnP7n</td>\n",
       "      <td>0.000856</td>\n",
       "      <td>0.3730</td>\n",
       "      <td>outdoor</td>\n",
       "      <td>-6.163</td>\n",
       "      <td>excited</td>\n",
       "      <td>midday</td>\n",
       "      <td>44</td>\n",
       "      <td>1979-03-24</td>\n",
       "      <td>Louie Louie</td>\n",
       "      <td>0.0583</td>\n",
       "      <td>123.205</td>\n",
       "      <td>9</td>\n",
       "      <td>0.758</td>\n",
       "      <td>41-50</td>\n",
       "      <td>7</td>\n",
       "    </tr>\n",
       "    <tr>\n",
       "      <th>622</th>\n",
       "      <td>0.00014</td>\n",
       "      <td>commuting</td>\n",
       "      <td>40</td>\n",
       "      <td>The Gone Jackals</td>\n",
       "      <td>0.305</td>\n",
       "      <td>0.882</td>\n",
       "      <td>male</td>\n",
       "      <td>2u2hIyLXxO06AudM88TmgF</td>\n",
       "      <td>0.249000</td>\n",
       "      <td>0.3880</td>\n",
       "      <td>outdoor</td>\n",
       "      <td>-13.521</td>\n",
       "      <td>excited</td>\n",
       "      <td>midday</td>\n",
       "      <td>31</td>\n",
       "      <td>1995</td>\n",
       "      <td>Legacy</td>\n",
       "      <td>0.0706</td>\n",
       "      <td>125.519</td>\n",
       "      <td>9</td>\n",
       "      <td>0.477</td>\n",
       "      <td>41-50</td>\n",
       "      <td>7</td>\n",
       "    </tr>\n",
       "  </tbody>\n",
       "</table>\n",
       "</div>"
      ],
      "text/plain": [
       "     acousticness   activity  age       artist_name  danceability  energy  \\\n",
       "618       0.09830  commuting   40       Deep Purple         0.632   0.586   \n",
       "619       0.07900  commuting   40         The Clash         0.742   0.833   \n",
       "620       0.00705  commuting   40         Motörhead         0.448   0.936   \n",
       "621       0.00377  commuting   40         Motörhead         0.660   0.778   \n",
       "622       0.00014  commuting   40  The Gone Jackals         0.305   0.882   \n",
       "\n",
       "    gender                      id  instrumentalness  liveness location  \\\n",
       "618   male  5SAUIWdZ04OxYfJFDchC7S          0.581000    0.0535  outdoor   \n",
       "619   male  39shmbIHICJ2Wxnk1fPSdz          0.000000    0.3840  outdoor   \n",
       "620   male  1s0koYJ8UkZstIYYGboZa3          0.245000    0.1280  outdoor   \n",
       "621   male  7BwYSuWTyfcG3vtp1SnP7n          0.000856    0.3730  outdoor   \n",
       "622   male  2u2hIyLXxO06AudM88TmgF          0.249000    0.3880  outdoor   \n",
       "\n",
       "     loudness     mood  period  popularity release_date  \\\n",
       "618   -11.333  excited  midday          63   1972-03-25   \n",
       "619    -6.463  excited  midday          77         1982   \n",
       "620    -6.300  excited  midday          29   1992-07-28   \n",
       "621    -6.163  excited  midday          44   1979-03-24   \n",
       "622   -13.521  excited  midday          31         1995   \n",
       "\n",
       "                                     song_name  speechiness    tempo  user_id  \\\n",
       "618                         Smoke on the Water       0.0284  114.243        9   \n",
       "619  Should I Stay or Should I Go - Remastered       0.1150  113.375        9   \n",
       "620                             You Better Run       0.0589  135.135        9   \n",
       "621                                Louie Louie       0.0583  123.205        9   \n",
       "622                                     Legacy       0.0706  125.519        9   \n",
       "\n",
       "     valence age_group  clusters  \n",
       "618    0.890     41-50         7  \n",
       "619    0.816     41-50         7  \n",
       "620    0.536     41-50         7  \n",
       "621    0.758     41-50         7  \n",
       "622    0.477     41-50         7  "
      ]
     },
     "execution_count": 6,
     "metadata": {},
     "output_type": "execute_result"
    }
   ],
   "source": [
    "df = pd.read_excel(path+'spotify_metadata_playlist_clu.xlsx')\n",
    "df.tail()"
   ]
  },
  {
   "cell_type": "code",
   "execution_count": 15,
   "metadata": {
    "ExecuteTime": {
     "end_time": "2020-02-14T17:29:22.404086Z",
     "start_time": "2020-02-14T17:29:14.314393Z"
    },
    "scrolled": false
   },
   "outputs": [
    {
     "name": "stdout",
     "output_type": "stream",
     "text": [
      "Profiling User 1\n",
      "Number of items: 27\n",
      "Cluster characteristics of user:1: Clusters: 10 Mood:sad, Location:home, Activity:working, When:evening\n",
      "Spotify characteristics: Accousticness:0.000841-0.701, Danceability:0.351-0.664, Energy:0.355-0.902, Loudness:-13.692--3.017, Tempo:67.026-188.021, Valence:0.0822-0.909, Instrumentalness:0.0-0.874\n"
     ]
    },
    {
     "data": {
      "image/png": "[encoded data removed]",
      "text/plain": [
       "<Figure size 1152x288 with 1 Axes>"
      ]
     },
     "metadata": {
      "needs_background": "light"
     },
     "output_type": "display_data"
    },
    {
     "name": "stdout",
     "output_type": "stream",
     "text": [
      "Profiling User 2\n",
      "Number of items: 6\n",
      "Cluster characteristics of user:2: Clusters: 5 Mood:peaceful, Location:home, Activity:studying, When:evening\n",
      "Spotify characteristics: Accousticness:0.00109-0.995, Danceability:0.137-0.84, Energy:0.0272-0.844, Loudness:-29.648--4.352, Tempo:65.568-170.358, Valence:0.0368-0.37, Instrumentalness:0.000684-0.939\n"
     ]
    },
    {
     "data": {
      "image/png": "[encoded data removed]",
      "text/plain": [
       "<Figure size 1152x288 with 1 Axes>"
      ]
     },
     "metadata": {
      "needs_background": "light"
     },
     "output_type": "display_data"
    },
    {
     "name": "stdout",
     "output_type": "stream",
     "text": [
      "Profiling User 3\n",
      "Number of items: 2\n",
      "Cluster characteristics of user:3: Clusters: 5 Mood:excited, Location:outdoor, Activity:working out, When:night\n",
      "Spotify characteristics: Accousticness:0.0622-0.778, Danceability:0.606-0.776, Energy:0.294-0.78, Loudness:-11.836--4.374, Tempo:76.083-124.949, Valence:0.192-0.666, Instrumentalness:0.0-0.162\n"
     ]
    },
    {
     "data": {
      "image/png": "[encoded data removed]",
      "text/plain": [
       "<Figure size 1152x288 with 1 Axes>"
      ]
     },
     "metadata": {
      "needs_background": "light"
     },
     "output_type": "display_data"
    },
    {
     "name": "stdout",
     "output_type": "stream",
     "text": [
      "Profiling User 4\n",
      "Number of items: 1\n",
      "Cluster characteristics of user:4: Clusters: 11 Mood:excited, Location:work, Activity:working, When:afternoon\n",
      "Spotify characteristics: Accousticness:0.00678-0.00678, Danceability:0.853-0.853, Energy:0.541-0.541, Loudness:-10.229--10.229, Tempo:124.001-124.001, Valence:0.62-0.62, Instrumentalness:0.000224-0.000224\n"
     ]
    },
    {
     "data": {
      "image/png": "[encoded data removed]",
      "text/plain": [
       "<Figure size 1152x288 with 1 Axes>"
      ]
     },
     "metadata": {
      "needs_background": "light"
     },
     "output_type": "display_data"
    },
    {
     "name": "stdout",
     "output_type": "stream",
     "text": [
      "Profiling User 5\n",
      "Number of items: 67\n",
      "Cluster characteristics of user:5: Clusters: 2 Mood:calm, Location:home, Activity:amusing, When:night\n",
      "Spotify characteristics: Accousticness:0.00286-0.94, Danceability:0.275-0.855, Energy:0.0959-0.968, Loudness:-20.338--3.112, Tempo:75.836-189.785, Valence:0.136-0.963, Instrumentalness:0.0-0.865\n"
     ]
    },
    {
     "data": {
      "image/png": "[encoded data removed]",
      "text/plain": [
       "<Figure size 1152x288 with 1 Axes>"
      ]
     },
     "metadata": {
      "needs_background": "light"
     },
     "output_type": "display_data"
    },
    {
     "name": "stdout",
     "output_type": "stream",
     "text": [
      "Profiling User 6\n",
      "Number of items: 80\n",
      "Cluster characteristics of user:6: Clusters: 4 Mood:nervous, Location:work, Activity:working, When:midday\n",
      "Spotify characteristics: Accousticness:1.15e-05-0.985, Danceability:0.219-0.854, Energy:0.00894-0.975, Loudness:-25.102--3.9, Tempo:56.3-208.571, Valence:0.0547-0.91, Instrumentalness:0.0-0.942\n"
     ]
    },
    {
     "data": {
      "image/png": "[encoded data removed]",
      "text/plain": [
       "<Figure size 1152x288 with 1 Axes>"
      ]
     },
     "metadata": {
      "needs_background": "light"
     },
     "output_type": "display_data"
    },
    {
     "name": "stdout",
     "output_type": "stream",
     "text": [
      "Profiling User 7\n",
      "Number of items: 44\n",
      "Cluster characteristics of user:7: Clusters: 8 Mood:calm, Location:other, Activity:commuting, When:morning\n",
      "Spotify characteristics: Accousticness:4.52e-05-0.963, Danceability:0.307-0.952, Energy:0.0766-0.939, Loudness:-18.097--2.214, Tempo:70.443-199.373, Valence:0.0694-0.965, Instrumentalness:0.0-0.942\n"
     ]
    },
    {
     "data": {
      "image/png": "[encoded data removed]",
      "text/plain": [
       "<Figure size 1152x288 with 1 Axes>"
      ]
     },
     "metadata": {
      "needs_background": "light"
     },
     "output_type": "display_data"
    },
    {
     "name": "stdout",
     "output_type": "stream",
     "text": [
      "Profiling User 8\n",
      "Number of items: 37\n",
      "Cluster characteristics of user:8: Clusters: 11 Mood:angry, Location:work, Activity:working, When:morning\n",
      "Spotify characteristics: Accousticness:1.95e-05-0.995, Danceability:0.112-0.837, Energy:0.0559-0.962, Loudness:-25.377--2.597, Tempo:72.81-197.705, Valence:0.0348-0.952, Instrumentalness:0.0-0.961\n"
     ]
    },
    {
     "data": {
      "image/png": "[encoded data removed]",
      "text/plain": [
       "<Figure size 1152x288 with 1 Axes>"
      ]
     },
     "metadata": {
      "needs_background": "light"
     },
     "output_type": "display_data"
    },
    {
     "name": "stdout",
     "output_type": "stream",
     "text": [
      "Profiling User 9\n",
      "Number of items: 56\n",
      "Cluster characteristics of user:9: Clusters: 1 Mood:calm, Location:home, Activity:amusing, When:morning\n",
      "Spotify characteristics: Accousticness:5.36e-06-0.938, Danceability:0.112-0.794, Energy:0.0686-0.983, Loudness:-23.208--2.752, Tempo:77.865-200.024, Valence:0.139-0.954, Instrumentalness:0.0-0.962\n"
     ]
    },
    {
     "data": {
      "image/png": "[encoded data removed]",
      "text/plain": [
       "<Figure size 1152x288 with 1 Axes>"
      ]
     },
     "metadata": {
      "needs_background": "light"
     },
     "output_type": "display_data"
    },
    {
     "name": "stdout",
     "output_type": "stream",
     "text": [
      "Profiling User 10\n",
      "Number of items: 15\n",
      "Cluster characteristics of user:10: Clusters: 11 Mood:relaxed, Location:work, Activity:working, When:morning\n",
      "Spotify characteristics: Accousticness:0.000453-0.963, Danceability:0.346-0.798, Energy:0.201-0.913, Loudness:-13.156--2.578, Tempo:72.637-174.53, Valence:0.102-0.89, Instrumentalness:0.0-0.645\n"
     ]
    },
    {
     "data": {
      "image/png": "[encoded data removed]",
      "text/plain": [
       "<Figure size 1152x288 with 1 Axes>"
      ]
     },
     "metadata": {
      "needs_background": "light"
     },
     "output_type": "display_data"
    },
    {
     "name": "stdout",
     "output_type": "stream",
     "text": [
      "Profiling User 11\n",
      "Number of items: 48\n",
      "Cluster characteristics of user:11: Clusters: 7 Mood:excited, Location:outdoor, Activity:working, When:midday\n",
      "Spotify characteristics: Accousticness:2.77e-06-0.963, Danceability:0.153-0.807, Energy:0.0686-0.961, Loudness:-23.208--2.379, Tempo:64.223-176.445, Valence:0.163-0.952, Instrumentalness:0.0-0.962\n"
     ]
    },
    {
     "data": {
      "image/png": "[encoded data removed]",
      "text/plain": [
       "<Figure size 1152x288 with 1 Axes>"
      ]
     },
     "metadata": {
      "needs_background": "light"
     },
     "output_type": "display_data"
    },
    {
     "name": "stdout",
     "output_type": "stream",
     "text": [
      "Profiling User 12\n",
      "Number of items: 26\n",
      "Cluster characteristics of user:12: Clusters: 1 Mood:relaxed, Location:home, Activity:working, When:afternoon\n",
      "Spotify characteristics: Accousticness:2.06e-05-0.741, Danceability:0.336-0.856, Energy:0.383-0.99, Loudness:-14.193--1.077, Tempo:79.974-170.036, Valence:0.0928-0.969, Instrumentalness:0.0-0.891\n"
     ]
    },
    {
     "data": {
      "image/png": "[encoded data removed]",
      "text/plain": [
       "<Figure size 1152x288 with 1 Axes>"
      ]
     },
     "metadata": {
      "needs_background": "light"
     },
     "output_type": "display_data"
    },
    {
     "name": "stdout",
     "output_type": "stream",
     "text": [
      "Profiling User 13\n",
      "Number of items: 25\n",
      "Cluster characteristics of user:13: Clusters: 6 Mood:excited, Location:work, Activity:working, When:morning\n",
      "Spotify characteristics: Accousticness:0.00671-0.925, Danceability:0.252-0.933, Energy:0.216-0.909, Loudness:-13.551--3.017, Tempo:80.609-182.957, Valence:0.166-0.876, Instrumentalness:0.0-0.329\n"
     ]
    },
    {
     "data": {
      "image/png": "[encoded data removed]",
      "text/plain": [
       "<Figure size 1152x288 with 1 Axes>"
      ]
     },
     "metadata": {
      "needs_background": "light"
     },
     "output_type": "display_data"
    },
    {
     "name": "stdout",
     "output_type": "stream",
     "text": [
      "Profiling User 14\n",
      "Number of items: 13\n",
      "Cluster characteristics of user:14: Clusters: 5 Mood:happy, Location:home, Activity:amusing, When:night\n",
      "Spotify characteristics: Accousticness:0.181-0.692, Danceability:0.53-0.843, Energy:0.338-0.687, Loudness:-10.691--6.4, Tempo:98.027-173.737, Valence:0.111-0.803, Instrumentalness:0.0-0.876\n"
     ]
    },
    {
     "data": {
      "image/png": "[encoded data removed]",
      "text/plain": [
       "<Figure size 1152x288 with 1 Axes>"
      ]
     },
     "metadata": {
      "needs_background": "light"
     },
     "output_type": "display_data"
    },
    {
     "name": "stdout",
     "output_type": "stream",
     "text": [
      "Profiling User 15\n",
      "Number of items: 12\n",
      "Cluster characteristics of user:15: Clusters: 5 Mood:sad, Location:home, Activity:amusing, When:night\n",
      "Spotify characteristics: Accousticness:0.000976-0.993, Danceability:0.147-0.825, Energy:0.00922-0.871, Loudness:-30.88--2.959, Tempo:73.418-155.007, Valence:0.0269-0.836, Instrumentalness:0.0-0.953\n"
     ]
    },
    {
     "data": {
      "image/png": "[encoded data removed]",
      "text/plain": [
       "<Figure size 1152x288 with 1 Axes>"
      ]
     },
     "metadata": {
      "needs_background": "light"
     },
     "output_type": "display_data"
    },
    {
     "data": {
      "text/html": [
       "<div>\n",
       "<style scoped>\n",
       "    .dataframe tbody tr th:only-of-type {\n",
       "        vertical-align: middle;\n",
       "    }\n",
       "\n",
       "    .dataframe tbody tr th {\n",
       "        vertical-align: top;\n",
       "    }\n",
       "\n",
       "    .dataframe thead th {\n",
       "        text-align: right;\n",
       "    }\n",
       "</style>\n",
       "<table border=\"1\" class=\"dataframe\">\n",
       "  <thead>\n",
       "    <tr style=\"text-align: right;\">\n",
       "      <th></th>\n",
       "      <th>acousticness</th>\n",
       "      <th>activity</th>\n",
       "      <th>age</th>\n",
       "      <th>artist_name</th>\n",
       "      <th>danceability</th>\n",
       "      <th>energy</th>\n",
       "      <th>gender</th>\n",
       "      <th>id</th>\n",
       "      <th>instrumentalness</th>\n",
       "      <th>liveness</th>\n",
       "      <th>location</th>\n",
       "      <th>loudness</th>\n",
       "      <th>mood</th>\n",
       "      <th>period</th>\n",
       "      <th>popularity</th>\n",
       "      <th>release_date</th>\n",
       "      <th>song_name</th>\n",
       "      <th>speechiness</th>\n",
       "      <th>tempo</th>\n",
       "      <th>user_id</th>\n",
       "      <th>valence</th>\n",
       "      <th>age_group</th>\n",
       "      <th>clusters</th>\n",
       "    </tr>\n",
       "  </thead>\n",
       "  <tbody>\n",
       "    <tr>\n",
       "      <th>count</th>\n",
       "      <td>12.000000</td>\n",
       "      <td>12</td>\n",
       "      <td>12.0</td>\n",
       "      <td>12</td>\n",
       "      <td>12.000000</td>\n",
       "      <td>12.000000</td>\n",
       "      <td>12</td>\n",
       "      <td>12</td>\n",
       "      <td>12.000000</td>\n",
       "      <td>12.000000</td>\n",
       "      <td>12</td>\n",
       "      <td>12.000000</td>\n",
       "      <td>12</td>\n",
       "      <td>12</td>\n",
       "      <td>12.000000</td>\n",
       "      <td>12</td>\n",
       "      <td>12</td>\n",
       "      <td>12.000000</td>\n",
       "      <td>12.000000</td>\n",
       "      <td>12.0</td>\n",
       "      <td>12.000000</td>\n",
       "      <td>12</td>\n",
       "      <td>12.000000</td>\n",
       "    </tr>\n",
       "    <tr>\n",
       "      <th>unique</th>\n",
       "      <td>NaN</td>\n",
       "      <td>4</td>\n",
       "      <td>NaN</td>\n",
       "      <td>12</td>\n",
       "      <td>NaN</td>\n",
       "      <td>NaN</td>\n",
       "      <td>1</td>\n",
       "      <td>12</td>\n",
       "      <td>NaN</td>\n",
       "      <td>NaN</td>\n",
       "      <td>4</td>\n",
       "      <td>NaN</td>\n",
       "      <td>7</td>\n",
       "      <td>3</td>\n",
       "      <td>NaN</td>\n",
       "      <td>12</td>\n",
       "      <td>12</td>\n",
       "      <td>NaN</td>\n",
       "      <td>NaN</td>\n",
       "      <td>NaN</td>\n",
       "      <td>NaN</td>\n",
       "      <td>1</td>\n",
       "      <td>NaN</td>\n",
       "    </tr>\n",
       "    <tr>\n",
       "      <th>top</th>\n",
       "      <td>NaN</td>\n",
       "      <td>studying</td>\n",
       "      <td>NaN</td>\n",
       "      <td>Sam &amp; Dave</td>\n",
       "      <td>NaN</td>\n",
       "      <td>NaN</td>\n",
       "      <td>male</td>\n",
       "      <td>6aAfkcsiO7rerTy6kHJ6V4</td>\n",
       "      <td>NaN</td>\n",
       "      <td>NaN</td>\n",
       "      <td>home</td>\n",
       "      <td>NaN</td>\n",
       "      <td>sad</td>\n",
       "      <td>night</td>\n",
       "      <td>NaN</td>\n",
       "      <td>2020-02-14</td>\n",
       "      <td>Wrap It Up - LP / Single Version</td>\n",
       "      <td>NaN</td>\n",
       "      <td>NaN</td>\n",
       "      <td>NaN</td>\n",
       "      <td>NaN</td>\n",
       "      <td>20-30</td>\n",
       "      <td>NaN</td>\n",
       "    </tr>\n",
       "    <tr>\n",
       "      <th>freq</th>\n",
       "      <td>NaN</td>\n",
       "      <td>4</td>\n",
       "      <td>NaN</td>\n",
       "      <td>1</td>\n",
       "      <td>NaN</td>\n",
       "      <td>NaN</td>\n",
       "      <td>12</td>\n",
       "      <td>1</td>\n",
       "      <td>NaN</td>\n",
       "      <td>NaN</td>\n",
       "      <td>7</td>\n",
       "      <td>NaN</td>\n",
       "      <td>4</td>\n",
       "      <td>6</td>\n",
       "      <td>NaN</td>\n",
       "      <td>1</td>\n",
       "      <td>1</td>\n",
       "      <td>NaN</td>\n",
       "      <td>NaN</td>\n",
       "      <td>NaN</td>\n",
       "      <td>NaN</td>\n",
       "      <td>12</td>\n",
       "      <td>NaN</td>\n",
       "    </tr>\n",
       "    <tr>\n",
       "      <th>mean</th>\n",
       "      <td>0.394456</td>\n",
       "      <td>NaN</td>\n",
       "      <td>27.0</td>\n",
       "      <td>NaN</td>\n",
       "      <td>0.416917</td>\n",
       "      <td>0.442385</td>\n",
       "      <td>NaN</td>\n",
       "      <td>NaN</td>\n",
       "      <td>0.534008</td>\n",
       "      <td>0.121383</td>\n",
       "      <td>NaN</td>\n",
       "      <td>-14.847833</td>\n",
       "      <td>NaN</td>\n",
       "      <td>NaN</td>\n",
       "      <td>28.333333</td>\n",
       "      <td>NaN</td>\n",
       "      <td>NaN</td>\n",
       "      <td>0.057867</td>\n",
       "      <td>125.800083</td>\n",
       "      <td>15.0</td>\n",
       "      <td>0.304908</td>\n",
       "      <td>NaN</td>\n",
       "      <td>4.750000</td>\n",
       "    </tr>\n",
       "    <tr>\n",
       "      <th>std</th>\n",
       "      <td>0.346089</td>\n",
       "      <td>NaN</td>\n",
       "      <td>0.0</td>\n",
       "      <td>NaN</td>\n",
       "      <td>0.236096</td>\n",
       "      <td>0.292641</td>\n",
       "      <td>NaN</td>\n",
       "      <td>NaN</td>\n",
       "      <td>0.421700</td>\n",
       "      <td>0.079592</td>\n",
       "      <td>NaN</td>\n",
       "      <td>9.390087</td>\n",
       "      <td>NaN</td>\n",
       "      <td>NaN</td>\n",
       "      <td>20.415383</td>\n",
       "      <td>NaN</td>\n",
       "      <td>NaN</td>\n",
       "      <td>0.052434</td>\n",
       "      <td>21.375418</td>\n",
       "      <td>0.0</td>\n",
       "      <td>0.312707</td>\n",
       "      <td>NaN</td>\n",
       "      <td>0.452267</td>\n",
       "    </tr>\n",
       "    <tr>\n",
       "      <th>min</th>\n",
       "      <td>0.000976</td>\n",
       "      <td>NaN</td>\n",
       "      <td>27.0</td>\n",
       "      <td>NaN</td>\n",
       "      <td>0.147000</td>\n",
       "      <td>0.009220</td>\n",
       "      <td>NaN</td>\n",
       "      <td>NaN</td>\n",
       "      <td>0.000000</td>\n",
       "      <td>0.035300</td>\n",
       "      <td>NaN</td>\n",
       "      <td>-30.880000</td>\n",
       "      <td>NaN</td>\n",
       "      <td>NaN</td>\n",
       "      <td>0.000000</td>\n",
       "      <td>NaN</td>\n",
       "      <td>NaN</td>\n",
       "      <td>0.029500</td>\n",
       "      <td>73.418000</td>\n",
       "      <td>15.0</td>\n",
       "      <td>0.026900</td>\n",
       "      <td>NaN</td>\n",
       "      <td>4.000000</td>\n",
       "    </tr>\n",
       "    <tr>\n",
       "      <th>25%</th>\n",
       "      <td>0.106300</td>\n",
       "      <td>NaN</td>\n",
       "      <td>27.0</td>\n",
       "      <td>NaN</td>\n",
       "      <td>0.272750</td>\n",
       "      <td>0.203250</td>\n",
       "      <td>NaN</td>\n",
       "      <td>NaN</td>\n",
       "      <td>0.000052</td>\n",
       "      <td>0.094050</td>\n",
       "      <td>NaN</td>\n",
       "      <td>-23.050750</td>\n",
       "      <td>NaN</td>\n",
       "      <td>NaN</td>\n",
       "      <td>18.500000</td>\n",
       "      <td>NaN</td>\n",
       "      <td>NaN</td>\n",
       "      <td>0.039625</td>\n",
       "      <td>118.170000</td>\n",
       "      <td>15.0</td>\n",
       "      <td>0.036900</td>\n",
       "      <td>NaN</td>\n",
       "      <td>4.750000</td>\n",
       "    </tr>\n",
       "    <tr>\n",
       "      <th>50%</th>\n",
       "      <td>0.339000</td>\n",
       "      <td>NaN</td>\n",
       "      <td>27.0</td>\n",
       "      <td>NaN</td>\n",
       "      <td>0.327000</td>\n",
       "      <td>0.476500</td>\n",
       "      <td>NaN</td>\n",
       "      <td>NaN</td>\n",
       "      <td>0.687000</td>\n",
       "      <td>0.105500</td>\n",
       "      <td>NaN</td>\n",
       "      <td>-10.079000</td>\n",
       "      <td>NaN</td>\n",
       "      <td>NaN</td>\n",
       "      <td>28.500000</td>\n",
       "      <td>NaN</td>\n",
       "      <td>NaN</td>\n",
       "      <td>0.044550</td>\n",
       "      <td>128.188000</td>\n",
       "      <td>15.0</td>\n",
       "      <td>0.127650</td>\n",
       "      <td>NaN</td>\n",
       "      <td>5.000000</td>\n",
       "    </tr>\n",
       "    <tr>\n",
       "      <th>75%</th>\n",
       "      <td>0.590750</td>\n",
       "      <td>NaN</td>\n",
       "      <td>27.0</td>\n",
       "      <td>NaN</td>\n",
       "      <td>0.520000</td>\n",
       "      <td>0.694750</td>\n",
       "      <td>NaN</td>\n",
       "      <td>NaN</td>\n",
       "      <td>0.881000</td>\n",
       "      <td>0.124500</td>\n",
       "      <td>NaN</td>\n",
       "      <td>-8.512500</td>\n",
       "      <td>NaN</td>\n",
       "      <td>NaN</td>\n",
       "      <td>42.000000</td>\n",
       "      <td>NaN</td>\n",
       "      <td>NaN</td>\n",
       "      <td>0.048200</td>\n",
       "      <td>137.013000</td>\n",
       "      <td>15.0</td>\n",
       "      <td>0.592000</td>\n",
       "      <td>NaN</td>\n",
       "      <td>5.000000</td>\n",
       "    </tr>\n",
       "    <tr>\n",
       "      <th>max</th>\n",
       "      <td>0.993000</td>\n",
       "      <td>NaN</td>\n",
       "      <td>27.0</td>\n",
       "      <td>NaN</td>\n",
       "      <td>0.825000</td>\n",
       "      <td>0.871000</td>\n",
       "      <td>NaN</td>\n",
       "      <td>NaN</td>\n",
       "      <td>0.953000</td>\n",
       "      <td>0.358000</td>\n",
       "      <td>NaN</td>\n",
       "      <td>-2.959000</td>\n",
       "      <td>NaN</td>\n",
       "      <td>NaN</td>\n",
       "      <td>69.000000</td>\n",
       "      <td>NaN</td>\n",
       "      <td>NaN</td>\n",
       "      <td>0.222000</td>\n",
       "      <td>155.007000</td>\n",
       "      <td>15.0</td>\n",
       "      <td>0.836000</td>\n",
       "      <td>NaN</td>\n",
       "      <td>5.000000</td>\n",
       "    </tr>\n",
       "  </tbody>\n",
       "</table>\n",
       "</div>"
      ],
      "text/plain": [
       "        acousticness  activity   age artist_name  danceability     energy  \\\n",
       "count      12.000000        12  12.0          12     12.000000  12.000000   \n",
       "unique           NaN         4   NaN          12           NaN        NaN   \n",
       "top              NaN  studying   NaN  Sam & Dave           NaN        NaN   \n",
       "freq             NaN         4   NaN           1           NaN        NaN   \n",
       "mean        0.394456       NaN  27.0         NaN      0.416917   0.442385   \n",
       "std         0.346089       NaN   0.0         NaN      0.236096   0.292641   \n",
       "min         0.000976       NaN  27.0         NaN      0.147000   0.009220   \n",
       "25%         0.106300       NaN  27.0         NaN      0.272750   0.203250   \n",
       "50%         0.339000       NaN  27.0         NaN      0.327000   0.476500   \n",
       "75%         0.590750       NaN  27.0         NaN      0.520000   0.694750   \n",
       "max         0.993000       NaN  27.0         NaN      0.825000   0.871000   \n",
       "\n",
       "       gender                      id  instrumentalness   liveness location  \\\n",
       "count      12                      12         12.000000  12.000000       12   \n",
       "unique      1                      12               NaN        NaN        4   \n",
       "top      male  6aAfkcsiO7rerTy6kHJ6V4               NaN        NaN     home   \n",
       "freq       12                       1               NaN        NaN        7   \n",
       "mean      NaN                     NaN          0.534008   0.121383      NaN   \n",
       "std       NaN                     NaN          0.421700   0.079592      NaN   \n",
       "min       NaN                     NaN          0.000000   0.035300      NaN   \n",
       "25%       NaN                     NaN          0.000052   0.094050      NaN   \n",
       "50%       NaN                     NaN          0.687000   0.105500      NaN   \n",
       "75%       NaN                     NaN          0.881000   0.124500      NaN   \n",
       "max       NaN                     NaN          0.953000   0.358000      NaN   \n",
       "\n",
       "         loudness mood period  popularity release_date  \\\n",
       "count   12.000000   12     12   12.000000           12   \n",
       "unique        NaN    7      3         NaN           12   \n",
       "top           NaN  sad  night         NaN   2020-02-14   \n",
       "freq          NaN    4      6         NaN            1   \n",
       "mean   -14.847833  NaN    NaN   28.333333          NaN   \n",
       "std      9.390087  NaN    NaN   20.415383          NaN   \n",
       "min    -30.880000  NaN    NaN    0.000000          NaN   \n",
       "25%    -23.050750  NaN    NaN   18.500000          NaN   \n",
       "50%    -10.079000  NaN    NaN   28.500000          NaN   \n",
       "75%     -8.512500  NaN    NaN   42.000000          NaN   \n",
       "max     -2.959000  NaN    NaN   69.000000          NaN   \n",
       "\n",
       "                               song_name  speechiness       tempo  user_id  \\\n",
       "count                                 12    12.000000   12.000000     12.0   \n",
       "unique                                12          NaN         NaN      NaN   \n",
       "top     Wrap It Up - LP / Single Version          NaN         NaN      NaN   \n",
       "freq                                   1          NaN         NaN      NaN   \n",
       "mean                                 NaN     0.057867  125.800083     15.0   \n",
       "std                                  NaN     0.052434   21.375418      0.0   \n",
       "min                                  NaN     0.029500   73.418000     15.0   \n",
       "25%                                  NaN     0.039625  118.170000     15.0   \n",
       "50%                                  NaN     0.044550  128.188000     15.0   \n",
       "75%                                  NaN     0.048200  137.013000     15.0   \n",
       "max                                  NaN     0.222000  155.007000     15.0   \n",
       "\n",
       "          valence age_group   clusters  \n",
       "count   12.000000        12  12.000000  \n",
       "unique        NaN         1        NaN  \n",
       "top           NaN     20-30        NaN  \n",
       "freq          NaN        12        NaN  \n",
       "mean     0.304908       NaN   4.750000  \n",
       "std      0.312707       NaN   0.452267  \n",
       "min      0.026900       NaN   4.000000  \n",
       "25%      0.036900       NaN   4.750000  \n",
       "50%      0.127650       NaN   5.000000  \n",
       "75%      0.592000       NaN   5.000000  \n",
       "max      0.836000       NaN   5.000000  "
      ]
     },
     "execution_count": 15,
     "metadata": {},
     "output_type": "execute_result"
    }
   ],
   "source": [
    "n_users=16\n",
    "\n",
    "for user in range(1,n_users):\n",
    "    df_filtered = df[df['user_id'] == user]\n",
    "    length = len(df_filtered)\n",
    "    \n",
    "    print('Profiling User {}'.format(user) )\n",
    "    print('Number of items:', length)\n",
    "    print('Cluster characteristics of user:{}: Clusters: {} Mood:{}, Location:{}, Activity:{}, When:{}'.format(user, \n",
    "                                                                                        df_filtered['clusters'].value_counts().sort_values(ascending=False).idxmax(),\n",
    "                                                                                        df_filtered['mood'].value_counts().sort_values(ascending=False).idxmax(),\n",
    "                                                                                        df_filtered['location'].value_counts().sort_values(ascending=False).idxmax(),\n",
    "                                                                                        df_filtered['activity'].value_counts().sort_values(ascending=False).idxmax(),\n",
    "                                                                                        df_filtered['period'].value_counts().sort_values(ascending=False).idxmax()\n",
    "                                                                                                                    ))\n",
    "\n",
    "    print('Spotify characteristics: Accousticness:{}, Danceability:{}, Energy:{}, Loudness:{}, Tempo:{}, Valence:{}, Instrumentalness:{}'.format(\n",
    "                                                                                        str(df_filtered['acousticness'].min())+'-'+str(df_filtered['acousticness'].max()), \n",
    "                                                                                        str(df_filtered['danceability'].min())+'-'+str(df_filtered['danceability'].max()), \n",
    "                                                                                        str(df_filtered['energy'].min())+'-'+str(df_filtered['energy'].max()), \n",
    "                                                                                        str(df_filtered['loudness'].min())+'-'+str(df_filtered['loudness'].max()),\n",
    "                                                                                        str(df_filtered['tempo'].min())+'-'+str(df_filtered['tempo'].max()), \n",
    "                                                                                        str(df_filtered['valence'].min())+'-'+str(df_filtered['valence'].max()), \n",
    "                                                                                        str(df_filtered['instrumentalness'].min())+'-'+str(df_filtered['instrumentalness'].max())\n",
    "                                                                                                                    ))\n",
    "\n",
    "    \n",
    "    plt.figure(figsize=(16,4))\n",
    "    sns.countplot(y='mood', data=df_filtered, hue='clusters', order = df_filtered.mood.value_counts().index )\n",
    "    plt.show()\n",
    "    \n",
    "df_filtered.describe(include='all')\n",
    "\n",
    "\n",
    "\n",
    "#sns.pairplot(df_filtered)"
   ]
  },
  {
   "cell_type": "code",
   "execution_count": null,
   "metadata": {},
   "outputs": [],
   "source": []
  }
 ],
 "metadata": {
  "kernelspec": {
   "display_name": "Python 3",
   "language": "python",
   "name": "python3"
  },
  "language_info": {
   "codemirror_mode": {
    "name": "ipython",
    "version": 3
   },
   "file_extension": ".py",
   "mimetype": "text/x-python",
   "name": "python",
   "nbconvert_exporter": "python",
   "pygments_lexer": "ipython3",
   "version": "3.7.0"
  }
 },
 "nbformat": 4,
 "nbformat_minor": 2
}
