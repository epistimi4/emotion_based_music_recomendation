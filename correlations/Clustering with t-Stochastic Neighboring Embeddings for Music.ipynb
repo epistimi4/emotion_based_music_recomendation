{
 "cells": [
  {
   "cell_type": "markdown",
   "metadata": {},
   "source": [
    "# Clustering and t-Stochastic Neighboring Embeddings #\n",
    "### Import libraries, setup environment ###"
   ]
  },
  {
   "cell_type": "code",
   "execution_count": 1,
   "metadata": {
    "ExecuteTime": {
     "end_time": "2020-02-14T04:50:08.305771Z",
     "start_time": "2020-02-14T04:50:00.558076Z"
    }
   },
   "outputs": [],
   "source": [
    "import pandas as pd\n",
    "import numpy as np\n",
    "from collections import Counter\n",
    "from sklearn.manifold import TSNE\n",
    "from sklearn.preprocessing import OneHotEncoder,LabelEncoder\n",
    "from sklearn.cluster import KMeans\n",
    "from sklearn.metrics import silhouette_score\n",
    "from sklearn.metrics.cluster import v_measure_score\n",
    "\n",
    "import seaborn as sns\n",
    "import matplotlib.pyplot as plt\n",
    "%matplotlib inline\n",
    "\n",
    "pd.set_option('display.max_columns', 150)\n",
    "path='C:\\\\usersCode\\\\MScDataScience\\\\Multimodal analysis\\\\Preprocessing\\\\'"
   ]
  },
  {
   "cell_type": "markdown",
   "metadata": {},
   "source": [
    "#### Read input user data ####"
   ]
  },
  {
   "cell_type": "code",
   "execution_count": 2,
   "metadata": {
    "ExecuteTime": {
     "end_time": "2020-02-14T04:50:24.865226Z",
     "start_time": "2020-02-14T04:50:24.317087Z"
    }
   },
   "outputs": [
    {
     "data": {
      "text/html": [
       "<div>\n",
       "<style scoped>\n",
       "    .dataframe tbody tr th:only-of-type {\n",
       "        vertical-align: middle;\n",
       "    }\n",
       "\n",
       "    .dataframe tbody tr th {\n",
       "        vertical-align: top;\n",
       "    }\n",
       "\n",
       "    .dataframe thead th {\n",
       "        text-align: right;\n",
       "    }\n",
       "</style>\n",
       "<table border=\"1\" class=\"dataframe\">\n",
       "  <thead>\n",
       "    <tr style=\"text-align: right;\">\n",
       "      <th></th>\n",
       "      <th>acousticness</th>\n",
       "      <th>activity</th>\n",
       "      <th>age</th>\n",
       "      <th>artist_name</th>\n",
       "      <th>danceability</th>\n",
       "      <th>energy</th>\n",
       "      <th>gender</th>\n",
       "      <th>id</th>\n",
       "      <th>instrumentalness</th>\n",
       "      <th>liveness</th>\n",
       "      <th>location</th>\n",
       "      <th>loudness</th>\n",
       "      <th>mood</th>\n",
       "      <th>period</th>\n",
       "      <th>popularity</th>\n",
       "      <th>release_date</th>\n",
       "      <th>song_name</th>\n",
       "      <th>speechiness</th>\n",
       "      <th>tempo</th>\n",
       "      <th>user_id</th>\n",
       "      <th>valence</th>\n",
       "    </tr>\n",
       "  </thead>\n",
       "  <tbody>\n",
       "    <tr>\n",
       "      <th>618</th>\n",
       "      <td>0.09830</td>\n",
       "      <td>commuting</td>\n",
       "      <td>40</td>\n",
       "      <td>Deep Purple</td>\n",
       "      <td>0.632</td>\n",
       "      <td>0.586</td>\n",
       "      <td>male</td>\n",
       "      <td>5SAUIWdZ04OxYfJFDchC7S</td>\n",
       "      <td>0.581000</td>\n",
       "      <td>0.0535</td>\n",
       "      <td>outdoor</td>\n",
       "      <td>-11.333</td>\n",
       "      <td>excited</td>\n",
       "      <td>midday</td>\n",
       "      <td>63.0</td>\n",
       "      <td>1972-03-25</td>\n",
       "      <td>Smoke on the Water</td>\n",
       "      <td>0.0284</td>\n",
       "      <td>114.243</td>\n",
       "      <td>9</td>\n",
       "      <td>0.890</td>\n",
       "    </tr>\n",
       "    <tr>\n",
       "      <th>619</th>\n",
       "      <td>0.07900</td>\n",
       "      <td>commuting</td>\n",
       "      <td>40</td>\n",
       "      <td>The Clash</td>\n",
       "      <td>0.742</td>\n",
       "      <td>0.833</td>\n",
       "      <td>male</td>\n",
       "      <td>39shmbIHICJ2Wxnk1fPSdz</td>\n",
       "      <td>0.000000</td>\n",
       "      <td>0.3840</td>\n",
       "      <td>outdoor</td>\n",
       "      <td>-6.463</td>\n",
       "      <td>excited</td>\n",
       "      <td>midday</td>\n",
       "      <td>77.0</td>\n",
       "      <td>1982</td>\n",
       "      <td>Should I Stay or Should I Go - Remastered</td>\n",
       "      <td>0.1150</td>\n",
       "      <td>113.375</td>\n",
       "      <td>9</td>\n",
       "      <td>0.816</td>\n",
       "    </tr>\n",
       "    <tr>\n",
       "      <th>620</th>\n",
       "      <td>0.00705</td>\n",
       "      <td>commuting</td>\n",
       "      <td>40</td>\n",
       "      <td>Motörhead</td>\n",
       "      <td>0.448</td>\n",
       "      <td>0.936</td>\n",
       "      <td>male</td>\n",
       "      <td>1s0koYJ8UkZstIYYGboZa3</td>\n",
       "      <td>0.245000</td>\n",
       "      <td>0.1280</td>\n",
       "      <td>outdoor</td>\n",
       "      <td>-6.300</td>\n",
       "      <td>excited</td>\n",
       "      <td>midday</td>\n",
       "      <td>29.0</td>\n",
       "      <td>1992-07-28</td>\n",
       "      <td>You Better Run</td>\n",
       "      <td>0.0589</td>\n",
       "      <td>135.135</td>\n",
       "      <td>9</td>\n",
       "      <td>0.536</td>\n",
       "    </tr>\n",
       "    <tr>\n",
       "      <th>621</th>\n",
       "      <td>0.00377</td>\n",
       "      <td>commuting</td>\n",
       "      <td>40</td>\n",
       "      <td>Motörhead</td>\n",
       "      <td>0.660</td>\n",
       "      <td>0.778</td>\n",
       "      <td>male</td>\n",
       "      <td>7BwYSuWTyfcG3vtp1SnP7n</td>\n",
       "      <td>0.000856</td>\n",
       "      <td>0.3730</td>\n",
       "      <td>outdoor</td>\n",
       "      <td>-6.163</td>\n",
       "      <td>excited</td>\n",
       "      <td>midday</td>\n",
       "      <td>45.0</td>\n",
       "      <td>1979-03-24</td>\n",
       "      <td>Louie Louie</td>\n",
       "      <td>0.0583</td>\n",
       "      <td>123.205</td>\n",
       "      <td>9</td>\n",
       "      <td>0.758</td>\n",
       "    </tr>\n",
       "    <tr>\n",
       "      <th>622</th>\n",
       "      <td>0.00014</td>\n",
       "      <td>commuting</td>\n",
       "      <td>40</td>\n",
       "      <td>The Gone Jackals</td>\n",
       "      <td>0.305</td>\n",
       "      <td>0.882</td>\n",
       "      <td>male</td>\n",
       "      <td>2u2hIyLXxO06AudM88TmgF</td>\n",
       "      <td>0.249000</td>\n",
       "      <td>0.3880</td>\n",
       "      <td>outdoor</td>\n",
       "      <td>-13.521</td>\n",
       "      <td>excited</td>\n",
       "      <td>midday</td>\n",
       "      <td>31.0</td>\n",
       "      <td>1995</td>\n",
       "      <td>Legacy</td>\n",
       "      <td>0.0706</td>\n",
       "      <td>125.519</td>\n",
       "      <td>9</td>\n",
       "      <td>0.477</td>\n",
       "    </tr>\n",
       "  </tbody>\n",
       "</table>\n",
       "</div>"
      ],
      "text/plain": [
       "     acousticness   activity  age       artist_name  danceability  energy  \\\n",
       "618       0.09830  commuting   40       Deep Purple         0.632   0.586   \n",
       "619       0.07900  commuting   40         The Clash         0.742   0.833   \n",
       "620       0.00705  commuting   40         Motörhead         0.448   0.936   \n",
       "621       0.00377  commuting   40         Motörhead         0.660   0.778   \n",
       "622       0.00014  commuting   40  The Gone Jackals         0.305   0.882   \n",
       "\n",
       "    gender                      id  instrumentalness  liveness location  \\\n",
       "618   male  5SAUIWdZ04OxYfJFDchC7S          0.581000    0.0535  outdoor   \n",
       "619   male  39shmbIHICJ2Wxnk1fPSdz          0.000000    0.3840  outdoor   \n",
       "620   male  1s0koYJ8UkZstIYYGboZa3          0.245000    0.1280  outdoor   \n",
       "621   male  7BwYSuWTyfcG3vtp1SnP7n          0.000856    0.3730  outdoor   \n",
       "622   male  2u2hIyLXxO06AudM88TmgF          0.249000    0.3880  outdoor   \n",
       "\n",
       "     loudness     mood  period  popularity release_date  \\\n",
       "618   -11.333  excited  midday        63.0   1972-03-25   \n",
       "619    -6.463  excited  midday        77.0         1982   \n",
       "620    -6.300  excited  midday        29.0   1992-07-28   \n",
       "621    -6.163  excited  midday        45.0   1979-03-24   \n",
       "622   -13.521  excited  midday        31.0         1995   \n",
       "\n",
       "                                     song_name  speechiness    tempo  user_id  \\\n",
       "618                         Smoke on the Water       0.0284  114.243        9   \n",
       "619  Should I Stay or Should I Go - Remastered       0.1150  113.375        9   \n",
       "620                             You Better Run       0.0589  135.135        9   \n",
       "621                                Louie Louie       0.0583  123.205        9   \n",
       "622                                     Legacy       0.0706  125.519        9   \n",
       "\n",
       "     valence  \n",
       "618    0.890  \n",
       "619    0.816  \n",
       "620    0.536  \n",
       "621    0.758  \n",
       "622    0.477  "
      ]
     },
     "execution_count": 2,
     "metadata": {},
     "output_type": "execute_result"
    }
   ],
   "source": [
    "df = pd.read_excel(path+'athina_playlist_metadata.xlsx')\n",
    "df.tail()"
   ]
  },
  {
   "cell_type": "markdown",
   "metadata": {},
   "source": [
    "### Visualizations of features ###"
   ]
  },
  {
   "cell_type": "code",
   "execution_count": 3,
   "metadata": {
    "ExecuteTime": {
     "end_time": "2020-02-14T04:50:27.787868Z",
     "start_time": "2020-02-14T04:50:27.136464Z"
    }
   },
   "outputs": [
    {
     "name": "stdout",
     "output_type": "stream",
     "text": [
      "female    314\n",
      "male      309\n",
      "Name: gender, dtype: int64\n"
     ]
    },
    {
     "data": {
      "text/plain": [
       "<matplotlib.axes._subplots.AxesSubplot at 0x1ff5ccc7668>"
      ]
     },
     "execution_count": 3,
     "metadata": {},
     "output_type": "execute_result"
    },
    {
     "data": {
      "image/png": "[encoded data removed]",
      "text/plain": [
       "<Figure size 1152x72 with 1 Axes>"
      ]
     },
     "metadata": {
      "needs_background": "light"
     },
     "output_type": "display_data"
    }
   ],
   "source": [
    "replace_values = {'Female': 'female'}\n",
    "df = df.replace({'gender': replace_values})\n",
    "\n",
    "print(df['gender'].value_counts())\n",
    "plt.figure(figsize=(16,1))\n",
    "sns.countplot(y='gender', data=df, order = df.gender.value_counts().index )"
   ]
  },
  {
   "cell_type": "markdown",
   "metadata": {},
   "source": [
    "### Group ages ###"
   ]
  },
  {
   "cell_type": "code",
   "execution_count": 4,
   "metadata": {
    "ExecuteTime": {
     "end_time": "2020-02-14T04:50:29.607726Z",
     "start_time": "2020-02-14T04:50:28.938460Z"
    }
   },
   "outputs": [
    {
     "name": "stdout",
     "output_type": "stream",
     "text": [
      "34    165\n",
      "29    103\n",
      "41     87\n",
      "43     64\n",
      "40     56\n",
      "32     48\n",
      "27     34\n",
      "44     29\n",
      "30     19\n",
      "33     16\n",
      "26      2\n",
      "Name: age, dtype: int64\n"
     ]
    },
    {
     "data": {
      "text/plain": [
       "<matplotlib.axes._subplots.AxesSubplot at 0x1ff5ce39ba8>"
      ]
     },
     "execution_count": 4,
     "metadata": {},
     "output_type": "execute_result"
    },
    {
     "data": {
      "image/png": "[encoded data removed]",
      "text/plain": [
       "<Figure size 1152x360 with 1 Axes>"
      ]
     },
     "metadata": {
      "needs_background": "light"
     },
     "output_type": "display_data"
    }
   ],
   "source": [
    "print(df['age'].value_counts())\n",
    "plt.figure(figsize=(16,5))\n",
    "sns.countplot(y='age', data=df, order = df.age.value_counts().index )"
   ]
  },
  {
   "cell_type": "code",
   "execution_count": 5,
   "metadata": {
    "ExecuteTime": {
     "end_time": "2020-02-14T04:50:36.772120Z",
     "start_time": "2020-02-14T04:50:36.267413Z"
    }
   },
   "outputs": [
    {
     "name": "stdout",
     "output_type": "stream",
     "text": [
      "41-50    236\n",
      "31-40    229\n",
      "20-30    158\n",
      "Name: age_group, dtype: int64\n"
     ]
    },
    {
     "data": {
      "text/plain": [
       "<matplotlib.axes._subplots.AxesSubplot at 0x1ff5e6da2b0>"
      ]
     },
     "execution_count": 5,
     "metadata": {},
     "output_type": "execute_result"
    },
    {
     "data": {
      "image/png": "[encoded data removed]",
      "text/plain": [
       "<Figure size 1152x144 with 1 Axes>"
      ]
     },
     "metadata": {
      "needs_background": "light"
     },
     "output_type": "display_data"
    }
   ],
   "source": [
    "#grouping ages\n",
    "bins = [20,31,40,50]\n",
    "labels = ['20-30','31-40', '41-50']\n",
    "df['age_group'] = pd.cut(df['age'], bins=bins, labels=labels, right=False)\n",
    "\n",
    "print(df['age_group'].value_counts())\n",
    "plt.figure(figsize=(16,2))\n",
    "sns.countplot(y='age_group', data=df, order = df.age_group.value_counts().index )\n"
   ]
  },
  {
   "cell_type": "code",
   "execution_count": 6,
   "metadata": {
    "ExecuteTime": {
     "end_time": "2020-02-14T04:50:38.138984Z",
     "start_time": "2020-02-14T04:50:37.451812Z"
    }
   },
   "outputs": [
    {
     "name": "stdout",
     "output_type": "stream",
     "text": [
      "calm        162\n",
      "relaxed      91\n",
      "excited      77\n",
      "pleased      50\n",
      "sad          48\n",
      "peaceful     44\n",
      "happy        43\n",
      "angry        33\n",
      "nervous      29\n",
      "bored        29\n",
      "sleepy       17\n",
      "Name: mood, dtype: int64\n"
     ]
    },
    {
     "data": {
      "text/plain": [
       "<matplotlib.axes._subplots.AxesSubplot at 0x1ff5e918748>"
      ]
     },
     "execution_count": 6,
     "metadata": {},
     "output_type": "execute_result"
    },
    {
     "data": {
      "image/png": "[encoded data removed]",
      "text/plain": [
       "<Figure size 1152x432 with 1 Axes>"
      ]
     },
     "metadata": {
      "needs_background": "light"
     },
     "output_type": "display_data"
    }
   ],
   "source": [
    "print(df['mood'].value_counts())\n",
    "plt.figure(figsize=(16,6))\n",
    "sns.countplot(y='mood', data=df, order = df.mood.value_counts().index )"
   ]
  },
  {
   "cell_type": "code",
   "execution_count": 7,
   "metadata": {
    "ExecuteTime": {
     "end_time": "2020-02-14T04:50:40.035167Z",
     "start_time": "2020-02-14T04:50:39.550398Z"
    }
   },
   "outputs": [
    {
     "data": {
      "text/plain": [
       "<matplotlib.axes._subplots.AxesSubplot at 0x1ff5e9f9eb8>"
      ]
     },
     "execution_count": 7,
     "metadata": {},
     "output_type": "execute_result"
    },
    {
     "data": {
      "image/png": "[encoded data removed]",
      "text/plain": [
       "<Figure size 1152x144 with 1 Axes>"
      ]
     },
     "metadata": {
      "needs_background": "light"
     },
     "output_type": "display_data"
    }
   ],
   "source": [
    "df['location'].value_counts()\n",
    "plt.figure(figsize=(16,2))\n",
    "sns.countplot(y='location', data=df, order = df.location.value_counts().index )"
   ]
  },
  {
   "cell_type": "code",
   "execution_count": 8,
   "metadata": {
    "ExecuteTime": {
     "end_time": "2020-02-14T04:50:41.419013Z",
     "start_time": "2020-02-14T04:50:40.840569Z"
    }
   },
   "outputs": [
    {
     "data": {
      "text/plain": [
       "<matplotlib.axes._subplots.AxesSubplot at 0x1ff5e9f1668>"
      ]
     },
     "execution_count": 8,
     "metadata": {},
     "output_type": "execute_result"
    },
    {
     "data": {
      "image/png": "[encoded data removed]",
      "text/plain": [
       "<Figure size 1152x216 with 1 Axes>"
      ]
     },
     "metadata": {
      "needs_background": "light"
     },
     "output_type": "display_data"
    }
   ],
   "source": [
    "df['period'].value_counts()\n",
    "plt.figure(figsize=(16,3))\n",
    "sns.countplot(y='period', data=df, order = df.period.value_counts().index )"
   ]
  },
  {
   "cell_type": "code",
   "execution_count": 9,
   "metadata": {
    "ExecuteTime": {
     "end_time": "2020-02-14T04:50:42.800780Z",
     "start_time": "2020-02-14T04:50:42.290712Z"
    }
   },
   "outputs": [
    {
     "name": "stdout",
     "output_type": "stream",
     "text": [
      "working        362\n",
      "amusing        141\n",
      "commuting       44\n",
      "studying        38\n",
      "working out     29\n",
      "other            9\n",
      "Name: activity, dtype: int64\n"
     ]
    },
    {
     "data": {
      "text/plain": [
       "<matplotlib.axes._subplots.AxesSubplot at 0x1ff5e989908>"
      ]
     },
     "execution_count": 9,
     "metadata": {},
     "output_type": "execute_result"
    },
    {
     "data": {
      "image/png": "[encoded data removed]",
      "text/plain": [
       "<Figure size 1152x288 with 1 Axes>"
      ]
     },
     "metadata": {
      "needs_background": "light"
     },
     "output_type": "display_data"
    }
   ],
   "source": [
    "print(df['activity'].value_counts())\n",
    "plt.figure(figsize=(16,4))\n",
    "sns.countplot(y='activity', data=df, order = df.activity.value_counts().index )"
   ]
  },
  {
   "cell_type": "code",
   "execution_count": 10,
   "metadata": {
    "ExecuteTime": {
     "end_time": "2020-02-14T04:50:44.004927Z",
     "start_time": "2020-02-14T04:50:43.979128Z"
    }
   },
   "outputs": [
    {
     "name": "stdout",
     "output_type": "stream",
     "text": [
      "<class 'pandas.core.frame.DataFrame'>\n",
      "Int64Index: 623 entries, 0 to 622\n",
      "Data columns (total 22 columns):\n",
      "acousticness        432 non-null float64\n",
      "activity            623 non-null object\n",
      "age                 623 non-null int64\n",
      "artist_name         623 non-null object\n",
      "danceability        432 non-null float64\n",
      "energy              432 non-null float64\n",
      "gender              623 non-null object\n",
      "id                  432 non-null object\n",
      "instrumentalness    432 non-null float64\n",
      "liveness            432 non-null float64\n",
      "location            623 non-null object\n",
      "loudness            432 non-null float64\n",
      "mood                623 non-null object\n",
      "period              623 non-null object\n",
      "popularity          432 non-null float64\n",
      "release_date        432 non-null object\n",
      "song_name           623 non-null object\n",
      "speechiness         432 non-null float64\n",
      "tempo               432 non-null float64\n",
      "user_id             623 non-null int64\n",
      "valence             432 non-null float64\n",
      "age_group           623 non-null category\n",
      "dtypes: category(1), float64(10), int64(2), object(9)\n",
      "memory usage: 127.8+ KB\n"
     ]
    }
   ],
   "source": [
    "df.info()"
   ]
  },
  {
   "cell_type": "markdown",
   "metadata": {},
   "source": [
    "#### Drop NaN values in Spotify metadata ####"
   ]
  },
  {
   "cell_type": "code",
   "execution_count": 11,
   "metadata": {
    "ExecuteTime": {
     "end_time": "2020-02-14T04:50:53.578928Z",
     "start_time": "2020-02-14T04:50:53.517911Z"
    }
   },
   "outputs": [
    {
     "data": {
      "text/html": [
       "<div>\n",
       "<style scoped>\n",
       "    .dataframe tbody tr th:only-of-type {\n",
       "        vertical-align: middle;\n",
       "    }\n",
       "\n",
       "    .dataframe tbody tr th {\n",
       "        vertical-align: top;\n",
       "    }\n",
       "\n",
       "    .dataframe thead th {\n",
       "        text-align: right;\n",
       "    }\n",
       "</style>\n",
       "<table border=\"1\" class=\"dataframe\">\n",
       "  <thead>\n",
       "    <tr style=\"text-align: right;\">\n",
       "      <th></th>\n",
       "      <th>acousticness</th>\n",
       "      <th>activity</th>\n",
       "      <th>age</th>\n",
       "      <th>artist_name</th>\n",
       "      <th>danceability</th>\n",
       "      <th>energy</th>\n",
       "      <th>gender</th>\n",
       "      <th>id</th>\n",
       "      <th>instrumentalness</th>\n",
       "      <th>liveness</th>\n",
       "      <th>location</th>\n",
       "      <th>loudness</th>\n",
       "      <th>mood</th>\n",
       "      <th>period</th>\n",
       "      <th>popularity</th>\n",
       "      <th>release_date</th>\n",
       "      <th>song_name</th>\n",
       "      <th>speechiness</th>\n",
       "      <th>tempo</th>\n",
       "      <th>valence</th>\n",
       "      <th>age_group</th>\n",
       "    </tr>\n",
       "  </thead>\n",
       "  <tbody>\n",
       "    <tr>\n",
       "      <th>0</th>\n",
       "      <td>0.1430</td>\n",
       "      <td>studying</td>\n",
       "      <td>44</td>\n",
       "      <td>Stive Morgan</td>\n",
       "      <td>0.517</td>\n",
       "      <td>0.671</td>\n",
       "      <td>female</td>\n",
       "      <td>6x4QOwELkBmymbbm3Q2gvz</td>\n",
       "      <td>0.392000</td>\n",
       "      <td>0.0974</td>\n",
       "      <td>other</td>\n",
       "      <td>-10.072</td>\n",
       "      <td>pleased</td>\n",
       "      <td>evening</td>\n",
       "      <td>19.0</td>\n",
       "      <td>2019-04-25</td>\n",
       "      <td>My Angel (Piano Theme 2019)</td>\n",
       "      <td>0.0279</td>\n",
       "      <td>188.021</td>\n",
       "      <td>0.8620</td>\n",
       "      <td>41-50</td>\n",
       "    </tr>\n",
       "    <tr>\n",
       "      <th>1</th>\n",
       "      <td>0.4070</td>\n",
       "      <td>working</td>\n",
       "      <td>44</td>\n",
       "      <td>The Rasmus</td>\n",
       "      <td>0.544</td>\n",
       "      <td>0.463</td>\n",
       "      <td>female</td>\n",
       "      <td>4khu91lkXFEebpfrUs3f81</td>\n",
       "      <td>0.000000</td>\n",
       "      <td>0.0748</td>\n",
       "      <td>work</td>\n",
       "      <td>-6.832</td>\n",
       "      <td>pleased</td>\n",
       "      <td>evening</td>\n",
       "      <td>43.0</td>\n",
       "      <td>2009-11-09</td>\n",
       "      <td>October &amp; April</td>\n",
       "      <td>0.0294</td>\n",
       "      <td>131.842</td>\n",
       "      <td>0.2820</td>\n",
       "      <td>41-50</td>\n",
       "    </tr>\n",
       "    <tr>\n",
       "      <th>2</th>\n",
       "      <td>0.6960</td>\n",
       "      <td>working</td>\n",
       "      <td>44</td>\n",
       "      <td>R Armando Morabito</td>\n",
       "      <td>0.553</td>\n",
       "      <td>0.528</td>\n",
       "      <td>female</td>\n",
       "      <td>7f7f1GcRnsa4EZ2VZ1ZcsV</td>\n",
       "      <td>0.001080</td>\n",
       "      <td>0.1040</td>\n",
       "      <td>work</td>\n",
       "      <td>-12.852</td>\n",
       "      <td>pleased</td>\n",
       "      <td>evening</td>\n",
       "      <td>33.0</td>\n",
       "      <td>2014-12-23</td>\n",
       "      <td>One More Time (feat. Malukah &amp; Tina Guo)</td>\n",
       "      <td>0.0306</td>\n",
       "      <td>143.937</td>\n",
       "      <td>0.0952</td>\n",
       "      <td>41-50</td>\n",
       "    </tr>\n",
       "    <tr>\n",
       "      <th>3</th>\n",
       "      <td>0.0863</td>\n",
       "      <td>studying</td>\n",
       "      <td>44</td>\n",
       "      <td>DJ Snake</td>\n",
       "      <td>0.649</td>\n",
       "      <td>0.716</td>\n",
       "      <td>female</td>\n",
       "      <td>0lYBSQXN6rCTvUZvg9S0lU</td>\n",
       "      <td>0.000026</td>\n",
       "      <td>0.1350</td>\n",
       "      <td>work</td>\n",
       "      <td>-5.371</td>\n",
       "      <td>relaxed</td>\n",
       "      <td>morning</td>\n",
       "      <td>80.0</td>\n",
       "      <td>2016-08-05</td>\n",
       "      <td>Let Me Love You</td>\n",
       "      <td>0.0349</td>\n",
       "      <td>99.988</td>\n",
       "      <td>0.1630</td>\n",
       "      <td>41-50</td>\n",
       "    </tr>\n",
       "    <tr>\n",
       "      <th>4</th>\n",
       "      <td>0.0275</td>\n",
       "      <td>studying</td>\n",
       "      <td>44</td>\n",
       "      <td>Harry Styles</td>\n",
       "      <td>0.516</td>\n",
       "      <td>0.595</td>\n",
       "      <td>female</td>\n",
       "      <td>5Ohxk2dO5COHF1krpoPigN</td>\n",
       "      <td>0.000000</td>\n",
       "      <td>0.1090</td>\n",
       "      <td>work</td>\n",
       "      <td>-4.630</td>\n",
       "      <td>relaxed</td>\n",
       "      <td>morning</td>\n",
       "      <td>78.0</td>\n",
       "      <td>2017-05-12</td>\n",
       "      <td>Sign of the Times</td>\n",
       "      <td>0.0313</td>\n",
       "      <td>119.972</td>\n",
       "      <td>0.2220</td>\n",
       "      <td>41-50</td>\n",
       "    </tr>\n",
       "  </tbody>\n",
       "</table>\n",
       "</div>"
      ],
      "text/plain": [
       "   acousticness  activity  age         artist_name  danceability  energy  \\\n",
       "0        0.1430  studying   44        Stive Morgan         0.517   0.671   \n",
       "1        0.4070   working   44          The Rasmus         0.544   0.463   \n",
       "2        0.6960   working   44  R Armando Morabito         0.553   0.528   \n",
       "3        0.0863  studying   44            DJ Snake         0.649   0.716   \n",
       "4        0.0275  studying   44        Harry Styles         0.516   0.595   \n",
       "\n",
       "   gender                      id  instrumentalness  liveness location  \\\n",
       "0  female  6x4QOwELkBmymbbm3Q2gvz          0.392000    0.0974    other   \n",
       "1  female  4khu91lkXFEebpfrUs3f81          0.000000    0.0748     work   \n",
       "2  female  7f7f1GcRnsa4EZ2VZ1ZcsV          0.001080    0.1040     work   \n",
       "3  female  0lYBSQXN6rCTvUZvg9S0lU          0.000026    0.1350     work   \n",
       "4  female  5Ohxk2dO5COHF1krpoPigN          0.000000    0.1090     work   \n",
       "\n",
       "   loudness     mood   period  popularity release_date  \\\n",
       "0   -10.072  pleased  evening        19.0   2019-04-25   \n",
       "1    -6.832  pleased  evening        43.0   2009-11-09   \n",
       "2   -12.852  pleased  evening        33.0   2014-12-23   \n",
       "3    -5.371  relaxed  morning        80.0   2016-08-05   \n",
       "4    -4.630  relaxed  morning        78.0   2017-05-12   \n",
       "\n",
       "                                  song_name  speechiness    tempo  valence  \\\n",
       "0               My Angel (Piano Theme 2019)       0.0279  188.021   0.8620   \n",
       "1                           October & April       0.0294  131.842   0.2820   \n",
       "2  One More Time (feat. Malukah & Tina Guo)       0.0306  143.937   0.0952   \n",
       "3                           Let Me Love You       0.0349   99.988   0.1630   \n",
       "4                         Sign of the Times       0.0313  119.972   0.2220   \n",
       "\n",
       "  age_group  \n",
       "0     41-50  \n",
       "1     41-50  \n",
       "2     41-50  \n",
       "3     41-50  \n",
       "4     41-50  "
      ]
     },
     "execution_count": 11,
     "metadata": {},
     "output_type": "execute_result"
    }
   ],
   "source": [
    "df = df.drop('user_id', axis=1)\n",
    "df = df.dropna()\n",
    "df.head()"
   ]
  },
  {
   "cell_type": "code",
   "execution_count": 199,
   "metadata": {
    "ExecuteTime": {
     "end_time": "2020-02-13T14:53:05.463002Z",
     "start_time": "2020-02-13T14:53:05.441980Z"
    }
   },
   "outputs": [
    {
     "name": "stdout",
     "output_type": "stream",
     "text": [
      "<class 'pandas.core.frame.DataFrame'>\n",
      "Int64Index: 432 entries, 0 to 622\n",
      "Data columns (total 21 columns):\n",
      "acousticness        432 non-null float64\n",
      "activity            432 non-null object\n",
      "age                 432 non-null int64\n",
      "artist_name         432 non-null object\n",
      "danceability        432 non-null float64\n",
      "energy              432 non-null float64\n",
      "gender              432 non-null object\n",
      "id                  432 non-null object\n",
      "instrumentalness    432 non-null float64\n",
      "liveness            432 non-null float64\n",
      "location            432 non-null object\n",
      "loudness            432 non-null float64\n",
      "mood                432 non-null object\n",
      "period              432 non-null object\n",
      "popularity          432 non-null float64\n",
      "release_date        432 non-null object\n",
      "song_name           432 non-null object\n",
      "speechiness         432 non-null float64\n",
      "tempo               432 non-null float64\n",
      "valence             432 non-null float64\n",
      "age_group           432 non-null category\n",
      "dtypes: category(1), float64(10), int64(1), object(9)\n",
      "memory usage: 71.4+ KB\n"
     ]
    }
   ],
   "source": [
    "df.info()"
   ]
  },
  {
   "cell_type": "markdown",
   "metadata": {},
   "source": [
    "### One-hot encoding of categorical features ###\n",
    "We set *mood* as the target variable of the model, encode all categorical features and drop the following features\n",
    "'artist_name', 'id', 'song_name', 'release_date' as they do no help with clustering, they have distinct values.\n"
   ]
  },
  {
   "cell_type": "code",
   "execution_count": 12,
   "metadata": {
    "ExecuteTime": {
     "end_time": "2020-02-14T04:51:16.978744Z",
     "start_time": "2020-02-14T04:51:16.716598Z"
    }
   },
   "outputs": [
    {
     "name": "stdout",
     "output_type": "stream",
     "text": [
      "<class 'pandas.core.frame.DataFrame'>\n",
      "Int64Index: 432 entries, 0 to 622\n",
      "Data columns (total 30 columns):\n",
      "acousticness        432 non-null float64\n",
      "danceability        432 non-null float64\n",
      "energy              432 non-null float64\n",
      "instrumentalness    432 non-null float64\n",
      "liveness            432 non-null float64\n",
      "loudness            432 non-null float64\n",
      "popularity          432 non-null float64\n",
      "speechiness         432 non-null float64\n",
      "tempo               432 non-null float64\n",
      "valence             432 non-null float64\n",
      "home                432 non-null uint8\n",
      "other               432 non-null uint8\n",
      "outdoor             432 non-null uint8\n",
      "work                432 non-null uint8\n",
      "activity_other      432 non-null uint8\n",
      "amusing             432 non-null uint8\n",
      "commuting           432 non-null uint8\n",
      "studying            432 non-null uint8\n",
      "working             432 non-null uint8\n",
      "working out         432 non-null uint8\n",
      "female              432 non-null uint8\n",
      "male                432 non-null uint8\n",
      "20-30               432 non-null uint8\n",
      "31-40               432 non-null uint8\n",
      "41-50               432 non-null uint8\n",
      "afternoon           432 non-null uint8\n",
      "evening             432 non-null uint8\n",
      "midday              432 non-null uint8\n",
      "morning             432 non-null uint8\n",
      "night               432 non-null uint8\n",
      "dtypes: float64(10), uint8(20)\n",
      "memory usage: 65.6 KB\n"
     ]
    }
   ],
   "source": [
    "df_enc = df\n",
    "Y = df['mood']\n",
    "the_loc = df['location']\n",
    "dtime = df['period']\n",
    "activ = df['activity']\n",
    "artist_song = df['artist_name']+'-'+df['song_name']\n",
    "age_group = df['age_group']\n",
    "\n",
    "def encode_features(df_enc, location, activity, gender, period, age):\n",
    "    #encode location\n",
    "    one_hot_enc = pd.get_dummies(df_enc[location])\n",
    "    df_enc = df_enc.drop('location', axis=1)\n",
    "    df_enc = df_enc.join(one_hot_enc)\n",
    "    #encode activity\n",
    "    replace_values = {'other': 'activity_other'}\n",
    "    df_enc = df_enc.replace({'activity': replace_values})\n",
    "    one_hot_enc = pd.get_dummies(df_enc[activity])\n",
    "    df_enc = df_enc.drop('activity', axis=1)\n",
    "    df_enc = df_enc.join(one_hot_enc)\n",
    "    #encode gender\n",
    "    one_hot_enc = pd.get_dummies(df_enc[gender])\n",
    "    df_enc = df_enc.drop('gender', axis=1)\n",
    "    df_enc = df_enc.join(one_hot_enc)\n",
    "    #encode age\n",
    "    one_hot_enc = pd.get_dummies(df_enc[age])\n",
    "    df_enc = df_enc.drop('age', axis=1)\n",
    "    df_enc = df_enc.drop(age, axis=1)\n",
    "    df_enc = df_enc.join(one_hot_enc)\n",
    "    #encode period\n",
    "    one_hot_enc = pd.get_dummies(df_enc[period])\n",
    "    df_enc = df_enc.drop(period, axis=1)\n",
    "    df_enc = df_enc.join(one_hot_enc)\n",
    "    \n",
    "    #encode mood\n",
    "    #one_hot_enc = pd.get_dummies(df['mood'])\n",
    "    #df_enc = df_enc.drop('mood', axis=1) \n",
    "    #df_enc = df_enc.join(one_hot_enc)\n",
    "\n",
    "    replace_values = {'pleased': 'contentment', 'relaxed': 'contentment', 'calm': 'contentment', \n",
    "                     'peaceful':'contentment', 'excited':'excitement',\n",
    "                     'happy':'excitement', 'nervous':'distress', 'angry':'distress', 'annoying':'distress', \n",
    "                     'sad':'depression', 'sleepy': 'contentment', 'bored': 'depression'}\n",
    "    #df_enc = df_enc.replace({'mood': replace_values})\n",
    "\n",
    "    df_enc = df_enc.drop(['artist_name', 'id', 'song_name', 'release_date', 'mood'], axis = 1)\n",
    "    #df_enc = df_enc.drop(['artist_name', 'id', 'song_name', 'release_date'], axis = 1)\n",
    "    return df_enc\n",
    "    \n",
    "df_enc = encode_features(df_enc, 'location', 'activity', 'gender', 'period', 'age_group')\n",
    "df_enc.head()\n",
    "df_enc.info()"
   ]
  },
  {
   "cell_type": "markdown",
   "metadata": {},
   "source": [
    "### Scale data with MinMaxScaler before applying k-Means ###\n",
    "#### Range of -1,1 is used ####"
   ]
  },
  {
   "cell_type": "code",
   "execution_count": 13,
   "metadata": {
    "ExecuteTime": {
     "end_time": "2020-02-14T04:51:20.361380Z",
     "start_time": "2020-02-14T04:51:20.349375Z"
    }
   },
   "outputs": [
    {
     "name": "stdout",
     "output_type": "stream",
     "text": [
      "-1.0 1.0000000000000004\n"
     ]
    }
   ],
   "source": [
    "from sklearn.preprocessing import MinMaxScaler\n",
    "scaler = MinMaxScaler(feature_range=(-1,1)).fit(df_enc)\n",
    "d_scaled = scaler.transform(df_enc)\n",
    "print(d_scaled.min(), d_scaled.max())"
   ]
  },
  {
   "cell_type": "markdown",
   "metadata": {},
   "source": [
    "### k-Means ###\n",
    "#### Apply K-means and find optimum number of clusters using silhouette score####"
   ]
  },
  {
   "cell_type": "code",
   "execution_count": 217,
   "metadata": {
    "ExecuteTime": {
     "end_time": "2020-02-13T15:01:24.913505Z",
     "start_time": "2020-02-13T14:59:37.674055Z"
    }
   },
   "outputs": [
    {
     "name": "stdout",
     "output_type": "stream",
     "text": [
      "For n_clusters = 2, num_points = Counter({1: 222, 0: 210}), Kmeans silhouette score is 0.2120940372929032)\n",
      "For n_clusters = 3, num_points = Counter({1: 193, 2: 144, 0: 95}), Kmeans silhouette score is 0.21577878978890566)\n",
      "For n_clusters = 4, num_points = Counter({0: 193, 2: 95, 1: 75, 3: 69}), Kmeans silhouette score is 0.22551081419590802)\n",
      "For n_clusters = 5, num_points = Counter({0: 143, 3: 85, 1: 84, 2: 71, 4: 49}), Kmeans silhouette score is 0.23103775581245786)\n",
      "For n_clusters = 6, num_points = Counter({2: 85, 1: 84, 5: 77, 3: 71, 4: 68, 0: 47}), Kmeans silhouette score is 0.22794775827066477)\n",
      "For n_clusters = 7, num_points = Counter({2: 141, 3: 89, 6: 51, 1: 49, 5: 41, 0: 41, 4: 20}), Kmeans silhouette score is 0.26375597476221385)\n",
      "For n_clusters = 8, num_points = Counter({3: 85, 0: 81, 4: 62, 1: 51, 5: 47, 2: 45, 6: 41, 7: 20}), Kmeans silhouette score is 0.26462260264642695)\n",
      "For n_clusters = 9, num_points = Counter({0: 87, 1: 62, 6: 61, 3: 52, 4: 47, 2: 41, 8: 36, 7: 26, 5: 20}), Kmeans silhouette score is 0.2887593985286717)\n",
      "For n_clusters = 10, num_points = Counter({3: 81, 7: 54, 0: 51, 4: 50, 5: 47, 6: 41, 2: 34, 8: 31, 1: 24, 9: 19}), Kmeans silhouette score is 0.2860336228807425)\n",
      "For n_clusters = 11, num_points = Counter({7: 60, 3: 58, 6: 56, 1: 46, 8: 44, 0: 41, 4: 41, 2: 29, 5: 25, 9: 19, 10: 13}), Kmeans silhouette score is 0.288741834833224)\n",
      "For n_clusters = 12, num_points = Counter({9: 60, 10: 50, 7: 49, 1: 45, 2: 44, 8: 40, 4: 39, 11: 29, 0: 25, 6: 19, 5: 19, 3: 13}), Kmeans silhouette score is 0.30945731279464495)\n",
      "For n_clusters = 13, num_points = Counter({9: 62, 10: 51, 7: 49, 4: 44, 11: 41, 0: 30, 2: 29, 5: 26, 1: 25, 8: 22, 12: 19, 3: 19, 6: 15}), Kmeans silhouette score is 0.31495961967220154)\n",
      "For n_clusters = 14, num_points = Counter({1: 60, 6: 46, 5: 45, 4: 40, 10: 34, 3: 29, 12: 29, 13: 29, 11: 26, 7: 25, 2: 19, 0: 19, 8: 18, 9: 13}), Kmeans silhouette score is 0.3181708916043217)\n",
      "For n_clusters = 15, num_points = Counter({0: 46, 5: 44, 2: 41, 4: 40, 1: 39, 8: 34, 7: 29, 9: 27, 3: 25, 12: 22, 14: 22, 13: 22, 6: 19, 11: 14, 10: 8}), Kmeans silhouette score is 0.3376385012750471)\n",
      "For n_clusters = 16, num_points = Counter({4: 40, 1: 38, 11: 36, 13: 30, 8: 30, 3: 29, 14: 29, 6: 27, 2: 27, 15: 26, 7: 26, 0: 25, 10: 21, 9: 19, 5: 15, 12: 14}), Kmeans silhouette score is 0.3459948874702987)\n",
      "For n_clusters = 17, num_points = Counter({0: 40, 1: 37, 13: 34, 2: 32, 5: 29, 7: 29, 3: 27, 11: 27, 6: 26, 10: 22, 14: 21, 15: 21, 9: 21, 4: 19, 8: 16, 12: 16, 16: 15}), Kmeans silhouette score is 0.35889708426447053)\n",
      "For n_clusters = 18, num_points = Counter({5: 40, 7: 34, 6: 34, 8: 31, 10: 29, 2: 29, 15: 27, 12: 27, 14: 26, 11: 25, 1: 21, 17: 21, 9: 21, 4: 19, 3: 15, 13: 14, 0: 14, 16: 5}), Kmeans silhouette score is 0.36501802421964336)\n",
      "For n_clusters = 19, num_points = Counter({5: 40, 13: 34, 18: 29, 2: 29, 14: 28, 12: 27, 7: 27, 4: 26, 3: 25, 0: 25, 11: 24, 17: 21, 1: 19, 15: 19, 8: 14, 16: 14, 10: 13, 9: 10, 6: 8}), Kmeans silhouette score is 0.3731519858350061)\n"
     ]
    }
   ],
   "source": [
    "sum_of_square_distances = []\n",
    "K = range(2,20)\n",
    "\n",
    "for num_clusters in K:\n",
    "    clusterer = KMeans(init = 'k-means++', n_clusters=num_clusters, n_jobs=4)\n",
    "    clusterer = clusterer.fit(d_scaled)\n",
    "    #preds = clusterer.fit_predict(d_scaled)\n",
    "    preds = clusterer.predict(d_scaled)\n",
    "    # centers = clusterer.cluster_centers_\n",
    "    sum_of_square_distances.append(clusterer.inertia_)\n",
    "    score = silhouette_score (d_scaled, preds)\n",
    "    #vscore = v_measure_score (d_scaled, preds)\n",
    "    print (\"For n_clusters = {}, num_points = {}, Kmeans silhouette score is {})\".format(num_clusters, Counter(clusterer.labels_), score))"
   ]
  },
  {
   "cell_type": "markdown",
   "metadata": {},
   "source": [
    "### Elbow method ### "
   ]
  },
  {
   "cell_type": "code",
   "execution_count": 218,
   "metadata": {
    "ExecuteTime": {
     "end_time": "2020-02-13T15:01:44.469110Z",
     "start_time": "2020-02-13T15:01:44.084011Z"
    }
   },
   "outputs": [
    {
     "data": {
      "image/png": "[encoded data removed]",
      "text/plain": [
       "<Figure size 1152x576 with 1 Axes>"
      ]
     },
     "metadata": {},
     "output_type": "display_data"
    }
   ],
   "source": [
    "plt.figure(figsize=(16,8))\n",
    "plt.plot(K, sum_of_square_distances, 'bx-')\n",
    "plt.xlabel('k')\n",
    "plt.ylabel('Sum of squared distances')\n",
    "plt.title('Elbow method for optimal k')\n",
    "plt.show()"
   ]
  },
  {
   "cell_type": "code",
   "execution_count": 14,
   "metadata": {
    "ExecuteTime": {
     "end_time": "2020-02-14T04:51:36.741095Z",
     "start_time": "2020-02-14T04:51:36.506924Z"
    }
   },
   "outputs": [
    {
     "name": "stdout",
     "output_type": "stream",
     "text": [
      "Counter({4: 65, 1: 62, 3: 47, 8: 41, 2: 41, 6: 30, 11: 29, 9: 29, 0: 25, 5: 25, 10: 19, 7: 19})\n",
      "(432,)\n"
     ]
    }
   ],
   "source": [
    "#kmeans = KMeans(init = 'k-means++' ,n_clusters=12, random_state=2020).fit(d_scaled)\n",
    "kmeans = KMeans(init = 'k-means++' ,n_clusters=12, random_state=2020).fit(d_scaled)\n",
    "clusters = kmeans.labels_\n",
    "print(Counter(clusters))\n",
    "print(clusters.shape)\n",
    "df['clusters'] = clusters"
   ]
  },
  {
   "cell_type": "markdown",
   "metadata": {},
   "source": [
    "### DBSCAN ###\n",
    "#### Scale data because t-SNE relies on neighborhods ####"
   ]
  },
  {
   "cell_type": "code",
   "execution_count": 220,
   "metadata": {
    "ExecuteTime": {
     "end_time": "2020-02-13T15:02:08.604404Z",
     "start_time": "2020-02-13T15:02:08.593399Z"
    }
   },
   "outputs": [
    {
     "name": "stdout",
     "output_type": "stream",
     "text": [
      "-4.741122768879967 8.426149773176357\n"
     ]
    }
   ],
   "source": [
    "from sklearn import preprocessing\n",
    "scaler = preprocessing.StandardScaler().fit(df_enc)\n",
    "d_scaled = scaler.transform(df_enc)\n",
    "print(d_scaled.min(), d_scaled.max())"
   ]
  },
  {
   "cell_type": "markdown",
   "metadata": {},
   "source": [
    "#### Find optimal epsilon ####\n",
    "#### The optimal value for epsilon will be found at the point of maximum curvature. ####"
   ]
  },
  {
   "cell_type": "code",
   "execution_count": 221,
   "metadata": {
    "ExecuteTime": {
     "end_time": "2020-02-13T15:02:15.523853Z",
     "start_time": "2020-02-13T15:02:15.188768Z"
    }
   },
   "outputs": [
    {
     "data": {
      "text/plain": [
       "[<matplotlib.lines.Line2D at 0x21da5ff8e48>]"
      ]
     },
     "execution_count": 221,
     "metadata": {},
     "output_type": "execute_result"
    },
    {
     "data": {
      "image/png": "[encoded data removed]",
      "text/plain": [
       "<Figure size 432x288 with 1 Axes>"
      ]
     },
     "metadata": {},
     "output_type": "display_data"
    }
   ],
   "source": [
    "from sklearn.neighbors import NearestNeighbors\n",
    "\n",
    "neigh = NearestNeighbors(n_neighbors=2)\n",
    "nbrs = neigh.fit(d_scaled)\n",
    "distances, indices = nbrs.kneighbors(d_scaled)\n",
    "distances = np.sort(distances, axis=0)\n",
    "distances = distances[:,1]\n",
    "plt.plot(distances)"
   ]
  },
  {
   "cell_type": "code",
   "execution_count": 235,
   "metadata": {
    "ExecuteTime": {
     "end_time": "2020-02-13T15:05:01.103821Z",
     "start_time": "2020-02-13T15:05:00.982790Z"
    },
    "scrolled": true
   },
   "outputs": [
    {
     "name": "stdout",
     "output_type": "stream",
     "text": [
      "Estimated number of clusters: 11\n",
      "Estimated number of noise points: 249\n"
     ]
    },
    {
     "data": {
      "text/html": [
       "<div>\n",
       "<style scoped>\n",
       "    .dataframe tbody tr th:only-of-type {\n",
       "        vertical-align: middle;\n",
       "    }\n",
       "\n",
       "    .dataframe tbody tr th {\n",
       "        vertical-align: top;\n",
       "    }\n",
       "\n",
       "    .dataframe thead th {\n",
       "        text-align: right;\n",
       "    }\n",
       "</style>\n",
       "<table border=\"1\" class=\"dataframe\">\n",
       "  <thead>\n",
       "    <tr style=\"text-align: right;\">\n",
       "      <th></th>\n",
       "      <th>acousticness</th>\n",
       "      <th>danceability</th>\n",
       "      <th>energy</th>\n",
       "      <th>instrumentalness</th>\n",
       "      <th>liveness</th>\n",
       "      <th>loudness</th>\n",
       "      <th>popularity</th>\n",
       "      <th>speechiness</th>\n",
       "      <th>tempo</th>\n",
       "      <th>valence</th>\n",
       "      <th>home</th>\n",
       "      <th>other</th>\n",
       "      <th>outdoor</th>\n",
       "      <th>work</th>\n",
       "      <th>activity_other</th>\n",
       "      <th>amusing</th>\n",
       "      <th>commuting</th>\n",
       "      <th>studying</th>\n",
       "      <th>working</th>\n",
       "      <th>working out</th>\n",
       "      <th>female</th>\n",
       "      <th>male</th>\n",
       "      <th>20-30</th>\n",
       "      <th>31-40</th>\n",
       "      <th>41-50</th>\n",
       "      <th>afternoon</th>\n",
       "      <th>evening</th>\n",
       "      <th>midday</th>\n",
       "      <th>morning</th>\n",
       "      <th>night</th>\n",
       "      <th>clusters</th>\n",
       "    </tr>\n",
       "  </thead>\n",
       "  <tbody>\n",
       "    <tr>\n",
       "      <th>0</th>\n",
       "      <td>0.1430</td>\n",
       "      <td>0.517</td>\n",
       "      <td>0.671</td>\n",
       "      <td>0.392000</td>\n",
       "      <td>0.0974</td>\n",
       "      <td>-10.072</td>\n",
       "      <td>19.0</td>\n",
       "      <td>0.0279</td>\n",
       "      <td>188.021</td>\n",
       "      <td>0.8620</td>\n",
       "      <td>0</td>\n",
       "      <td>1</td>\n",
       "      <td>0</td>\n",
       "      <td>0</td>\n",
       "      <td>0</td>\n",
       "      <td>0</td>\n",
       "      <td>0</td>\n",
       "      <td>1</td>\n",
       "      <td>0</td>\n",
       "      <td>0</td>\n",
       "      <td>1</td>\n",
       "      <td>0</td>\n",
       "      <td>0</td>\n",
       "      <td>0</td>\n",
       "      <td>1</td>\n",
       "      <td>0</td>\n",
       "      <td>1</td>\n",
       "      <td>0</td>\n",
       "      <td>0</td>\n",
       "      <td>0</td>\n",
       "      <td>10</td>\n",
       "    </tr>\n",
       "    <tr>\n",
       "      <th>1</th>\n",
       "      <td>0.4070</td>\n",
       "      <td>0.544</td>\n",
       "      <td>0.463</td>\n",
       "      <td>0.000000</td>\n",
       "      <td>0.0748</td>\n",
       "      <td>-6.832</td>\n",
       "      <td>43.0</td>\n",
       "      <td>0.0294</td>\n",
       "      <td>131.842</td>\n",
       "      <td>0.2820</td>\n",
       "      <td>0</td>\n",
       "      <td>0</td>\n",
       "      <td>0</td>\n",
       "      <td>1</td>\n",
       "      <td>0</td>\n",
       "      <td>0</td>\n",
       "      <td>0</td>\n",
       "      <td>0</td>\n",
       "      <td>1</td>\n",
       "      <td>0</td>\n",
       "      <td>1</td>\n",
       "      <td>0</td>\n",
       "      <td>0</td>\n",
       "      <td>0</td>\n",
       "      <td>1</td>\n",
       "      <td>0</td>\n",
       "      <td>1</td>\n",
       "      <td>0</td>\n",
       "      <td>0</td>\n",
       "      <td>0</td>\n",
       "      <td>10</td>\n",
       "    </tr>\n",
       "    <tr>\n",
       "      <th>2</th>\n",
       "      <td>0.6960</td>\n",
       "      <td>0.553</td>\n",
       "      <td>0.528</td>\n",
       "      <td>0.001080</td>\n",
       "      <td>0.1040</td>\n",
       "      <td>-12.852</td>\n",
       "      <td>33.0</td>\n",
       "      <td>0.0306</td>\n",
       "      <td>143.937</td>\n",
       "      <td>0.0952</td>\n",
       "      <td>0</td>\n",
       "      <td>0</td>\n",
       "      <td>0</td>\n",
       "      <td>1</td>\n",
       "      <td>0</td>\n",
       "      <td>0</td>\n",
       "      <td>0</td>\n",
       "      <td>0</td>\n",
       "      <td>1</td>\n",
       "      <td>0</td>\n",
       "      <td>1</td>\n",
       "      <td>0</td>\n",
       "      <td>0</td>\n",
       "      <td>0</td>\n",
       "      <td>1</td>\n",
       "      <td>0</td>\n",
       "      <td>1</td>\n",
       "      <td>0</td>\n",
       "      <td>0</td>\n",
       "      <td>0</td>\n",
       "      <td>10</td>\n",
       "    </tr>\n",
       "    <tr>\n",
       "      <th>3</th>\n",
       "      <td>0.0863</td>\n",
       "      <td>0.649</td>\n",
       "      <td>0.716</td>\n",
       "      <td>0.000026</td>\n",
       "      <td>0.1350</td>\n",
       "      <td>-5.371</td>\n",
       "      <td>80.0</td>\n",
       "      <td>0.0349</td>\n",
       "      <td>99.988</td>\n",
       "      <td>0.1630</td>\n",
       "      <td>0</td>\n",
       "      <td>0</td>\n",
       "      <td>0</td>\n",
       "      <td>1</td>\n",
       "      <td>0</td>\n",
       "      <td>0</td>\n",
       "      <td>0</td>\n",
       "      <td>1</td>\n",
       "      <td>0</td>\n",
       "      <td>0</td>\n",
       "      <td>1</td>\n",
       "      <td>0</td>\n",
       "      <td>0</td>\n",
       "      <td>0</td>\n",
       "      <td>1</td>\n",
       "      <td>0</td>\n",
       "      <td>0</td>\n",
       "      <td>0</td>\n",
       "      <td>1</td>\n",
       "      <td>0</td>\n",
       "      <td>6</td>\n",
       "    </tr>\n",
       "    <tr>\n",
       "      <th>4</th>\n",
       "      <td>0.0275</td>\n",
       "      <td>0.516</td>\n",
       "      <td>0.595</td>\n",
       "      <td>0.000000</td>\n",
       "      <td>0.1090</td>\n",
       "      <td>-4.630</td>\n",
       "      <td>78.0</td>\n",
       "      <td>0.0313</td>\n",
       "      <td>119.972</td>\n",
       "      <td>0.2220</td>\n",
       "      <td>0</td>\n",
       "      <td>0</td>\n",
       "      <td>0</td>\n",
       "      <td>1</td>\n",
       "      <td>0</td>\n",
       "      <td>0</td>\n",
       "      <td>0</td>\n",
       "      <td>1</td>\n",
       "      <td>0</td>\n",
       "      <td>0</td>\n",
       "      <td>1</td>\n",
       "      <td>0</td>\n",
       "      <td>0</td>\n",
       "      <td>0</td>\n",
       "      <td>1</td>\n",
       "      <td>0</td>\n",
       "      <td>0</td>\n",
       "      <td>0</td>\n",
       "      <td>1</td>\n",
       "      <td>0</td>\n",
       "      <td>6</td>\n",
       "    </tr>\n",
       "    <tr>\n",
       "      <th>5</th>\n",
       "      <td>0.1420</td>\n",
       "      <td>0.459</td>\n",
       "      <td>0.545</td>\n",
       "      <td>0.000000</td>\n",
       "      <td>0.1050</td>\n",
       "      <td>-4.874</td>\n",
       "      <td>60.0</td>\n",
       "      <td>0.0282</td>\n",
       "      <td>137.941</td>\n",
       "      <td>0.1940</td>\n",
       "      <td>0</td>\n",
       "      <td>0</td>\n",
       "      <td>0</td>\n",
       "      <td>1</td>\n",
       "      <td>0</td>\n",
       "      <td>0</td>\n",
       "      <td>0</td>\n",
       "      <td>1</td>\n",
       "      <td>0</td>\n",
       "      <td>0</td>\n",
       "      <td>1</td>\n",
       "      <td>0</td>\n",
       "      <td>0</td>\n",
       "      <td>0</td>\n",
       "      <td>1</td>\n",
       "      <td>0</td>\n",
       "      <td>0</td>\n",
       "      <td>0</td>\n",
       "      <td>1</td>\n",
       "      <td>0</td>\n",
       "      <td>6</td>\n",
       "    </tr>\n",
       "    <tr>\n",
       "      <th>6</th>\n",
       "      <td>0.1230</td>\n",
       "      <td>0.478</td>\n",
       "      <td>0.633</td>\n",
       "      <td>0.000000</td>\n",
       "      <td>0.4100</td>\n",
       "      <td>-6.190</td>\n",
       "      <td>67.0</td>\n",
       "      <td>0.0345</td>\n",
       "      <td>89.909</td>\n",
       "      <td>0.2870</td>\n",
       "      <td>0</td>\n",
       "      <td>0</td>\n",
       "      <td>0</td>\n",
       "      <td>1</td>\n",
       "      <td>0</td>\n",
       "      <td>0</td>\n",
       "      <td>0</td>\n",
       "      <td>0</td>\n",
       "      <td>1</td>\n",
       "      <td>0</td>\n",
       "      <td>1</td>\n",
       "      <td>0</td>\n",
       "      <td>0</td>\n",
       "      <td>0</td>\n",
       "      <td>1</td>\n",
       "      <td>1</td>\n",
       "      <td>0</td>\n",
       "      <td>0</td>\n",
       "      <td>0</td>\n",
       "      <td>0</td>\n",
       "      <td>1</td>\n",
       "    </tr>\n",
       "    <tr>\n",
       "      <th>7</th>\n",
       "      <td>0.0641</td>\n",
       "      <td>0.645</td>\n",
       "      <td>0.787</td>\n",
       "      <td>0.513000</td>\n",
       "      <td>0.3410</td>\n",
       "      <td>-4.707</td>\n",
       "      <td>54.0</td>\n",
       "      <td>0.0274</td>\n",
       "      <td>84.116</td>\n",
       "      <td>0.9060</td>\n",
       "      <td>0</td>\n",
       "      <td>0</td>\n",
       "      <td>0</td>\n",
       "      <td>1</td>\n",
       "      <td>0</td>\n",
       "      <td>0</td>\n",
       "      <td>0</td>\n",
       "      <td>0</td>\n",
       "      <td>1</td>\n",
       "      <td>0</td>\n",
       "      <td>1</td>\n",
       "      <td>0</td>\n",
       "      <td>0</td>\n",
       "      <td>0</td>\n",
       "      <td>1</td>\n",
       "      <td>1</td>\n",
       "      <td>0</td>\n",
       "      <td>0</td>\n",
       "      <td>0</td>\n",
       "      <td>0</td>\n",
       "      <td>1</td>\n",
       "    </tr>\n",
       "    <tr>\n",
       "      <th>8</th>\n",
       "      <td>0.1430</td>\n",
       "      <td>0.517</td>\n",
       "      <td>0.671</td>\n",
       "      <td>0.392000</td>\n",
       "      <td>0.0974</td>\n",
       "      <td>-10.072</td>\n",
       "      <td>19.0</td>\n",
       "      <td>0.0279</td>\n",
       "      <td>188.021</td>\n",
       "      <td>0.8620</td>\n",
       "      <td>0</td>\n",
       "      <td>0</td>\n",
       "      <td>0</td>\n",
       "      <td>1</td>\n",
       "      <td>0</td>\n",
       "      <td>0</td>\n",
       "      <td>0</td>\n",
       "      <td>0</td>\n",
       "      <td>1</td>\n",
       "      <td>0</td>\n",
       "      <td>1</td>\n",
       "      <td>0</td>\n",
       "      <td>0</td>\n",
       "      <td>0</td>\n",
       "      <td>1</td>\n",
       "      <td>1</td>\n",
       "      <td>0</td>\n",
       "      <td>0</td>\n",
       "      <td>0</td>\n",
       "      <td>0</td>\n",
       "      <td>1</td>\n",
       "    </tr>\n",
       "    <tr>\n",
       "      <th>9</th>\n",
       "      <td>0.2870</td>\n",
       "      <td>0.441</td>\n",
       "      <td>0.664</td>\n",
       "      <td>0.000010</td>\n",
       "      <td>0.1410</td>\n",
       "      <td>-8.958</td>\n",
       "      <td>31.0</td>\n",
       "      <td>0.0424</td>\n",
       "      <td>132.136</td>\n",
       "      <td>0.2010</td>\n",
       "      <td>1</td>\n",
       "      <td>0</td>\n",
       "      <td>0</td>\n",
       "      <td>0</td>\n",
       "      <td>0</td>\n",
       "      <td>1</td>\n",
       "      <td>0</td>\n",
       "      <td>0</td>\n",
       "      <td>0</td>\n",
       "      <td>0</td>\n",
       "      <td>1</td>\n",
       "      <td>0</td>\n",
       "      <td>0</td>\n",
       "      <td>0</td>\n",
       "      <td>1</td>\n",
       "      <td>0</td>\n",
       "      <td>1</td>\n",
       "      <td>0</td>\n",
       "      <td>0</td>\n",
       "      <td>0</td>\n",
       "      <td>10</td>\n",
       "    </tr>\n",
       "  </tbody>\n",
       "</table>\n",
       "</div>"
      ],
      "text/plain": [
       "   acousticness  danceability  energy  instrumentalness  liveness  loudness  \\\n",
       "0        0.1430         0.517   0.671          0.392000    0.0974   -10.072   \n",
       "1        0.4070         0.544   0.463          0.000000    0.0748    -6.832   \n",
       "2        0.6960         0.553   0.528          0.001080    0.1040   -12.852   \n",
       "3        0.0863         0.649   0.716          0.000026    0.1350    -5.371   \n",
       "4        0.0275         0.516   0.595          0.000000    0.1090    -4.630   \n",
       "5        0.1420         0.459   0.545          0.000000    0.1050    -4.874   \n",
       "6        0.1230         0.478   0.633          0.000000    0.4100    -6.190   \n",
       "7        0.0641         0.645   0.787          0.513000    0.3410    -4.707   \n",
       "8        0.1430         0.517   0.671          0.392000    0.0974   -10.072   \n",
       "9        0.2870         0.441   0.664          0.000010    0.1410    -8.958   \n",
       "\n",
       "   popularity  speechiness    tempo  valence  home  other  outdoor  work  \\\n",
       "0        19.0       0.0279  188.021   0.8620     0      1        0     0   \n",
       "1        43.0       0.0294  131.842   0.2820     0      0        0     1   \n",
       "2        33.0       0.0306  143.937   0.0952     0      0        0     1   \n",
       "3        80.0       0.0349   99.988   0.1630     0      0        0     1   \n",
       "4        78.0       0.0313  119.972   0.2220     0      0        0     1   \n",
       "5        60.0       0.0282  137.941   0.1940     0      0        0     1   \n",
       "6        67.0       0.0345   89.909   0.2870     0      0        0     1   \n",
       "7        54.0       0.0274   84.116   0.9060     0      0        0     1   \n",
       "8        19.0       0.0279  188.021   0.8620     0      0        0     1   \n",
       "9        31.0       0.0424  132.136   0.2010     1      0        0     0   \n",
       "\n",
       "   activity_other  amusing  commuting  studying  working  working out  female  \\\n",
       "0               0        0          0         1        0            0       1   \n",
       "1               0        0          0         0        1            0       1   \n",
       "2               0        0          0         0        1            0       1   \n",
       "3               0        0          0         1        0            0       1   \n",
       "4               0        0          0         1        0            0       1   \n",
       "5               0        0          0         1        0            0       1   \n",
       "6               0        0          0         0        1            0       1   \n",
       "7               0        0          0         0        1            0       1   \n",
       "8               0        0          0         0        1            0       1   \n",
       "9               0        1          0         0        0            0       1   \n",
       "\n",
       "   male  20-30  31-40  41-50  afternoon  evening  midday  morning  night  \\\n",
       "0     0      0      0      1          0        1       0        0      0   \n",
       "1     0      0      0      1          0        1       0        0      0   \n",
       "2     0      0      0      1          0        1       0        0      0   \n",
       "3     0      0      0      1          0        0       0        1      0   \n",
       "4     0      0      0      1          0        0       0        1      0   \n",
       "5     0      0      0      1          0        0       0        1      0   \n",
       "6     0      0      0      1          1        0       0        0      0   \n",
       "7     0      0      0      1          1        0       0        0      0   \n",
       "8     0      0      0      1          1        0       0        0      0   \n",
       "9     0      0      0      1          0        1       0        0      0   \n",
       "\n",
       "   clusters  \n",
       "0        10  \n",
       "1        10  \n",
       "2        10  \n",
       "3         6  \n",
       "4         6  \n",
       "5         6  \n",
       "6         1  \n",
       "7         1  \n",
       "8         1  \n",
       "9        10  "
      ]
     },
     "execution_count": 235,
     "metadata": {},
     "output_type": "execute_result"
    }
   ],
   "source": [
    "# to be completed\n",
    "from sklearn.cluster import DBSCAN\n",
    "\n",
    "db_clu = DBSCAN(eps=3, min_samples=10).fit(d_scaled)\n",
    "clusters = db_clu.labels_\n",
    "#d_scaled['db_scan'] = labels\n",
    "\n",
    "#number of clusters\n",
    "n_clusters = len(set(clusters)) - (1 if -1 in clusters else 0)\n",
    "n_noise = list(clusters).count(-1)\n",
    "\n",
    "print('Estimated number of clusters:', n_clusters)\n",
    "print('Estimated number of noise points:', n_noise)\n",
    "df_enc.head(10)\n"
   ]
  },
  {
   "cell_type": "code",
   "execution_count": 55,
   "metadata": {
    "ExecuteTime": {
     "end_time": "2020-02-11T19:18:34.091496Z",
     "start_time": "2020-02-11T19:18:34.084492Z"
    }
   },
   "outputs": [],
   "source": [
    "set(labels)\n",
    "colors = ['royalblue', 'maroon', 'forestgreen', 'mediumorchid', 'tan', 'deeppink', 'olive', 'goldenrod', 'lightcyan', 'navy']\n",
    "vectorizer = np.vectorize(lambda x: colors[x % len(colors)])"
   ]
  },
  {
   "cell_type": "markdown",
   "metadata": {},
   "source": [
    "### Apply t-SNE on clustered data ###\n",
    "#### k-means was used ####"
   ]
  },
  {
   "cell_type": "code",
   "execution_count": 15,
   "metadata": {
    "ExecuteTime": {
     "end_time": "2020-02-14T04:51:59.592390Z",
     "start_time": "2020-02-14T04:51:49.541637Z"
    }
   },
   "outputs": [
    {
     "name": "stdout",
     "output_type": "stream",
     "text": [
      "(432, 2)\n"
     ]
    },
    {
     "data": {
      "text/html": [
       "<div>\n",
       "<style scoped>\n",
       "    .dataframe tbody tr th:only-of-type {\n",
       "        vertical-align: middle;\n",
       "    }\n",
       "\n",
       "    .dataframe tbody tr th {\n",
       "        vertical-align: top;\n",
       "    }\n",
       "\n",
       "    .dataframe thead th {\n",
       "        text-align: right;\n",
       "    }\n",
       "</style>\n",
       "<table border=\"1\" class=\"dataframe\">\n",
       "  <thead>\n",
       "    <tr style=\"text-align: right;\">\n",
       "      <th></th>\n",
       "      <th>dim_1</th>\n",
       "      <th>dim_2</th>\n",
       "      <th>Mood</th>\n",
       "      <th>Location</th>\n",
       "      <th>Period</th>\n",
       "      <th>Activity</th>\n",
       "      <th>Artist_Song</th>\n",
       "      <th>clusters</th>\n",
       "    </tr>\n",
       "  </thead>\n",
       "  <tbody>\n",
       "    <tr>\n",
       "      <th>0</th>\n",
       "      <td>-0.898606</td>\n",
       "      <td>-3.161844</td>\n",
       "      <td>pleased</td>\n",
       "      <td>other</td>\n",
       "      <td>evening</td>\n",
       "      <td>studying</td>\n",
       "      <td>Stive Morgan-My Angel (Piano Theme 2019)</td>\n",
       "      <td>10</td>\n",
       "    </tr>\n",
       "    <tr>\n",
       "      <th>1</th>\n",
       "      <td>1.925137</td>\n",
       "      <td>-3.495925</td>\n",
       "      <td>pleased</td>\n",
       "      <td>work</td>\n",
       "      <td>evening</td>\n",
       "      <td>working</td>\n",
       "      <td>The Rasmus-October &amp; April</td>\n",
       "      <td>10</td>\n",
       "    </tr>\n",
       "    <tr>\n",
       "      <th>2</th>\n",
       "      <td>1.941146</td>\n",
       "      <td>-3.485045</td>\n",
       "      <td>pleased</td>\n",
       "      <td>work</td>\n",
       "      <td>evening</td>\n",
       "      <td>working</td>\n",
       "      <td>R Armando Morabito-One More Time (feat. Maluka...</td>\n",
       "      <td>10</td>\n",
       "    </tr>\n",
       "    <tr>\n",
       "      <th>3</th>\n",
       "      <td>8.106681</td>\n",
       "      <td>-7.733981</td>\n",
       "      <td>relaxed</td>\n",
       "      <td>work</td>\n",
       "      <td>morning</td>\n",
       "      <td>studying</td>\n",
       "      <td>DJ Snake-Let Me Love You</td>\n",
       "      <td>6</td>\n",
       "    </tr>\n",
       "    <tr>\n",
       "      <th>4</th>\n",
       "      <td>8.105581</td>\n",
       "      <td>-7.733006</td>\n",
       "      <td>relaxed</td>\n",
       "      <td>work</td>\n",
       "      <td>morning</td>\n",
       "      <td>studying</td>\n",
       "      <td>Harry Styles-Sign of the Times</td>\n",
       "      <td>6</td>\n",
       "    </tr>\n",
       "  </tbody>\n",
       "</table>\n",
       "</div>"
      ],
      "text/plain": [
       "      dim_1     dim_2     Mood Location   Period  Activity  \\\n",
       "0 -0.898606 -3.161844  pleased    other  evening  studying   \n",
       "1  1.925137 -3.495925  pleased     work  evening   working   \n",
       "2  1.941146 -3.485045  pleased     work  evening   working   \n",
       "3  8.106681 -7.733981  relaxed     work  morning  studying   \n",
       "4  8.105581 -7.733006  relaxed     work  morning  studying   \n",
       "\n",
       "                                         Artist_Song  clusters  \n",
       "0           Stive Morgan-My Angel (Piano Theme 2019)        10  \n",
       "1                         The Rasmus-October & April        10  \n",
       "2  R Armando Morabito-One More Time (feat. Maluka...        10  \n",
       "3                           DJ Snake-Let Me Love You         6  \n",
       "4                     Harry Styles-Sign of the Times         6  "
      ]
     },
     "execution_count": 15,
     "metadata": {},
     "output_type": "execute_result"
    }
   ],
   "source": [
    "x_embedded = TSNE(n_components=2, learning_rate=100).fit_transform(d_scaled)\n",
    "print(x_embedded.shape)\n",
    "df_plot = pd.DataFrame()\n",
    "df_plot['dim_1']  = x_embedded[:,0]\n",
    "df_plot['dim_2']  = x_embedded[:,1]\n",
    "\n",
    "df_plot['Mood'] = Y\n",
    "df_plot['Location'] = the_loc\n",
    "df_plot['Period'] = dtime\n",
    "df_plot['Activity'] = activ\n",
    "df_plot['Artist_Song'] = artist_song\n",
    "df_plot['clusters'] = clusters\n",
    "\n",
    "df_plot.head()"
   ]
  },
  {
   "cell_type": "code",
   "execution_count": 16,
   "metadata": {
    "ExecuteTime": {
     "end_time": "2020-02-14T04:52:02.477800Z",
     "start_time": "2020-02-14T04:51:59.595607Z"
    }
   },
   "outputs": [
    {
     "data": {
      "image/png": "[encoded data removed]",
      "text/plain": [
       "<Figure size 864x72 with 1 Axes>"
      ]
     },
     "metadata": {
      "needs_background": "light"
     },
     "output_type": "display_data"
    },
    {
     "data": {
      "image/png": "[encoded data removed]",
      "text/plain": [
       "<Figure size 1152x432 with 1 Axes>"
      ]
     },
     "metadata": {
      "needs_background": "light"
     },
     "output_type": "display_data"
    },
    {
     "data": {
      "image/png": "[encoded data removed]",
      "text/plain": [
       "<Figure size 1152x432 with 1 Axes>"
      ]
     },
     "metadata": {
      "needs_background": "light"
     },
     "output_type": "display_data"
    },
    {
     "data": {
      "image/png": "[encoded data removed]",
      "text/plain": [
       "<Figure size 1152x432 with 1 Axes>"
      ]
     },
     "metadata": {
      "needs_background": "light"
     },
     "output_type": "display_data"
    },
    {
     "data": {
      "image/png": "[encoded data removed]",
      "text/plain": [
       "<Figure size 1152x432 with 1 Axes>"
      ]
     },
     "metadata": {
      "needs_background": "light"
     },
     "output_type": "display_data"
    }
   ],
   "source": [
    "mpalette = sns.palplot(sns.color_palette('deep', 12))\n",
    "plt.figure(figsize=(16,6))\n",
    "ax = sns.countplot(x=\"clusters\", hue=\"Mood\", data=df_plot, palette= mpalette)\n",
    "plt.show()\n",
    "plt.figure(figsize=(16,6))\n",
    "ax = sns.countplot(x=\"clusters\", hue=\"Location\", data=df_plot, palette= mpalette)\n",
    "plt.show()\n",
    "plt.figure(figsize=(16,6))\n",
    "ax = sns.countplot(x=\"clusters\", hue=\"Period\", data=df_plot, palette= mpalette)\n",
    "plt.show()\n",
    "plt.figure(figsize=(16,6))\n",
    "ax = sns.countplot(x=\"clusters\", hue=\"Activity\", data=df_plot, palette= mpalette)\n",
    "plt.show()"
   ]
  },
  {
   "cell_type": "markdown",
   "metadata": {},
   "source": [
    "### Plot Clusters ###"
   ]
  },
  {
   "cell_type": "code",
   "execution_count": 17,
   "metadata": {
    "ExecuteTime": {
     "end_time": "2020-02-14T04:52:46.900636Z",
     "start_time": "2020-02-14T04:52:45.849983Z"
    }
   },
   "outputs": [
    {
     "name": "stderr",
     "output_type": "stream",
     "text": [
      "C:\\ProgramData\\Anaconda3\\lib\\site-packages\\seaborn\\regression.py:546: UserWarning: The `size` paramter has been renamed to `height`; please update your code.\n",
      "  warnings.warn(msg, UserWarning)\n"
     ]
    },
    {
     "data": {
      "image/png": "[encoded data removed]",
      "text/plain": [
       "<Figure size 777.31x720 with 1 Axes>"
      ]
     },
     "metadata": {},
     "output_type": "display_data"
    }
   ],
   "source": [
    "sns.set_context('notebook', font_scale = 1.1)\n",
    "sns.set_style('ticks')\n",
    "\n",
    "sns.lmplot(x='dim_1',\n",
    "          y='dim_2',\n",
    "          data = df_plot,\n",
    "          fit_reg = False,\n",
    "          legend = True,\n",
    "          size = 10,\n",
    "          hue = 'clusters' )\n",
    "\n",
    "plt.savefig('digits_kmeans-generated_18_cluster.png', dpi=120)"
   ]
  },
  {
   "cell_type": "code",
   "execution_count": 18,
   "metadata": {
    "ExecuteTime": {
     "end_time": "2020-02-14T04:52:51.272153Z",
     "start_time": "2020-02-14T04:52:49.955875Z"
    }
   },
   "outputs": [
    {
     "name": "stdout",
     "output_type": "stream",
     "text": [
      "[0, 1, 2, 3, 4, 5, 6, 7, 8, 9, 10, 11]\n"
     ]
    },
    {
     "data": {
      "image/png": "[encoded data removed]",
      "text/plain": [
       "<Figure size 864x72 with 1 Axes>"
      ]
     },
     "metadata": {},
     "output_type": "display_data"
    },
    {
     "data": {
      "image/png": "[encoded data removed]",
      "text/plain": [
       "<Figure size 1584x1584 with 1 Axes>"
      ]
     },
     "metadata": {},
     "output_type": "display_data"
    }
   ],
   "source": [
    "import matplotlib.patheffects as PathEffects\n",
    "\n",
    "n_clusters=12\n",
    "# An user defined function to create scatter plot of vectors\n",
    "def scatter(x, colors):\n",
    "    n_clusters=12\n",
    "    # We choose a color palette with seaborn.\n",
    "    palette = np.array(sns.color_palette(\"hls\", n_clusters))\n",
    "\n",
    "    # We create a scatter plot.\n",
    "    f = plt.figure(figsize=(22, 22))\n",
    "    ax = plt.subplot(aspect='equal')\n",
    "    sc = ax.scatter(x[:,0], x[:,1], lw=0, s=120,\n",
    "                    c=palette[colors.astype(np.int)])\n",
    "    \n",
    "    ax.axis('off')\n",
    "    ax.axis('tight')\n",
    "\n",
    "    # We add the labels for each cluster.\n",
    "    txts = []\n",
    "    for i in range(n_clusters):\n",
    "        # Position of each label.\n",
    "        xtext, ytext = np.median(x[colors == i, :], axis=0)\n",
    "        txt = ax.text(xtext, ytext, str(i), fontsize=50)\n",
    "        txt.set_path_effects([\n",
    "            PathEffects.Stroke(linewidth=5, foreground=\"w\"),\n",
    "            PathEffects.Normal()])\n",
    "        txts.append(txt)\n",
    "\n",
    "    return f, ax, sc, txts\n",
    "\n",
    "\n",
    "print(list(range(0,n_clusters)))\n",
    "sns.palplot(np.array(sns.color_palette(\"hls\", n_clusters)))\n",
    "scatter(x_embedded, clusters)\n",
    "plt.savefig('digits_tsne-generated_18_cluster.png', dpi=120)"
   ]
  },
  {
   "cell_type": "markdown",
   "metadata": {},
   "source": [
    "### Statistics on Cluster 0 ###"
   ]
  },
  {
   "cell_type": "code",
   "execution_count": 27,
   "metadata": {
    "ExecuteTime": {
     "end_time": "2020-02-14T04:58:28.508565Z",
     "start_time": "2020-02-14T04:58:28.003617Z"
    }
   },
   "outputs": [
    {
     "data": {
      "image/png": "[encoded data removed]",
      "text/plain": [
       "<Figure size 1152x144 with 1 Axes>"
      ]
     },
     "metadata": {},
     "output_type": "display_data"
    },
    {
     "name": "stdout",
     "output_type": "stream",
     "text": [
      "Number of items: 25\n",
      "Cluster characteristics:male(20+), commuting, outdoor, midday\n"
     ]
    },
    {
     "data": {
      "image/png": "[encoded data removed]",
      "text/plain": [
       "<Figure size 1152x216 with 1 Axes>"
      ]
     },
     "metadata": {},
     "output_type": "display_data"
    },
    {
     "name": "stdout",
     "output_type": "stream",
     "text": [
      "Number of items: 62\n",
      "Cluster characteristics of 1:mostly male(20+), commuting, outdoor, midday\n"
     ]
    }
   ],
   "source": [
    "cluster = 0\n",
    "df_filtered = df[df['clusters']==cluster]\n",
    "\n",
    "#print(df_filtered['age'].value_counts())\n",
    "plt.figure(figsize=(16,2))\n",
    "sns.countplot(y='age_group', data=df_filtered, hue='gender', order = df_filtered.age_group.value_counts().index )\n",
    "plt.show()\n",
    "\n",
    "length = len(df_filtered)\n",
    "print('Number of items:', length)\n",
    "print('Cluster characteristics:male(20+), commuting, outdoor, midday')\n",
    "\n",
    "cluster = 1\n",
    "df_filtered = df[df['clusters']==cluster]\n",
    "\n",
    "#print(df_filtered['age'].value_counts())\n",
    "plt.figure(figsize=(16,3))\n",
    "sns.countplot(y='age_group', data=df_filtered, hue='gender', order = df_filtered.age_group.value_counts().index )\n",
    "plt.show()\n",
    "length = len(df_filtered)\n",
    "print('Number of items:', length)\n",
    "print('Cluster characteristics of {}:mostly male(20+), commuting, outdoor, midday'.format(cluster))\n",
    "\n",
    "#df_filtered.head(length)\n",
    "#df_filtered.sum(axis=0)\n",
    "\n",
    "\n"
   ]
  },
  {
   "cell_type": "markdown",
   "metadata": {},
   "source": [
    "### Predictions based on song metadata and user context ###"
   ]
  },
  {
   "cell_type": "code",
   "execution_count": 131,
   "metadata": {
    "ExecuteTime": {
     "end_time": "2020-02-13T12:41:18.839000Z",
     "start_time": "2020-02-13T12:41:18.801990Z"
    }
   },
   "outputs": [
    {
     "data": {
      "text/html": [
       "<div>\n",
       "<style scoped>\n",
       "    .dataframe tbody tr th:only-of-type {\n",
       "        vertical-align: middle;\n",
       "    }\n",
       "\n",
       "    .dataframe tbody tr th {\n",
       "        vertical-align: top;\n",
       "    }\n",
       "\n",
       "    .dataframe thead th {\n",
       "        text-align: right;\n",
       "    }\n",
       "</style>\n",
       "<table border=\"1\" class=\"dataframe\">\n",
       "  <thead>\n",
       "    <tr style=\"text-align: right;\">\n",
       "      <th></th>\n",
       "      <th>age</th>\n",
       "      <th>gender</th>\n",
       "      <th>location</th>\n",
       "      <th>activity</th>\n",
       "      <th>period</th>\n",
       "      <th>song</th>\n",
       "      <th>artist</th>\n",
       "    </tr>\n",
       "  </thead>\n",
       "  <tbody>\n",
       "    <tr>\n",
       "      <th>0</th>\n",
       "      <td>27</td>\n",
       "      <td>male</td>\n",
       "      <td>work</td>\n",
       "      <td>working</td>\n",
       "      <td>morning</td>\n",
       "      <td>Colors</td>\n",
       "      <td>Black pumas</td>\n",
       "    </tr>\n",
       "  </tbody>\n",
       "</table>\n",
       "</div>"
      ],
      "text/plain": [
       "   age gender location activity   period    song       artist\n",
       "0   27   male     work  working  morning  Colors  Black pumas"
      ]
     },
     "execution_count": 131,
     "metadata": {},
     "output_type": "execute_result"
    }
   ],
   "source": [
    "#1.get user context (target is in what cluster it belongs)\n",
    "#2.get spotify metadata\n",
    "#3.\n",
    "pred_list = pd.read_excel(path + 'predictions_p.xlsx', sheet_name='Athina')\n",
    "pred_list.head()"
   ]
  },
  {
   "cell_type": "code",
   "execution_count": 82,
   "metadata": {
    "ExecuteTime": {
     "end_time": "2020-02-13T10:13:34.980053Z",
     "start_time": "2020-02-13T10:13:34.970047Z"
    }
   },
   "outputs": [],
   "source": [
    "import spotipy\n",
    "from spotipy.oauth2 import SpotifyClientCredentials #to access authorised Spotify data\n",
    "\n",
    "client_id = '8038c4be0f8a4844982edce1b2282ebc'\n",
    "client_secret = '1bd8da3a234e4060a6801a432c0e877d'\n",
    "\n",
    "client_credentials_manager = SpotifyClientCredentials(client_id=client_id, client_secret=client_secret)\n",
    "\n",
    "sp = spotipy.Spotify(client_credentials_manager=client_credentials_manager) #spotify object to access API"
   ]
  },
  {
   "cell_type": "code",
   "execution_count": 83,
   "metadata": {
    "ExecuteTime": {
     "end_time": "2020-02-13T10:13:35.981952Z",
     "start_time": "2020-02-13T10:13:35.963945Z"
    }
   },
   "outputs": [],
   "source": [
    "# extract audio features for each song\n",
    "def audio_features(song_info, song_name, track_id, album_metadata) :    \n",
    "    spotify_song = {}\n",
    "  \n",
    "    #add song metadata\n",
    "    spotify_song['user_id']= song_info[0]\n",
    "    spotify_song['age']= song_info[1]\n",
    "    spotify_song['gender']= song_info[2]\n",
    "    spotify_song['mood']= song_info[3]\n",
    "    spotify_song['location']= song_info[4]\n",
    "    spotify_song['activity']= song_info[5]\n",
    "    spotify_song['period']= song_info[6]\n",
    "                                       \n",
    "    features = sp.audio_features(track_id)\n",
    "    if not features is None:\n",
    "      spotify_song['id'] = features[0]['id']\n",
    "      #Append to relevant key-value\n",
    "      spotify_song['acousticness'] = features[0]['acousticness']\n",
    "      spotify_song['danceability'] = features[0]['danceability']\n",
    "      spotify_song['energy'] = features[0]['energy']\n",
    "      spotify_song['instrumentalness'] = features[0]['instrumentalness']\n",
    "      spotify_song['liveness'] = features[0]['liveness']\n",
    "      spotify_song['loudness'] = features[0]['loudness']\n",
    "      spotify_song['speechiness'] = features[0]['speechiness']\n",
    "      spotify_song['tempo'] = features[0]['tempo']\n",
    "      spotify_song['valence'] = features[0]['valence']\n",
    "      #popularity is stored elsewhere\n",
    "      pop = sp.track(track_id)#track['id'])\n",
    "      spotify_song['popularity'] = pop['popularity']\n",
    "      print(album_metadata)\n",
    "      spotify_song['release_date'] = album_metadata['album']['release_date']\n",
    "      spotify_song['artist_name'] = album_metadata['artists'][0]['name']    \n",
    "      spotify_song['song_name'] = pop['name']       \n",
    "\n",
    "    return spotify_song\n",
    "\n",
    "def add_empty_row(song_info, song_name):\n",
    "    spotify_song = {}\n",
    "\n",
    "    #add song metadata\n",
    "    spotify_song['user_id']= song_info[0]\n",
    "    spotify_song['age']= song_info[1]\n",
    "    spotify_song['gender']= song_info[2]\n",
    "    spotify_song['mood']= song_info[3]\n",
    "    spotify_song['location']= song_info[4]\n",
    "    spotify_song['activity']= song_info[5]\n",
    "    spotify_song['period']= song_info[6]\n",
    "    \n",
    "    spotify_song['id']=pd.NaT\n",
    "    spotify_song['acousticness'] = pd.NaT\n",
    "    spotify_song['danceability'] = pd.NaT\n",
    "    spotify_song['energy'] = pd.NaT\n",
    "    spotify_song['instrumentalness'] = pd.NaT\n",
    "    spotify_song['liveness'] = pd.NaT\n",
    "    spotify_song['loudness'] = pd.NaT\n",
    "    spotify_song['speechiness'] = pd.NaT\n",
    "    spotify_song['tempo'] = pd.NaT\n",
    "    spotify_song['valence'] = pd.NaT        \n",
    "    spotify_song['popularity'] = pd.NaT\n",
    "    spotify_song['release_date'] = pd.NaT\n",
    "    spotify_song['artist_name'] = song_name.split(':')[1]\n",
    "    spotify_song['song_name'] = song_name.split(':')[0]\n",
    "\n",
    "    return spotify_song"
   ]
  },
  {
   "cell_type": "code",
   "execution_count": 85,
   "metadata": {
    "ExecuteTime": {
     "end_time": "2020-02-13T10:14:05.987892Z",
     "start_time": "2020-02-13T10:14:04.722568Z"
    }
   },
   "outputs": [
    {
     "name": "stdout",
     "output_type": "stream",
     "text": [
      "Colors:Black pumas\n",
      "{'album': {'album_type': 'album', 'artists': [{'external_urls': {'spotify': 'https://open.spotify.com/artist/6eU0jV2eEZ8XTM7EmlguK6'}, 'href': 'https://api.spotify.com/v1/artists/6eU0jV2eEZ8XTM7EmlguK6', 'id': '6eU0jV2eEZ8XTM7EmlguK6', 'name': 'Black Pumas', 'type': 'artist', 'uri': 'spotify:artist:6eU0jV2eEZ8XTM7EmlguK6'}], 'available_markets': ['US'], 'external_urls': {'spotify': 'https://open.spotify.com/album/54SlWgNocRPhlZEFTYjOfW'}, 'href': 'https://api.spotify.com/v1/albums/54SlWgNocRPhlZEFTYjOfW', 'id': '54SlWgNocRPhlZEFTYjOfW', 'images': [{'height': 640, 'url': 'https://i.scdn.co/image/ab67616d0000b273d04a199b0083891937f7cb11', 'width': 640}, {'height': 300, 'url': 'https://i.scdn.co/image/ab67616d00001e02d04a199b0083891937f7cb11', 'width': 300}, {'height': 64, 'url': 'https://i.scdn.co/image/ab67616d00004851d04a199b0083891937f7cb11', 'width': 64}], 'name': 'Black Pumas', 'release_date': '2019-06-21', 'release_date_precision': 'day', 'total_tracks': 10, 'type': 'album', 'uri': 'spotify:album:54SlWgNocRPhlZEFTYjOfW'}, 'artists': [{'external_urls': {'spotify': 'https://open.spotify.com/artist/6eU0jV2eEZ8XTM7EmlguK6'}, 'href': 'https://api.spotify.com/v1/artists/6eU0jV2eEZ8XTM7EmlguK6', 'id': '6eU0jV2eEZ8XTM7EmlguK6', 'name': 'Black Pumas', 'type': 'artist', 'uri': 'spotify:artist:6eU0jV2eEZ8XTM7EmlguK6'}], 'available_markets': ['US'], 'disc_number': 1, 'duration_ms': 246586, 'explicit': False, 'external_ids': {'isrc': 'USATO1900023'}, 'external_urls': {'spotify': 'https://open.spotify.com/track/6vaSStNN5NX4nJ4QbRY3S0'}, 'href': 'https://api.spotify.com/v1/tracks/6vaSStNN5NX4nJ4QbRY3S0', 'id': '6vaSStNN5NX4nJ4QbRY3S0', 'is_local': False, 'name': 'Colors', 'popularity': 59, 'preview_url': None, 'track_number': 2, 'type': 'track', 'uri': 'spotify:track:6vaSStNN5NX4nJ4QbRY3S0'}\n",
      "added 1 tracks\n"
     ]
    }
   ],
   "source": [
    "songs_found = []\n",
    "\n",
    "for i,row in pred_list.iterrows():  #chosen track  \n",
    "    song = row['song']+':'+row['artist']\n",
    "    print(song)\n",
    "    result = sp.search(song) #search query\n",
    "    song_info = ['', row['age'], row['gender'], '', row['location'], row['activity'], row['period']]\n",
    "    if len(result['tracks']['items'])>0:\n",
    "        track_id = result['tracks']['items'][0]['id']   \n",
    "        songs_found.append(audio_features(song_info, song, track_id, result['tracks']['items'][0]))\n",
    "    else:\n",
    "        print('song {0} not found'.format(song))\n",
    "        songs_found.append(add_empty_row(song_info, song))\n",
    "        #Append to relevant key-value\n",
    "    \n",
    "print('added {0} tracks'.format(len(songs_found)))\n",
    "pred_output = pd.io.json.json_normalize(songs_found)"
   ]
  },
  {
   "cell_type": "code",
   "execution_count": 86,
   "metadata": {
    "ExecuteTime": {
     "end_time": "2020-02-13T10:14:15.377064Z",
     "start_time": "2020-02-13T10:14:15.218035Z"
    }
   },
   "outputs": [],
   "source": [
    "pred_output.head()\n",
    "pred_output.to_excel('p_playlist_predictions.xlsx', index=False)"
   ]
  },
  {
   "cell_type": "code",
   "execution_count": 140,
   "metadata": {
    "ExecuteTime": {
     "end_time": "2020-02-13T12:44:45.411727Z",
     "start_time": "2020-02-13T12:44:45.350716Z"
    }
   },
   "outputs": [
    {
     "data": {
      "text/html": [
       "<div>\n",
       "<style scoped>\n",
       "    .dataframe tbody tr th:only-of-type {\n",
       "        vertical-align: middle;\n",
       "    }\n",
       "\n",
       "    .dataframe tbody tr th {\n",
       "        vertical-align: top;\n",
       "    }\n",
       "\n",
       "    .dataframe thead th {\n",
       "        text-align: right;\n",
       "    }\n",
       "</style>\n",
       "<table border=\"1\" class=\"dataframe\">\n",
       "  <thead>\n",
       "    <tr style=\"text-align: right;\">\n",
       "      <th></th>\n",
       "      <th>acousticness</th>\n",
       "      <th>activity</th>\n",
       "      <th>age</th>\n",
       "      <th>artist_name</th>\n",
       "      <th>danceability</th>\n",
       "      <th>energy</th>\n",
       "      <th>gender</th>\n",
       "      <th>id</th>\n",
       "      <th>instrumentalness</th>\n",
       "      <th>liveness</th>\n",
       "      <th>location</th>\n",
       "      <th>loudness</th>\n",
       "      <th>mood</th>\n",
       "      <th>period</th>\n",
       "      <th>popularity</th>\n",
       "      <th>release_date</th>\n",
       "      <th>song_name</th>\n",
       "      <th>speechiness</th>\n",
       "      <th>tempo</th>\n",
       "      <th>user_id</th>\n",
       "      <th>valence</th>\n",
       "    </tr>\n",
       "  </thead>\n",
       "  <tbody>\n",
       "    <tr>\n",
       "      <th>0</th>\n",
       "      <td>0.0946</td>\n",
       "      <td>working</td>\n",
       "      <td>27</td>\n",
       "      <td>Black Pumas</td>\n",
       "      <td>0.391</td>\n",
       "      <td>0.692</td>\n",
       "      <td>male</td>\n",
       "      <td>6vaSStNN5NX4nJ4QbRY3S0</td>\n",
       "      <td>0.000016</td>\n",
       "      <td>0.191</td>\n",
       "      <td>work</td>\n",
       "      <td>-6.543</td>\n",
       "      <td>NaN</td>\n",
       "      <td>morning</td>\n",
       "      <td>59</td>\n",
       "      <td>2019-06-21</td>\n",
       "      <td>Colors</td>\n",
       "      <td>0.0462</td>\n",
       "      <td>180.008</td>\n",
       "      <td>NaN</td>\n",
       "      <td>0.56</td>\n",
       "    </tr>\n",
       "  </tbody>\n",
       "</table>\n",
       "</div>"
      ],
      "text/plain": [
       "   acousticness activity  age  artist_name  danceability  energy gender  \\\n",
       "0        0.0946  working   27  Black Pumas         0.391   0.692   male   \n",
       "\n",
       "                       id  instrumentalness  liveness location  loudness  \\\n",
       "0  6vaSStNN5NX4nJ4QbRY3S0          0.000016     0.191     work    -6.543   \n",
       "\n",
       "   mood   period  popularity release_date song_name  speechiness    tempo  \\\n",
       "0   NaN  morning          59   2019-06-21    Colors       0.0462  180.008   \n",
       "\n",
       "   user_id  valence  \n",
       "0      NaN     0.56  "
      ]
     },
     "execution_count": 140,
     "metadata": {},
     "output_type": "execute_result"
    }
   ],
   "source": [
    "pred_output = pd.read_excel('p_playlist_predictions.xlsx')\n",
    "pred_output.head()"
   ]
  },
  {
   "cell_type": "code",
   "execution_count": 141,
   "metadata": {
    "ExecuteTime": {
     "end_time": "2020-02-13T12:44:46.555172Z",
     "start_time": "2020-02-13T12:44:46.413154Z"
    }
   },
   "outputs": [
    {
     "name": "stdout",
     "output_type": "stream",
     "text": [
      "home\n",
      "other\n",
      "outdoor\n",
      "activity_other\n",
      "amusing\n",
      "commuting\n",
      "studying\n",
      "working out\n",
      "female\n",
      "afternoon\n",
      "evening\n",
      "midday\n",
      "night\n",
      "clusters\n"
     ]
    }
   ],
   "source": [
    "pred_output = encode_features(pred_output, 'location', 'activity', 'gender', 'period')\n",
    "for col in df_enc.columns:\n",
    "    if col not in pred_output.columns:\n",
    "        print(col)\n",
    "        dat2 = pd.DataFrame({col: [0]})\n",
    "        pred_output = pred_output.join(dat2)\n",
    "\n",
    "pred_output = pred_output.drop('user_id', axis=1)\n",
    "\n",
    "pred_output = pred_output.fillna(method='ffill')\n",
    "pred_output.head()\n",
    "pred_output = pred_output.drop('clusters', axis=1)"
   ]
  },
  {
   "cell_type": "code",
   "execution_count": 142,
   "metadata": {
    "ExecuteTime": {
     "end_time": "2020-02-13T12:44:59.603876Z",
     "start_time": "2020-02-13T12:44:59.592872Z"
    }
   },
   "outputs": [
    {
     "name": "stdout",
     "output_type": "stream",
     "text": [
      "-1.0 -1.0\n"
     ]
    }
   ],
   "source": [
    "scaler = MinMaxScaler(feature_range=(-1,1)).fit(pred_output)\n",
    "d_scaled = scaler.transform(pred_output)\n",
    "print(d_scaled.min(), d_scaled.max())"
   ]
  },
  {
   "cell_type": "code",
   "execution_count": 143,
   "metadata": {
    "ExecuteTime": {
     "end_time": "2020-02-13T12:45:01.701220Z",
     "start_time": "2020-02-13T12:45:01.645205Z"
    }
   },
   "outputs": [
    {
     "name": "stdout",
     "output_type": "stream",
     "text": [
      "predicted cluster: [2]\n",
      "total songs: 50\n"
     ]
    },
    {
     "data": {
      "text/html": [
       "<div>\n",
       "<style scoped>\n",
       "    .dataframe tbody tr th:only-of-type {\n",
       "        vertical-align: middle;\n",
       "    }\n",
       "\n",
       "    .dataframe tbody tr th {\n",
       "        vertical-align: top;\n",
       "    }\n",
       "\n",
       "    .dataframe thead th {\n",
       "        text-align: right;\n",
       "    }\n",
       "</style>\n",
       "<table border=\"1\" class=\"dataframe\">\n",
       "  <thead>\n",
       "    <tr style=\"text-align: right;\">\n",
       "      <th></th>\n",
       "      <th>dim_1</th>\n",
       "      <th>dim_2</th>\n",
       "      <th>Mood</th>\n",
       "      <th>Location</th>\n",
       "      <th>Period</th>\n",
       "      <th>Activity</th>\n",
       "      <th>Artist_Song</th>\n",
       "      <th>clusters</th>\n",
       "    </tr>\n",
       "  </thead>\n",
       "  <tbody>\n",
       "    <tr>\n",
       "      <th>0</th>\n",
       "      <td>-2.237905</td>\n",
       "      <td>8.279122</td>\n",
       "      <td>pleased</td>\n",
       "      <td>other</td>\n",
       "      <td>evening</td>\n",
       "      <td>studying</td>\n",
       "      <td>Stive Morgan-My Angel (Piano Theme 2019)</td>\n",
       "      <td>2</td>\n",
       "    </tr>\n",
       "    <tr>\n",
       "      <th>9</th>\n",
       "      <td>-1.033080</td>\n",
       "      <td>11.307544</td>\n",
       "      <td>sad</td>\n",
       "      <td>home</td>\n",
       "      <td>evening</td>\n",
       "      <td>amusing</td>\n",
       "      <td>Andy Moor-Trespass - Masoud Chill Out Mix</td>\n",
       "      <td>2</td>\n",
       "    </tr>\n",
       "    <tr>\n",
       "      <th>10</th>\n",
       "      <td>-1.106171</td>\n",
       "      <td>11.287008</td>\n",
       "      <td>sad</td>\n",
       "      <td>home</td>\n",
       "      <td>evening</td>\n",
       "      <td>amusing</td>\n",
       "      <td>Ken Hensley-Lady in Black</td>\n",
       "      <td>2</td>\n",
       "    </tr>\n",
       "    <tr>\n",
       "      <th>11</th>\n",
       "      <td>-2.063817</td>\n",
       "      <td>8.334865</td>\n",
       "      <td>relaxed</td>\n",
       "      <td>home</td>\n",
       "      <td>evening</td>\n",
       "      <td>studying</td>\n",
       "      <td>Flaer Smin-Catharsis</td>\n",
       "      <td>2</td>\n",
       "    </tr>\n",
       "    <tr>\n",
       "      <th>12</th>\n",
       "      <td>-2.101801</td>\n",
       "      <td>8.301802</td>\n",
       "      <td>relaxed</td>\n",
       "      <td>home</td>\n",
       "      <td>evening</td>\n",
       "      <td>studying</td>\n",
       "      <td>Depeche Mode-The Things You Said - 2006 Remaster</td>\n",
       "      <td>2</td>\n",
       "    </tr>\n",
       "    <tr>\n",
       "      <th>13</th>\n",
       "      <td>-1.126865</td>\n",
       "      <td>11.229715</td>\n",
       "      <td>calm</td>\n",
       "      <td>home</td>\n",
       "      <td>evening</td>\n",
       "      <td>amusing</td>\n",
       "      <td>Manchester Orchestra-The Silence</td>\n",
       "      <td>2</td>\n",
       "    </tr>\n",
       "    <tr>\n",
       "      <th>18</th>\n",
       "      <td>-1.127432</td>\n",
       "      <td>11.298086</td>\n",
       "      <td>pleased</td>\n",
       "      <td>outdoor</td>\n",
       "      <td>evening</td>\n",
       "      <td>working</td>\n",
       "      <td>Cody McConnell-Radioactive: Imagine Dragons (P...</td>\n",
       "      <td>2</td>\n",
       "    </tr>\n",
       "    <tr>\n",
       "      <th>19</th>\n",
       "      <td>0.133855</td>\n",
       "      <td>11.446804</td>\n",
       "      <td>pleased</td>\n",
       "      <td>outdoor</td>\n",
       "      <td>evening</td>\n",
       "      <td>working</td>\n",
       "      <td>Daft Punk-The Grid</td>\n",
       "      <td>2</td>\n",
       "    </tr>\n",
       "    <tr>\n",
       "      <th>28</th>\n",
       "      <td>-19.576771</td>\n",
       "      <td>7.223946</td>\n",
       "      <td>angry</td>\n",
       "      <td>home</td>\n",
       "      <td>afternoon</td>\n",
       "      <td>working</td>\n",
       "      <td>VNV Nation-Further</td>\n",
       "      <td>2</td>\n",
       "    </tr>\n",
       "    <tr>\n",
       "      <th>34</th>\n",
       "      <td>-2.768851</td>\n",
       "      <td>13.305573</td>\n",
       "      <td>relaxed</td>\n",
       "      <td>work</td>\n",
       "      <td>morning</td>\n",
       "      <td>working</td>\n",
       "      <td>Oasis-Wonderwall - Remastered</td>\n",
       "      <td>2</td>\n",
       "    </tr>\n",
       "    <tr>\n",
       "      <th>35</th>\n",
       "      <td>-2.840726</td>\n",
       "      <td>13.241899</td>\n",
       "      <td>relaxed</td>\n",
       "      <td>work</td>\n",
       "      <td>morning</td>\n",
       "      <td>working</td>\n",
       "      <td>Paul Weller-You Do Something To Me</td>\n",
       "      <td>2</td>\n",
       "    </tr>\n",
       "    <tr>\n",
       "      <th>37</th>\n",
       "      <td>-7.589252</td>\n",
       "      <td>5.725509</td>\n",
       "      <td>relaxed</td>\n",
       "      <td>home</td>\n",
       "      <td>midday</td>\n",
       "      <td>amusing</td>\n",
       "      <td>Chris Cornell-Billie Jean</td>\n",
       "      <td>2</td>\n",
       "    </tr>\n",
       "    <tr>\n",
       "      <th>38</th>\n",
       "      <td>-2.775877</td>\n",
       "      <td>13.263777</td>\n",
       "      <td>relaxed</td>\n",
       "      <td>home</td>\n",
       "      <td>midday</td>\n",
       "      <td>amusing</td>\n",
       "      <td>Ed Sheeran-I Don't Care (with Justin Bieber)</td>\n",
       "      <td>2</td>\n",
       "    </tr>\n",
       "    <tr>\n",
       "      <th>41</th>\n",
       "      <td>-2.809521</td>\n",
       "      <td>13.242173</td>\n",
       "      <td>relaxed</td>\n",
       "      <td>home</td>\n",
       "      <td>midday</td>\n",
       "      <td>amusing</td>\n",
       "      <td>Red Hot Chili Peppers-Road Trippin'</td>\n",
       "      <td>2</td>\n",
       "    </tr>\n",
       "    <tr>\n",
       "      <th>147</th>\n",
       "      <td>-1.490683</td>\n",
       "      <td>19.639046</td>\n",
       "      <td>bored</td>\n",
       "      <td>work</td>\n",
       "      <td>afternoon</td>\n",
       "      <td>working</td>\n",
       "      <td>Bruno Mars-That's What I Like</td>\n",
       "      <td>2</td>\n",
       "    </tr>\n",
       "    <tr>\n",
       "      <th>148</th>\n",
       "      <td>-1.166367</td>\n",
       "      <td>19.630514</td>\n",
       "      <td>bored</td>\n",
       "      <td>outdoor</td>\n",
       "      <td>afternoon</td>\n",
       "      <td>commuting</td>\n",
       "      <td>Mark Ronson-Uptown Funk</td>\n",
       "      <td>2</td>\n",
       "    </tr>\n",
       "    <tr>\n",
       "      <th>149</th>\n",
       "      <td>-1.948395</td>\n",
       "      <td>19.748053</td>\n",
       "      <td>angry</td>\n",
       "      <td>outdoor</td>\n",
       "      <td>afternoon</td>\n",
       "      <td>commuting</td>\n",
       "      <td>Maroon 5-Moves Like Jagger - Studio Recording ...</td>\n",
       "      <td>2</td>\n",
       "    </tr>\n",
       "    <tr>\n",
       "      <th>150</th>\n",
       "      <td>-1.570891</td>\n",
       "      <td>19.825556</td>\n",
       "      <td>pleased</td>\n",
       "      <td>work</td>\n",
       "      <td>afternoon</td>\n",
       "      <td>working</td>\n",
       "      <td>The Who-Baba O'Riley</td>\n",
       "      <td>2</td>\n",
       "    </tr>\n",
       "    <tr>\n",
       "      <th>151</th>\n",
       "      <td>-1.152095</td>\n",
       "      <td>19.591223</td>\n",
       "      <td>NaN</td>\n",
       "      <td>NaN</td>\n",
       "      <td>NaN</td>\n",
       "      <td>NaN</td>\n",
       "      <td>NaN</td>\n",
       "      <td>2</td>\n",
       "    </tr>\n",
       "    <tr>\n",
       "      <th>152</th>\n",
       "      <td>-1.735630</td>\n",
       "      <td>19.796661</td>\n",
       "      <td>angry</td>\n",
       "      <td>home</td>\n",
       "      <td>afternoon</td>\n",
       "      <td>working out</td>\n",
       "      <td>Michael Jackson-Beat It - Single Version</td>\n",
       "      <td>2</td>\n",
       "    </tr>\n",
       "    <tr>\n",
       "      <th>153</th>\n",
       "      <td>-2.030554</td>\n",
       "      <td>19.654982</td>\n",
       "      <td>excited</td>\n",
       "      <td>home</td>\n",
       "      <td>afternoon</td>\n",
       "      <td>other</td>\n",
       "      <td>Mykah-Megalovania (Undertale Remix)</td>\n",
       "      <td>2</td>\n",
       "    </tr>\n",
       "    <tr>\n",
       "      <th>154</th>\n",
       "      <td>-1.592324</td>\n",
       "      <td>19.566509</td>\n",
       "      <td>NaN</td>\n",
       "      <td>NaN</td>\n",
       "      <td>NaN</td>\n",
       "      <td>NaN</td>\n",
       "      <td>NaN</td>\n",
       "      <td>2</td>\n",
       "    </tr>\n",
       "    <tr>\n",
       "      <th>175</th>\n",
       "      <td>0.292897</td>\n",
       "      <td>15.935924</td>\n",
       "      <td>calm</td>\n",
       "      <td>home</td>\n",
       "      <td>midday</td>\n",
       "      <td>studying</td>\n",
       "      <td>Simon &amp; Garfunkel-The Sound of Silence - Acous...</td>\n",
       "      <td>2</td>\n",
       "    </tr>\n",
       "    <tr>\n",
       "      <th>176</th>\n",
       "      <td>-0.420185</td>\n",
       "      <td>15.795505</td>\n",
       "      <td>happy</td>\n",
       "      <td>home</td>\n",
       "      <td>morning</td>\n",
       "      <td>studying</td>\n",
       "      <td>a-ha-Take on Me</td>\n",
       "      <td>2</td>\n",
       "    </tr>\n",
       "    <tr>\n",
       "      <th>177</th>\n",
       "      <td>-0.059552</td>\n",
       "      <td>16.880564</td>\n",
       "      <td>happy</td>\n",
       "      <td>outdoor</td>\n",
       "      <td>night</td>\n",
       "      <td>amusing</td>\n",
       "      <td>Roxette-It Must Have Been Love - From the Film...</td>\n",
       "      <td>2</td>\n",
       "    </tr>\n",
       "    <tr>\n",
       "      <th>178</th>\n",
       "      <td>-0.194808</td>\n",
       "      <td>16.816149</td>\n",
       "      <td>excited</td>\n",
       "      <td>outdoor</td>\n",
       "      <td>night</td>\n",
       "      <td>amusing</td>\n",
       "      <td>Roxette-The Look</td>\n",
       "      <td>2</td>\n",
       "    </tr>\n",
       "    <tr>\n",
       "      <th>179</th>\n",
       "      <td>0.180760</td>\n",
       "      <td>16.583195</td>\n",
       "      <td>NaN</td>\n",
       "      <td>NaN</td>\n",
       "      <td>NaN</td>\n",
       "      <td>NaN</td>\n",
       "      <td>NaN</td>\n",
       "      <td>2</td>\n",
       "    </tr>\n",
       "    <tr>\n",
       "      <th>180</th>\n",
       "      <td>0.328612</td>\n",
       "      <td>15.337521</td>\n",
       "      <td>NaN</td>\n",
       "      <td>NaN</td>\n",
       "      <td>NaN</td>\n",
       "      <td>NaN</td>\n",
       "      <td>NaN</td>\n",
       "      <td>2</td>\n",
       "    </tr>\n",
       "    <tr>\n",
       "      <th>181</th>\n",
       "      <td>-0.776553</td>\n",
       "      <td>15.652650</td>\n",
       "      <td>NaN</td>\n",
       "      <td>NaN</td>\n",
       "      <td>NaN</td>\n",
       "      <td>NaN</td>\n",
       "      <td>NaN</td>\n",
       "      <td>2</td>\n",
       "    </tr>\n",
       "    <tr>\n",
       "      <th>182</th>\n",
       "      <td>0.867497</td>\n",
       "      <td>16.433113</td>\n",
       "      <td>NaN</td>\n",
       "      <td>NaN</td>\n",
       "      <td>NaN</td>\n",
       "      <td>NaN</td>\n",
       "      <td>NaN</td>\n",
       "      <td>2</td>\n",
       "    </tr>\n",
       "    <tr>\n",
       "      <th>183</th>\n",
       "      <td>-0.933165</td>\n",
       "      <td>15.322955</td>\n",
       "      <td>NaN</td>\n",
       "      <td>NaN</td>\n",
       "      <td>NaN</td>\n",
       "      <td>NaN</td>\n",
       "      <td>NaN</td>\n",
       "      <td>2</td>\n",
       "    </tr>\n",
       "    <tr>\n",
       "      <th>184</th>\n",
       "      <td>-2.411460</td>\n",
       "      <td>16.235521</td>\n",
       "      <td>NaN</td>\n",
       "      <td>NaN</td>\n",
       "      <td>NaN</td>\n",
       "      <td>NaN</td>\n",
       "      <td>NaN</td>\n",
       "      <td>2</td>\n",
       "    </tr>\n",
       "    <tr>\n",
       "      <th>185</th>\n",
       "      <td>1.076898</td>\n",
       "      <td>17.104576</td>\n",
       "      <td>NaN</td>\n",
       "      <td>NaN</td>\n",
       "      <td>NaN</td>\n",
       "      <td>NaN</td>\n",
       "      <td>NaN</td>\n",
       "      <td>2</td>\n",
       "    </tr>\n",
       "    <tr>\n",
       "      <th>186</th>\n",
       "      <td>-1.576979</td>\n",
       "      <td>16.705370</td>\n",
       "      <td>NaN</td>\n",
       "      <td>NaN</td>\n",
       "      <td>NaN</td>\n",
       "      <td>NaN</td>\n",
       "      <td>NaN</td>\n",
       "      <td>2</td>\n",
       "    </tr>\n",
       "    <tr>\n",
       "      <th>187</th>\n",
       "      <td>-1.002589</td>\n",
       "      <td>17.130350</td>\n",
       "      <td>NaN</td>\n",
       "      <td>NaN</td>\n",
       "      <td>NaN</td>\n",
       "      <td>NaN</td>\n",
       "      <td>NaN</td>\n",
       "      <td>2</td>\n",
       "    </tr>\n",
       "    <tr>\n",
       "      <th>188</th>\n",
       "      <td>-1.756230</td>\n",
       "      <td>16.825090</td>\n",
       "      <td>NaN</td>\n",
       "      <td>NaN</td>\n",
       "      <td>NaN</td>\n",
       "      <td>NaN</td>\n",
       "      <td>NaN</td>\n",
       "      <td>2</td>\n",
       "    </tr>\n",
       "    <tr>\n",
       "      <th>189</th>\n",
       "      <td>-1.829756</td>\n",
       "      <td>16.931900</td>\n",
       "      <td>NaN</td>\n",
       "      <td>NaN</td>\n",
       "      <td>NaN</td>\n",
       "      <td>NaN</td>\n",
       "      <td>NaN</td>\n",
       "      <td>2</td>\n",
       "    </tr>\n",
       "    <tr>\n",
       "      <th>190</th>\n",
       "      <td>-1.437384</td>\n",
       "      <td>16.207567</td>\n",
       "      <td>NaN</td>\n",
       "      <td>NaN</td>\n",
       "      <td>NaN</td>\n",
       "      <td>NaN</td>\n",
       "      <td>NaN</td>\n",
       "      <td>2</td>\n",
       "    </tr>\n",
       "    <tr>\n",
       "      <th>191</th>\n",
       "      <td>-1.400209</td>\n",
       "      <td>15.849311</td>\n",
       "      <td>NaN</td>\n",
       "      <td>NaN</td>\n",
       "      <td>NaN</td>\n",
       "      <td>NaN</td>\n",
       "      <td>NaN</td>\n",
       "      <td>2</td>\n",
       "    </tr>\n",
       "    <tr>\n",
       "      <th>192</th>\n",
       "      <td>-1.076646</td>\n",
       "      <td>16.431042</td>\n",
       "      <td>NaN</td>\n",
       "      <td>NaN</td>\n",
       "      <td>NaN</td>\n",
       "      <td>NaN</td>\n",
       "      <td>NaN</td>\n",
       "      <td>2</td>\n",
       "    </tr>\n",
       "    <tr>\n",
       "      <th>193</th>\n",
       "      <td>-0.065535</td>\n",
       "      <td>16.152983</td>\n",
       "      <td>NaN</td>\n",
       "      <td>NaN</td>\n",
       "      <td>NaN</td>\n",
       "      <td>NaN</td>\n",
       "      <td>NaN</td>\n",
       "      <td>2</td>\n",
       "    </tr>\n",
       "    <tr>\n",
       "      <th>194</th>\n",
       "      <td>-0.031722</td>\n",
       "      <td>15.876731</td>\n",
       "      <td>NaN</td>\n",
       "      <td>NaN</td>\n",
       "      <td>NaN</td>\n",
       "      <td>NaN</td>\n",
       "      <td>NaN</td>\n",
       "      <td>2</td>\n",
       "    </tr>\n",
       "    <tr>\n",
       "      <th>195</th>\n",
       "      <td>1.103452</td>\n",
       "      <td>15.619194</td>\n",
       "      <td>bored</td>\n",
       "      <td>work</td>\n",
       "      <td>midday</td>\n",
       "      <td>working</td>\n",
       "      <td>Thanos Mikroutsikos-Kuro Siwo</td>\n",
       "      <td>2</td>\n",
       "    </tr>\n",
       "    <tr>\n",
       "      <th>196</th>\n",
       "      <td>0.891574</td>\n",
       "      <td>15.679345</td>\n",
       "      <td>happy</td>\n",
       "      <td>work</td>\n",
       "      <td>morning</td>\n",
       "      <td>working</td>\n",
       "      <td>Tones and I-Dance Monkey</td>\n",
       "      <td>2</td>\n",
       "    </tr>\n",
       "    <tr>\n",
       "      <th>197</th>\n",
       "      <td>-0.395451</td>\n",
       "      <td>16.516218</td>\n",
       "      <td>happy</td>\n",
       "      <td>outdoor</td>\n",
       "      <td>afternoon</td>\n",
       "      <td>working out</td>\n",
       "      <td>Tones and I-Dance Monkey</td>\n",
       "      <td>2</td>\n",
       "    </tr>\n",
       "    <tr>\n",
       "      <th>198</th>\n",
       "      <td>0.499949</td>\n",
       "      <td>16.559168</td>\n",
       "      <td>happy</td>\n",
       "      <td>outdoor</td>\n",
       "      <td>morning</td>\n",
       "      <td>commuting</td>\n",
       "      <td>Tones and I-Dance Monkey</td>\n",
       "      <td>2</td>\n",
       "    </tr>\n",
       "    <tr>\n",
       "      <th>199</th>\n",
       "      <td>-1.688347</td>\n",
       "      <td>16.272434</td>\n",
       "      <td>happy</td>\n",
       "      <td>home</td>\n",
       "      <td>midday</td>\n",
       "      <td>working</td>\n",
       "      <td>Tones and I-Dance Monkey</td>\n",
       "      <td>2</td>\n",
       "    </tr>\n",
       "    <tr>\n",
       "      <th>200</th>\n",
       "      <td>-0.405828</td>\n",
       "      <td>15.217798</td>\n",
       "      <td>happy</td>\n",
       "      <td>outdoor</td>\n",
       "      <td>afternoon</td>\n",
       "      <td>amusing</td>\n",
       "      <td>Tones and I-Dance Monkey</td>\n",
       "      <td>2</td>\n",
       "    </tr>\n",
       "    <tr>\n",
       "      <th>201</th>\n",
       "      <td>-0.066499</td>\n",
       "      <td>15.490700</td>\n",
       "      <td>happy</td>\n",
       "      <td>outdoor</td>\n",
       "      <td>night</td>\n",
       "      <td>amusing</td>\n",
       "      <td>Tones and I-Dance Monkey</td>\n",
       "      <td>2</td>\n",
       "    </tr>\n",
       "    <tr>\n",
       "      <th>202</th>\n",
       "      <td>-0.729526</td>\n",
       "      <td>16.629068</td>\n",
       "      <td>happy</td>\n",
       "      <td>home</td>\n",
       "      <td>morning</td>\n",
       "      <td>studying</td>\n",
       "      <td>Tones and I-Dance Monkey</td>\n",
       "      <td>2</td>\n",
       "    </tr>\n",
       "  </tbody>\n",
       "</table>\n",
       "</div>"
      ],
      "text/plain": [
       "         dim_1      dim_2     Mood Location     Period     Activity  \\\n",
       "0    -2.237905   8.279122  pleased    other    evening     studying   \n",
       "9    -1.033080  11.307544      sad     home    evening      amusing   \n",
       "10   -1.106171  11.287008      sad     home    evening      amusing   \n",
       "11   -2.063817   8.334865  relaxed     home    evening     studying   \n",
       "12   -2.101801   8.301802  relaxed     home    evening     studying   \n",
       "13   -1.126865  11.229715     calm     home    evening      amusing   \n",
       "18   -1.127432  11.298086  pleased  outdoor    evening      working   \n",
       "19    0.133855  11.446804  pleased  outdoor    evening      working   \n",
       "28  -19.576771   7.223946    angry     home  afternoon      working   \n",
       "34   -2.768851  13.305573  relaxed     work    morning      working   \n",
       "35   -2.840726  13.241899  relaxed     work    morning      working   \n",
       "37   -7.589252   5.725509  relaxed     home     midday      amusing   \n",
       "38   -2.775877  13.263777  relaxed     home     midday      amusing   \n",
       "41   -2.809521  13.242173  relaxed     home     midday      amusing   \n",
       "147  -1.490683  19.639046    bored     work  afternoon      working   \n",
       "148  -1.166367  19.630514    bored  outdoor  afternoon    commuting   \n",
       "149  -1.948395  19.748053    angry  outdoor  afternoon    commuting   \n",
       "150  -1.570891  19.825556  pleased     work  afternoon      working   \n",
       "151  -1.152095  19.591223      NaN      NaN        NaN          NaN   \n",
       "152  -1.735630  19.796661    angry     home  afternoon  working out   \n",
       "153  -2.030554  19.654982  excited     home  afternoon        other   \n",
       "154  -1.592324  19.566509      NaN      NaN        NaN          NaN   \n",
       "175   0.292897  15.935924     calm     home     midday     studying   \n",
       "176  -0.420185  15.795505    happy     home    morning     studying   \n",
       "177  -0.059552  16.880564    happy  outdoor      night      amusing   \n",
       "178  -0.194808  16.816149  excited  outdoor      night      amusing   \n",
       "179   0.180760  16.583195      NaN      NaN        NaN          NaN   \n",
       "180   0.328612  15.337521      NaN      NaN        NaN          NaN   \n",
       "181  -0.776553  15.652650      NaN      NaN        NaN          NaN   \n",
       "182   0.867497  16.433113      NaN      NaN        NaN          NaN   \n",
       "183  -0.933165  15.322955      NaN      NaN        NaN          NaN   \n",
       "184  -2.411460  16.235521      NaN      NaN        NaN          NaN   \n",
       "185   1.076898  17.104576      NaN      NaN        NaN          NaN   \n",
       "186  -1.576979  16.705370      NaN      NaN        NaN          NaN   \n",
       "187  -1.002589  17.130350      NaN      NaN        NaN          NaN   \n",
       "188  -1.756230  16.825090      NaN      NaN        NaN          NaN   \n",
       "189  -1.829756  16.931900      NaN      NaN        NaN          NaN   \n",
       "190  -1.437384  16.207567      NaN      NaN        NaN          NaN   \n",
       "191  -1.400209  15.849311      NaN      NaN        NaN          NaN   \n",
       "192  -1.076646  16.431042      NaN      NaN        NaN          NaN   \n",
       "193  -0.065535  16.152983      NaN      NaN        NaN          NaN   \n",
       "194  -0.031722  15.876731      NaN      NaN        NaN          NaN   \n",
       "195   1.103452  15.619194    bored     work     midday      working   \n",
       "196   0.891574  15.679345    happy     work    morning      working   \n",
       "197  -0.395451  16.516218    happy  outdoor  afternoon  working out   \n",
       "198   0.499949  16.559168    happy  outdoor    morning    commuting   \n",
       "199  -1.688347  16.272434    happy     home     midday      working   \n",
       "200  -0.405828  15.217798    happy  outdoor  afternoon      amusing   \n",
       "201  -0.066499  15.490700    happy  outdoor      night      amusing   \n",
       "202  -0.729526  16.629068    happy     home    morning     studying   \n",
       "\n",
       "                                           Artist_Song  clusters  \n",
       "0             Stive Morgan-My Angel (Piano Theme 2019)         2  \n",
       "9            Andy Moor-Trespass - Masoud Chill Out Mix         2  \n",
       "10                           Ken Hensley-Lady in Black         2  \n",
       "11                                Flaer Smin-Catharsis         2  \n",
       "12    Depeche Mode-The Things You Said - 2006 Remaster         2  \n",
       "13                    Manchester Orchestra-The Silence         2  \n",
       "18   Cody McConnell-Radioactive: Imagine Dragons (P...         2  \n",
       "19                                  Daft Punk-The Grid         2  \n",
       "28                                  VNV Nation-Further         2  \n",
       "34                       Oasis-Wonderwall - Remastered         2  \n",
       "35                  Paul Weller-You Do Something To Me         2  \n",
       "37                           Chris Cornell-Billie Jean         2  \n",
       "38        Ed Sheeran-I Don't Care (with Justin Bieber)         2  \n",
       "41                 Red Hot Chili Peppers-Road Trippin'         2  \n",
       "147                      Bruno Mars-That's What I Like         2  \n",
       "148                            Mark Ronson-Uptown Funk         2  \n",
       "149  Maroon 5-Moves Like Jagger - Studio Recording ...         2  \n",
       "150                               The Who-Baba O'Riley         2  \n",
       "151                                                NaN         2  \n",
       "152           Michael Jackson-Beat It - Single Version         2  \n",
       "153                Mykah-Megalovania (Undertale Remix)         2  \n",
       "154                                                NaN         2  \n",
       "175  Simon & Garfunkel-The Sound of Silence - Acous...         2  \n",
       "176                                    a-ha-Take on Me         2  \n",
       "177  Roxette-It Must Have Been Love - From the Film...         2  \n",
       "178                                   Roxette-The Look         2  \n",
       "179                                                NaN         2  \n",
       "180                                                NaN         2  \n",
       "181                                                NaN         2  \n",
       "182                                                NaN         2  \n",
       "183                                                NaN         2  \n",
       "184                                                NaN         2  \n",
       "185                                                NaN         2  \n",
       "186                                                NaN         2  \n",
       "187                                                NaN         2  \n",
       "188                                                NaN         2  \n",
       "189                                                NaN         2  \n",
       "190                                                NaN         2  \n",
       "191                                                NaN         2  \n",
       "192                                                NaN         2  \n",
       "193                                                NaN         2  \n",
       "194                                                NaN         2  \n",
       "195                      Thanos Mikroutsikos-Kuro Siwo         2  \n",
       "196                           Tones and I-Dance Monkey         2  \n",
       "197                           Tones and I-Dance Monkey         2  \n",
       "198                           Tones and I-Dance Monkey         2  \n",
       "199                           Tones and I-Dance Monkey         2  \n",
       "200                           Tones and I-Dance Monkey         2  \n",
       "201                           Tones and I-Dance Monkey         2  \n",
       "202                           Tones and I-Dance Monkey         2  "
      ]
     },
     "execution_count": 143,
     "metadata": {},
     "output_type": "execute_result"
    }
   ],
   "source": [
    "predicted_clu = kmeans.predict(d_scaled)\n",
    "print('predicted cluster:', predicted_clu)\n",
    "#filter by cluster\n",
    "df_filtered = df_plot[df_plot['clusters'] == predicted_clu[0]]\n",
    "#filter by activity\n",
    "#df_filtered = df_filtered[df_filtered['Activity'] == pred_list['activity'][0] ]\n",
    "#filter by location\n",
    "#df_filtered = df_filtered[df_filtered['Location'] == pred_list['location'][0] ]\n",
    "#filter by period\n",
    "#df_filtered = df_filtered[df_filtered['Period'] == pred_list['period'][0] ]\n",
    "\n",
    "total = len(df_filtered)\n",
    "print('total songs:', total)\n",
    "df_filtered.head(total)"
   ]
  },
  {
   "cell_type": "code",
   "execution_count": 93,
   "metadata": {
    "ExecuteTime": {
     "end_time": "2020-02-13T10:20:10.751805Z",
     "start_time": "2020-02-13T10:20:10.661785Z"
    }
   },
   "outputs": [],
   "source": [
    "df_export = df_filtered['Artist_Song']\n",
    "df_export.to_excel('p_recommendations.xlsx')"
   ]
  },
  {
   "cell_type": "code",
   "execution_count": null,
   "metadata": {},
   "outputs": [],
   "source": []
  }
 ],
 "metadata": {
  "kernelspec": {
   "display_name": "Python 3",
   "language": "python",
   "name": "python3"
  },
  "language_info": {
   "codemirror_mode": {
    "name": "ipython",
    "version": 3
   },
   "file_extension": ".py",
   "mimetype": "text/x-python",
   "name": "python",
   "nbconvert_exporter": "python",
   "pygments_lexer": "ipython3",
   "version": "3.7.0"
  }
 },
 "nbformat": 4,
 "nbformat_minor": 2
}
