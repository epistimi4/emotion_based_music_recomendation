{
 "cells": [
  {
   "cell_type": "markdown",
   "metadata": {},
   "source": [
    "# Clustering and t-Stochastic Neighboring Embeddings #\n",
    "### Import libraries, setup environment ###"
   ]
  },
  {
   "cell_type": "code",
   "execution_count": 15,
   "metadata": {
    "ExecuteTime": {
     "end_time": "2020-02-12T17:21:49.698444Z",
     "start_time": "2020-02-12T17:21:49.510462Z"
    }
   },
   "outputs": [],
   "source": [
    "import pandas as pd\n",
    "import numpy as np\n",
    "from sklearn.manifold import TSNE\n",
    "from sklearn.preprocessing import OneHotEncoder,LabelEncoder\n",
    "from sklearn.cluster import KMeans\n",
    "from sklearn.metrics import silhouette_score\n",
    "\n",
    "import seaborn as sns\n",
    "import matplotlib.pyplot as plt\n",
    "%matplotlib inline\n",
    "\n",
    "pd.set_option('display.max_columns', 150)\n",
    "path='C:\\\\usersCode\\\\MScDataScience\\\\Multimodal analysis\\\\Preprocessing\\\\'"
   ]
  },
  {
   "cell_type": "markdown",
   "metadata": {},
   "source": [
    "#### Read input user data ####"
   ]
  },
  {
   "cell_type": "code",
   "execution_count": 2,
   "metadata": {
    "ExecuteTime": {
     "end_time": "2020-02-12T16:55:43.188917Z",
     "start_time": "2020-02-12T16:55:42.577348Z"
    }
   },
   "outputs": [
    {
     "data": {
      "text/html": [
       "<div>\n",
       "<style scoped>\n",
       "    .dataframe tbody tr th:only-of-type {\n",
       "        vertical-align: middle;\n",
       "    }\n",
       "\n",
       "    .dataframe tbody tr th {\n",
       "        vertical-align: top;\n",
       "    }\n",
       "\n",
       "    .dataframe thead th {\n",
       "        text-align: right;\n",
       "    }\n",
       "</style>\n",
       "<table border=\"1\" class=\"dataframe\">\n",
       "  <thead>\n",
       "    <tr style=\"text-align: right;\">\n",
       "      <th></th>\n",
       "      <th>acousticness</th>\n",
       "      <th>activity</th>\n",
       "      <th>age</th>\n",
       "      <th>artist_name</th>\n",
       "      <th>danceability</th>\n",
       "      <th>energy</th>\n",
       "      <th>gender</th>\n",
       "      <th>id</th>\n",
       "      <th>instrumentalness</th>\n",
       "      <th>liveness</th>\n",
       "      <th>location</th>\n",
       "      <th>loudness</th>\n",
       "      <th>mood</th>\n",
       "      <th>period</th>\n",
       "      <th>popularity</th>\n",
       "      <th>release_date</th>\n",
       "      <th>song_name</th>\n",
       "      <th>speechiness</th>\n",
       "      <th>tempo</th>\n",
       "      <th>user_id</th>\n",
       "      <th>valence</th>\n",
       "    </tr>\n",
       "  </thead>\n",
       "  <tbody>\n",
       "    <tr>\n",
       "      <th>618</th>\n",
       "      <td>0.09830</td>\n",
       "      <td>commuting</td>\n",
       "      <td>40</td>\n",
       "      <td>Deep Purple</td>\n",
       "      <td>0.632</td>\n",
       "      <td>0.586</td>\n",
       "      <td>male</td>\n",
       "      <td>5SAUIWdZ04OxYfJFDchC7S</td>\n",
       "      <td>0.581000</td>\n",
       "      <td>0.0535</td>\n",
       "      <td>outdoor</td>\n",
       "      <td>-11.333</td>\n",
       "      <td>excited</td>\n",
       "      <td>midday</td>\n",
       "      <td>63.0</td>\n",
       "      <td>1972-03-25</td>\n",
       "      <td>Smoke on the Water</td>\n",
       "      <td>0.0284</td>\n",
       "      <td>114.243</td>\n",
       "      <td>9</td>\n",
       "      <td>0.890</td>\n",
       "    </tr>\n",
       "    <tr>\n",
       "      <th>619</th>\n",
       "      <td>0.07900</td>\n",
       "      <td>commuting</td>\n",
       "      <td>40</td>\n",
       "      <td>The Clash</td>\n",
       "      <td>0.742</td>\n",
       "      <td>0.833</td>\n",
       "      <td>male</td>\n",
       "      <td>39shmbIHICJ2Wxnk1fPSdz</td>\n",
       "      <td>0.000000</td>\n",
       "      <td>0.3840</td>\n",
       "      <td>outdoor</td>\n",
       "      <td>-6.463</td>\n",
       "      <td>excited</td>\n",
       "      <td>midday</td>\n",
       "      <td>77.0</td>\n",
       "      <td>1982</td>\n",
       "      <td>Should I Stay or Should I Go - Remastered</td>\n",
       "      <td>0.1150</td>\n",
       "      <td>113.375</td>\n",
       "      <td>9</td>\n",
       "      <td>0.816</td>\n",
       "    </tr>\n",
       "    <tr>\n",
       "      <th>620</th>\n",
       "      <td>0.00705</td>\n",
       "      <td>commuting</td>\n",
       "      <td>40</td>\n",
       "      <td>Motörhead</td>\n",
       "      <td>0.448</td>\n",
       "      <td>0.936</td>\n",
       "      <td>male</td>\n",
       "      <td>1s0koYJ8UkZstIYYGboZa3</td>\n",
       "      <td>0.245000</td>\n",
       "      <td>0.1280</td>\n",
       "      <td>outdoor</td>\n",
       "      <td>-6.300</td>\n",
       "      <td>excited</td>\n",
       "      <td>midday</td>\n",
       "      <td>29.0</td>\n",
       "      <td>1992-07-28</td>\n",
       "      <td>You Better Run</td>\n",
       "      <td>0.0589</td>\n",
       "      <td>135.135</td>\n",
       "      <td>9</td>\n",
       "      <td>0.536</td>\n",
       "    </tr>\n",
       "    <tr>\n",
       "      <th>621</th>\n",
       "      <td>0.00377</td>\n",
       "      <td>commuting</td>\n",
       "      <td>40</td>\n",
       "      <td>Motörhead</td>\n",
       "      <td>0.660</td>\n",
       "      <td>0.778</td>\n",
       "      <td>male</td>\n",
       "      <td>7BwYSuWTyfcG3vtp1SnP7n</td>\n",
       "      <td>0.000856</td>\n",
       "      <td>0.3730</td>\n",
       "      <td>outdoor</td>\n",
       "      <td>-6.163</td>\n",
       "      <td>excited</td>\n",
       "      <td>midday</td>\n",
       "      <td>45.0</td>\n",
       "      <td>1979-03-24</td>\n",
       "      <td>Louie Louie</td>\n",
       "      <td>0.0583</td>\n",
       "      <td>123.205</td>\n",
       "      <td>9</td>\n",
       "      <td>0.758</td>\n",
       "    </tr>\n",
       "    <tr>\n",
       "      <th>622</th>\n",
       "      <td>0.00014</td>\n",
       "      <td>commuting</td>\n",
       "      <td>40</td>\n",
       "      <td>The Gone Jackals</td>\n",
       "      <td>0.305</td>\n",
       "      <td>0.882</td>\n",
       "      <td>male</td>\n",
       "      <td>2u2hIyLXxO06AudM88TmgF</td>\n",
       "      <td>0.249000</td>\n",
       "      <td>0.3880</td>\n",
       "      <td>outdoor</td>\n",
       "      <td>-13.521</td>\n",
       "      <td>excited</td>\n",
       "      <td>midday</td>\n",
       "      <td>31.0</td>\n",
       "      <td>1995</td>\n",
       "      <td>Legacy</td>\n",
       "      <td>0.0706</td>\n",
       "      <td>125.519</td>\n",
       "      <td>9</td>\n",
       "      <td>0.477</td>\n",
       "    </tr>\n",
       "  </tbody>\n",
       "</table>\n",
       "</div>"
      ],
      "text/plain": [
       "     acousticness   activity  age       artist_name  danceability  energy  \\\n",
       "618       0.09830  commuting   40       Deep Purple         0.632   0.586   \n",
       "619       0.07900  commuting   40         The Clash         0.742   0.833   \n",
       "620       0.00705  commuting   40         Motörhead         0.448   0.936   \n",
       "621       0.00377  commuting   40         Motörhead         0.660   0.778   \n",
       "622       0.00014  commuting   40  The Gone Jackals         0.305   0.882   \n",
       "\n",
       "    gender                      id  instrumentalness  liveness location  \\\n",
       "618   male  5SAUIWdZ04OxYfJFDchC7S          0.581000    0.0535  outdoor   \n",
       "619   male  39shmbIHICJ2Wxnk1fPSdz          0.000000    0.3840  outdoor   \n",
       "620   male  1s0koYJ8UkZstIYYGboZa3          0.245000    0.1280  outdoor   \n",
       "621   male  7BwYSuWTyfcG3vtp1SnP7n          0.000856    0.3730  outdoor   \n",
       "622   male  2u2hIyLXxO06AudM88TmgF          0.249000    0.3880  outdoor   \n",
       "\n",
       "     loudness     mood  period  popularity release_date  \\\n",
       "618   -11.333  excited  midday        63.0   1972-03-25   \n",
       "619    -6.463  excited  midday        77.0         1982   \n",
       "620    -6.300  excited  midday        29.0   1992-07-28   \n",
       "621    -6.163  excited  midday        45.0   1979-03-24   \n",
       "622   -13.521  excited  midday        31.0         1995   \n",
       "\n",
       "                                     song_name  speechiness    tempo  user_id  \\\n",
       "618                         Smoke on the Water       0.0284  114.243        9   \n",
       "619  Should I Stay or Should I Go - Remastered       0.1150  113.375        9   \n",
       "620                             You Better Run       0.0589  135.135        9   \n",
       "621                                Louie Louie       0.0583  123.205        9   \n",
       "622                                     Legacy       0.0706  125.519        9   \n",
       "\n",
       "     valence  \n",
       "618    0.890  \n",
       "619    0.816  \n",
       "620    0.536  \n",
       "621    0.758  \n",
       "622    0.477  "
      ]
     },
     "execution_count": 2,
     "metadata": {},
     "output_type": "execute_result"
    }
   ],
   "source": [
    "df = pd.read_excel(path+'athina_playlist_metadata.xlsx')\n",
    "df.tail()"
   ]
  },
  {
   "cell_type": "markdown",
   "metadata": {},
   "source": [
    "### Visualizations of features ###"
   ]
  },
  {
   "cell_type": "code",
   "execution_count": 3,
   "metadata": {
    "ExecuteTime": {
     "end_time": "2020-02-12T16:58:33.910216Z",
     "start_time": "2020-02-12T16:58:33.612702Z"
    }
   },
   "outputs": [
    {
     "name": "stdout",
     "output_type": "stream",
     "text": [
      "female    314\n",
      "male      309\n",
      "Name: gender, dtype: int64\n"
     ]
    },
    {
     "data": {
      "text/plain": [
       "<matplotlib.axes._subplots.AxesSubplot at 0x144637f4a20>"
      ]
     },
     "execution_count": 3,
     "metadata": {},
     "output_type": "execute_result"
    },
    {
     "data": {
      "image/png": "[encoded data removed]",
      "text/plain": [
       "<Figure size 1152x72 with 1 Axes>"
      ]
     },
     "metadata": {
      "needs_background": "light"
     },
     "output_type": "display_data"
    }
   ],
   "source": [
    "replace_values = {'Female': 'female'}\n",
    "df = df.replace({'gender': replace_values})\n",
    "\n",
    "print(df['gender'].value_counts())\n",
    "plt.figure(figsize=(16,1))\n",
    "sns.countplot(y='gender', data=df, order = df.gender.value_counts().index )"
   ]
  },
  {
   "cell_type": "code",
   "execution_count": 5,
   "metadata": {
    "ExecuteTime": {
     "end_time": "2020-02-12T17:16:10.621358Z",
     "start_time": "2020-02-12T17:16:10.169433Z"
    }
   },
   "outputs": [
    {
     "name": "stdout",
     "output_type": "stream",
     "text": [
      "calm        162\n",
      "relaxed      91\n",
      "excited      77\n",
      "pleased      50\n",
      "sad          48\n",
      "peaceful     44\n",
      "happy        43\n",
      "angry        33\n",
      "nervous      29\n",
      "bored        29\n",
      "sleepy       17\n",
      "Name: mood, dtype: int64\n"
     ]
    },
    {
     "data": {
      "text/plain": [
       "<matplotlib.axes._subplots.AxesSubplot at 0x1446359d710>"
      ]
     },
     "execution_count": 5,
     "metadata": {},
     "output_type": "execute_result"
    },
    {
     "data": {
      "image/png": "[encoded data removed]",
      "text/plain": [
       "<Figure size 1152x432 with 1 Axes>"
      ]
     },
     "metadata": {
      "needs_background": "light"
     },
     "output_type": "display_data"
    }
   ],
   "source": [
    "print(df['mood'].value_counts())\n",
    "plt.figure(figsize=(16,6))\n",
    "sns.countplot(y='mood', data=df, order = df.mood.value_counts().index )"
   ]
  },
  {
   "cell_type": "code",
   "execution_count": 6,
   "metadata": {
    "ExecuteTime": {
     "end_time": "2020-02-12T17:16:11.273493Z",
     "start_time": "2020-02-12T17:16:10.973406Z"
    }
   },
   "outputs": [
    {
     "data": {
      "text/plain": [
       "<matplotlib.axes._subplots.AxesSubplot at 0x14463643d30>"
      ]
     },
     "execution_count": 6,
     "metadata": {},
     "output_type": "execute_result"
    },
    {
     "data": {
      "image/png": "[encoded data removed]",
      "text/plain": [
       "<Figure size 1152x144 with 1 Axes>"
      ]
     },
     "metadata": {
      "needs_background": "light"
     },
     "output_type": "display_data"
    }
   ],
   "source": [
    "df['location'].value_counts()\n",
    "plt.figure(figsize=(16,2))\n",
    "sns.countplot(y='location', data=df, order = df.location.value_counts().index )"
   ]
  },
  {
   "cell_type": "code",
   "execution_count": 7,
   "metadata": {
    "ExecuteTime": {
     "end_time": "2020-02-12T17:16:11.886867Z",
     "start_time": "2020-02-12T17:16:11.563653Z"
    }
   },
   "outputs": [
    {
     "data": {
      "text/plain": [
       "<matplotlib.axes._subplots.AxesSubplot at 0x14463526da0>"
      ]
     },
     "execution_count": 7,
     "metadata": {},
     "output_type": "execute_result"
    },
    {
     "data": {
      "image/png": "[encoded data removed]",
      "text/plain": [
       "<Figure size 1152x216 with 1 Axes>"
      ]
     },
     "metadata": {
      "needs_background": "light"
     },
     "output_type": "display_data"
    }
   ],
   "source": [
    "df['period'].value_counts()\n",
    "plt.figure(figsize=(16,3))\n",
    "sns.countplot(y='period', data=df, order = df.period.value_counts().index )"
   ]
  },
  {
   "cell_type": "code",
   "execution_count": 8,
   "metadata": {
    "ExecuteTime": {
     "end_time": "2020-02-12T17:16:12.651058Z",
     "start_time": "2020-02-12T17:16:12.306605Z"
    }
   },
   "outputs": [
    {
     "name": "stdout",
     "output_type": "stream",
     "text": [
      "working        362\n",
      "amusing        141\n",
      "commuting       44\n",
      "studying        38\n",
      "working out     29\n",
      "other            9\n",
      "Name: activity, dtype: int64\n"
     ]
    },
    {
     "data": {
      "text/plain": [
       "<matplotlib.axes._subplots.AxesSubplot at 0x144635bb320>"
      ]
     },
     "execution_count": 8,
     "metadata": {},
     "output_type": "execute_result"
    },
    {
     "data": {
      "image/png": "[encoded data removed]",
      "text/plain": [
       "<Figure size 1152x288 with 1 Axes>"
      ]
     },
     "metadata": {
      "needs_background": "light"
     },
     "output_type": "display_data"
    }
   ],
   "source": [
    "print(df['activity'].value_counts())\n",
    "plt.figure(figsize=(16,4))\n",
    "sns.countplot(y='activity', data=df, order = df.activity.value_counts().index )"
   ]
  },
  {
   "cell_type": "code",
   "execution_count": 9,
   "metadata": {
    "ExecuteTime": {
     "end_time": "2020-02-12T17:16:13.208838Z",
     "start_time": "2020-02-12T17:16:13.189829Z"
    }
   },
   "outputs": [
    {
     "name": "stdout",
     "output_type": "stream",
     "text": [
      "<class 'pandas.core.frame.DataFrame'>\n",
      "Int64Index: 623 entries, 0 to 622\n",
      "Data columns (total 21 columns):\n",
      "acousticness        432 non-null float64\n",
      "activity            623 non-null object\n",
      "age                 623 non-null int64\n",
      "artist_name         623 non-null object\n",
      "danceability        432 non-null float64\n",
      "energy              432 non-null float64\n",
      "gender              623 non-null object\n",
      "id                  432 non-null object\n",
      "instrumentalness    432 non-null float64\n",
      "liveness            432 non-null float64\n",
      "location            623 non-null object\n",
      "loudness            432 non-null float64\n",
      "mood                623 non-null object\n",
      "period              623 non-null object\n",
      "popularity          432 non-null float64\n",
      "release_date        432 non-null object\n",
      "song_name           623 non-null object\n",
      "speechiness         432 non-null float64\n",
      "tempo               432 non-null float64\n",
      "user_id             623 non-null int64\n",
      "valence             432 non-null float64\n",
      "dtypes: float64(10), int64(2), object(9)\n",
      "memory usage: 127.1+ KB\n"
     ]
    }
   ],
   "source": [
    "df.info()"
   ]
  },
  {
   "cell_type": "markdown",
   "metadata": {},
   "source": [
    "#### Drop NaN values in Spotify metadata ####"
   ]
  },
  {
   "cell_type": "code",
   "execution_count": 10,
   "metadata": {
    "ExecuteTime": {
     "end_time": "2020-02-12T17:16:15.048291Z",
     "start_time": "2020-02-12T17:16:14.989312Z"
    }
   },
   "outputs": [
    {
     "data": {
      "text/html": [
       "<div>\n",
       "<style scoped>\n",
       "    .dataframe tbody tr th:only-of-type {\n",
       "        vertical-align: middle;\n",
       "    }\n",
       "\n",
       "    .dataframe tbody tr th {\n",
       "        vertical-align: top;\n",
       "    }\n",
       "\n",
       "    .dataframe thead th {\n",
       "        text-align: right;\n",
       "    }\n",
       "</style>\n",
       "<table border=\"1\" class=\"dataframe\">\n",
       "  <thead>\n",
       "    <tr style=\"text-align: right;\">\n",
       "      <th></th>\n",
       "      <th>acousticness</th>\n",
       "      <th>activity</th>\n",
       "      <th>age</th>\n",
       "      <th>artist_name</th>\n",
       "      <th>danceability</th>\n",
       "      <th>energy</th>\n",
       "      <th>gender</th>\n",
       "      <th>id</th>\n",
       "      <th>instrumentalness</th>\n",
       "      <th>liveness</th>\n",
       "      <th>location</th>\n",
       "      <th>loudness</th>\n",
       "      <th>mood</th>\n",
       "      <th>period</th>\n",
       "      <th>popularity</th>\n",
       "      <th>release_date</th>\n",
       "      <th>song_name</th>\n",
       "      <th>speechiness</th>\n",
       "      <th>tempo</th>\n",
       "      <th>valence</th>\n",
       "    </tr>\n",
       "  </thead>\n",
       "  <tbody>\n",
       "    <tr>\n",
       "      <th>0</th>\n",
       "      <td>0.1430</td>\n",
       "      <td>studying</td>\n",
       "      <td>44</td>\n",
       "      <td>Stive Morgan</td>\n",
       "      <td>0.517</td>\n",
       "      <td>0.671</td>\n",
       "      <td>female</td>\n",
       "      <td>6x4QOwELkBmymbbm3Q2gvz</td>\n",
       "      <td>0.392000</td>\n",
       "      <td>0.0974</td>\n",
       "      <td>other</td>\n",
       "      <td>-10.072</td>\n",
       "      <td>pleased</td>\n",
       "      <td>evening</td>\n",
       "      <td>19.0</td>\n",
       "      <td>2019-04-25</td>\n",
       "      <td>My Angel (Piano Theme 2019)</td>\n",
       "      <td>0.0279</td>\n",
       "      <td>188.021</td>\n",
       "      <td>0.8620</td>\n",
       "    </tr>\n",
       "    <tr>\n",
       "      <th>1</th>\n",
       "      <td>0.4070</td>\n",
       "      <td>working</td>\n",
       "      <td>44</td>\n",
       "      <td>The Rasmus</td>\n",
       "      <td>0.544</td>\n",
       "      <td>0.463</td>\n",
       "      <td>female</td>\n",
       "      <td>4khu91lkXFEebpfrUs3f81</td>\n",
       "      <td>0.000000</td>\n",
       "      <td>0.0748</td>\n",
       "      <td>work</td>\n",
       "      <td>-6.832</td>\n",
       "      <td>pleased</td>\n",
       "      <td>evening</td>\n",
       "      <td>43.0</td>\n",
       "      <td>2009-11-09</td>\n",
       "      <td>October &amp; April</td>\n",
       "      <td>0.0294</td>\n",
       "      <td>131.842</td>\n",
       "      <td>0.2820</td>\n",
       "    </tr>\n",
       "    <tr>\n",
       "      <th>2</th>\n",
       "      <td>0.6960</td>\n",
       "      <td>working</td>\n",
       "      <td>44</td>\n",
       "      <td>R Armando Morabito</td>\n",
       "      <td>0.553</td>\n",
       "      <td>0.528</td>\n",
       "      <td>female</td>\n",
       "      <td>7f7f1GcRnsa4EZ2VZ1ZcsV</td>\n",
       "      <td>0.001080</td>\n",
       "      <td>0.1040</td>\n",
       "      <td>work</td>\n",
       "      <td>-12.852</td>\n",
       "      <td>pleased</td>\n",
       "      <td>evening</td>\n",
       "      <td>33.0</td>\n",
       "      <td>2014-12-23</td>\n",
       "      <td>One More Time (feat. Malukah &amp; Tina Guo)</td>\n",
       "      <td>0.0306</td>\n",
       "      <td>143.937</td>\n",
       "      <td>0.0952</td>\n",
       "    </tr>\n",
       "    <tr>\n",
       "      <th>3</th>\n",
       "      <td>0.0863</td>\n",
       "      <td>studying</td>\n",
       "      <td>44</td>\n",
       "      <td>DJ Snake</td>\n",
       "      <td>0.649</td>\n",
       "      <td>0.716</td>\n",
       "      <td>female</td>\n",
       "      <td>0lYBSQXN6rCTvUZvg9S0lU</td>\n",
       "      <td>0.000026</td>\n",
       "      <td>0.1350</td>\n",
       "      <td>work</td>\n",
       "      <td>-5.371</td>\n",
       "      <td>relaxed</td>\n",
       "      <td>morning</td>\n",
       "      <td>80.0</td>\n",
       "      <td>2016-08-05</td>\n",
       "      <td>Let Me Love You</td>\n",
       "      <td>0.0349</td>\n",
       "      <td>99.988</td>\n",
       "      <td>0.1630</td>\n",
       "    </tr>\n",
       "    <tr>\n",
       "      <th>4</th>\n",
       "      <td>0.0275</td>\n",
       "      <td>studying</td>\n",
       "      <td>44</td>\n",
       "      <td>Harry Styles</td>\n",
       "      <td>0.516</td>\n",
       "      <td>0.595</td>\n",
       "      <td>female</td>\n",
       "      <td>5Ohxk2dO5COHF1krpoPigN</td>\n",
       "      <td>0.000000</td>\n",
       "      <td>0.1090</td>\n",
       "      <td>work</td>\n",
       "      <td>-4.630</td>\n",
       "      <td>relaxed</td>\n",
       "      <td>morning</td>\n",
       "      <td>78.0</td>\n",
       "      <td>2017-05-12</td>\n",
       "      <td>Sign of the Times</td>\n",
       "      <td>0.0313</td>\n",
       "      <td>119.972</td>\n",
       "      <td>0.2220</td>\n",
       "    </tr>\n",
       "  </tbody>\n",
       "</table>\n",
       "</div>"
      ],
      "text/plain": [
       "   acousticness  activity  age         artist_name  danceability  energy  \\\n",
       "0        0.1430  studying   44        Stive Morgan         0.517   0.671   \n",
       "1        0.4070   working   44          The Rasmus         0.544   0.463   \n",
       "2        0.6960   working   44  R Armando Morabito         0.553   0.528   \n",
       "3        0.0863  studying   44            DJ Snake         0.649   0.716   \n",
       "4        0.0275  studying   44        Harry Styles         0.516   0.595   \n",
       "\n",
       "   gender                      id  instrumentalness  liveness location  \\\n",
       "0  female  6x4QOwELkBmymbbm3Q2gvz          0.392000    0.0974    other   \n",
       "1  female  4khu91lkXFEebpfrUs3f81          0.000000    0.0748     work   \n",
       "2  female  7f7f1GcRnsa4EZ2VZ1ZcsV          0.001080    0.1040     work   \n",
       "3  female  0lYBSQXN6rCTvUZvg9S0lU          0.000026    0.1350     work   \n",
       "4  female  5Ohxk2dO5COHF1krpoPigN          0.000000    0.1090     work   \n",
       "\n",
       "   loudness     mood   period  popularity release_date  \\\n",
       "0   -10.072  pleased  evening        19.0   2019-04-25   \n",
       "1    -6.832  pleased  evening        43.0   2009-11-09   \n",
       "2   -12.852  pleased  evening        33.0   2014-12-23   \n",
       "3    -5.371  relaxed  morning        80.0   2016-08-05   \n",
       "4    -4.630  relaxed  morning        78.0   2017-05-12   \n",
       "\n",
       "                                  song_name  speechiness    tempo  valence  \n",
       "0               My Angel (Piano Theme 2019)       0.0279  188.021   0.8620  \n",
       "1                           October & April       0.0294  131.842   0.2820  \n",
       "2  One More Time (feat. Malukah & Tina Guo)       0.0306  143.937   0.0952  \n",
       "3                           Let Me Love You       0.0349   99.988   0.1630  \n",
       "4                         Sign of the Times       0.0313  119.972   0.2220  "
      ]
     },
     "execution_count": 10,
     "metadata": {},
     "output_type": "execute_result"
    }
   ],
   "source": [
    "df = df.drop('user_id', axis=1)\n",
    "df = df.dropna()\n",
    "df.head()"
   ]
  },
  {
   "cell_type": "markdown",
   "metadata": {},
   "source": [
    "### One-hot encoding of categorical features ###\n",
    "We set *mood* as the target variable of the model, encode all categorical features and drop the following features\n",
    "'artist_name', 'id', 'song_name', 'release_date' as they do no help with clustering, they have distinct values.\n"
   ]
  },
  {
   "cell_type": "code",
   "execution_count": 128,
   "metadata": {
    "ExecuteTime": {
     "end_time": "2020-02-12T21:45:52.420029Z",
     "start_time": "2020-02-12T21:45:52.302998Z"
    }
   },
   "outputs": [
    {
     "name": "stdout",
     "output_type": "stream",
     "text": [
      "<class 'pandas.core.frame.DataFrame'>\n",
      "Int64Index: 432 entries, 0 to 622\n",
      "Data columns (total 28 columns):\n",
      "acousticness        432 non-null float64\n",
      "age                 432 non-null int64\n",
      "danceability        432 non-null float64\n",
      "energy              432 non-null float64\n",
      "instrumentalness    432 non-null float64\n",
      "liveness            432 non-null float64\n",
      "loudness            432 non-null float64\n",
      "popularity          432 non-null float64\n",
      "speechiness         432 non-null float64\n",
      "tempo               432 non-null float64\n",
      "valence             432 non-null float64\n",
      "home                432 non-null uint8\n",
      "other               432 non-null uint8\n",
      "outdoor             432 non-null uint8\n",
      "work                432 non-null uint8\n",
      "activity_other      432 non-null uint8\n",
      "amusing             432 non-null uint8\n",
      "commuting           432 non-null uint8\n",
      "studying            432 non-null uint8\n",
      "working             432 non-null uint8\n",
      "working out         432 non-null uint8\n",
      "female              432 non-null uint8\n",
      "male                432 non-null uint8\n",
      "afternoon           432 non-null uint8\n",
      "evening             432 non-null uint8\n",
      "midday              432 non-null uint8\n",
      "morning             432 non-null uint8\n",
      "night               432 non-null uint8\n",
      "dtypes: float64(10), int64(1), uint8(17)\n",
      "memory usage: 67.7 KB\n"
     ]
    }
   ],
   "source": [
    "df_enc = df\n",
    "Y = df['mood']\n",
    "the_loc = df['location']\n",
    "dtime = df['period']\n",
    "activ = df['activity']\n",
    "artist_song = df['artist_name']+'-'+df['song_name']\n",
    "\n",
    "def encode_features(df_enc, location, activity, gender, period):\n",
    "    #encode location\n",
    "    one_hot_enc = pd.get_dummies(df_enc[location])\n",
    "    df_enc = df_enc.drop('location', axis=1)\n",
    "    df_enc = df_enc.join(one_hot_enc)\n",
    "    #encode activity\n",
    "    replace_values = {'other': 'activity_other'}\n",
    "    df_enc = df_enc.replace({'activity': replace_values})\n",
    "    one_hot_enc = pd.get_dummies(df_enc[activity])\n",
    "    df_enc = df_enc.drop('activity', axis=1)\n",
    "    df_enc = df_enc.join(one_hot_enc)\n",
    "    #encode gender\n",
    "    one_hot_enc = pd.get_dummies(df_enc[gender])\n",
    "    df_enc = df_enc.drop('gender', axis=1)\n",
    "    df_enc = df_enc.join(one_hot_enc)\n",
    "    #encode period\n",
    "    one_hot_enc = pd.get_dummies(df_enc[period])\n",
    "    df_enc = df_enc.drop('period', axis=1)\n",
    "    df_enc = df_enc.join(one_hot_enc)\n",
    "    \n",
    "    #encode mood\n",
    "    #one_hot_enc = pd.get_dummies(df['mood'])\n",
    "    #df_enc = df_enc.drop('mood', axis=1) \n",
    "    #df_enc = df_enc.join(one_hot_enc)\n",
    "\n",
    "    replace_values = {'pleased': 'contentment', 'relaxed': 'contentment', 'calm': 'contentment', \n",
    "                     'peaceful':'contentment', 'excited':'excitement',\n",
    "                     'happy':'excitement', 'nervous':'distress', 'angry':'distress', 'annoying':'distress', \n",
    "                     'sad':'depression', 'sleepy': 'contentment', 'bored': 'depression'}\n",
    "    #df_enc = df_enc.replace({'mood': replace_values})\n",
    "\n",
    "    df_enc = df_enc.drop(['artist_name', 'id', 'song_name', 'release_date', 'mood'], axis = 1)\n",
    "    #df_enc = df_enc.drop(['artist_name', 'id', 'song_name', 'release_date'], axis = 1)\n",
    "    return df_enc\n",
    "    \n",
    "df_enc = encode_features(df_enc, 'location', 'activity', 'gender', 'period')\n",
    "df_enc.head()\n",
    "df_enc.info()"
   ]
  },
  {
   "cell_type": "markdown",
   "metadata": {},
   "source": [
    "### Scale data with MinMaxScaler before applying k-Means ###\n",
    "#### Range of -1,1 is used ####"
   ]
  },
  {
   "cell_type": "code",
   "execution_count": 129,
   "metadata": {
    "ExecuteTime": {
     "end_time": "2020-02-12T21:50:44.589489Z",
     "start_time": "2020-02-12T21:50:44.576483Z"
    }
   },
   "outputs": [
    {
     "name": "stdout",
     "output_type": "stream",
     "text": [
      "-1.0 1.0000000000000004\n"
     ]
    }
   ],
   "source": [
    "from sklearn.preprocessing import MinMaxScaler\n",
    "scaler = MinMaxScaler(feature_range=(-1,1)).fit(df_enc)\n",
    "d_scaled = scaler.transform(df_enc)\n",
    "print(d_scaled.min(), d_scaled.max())"
   ]
  },
  {
   "cell_type": "markdown",
   "metadata": {},
   "source": [
    "### k-Means ###\n",
    "#### Apply K-means and find optimum number of clusters using silhouette score####"
   ]
  },
  {
   "cell_type": "code",
   "execution_count": 107,
   "metadata": {
    "ExecuteTime": {
     "end_time": "2020-02-12T21:18:44.071052Z",
     "start_time": "2020-02-12T21:16:38.175849Z"
    }
   },
   "outputs": [
    {
     "name": "stdout",
     "output_type": "stream",
     "text": [
      "For n_clusters = 2, Kmeans silhouette score is 0.23948784647578525)\n",
      "For n_clusters = 3, Kmeans silhouette score is 0.25796756366562096)\n",
      "For n_clusters = 4, Kmeans silhouette score is 0.244430729432745)\n",
      "For n_clusters = 5, Kmeans silhouette score is 0.23606254721696618)\n",
      "For n_clusters = 6, Kmeans silhouette score is 0.26032369280058654)\n",
      "For n_clusters = 7, Kmeans silhouette score is 0.26207309469362366)\n",
      "For n_clusters = 8, Kmeans silhouette score is 0.2739684881665817)\n",
      "For n_clusters = 9, Kmeans silhouette score is 0.2868456033821843)\n",
      "For n_clusters = 10, Kmeans silhouette score is 0.2936460670227304)\n",
      "For n_clusters = 11, Kmeans silhouette score is 0.2990663030493618)\n",
      "For n_clusters = 12, Kmeans silhouette score is 0.3094580209386481)\n",
      "For n_clusters = 13, Kmeans silhouette score is 0.3213709522554202)\n",
      "For n_clusters = 14, Kmeans silhouette score is 0.3184916277838971)\n",
      "For n_clusters = 15, Kmeans silhouette score is 0.3418979520771938)\n",
      "For n_clusters = 16, Kmeans silhouette score is 0.34432115366527144)\n",
      "For n_clusters = 17, Kmeans silhouette score is 0.345631258548261)\n",
      "For n_clusters = 18, Kmeans silhouette score is 0.3619702318420685)\n",
      "For n_clusters = 19, Kmeans silhouette score is 0.3559845345721219)\n"
     ]
    }
   ],
   "source": [
    "for num_clusters in range(2,20):\n",
    "    clusterer = KMeans(n_clusters=num_clusters, n_jobs=4)\n",
    "    preds = clusterer.fit_predict(d_scaled)\n",
    "    # centers = clusterer.cluster_centers_\n",
    "    score = silhouette_score (d_scaled, preds)\n",
    "    print (\"For n_clusters = {}, Kmeans silhouette score is {})\".format(num_clusters, score))"
   ]
  },
  {
   "cell_type": "code",
   "execution_count": 130,
   "metadata": {
    "ExecuteTime": {
     "end_time": "2020-02-12T21:50:51.282152Z",
     "start_time": "2020-02-12T21:50:51.115117Z"
    }
   },
   "outputs": [
    {
     "name": "stdout",
     "output_type": "stream",
     "text": [
      "(432,)\n"
     ]
    }
   ],
   "source": [
    "kmeans = KMeans(n_clusters=12, random_state=2020).fit(d_scaled)\n",
    "clusters = kmeans.labels_\n",
    "print(clusters.shape)"
   ]
  },
  {
   "cell_type": "markdown",
   "metadata": {},
   "source": [
    "### DBSCAN ###\n",
    "#### Scale data because t-SNE relies on neighborhods ####"
   ]
  },
  {
   "cell_type": "code",
   "execution_count": 43,
   "metadata": {
    "ExecuteTime": {
     "end_time": "2020-02-11T19:08:22.676021Z",
     "start_time": "2020-02-11T19:08:22.664026Z"
    }
   },
   "outputs": [
    {
     "name": "stdout",
     "output_type": "stream",
     "text": [
      "-4.741122768879967 8.426149773176357\n"
     ]
    }
   ],
   "source": [
    "from sklearn import preprocessing\n",
    "scaler = preprocessing.StandardScaler().fit(df_enc)\n",
    "d_scaled = scaler.transform(df_enc)\n",
    "print(d_scaled.min(), d_scaled.max())"
   ]
  },
  {
   "cell_type": "markdown",
   "metadata": {},
   "source": [
    "#### Find optimal epsilon ####\n",
    "#### The optimal value for epsilon will be found at the point of maximum curvature. ####"
   ]
  },
  {
   "cell_type": "code",
   "execution_count": 121,
   "metadata": {
    "ExecuteTime": {
     "end_time": "2020-02-11T21:38:15.279726Z",
     "start_time": "2020-02-11T21:38:14.826612Z"
    }
   },
   "outputs": [
    {
     "data": {
      "text/plain": [
       "[<matplotlib.lines.Line2D at 0x2541e8c7e80>]"
      ]
     },
     "execution_count": 121,
     "metadata": {},
     "output_type": "execute_result"
    },
    {
     "data": {
      "image/png": "[encoded data removed]",
      "text/plain": [
       "<Figure size 432x288 with 1 Axes>"
      ]
     },
     "metadata": {},
     "output_type": "display_data"
    }
   ],
   "source": [
    "from sklearn.neighbors import NearestNeighbors\n",
    "\n",
    "neigh = NearestNeighbors(n_neighbors=2)\n",
    "nbrs = neigh.fit(d_scaled)\n",
    "distances, indices = nbrs.kneighbors(d_scaled)\n",
    "distances = np.sort(distances, axis=0)\n",
    "distances = distances[:,1]\n",
    "plt.plot(distances)"
   ]
  },
  {
   "cell_type": "code",
   "execution_count": 168,
   "metadata": {
    "ExecuteTime": {
     "end_time": "2020-02-12T05:17:39.437773Z",
     "start_time": "2020-02-12T05:17:39.319741Z"
    },
    "scrolled": true
   },
   "outputs": [
    {
     "name": "stdout",
     "output_type": "stream",
     "text": [
      "Estimated number of clusters: 12\n",
      "Estimated number of noise points: 138\n"
     ]
    },
    {
     "data": {
      "text/html": [
       "<div>\n",
       "<style scoped>\n",
       "    .dataframe tbody tr th:only-of-type {\n",
       "        vertical-align: middle;\n",
       "    }\n",
       "\n",
       "    .dataframe tbody tr th {\n",
       "        vertical-align: top;\n",
       "    }\n",
       "\n",
       "    .dataframe thead th {\n",
       "        text-align: right;\n",
       "    }\n",
       "</style>\n",
       "<table border=\"1\" class=\"dataframe\">\n",
       "  <thead>\n",
       "    <tr style=\"text-align: right;\">\n",
       "      <th></th>\n",
       "      <th>acousticness</th>\n",
       "      <th>age</th>\n",
       "      <th>danceability</th>\n",
       "      <th>energy</th>\n",
       "      <th>instrumentalness</th>\n",
       "      <th>liveness</th>\n",
       "      <th>loudness</th>\n",
       "      <th>popularity</th>\n",
       "      <th>speechiness</th>\n",
       "      <th>tempo</th>\n",
       "      <th>valence</th>\n",
       "      <th>home</th>\n",
       "      <th>other</th>\n",
       "      <th>outdoor</th>\n",
       "      <th>work</th>\n",
       "      <th>activity_other</th>\n",
       "      <th>amusing</th>\n",
       "      <th>commuting</th>\n",
       "      <th>studying</th>\n",
       "      <th>working</th>\n",
       "      <th>working out</th>\n",
       "      <th>female</th>\n",
       "      <th>male</th>\n",
       "      <th>afternoon</th>\n",
       "      <th>evening</th>\n",
       "      <th>midday</th>\n",
       "      <th>morning</th>\n",
       "      <th>night</th>\n",
       "    </tr>\n",
       "  </thead>\n",
       "  <tbody>\n",
       "    <tr>\n",
       "      <th>0</th>\n",
       "      <td>0.1430</td>\n",
       "      <td>44</td>\n",
       "      <td>0.517</td>\n",
       "      <td>0.671</td>\n",
       "      <td>0.392000</td>\n",
       "      <td>0.0974</td>\n",
       "      <td>-10.072</td>\n",
       "      <td>19.0</td>\n",
       "      <td>0.0279</td>\n",
       "      <td>188.021</td>\n",
       "      <td>0.8620</td>\n",
       "      <td>0</td>\n",
       "      <td>1</td>\n",
       "      <td>0</td>\n",
       "      <td>0</td>\n",
       "      <td>0</td>\n",
       "      <td>0</td>\n",
       "      <td>0</td>\n",
       "      <td>1</td>\n",
       "      <td>0</td>\n",
       "      <td>0</td>\n",
       "      <td>1</td>\n",
       "      <td>0</td>\n",
       "      <td>0</td>\n",
       "      <td>1</td>\n",
       "      <td>0</td>\n",
       "      <td>0</td>\n",
       "      <td>0</td>\n",
       "    </tr>\n",
       "    <tr>\n",
       "      <th>1</th>\n",
       "      <td>0.4070</td>\n",
       "      <td>44</td>\n",
       "      <td>0.544</td>\n",
       "      <td>0.463</td>\n",
       "      <td>0.000000</td>\n",
       "      <td>0.0748</td>\n",
       "      <td>-6.832</td>\n",
       "      <td>43.0</td>\n",
       "      <td>0.0294</td>\n",
       "      <td>131.842</td>\n",
       "      <td>0.2820</td>\n",
       "      <td>0</td>\n",
       "      <td>0</td>\n",
       "      <td>0</td>\n",
       "      <td>1</td>\n",
       "      <td>0</td>\n",
       "      <td>0</td>\n",
       "      <td>0</td>\n",
       "      <td>0</td>\n",
       "      <td>1</td>\n",
       "      <td>0</td>\n",
       "      <td>1</td>\n",
       "      <td>0</td>\n",
       "      <td>0</td>\n",
       "      <td>1</td>\n",
       "      <td>0</td>\n",
       "      <td>0</td>\n",
       "      <td>0</td>\n",
       "    </tr>\n",
       "    <tr>\n",
       "      <th>2</th>\n",
       "      <td>0.6960</td>\n",
       "      <td>44</td>\n",
       "      <td>0.553</td>\n",
       "      <td>0.528</td>\n",
       "      <td>0.001080</td>\n",
       "      <td>0.1040</td>\n",
       "      <td>-12.852</td>\n",
       "      <td>33.0</td>\n",
       "      <td>0.0306</td>\n",
       "      <td>143.937</td>\n",
       "      <td>0.0952</td>\n",
       "      <td>0</td>\n",
       "      <td>0</td>\n",
       "      <td>0</td>\n",
       "      <td>1</td>\n",
       "      <td>0</td>\n",
       "      <td>0</td>\n",
       "      <td>0</td>\n",
       "      <td>0</td>\n",
       "      <td>1</td>\n",
       "      <td>0</td>\n",
       "      <td>1</td>\n",
       "      <td>0</td>\n",
       "      <td>0</td>\n",
       "      <td>1</td>\n",
       "      <td>0</td>\n",
       "      <td>0</td>\n",
       "      <td>0</td>\n",
       "    </tr>\n",
       "    <tr>\n",
       "      <th>3</th>\n",
       "      <td>0.0863</td>\n",
       "      <td>44</td>\n",
       "      <td>0.649</td>\n",
       "      <td>0.716</td>\n",
       "      <td>0.000026</td>\n",
       "      <td>0.1350</td>\n",
       "      <td>-5.371</td>\n",
       "      <td>80.0</td>\n",
       "      <td>0.0349</td>\n",
       "      <td>99.988</td>\n",
       "      <td>0.1630</td>\n",
       "      <td>0</td>\n",
       "      <td>0</td>\n",
       "      <td>0</td>\n",
       "      <td>1</td>\n",
       "      <td>0</td>\n",
       "      <td>0</td>\n",
       "      <td>0</td>\n",
       "      <td>1</td>\n",
       "      <td>0</td>\n",
       "      <td>0</td>\n",
       "      <td>1</td>\n",
       "      <td>0</td>\n",
       "      <td>0</td>\n",
       "      <td>0</td>\n",
       "      <td>0</td>\n",
       "      <td>1</td>\n",
       "      <td>0</td>\n",
       "    </tr>\n",
       "    <tr>\n",
       "      <th>4</th>\n",
       "      <td>0.0275</td>\n",
       "      <td>44</td>\n",
       "      <td>0.516</td>\n",
       "      <td>0.595</td>\n",
       "      <td>0.000000</td>\n",
       "      <td>0.1090</td>\n",
       "      <td>-4.630</td>\n",
       "      <td>78.0</td>\n",
       "      <td>0.0313</td>\n",
       "      <td>119.972</td>\n",
       "      <td>0.2220</td>\n",
       "      <td>0</td>\n",
       "      <td>0</td>\n",
       "      <td>0</td>\n",
       "      <td>1</td>\n",
       "      <td>0</td>\n",
       "      <td>0</td>\n",
       "      <td>0</td>\n",
       "      <td>1</td>\n",
       "      <td>0</td>\n",
       "      <td>0</td>\n",
       "      <td>1</td>\n",
       "      <td>0</td>\n",
       "      <td>0</td>\n",
       "      <td>0</td>\n",
       "      <td>0</td>\n",
       "      <td>1</td>\n",
       "      <td>0</td>\n",
       "    </tr>\n",
       "    <tr>\n",
       "      <th>5</th>\n",
       "      <td>0.1420</td>\n",
       "      <td>44</td>\n",
       "      <td>0.459</td>\n",
       "      <td>0.545</td>\n",
       "      <td>0.000000</td>\n",
       "      <td>0.1050</td>\n",
       "      <td>-4.874</td>\n",
       "      <td>60.0</td>\n",
       "      <td>0.0282</td>\n",
       "      <td>137.941</td>\n",
       "      <td>0.1940</td>\n",
       "      <td>0</td>\n",
       "      <td>0</td>\n",
       "      <td>0</td>\n",
       "      <td>1</td>\n",
       "      <td>0</td>\n",
       "      <td>0</td>\n",
       "      <td>0</td>\n",
       "      <td>1</td>\n",
       "      <td>0</td>\n",
       "      <td>0</td>\n",
       "      <td>1</td>\n",
       "      <td>0</td>\n",
       "      <td>0</td>\n",
       "      <td>0</td>\n",
       "      <td>0</td>\n",
       "      <td>1</td>\n",
       "      <td>0</td>\n",
       "    </tr>\n",
       "    <tr>\n",
       "      <th>6</th>\n",
       "      <td>0.1230</td>\n",
       "      <td>44</td>\n",
       "      <td>0.478</td>\n",
       "      <td>0.633</td>\n",
       "      <td>0.000000</td>\n",
       "      <td>0.4100</td>\n",
       "      <td>-6.190</td>\n",
       "      <td>67.0</td>\n",
       "      <td>0.0345</td>\n",
       "      <td>89.909</td>\n",
       "      <td>0.2870</td>\n",
       "      <td>0</td>\n",
       "      <td>0</td>\n",
       "      <td>0</td>\n",
       "      <td>1</td>\n",
       "      <td>0</td>\n",
       "      <td>0</td>\n",
       "      <td>0</td>\n",
       "      <td>0</td>\n",
       "      <td>1</td>\n",
       "      <td>0</td>\n",
       "      <td>1</td>\n",
       "      <td>0</td>\n",
       "      <td>1</td>\n",
       "      <td>0</td>\n",
       "      <td>0</td>\n",
       "      <td>0</td>\n",
       "      <td>0</td>\n",
       "    </tr>\n",
       "    <tr>\n",
       "      <th>7</th>\n",
       "      <td>0.0641</td>\n",
       "      <td>44</td>\n",
       "      <td>0.645</td>\n",
       "      <td>0.787</td>\n",
       "      <td>0.513000</td>\n",
       "      <td>0.3410</td>\n",
       "      <td>-4.707</td>\n",
       "      <td>54.0</td>\n",
       "      <td>0.0274</td>\n",
       "      <td>84.116</td>\n",
       "      <td>0.9060</td>\n",
       "      <td>0</td>\n",
       "      <td>0</td>\n",
       "      <td>0</td>\n",
       "      <td>1</td>\n",
       "      <td>0</td>\n",
       "      <td>0</td>\n",
       "      <td>0</td>\n",
       "      <td>0</td>\n",
       "      <td>1</td>\n",
       "      <td>0</td>\n",
       "      <td>1</td>\n",
       "      <td>0</td>\n",
       "      <td>1</td>\n",
       "      <td>0</td>\n",
       "      <td>0</td>\n",
       "      <td>0</td>\n",
       "      <td>0</td>\n",
       "    </tr>\n",
       "    <tr>\n",
       "      <th>8</th>\n",
       "      <td>0.1430</td>\n",
       "      <td>44</td>\n",
       "      <td>0.517</td>\n",
       "      <td>0.671</td>\n",
       "      <td>0.392000</td>\n",
       "      <td>0.0974</td>\n",
       "      <td>-10.072</td>\n",
       "      <td>19.0</td>\n",
       "      <td>0.0279</td>\n",
       "      <td>188.021</td>\n",
       "      <td>0.8620</td>\n",
       "      <td>0</td>\n",
       "      <td>0</td>\n",
       "      <td>0</td>\n",
       "      <td>1</td>\n",
       "      <td>0</td>\n",
       "      <td>0</td>\n",
       "      <td>0</td>\n",
       "      <td>0</td>\n",
       "      <td>1</td>\n",
       "      <td>0</td>\n",
       "      <td>1</td>\n",
       "      <td>0</td>\n",
       "      <td>1</td>\n",
       "      <td>0</td>\n",
       "      <td>0</td>\n",
       "      <td>0</td>\n",
       "      <td>0</td>\n",
       "    </tr>\n",
       "    <tr>\n",
       "      <th>9</th>\n",
       "      <td>0.2870</td>\n",
       "      <td>44</td>\n",
       "      <td>0.441</td>\n",
       "      <td>0.664</td>\n",
       "      <td>0.000010</td>\n",
       "      <td>0.1410</td>\n",
       "      <td>-8.958</td>\n",
       "      <td>31.0</td>\n",
       "      <td>0.0424</td>\n",
       "      <td>132.136</td>\n",
       "      <td>0.2010</td>\n",
       "      <td>1</td>\n",
       "      <td>0</td>\n",
       "      <td>0</td>\n",
       "      <td>0</td>\n",
       "      <td>0</td>\n",
       "      <td>1</td>\n",
       "      <td>0</td>\n",
       "      <td>0</td>\n",
       "      <td>0</td>\n",
       "      <td>0</td>\n",
       "      <td>1</td>\n",
       "      <td>0</td>\n",
       "      <td>0</td>\n",
       "      <td>1</td>\n",
       "      <td>0</td>\n",
       "      <td>0</td>\n",
       "      <td>0</td>\n",
       "    </tr>\n",
       "  </tbody>\n",
       "</table>\n",
       "</div>"
      ],
      "text/plain": [
       "   acousticness  age  danceability  energy  instrumentalness  liveness  \\\n",
       "0        0.1430   44         0.517   0.671          0.392000    0.0974   \n",
       "1        0.4070   44         0.544   0.463          0.000000    0.0748   \n",
       "2        0.6960   44         0.553   0.528          0.001080    0.1040   \n",
       "3        0.0863   44         0.649   0.716          0.000026    0.1350   \n",
       "4        0.0275   44         0.516   0.595          0.000000    0.1090   \n",
       "5        0.1420   44         0.459   0.545          0.000000    0.1050   \n",
       "6        0.1230   44         0.478   0.633          0.000000    0.4100   \n",
       "7        0.0641   44         0.645   0.787          0.513000    0.3410   \n",
       "8        0.1430   44         0.517   0.671          0.392000    0.0974   \n",
       "9        0.2870   44         0.441   0.664          0.000010    0.1410   \n",
       "\n",
       "   loudness  popularity  speechiness    tempo  valence  home  other  outdoor  \\\n",
       "0   -10.072        19.0       0.0279  188.021   0.8620     0      1        0   \n",
       "1    -6.832        43.0       0.0294  131.842   0.2820     0      0        0   \n",
       "2   -12.852        33.0       0.0306  143.937   0.0952     0      0        0   \n",
       "3    -5.371        80.0       0.0349   99.988   0.1630     0      0        0   \n",
       "4    -4.630        78.0       0.0313  119.972   0.2220     0      0        0   \n",
       "5    -4.874        60.0       0.0282  137.941   0.1940     0      0        0   \n",
       "6    -6.190        67.0       0.0345   89.909   0.2870     0      0        0   \n",
       "7    -4.707        54.0       0.0274   84.116   0.9060     0      0        0   \n",
       "8   -10.072        19.0       0.0279  188.021   0.8620     0      0        0   \n",
       "9    -8.958        31.0       0.0424  132.136   0.2010     1      0        0   \n",
       "\n",
       "   work  activity_other  amusing  commuting  studying  working  working out  \\\n",
       "0     0               0        0          0         1        0            0   \n",
       "1     1               0        0          0         0        1            0   \n",
       "2     1               0        0          0         0        1            0   \n",
       "3     1               0        0          0         1        0            0   \n",
       "4     1               0        0          0         1        0            0   \n",
       "5     1               0        0          0         1        0            0   \n",
       "6     1               0        0          0         0        1            0   \n",
       "7     1               0        0          0         0        1            0   \n",
       "8     1               0        0          0         0        1            0   \n",
       "9     0               0        1          0         0        0            0   \n",
       "\n",
       "   female  male  afternoon  evening  midday  morning  night  \n",
       "0       1     0          0        1       0        0      0  \n",
       "1       1     0          0        1       0        0      0  \n",
       "2       1     0          0        1       0        0      0  \n",
       "3       1     0          0        0       0        1      0  \n",
       "4       1     0          0        0       0        1      0  \n",
       "5       1     0          0        0       0        1      0  \n",
       "6       1     0          1        0       0        0      0  \n",
       "7       1     0          1        0       0        0      0  \n",
       "8       1     0          1        0       0        0      0  \n",
       "9       1     0          0        1       0        0      0  "
      ]
     },
     "execution_count": 168,
     "metadata": {},
     "output_type": "execute_result"
    }
   ],
   "source": [
    "# to be completed\n",
    "from sklearn.cluster import DBSCAN\n",
    "\n",
    "db_clu = DBSCAN(eps=2, min_samples=9).fit(d_scaled)\n",
    "clusters = db_clu.labels_\n",
    "#d_scaled['db_scan'] = labels\n",
    "\n",
    "#number of clusters\n",
    "n_clusters = len(set(clusters)) - (1 if -1 in clusters else 0)\n",
    "n_noise = list(clusters).count(-1)\n",
    "\n",
    "print('Estimated number of clusters:', n_clusters)\n",
    "print('Estimated number of noise points:', n_noise)\n",
    "df_enc.head(10)\n"
   ]
  },
  {
   "cell_type": "code",
   "execution_count": 55,
   "metadata": {
    "ExecuteTime": {
     "end_time": "2020-02-11T19:18:34.091496Z",
     "start_time": "2020-02-11T19:18:34.084492Z"
    }
   },
   "outputs": [],
   "source": [
    "set(labels)\n",
    "colors = ['royalblue', 'maroon', 'forestgreen', 'mediumorchid', 'tan', 'deeppink', 'olive', 'goldenrod', 'lightcyan', 'navy']\n",
    "vectorizer = np.vectorize(lambda x: colors[x % len(colors)])"
   ]
  },
  {
   "cell_type": "markdown",
   "metadata": {},
   "source": [
    "### Apply t-SNE on clustered data ###\n",
    "#### k-means was used ####"
   ]
  },
  {
   "cell_type": "code",
   "execution_count": 131,
   "metadata": {
    "ExecuteTime": {
     "end_time": "2020-02-12T21:51:49.448920Z",
     "start_time": "2020-02-12T21:51:37.640868Z"
    }
   },
   "outputs": [
    {
     "name": "stdout",
     "output_type": "stream",
     "text": [
      "(432, 2)\n"
     ]
    },
    {
     "data": {
      "text/html": [
       "<div>\n",
       "<style scoped>\n",
       "    .dataframe tbody tr th:only-of-type {\n",
       "        vertical-align: middle;\n",
       "    }\n",
       "\n",
       "    .dataframe tbody tr th {\n",
       "        vertical-align: top;\n",
       "    }\n",
       "\n",
       "    .dataframe thead th {\n",
       "        text-align: right;\n",
       "    }\n",
       "</style>\n",
       "<table border=\"1\" class=\"dataframe\">\n",
       "  <thead>\n",
       "    <tr style=\"text-align: right;\">\n",
       "      <th></th>\n",
       "      <th>dim_1</th>\n",
       "      <th>dim_2</th>\n",
       "      <th>Mood</th>\n",
       "      <th>Location</th>\n",
       "      <th>Period</th>\n",
       "      <th>Activity</th>\n",
       "      <th>Artist_Song</th>\n",
       "      <th>clusters</th>\n",
       "    </tr>\n",
       "  </thead>\n",
       "  <tbody>\n",
       "    <tr>\n",
       "      <th>0</th>\n",
       "      <td>8.715032</td>\n",
       "      <td>2.153782</td>\n",
       "      <td>pleased</td>\n",
       "      <td>other</td>\n",
       "      <td>evening</td>\n",
       "      <td>studying</td>\n",
       "      <td>Stive Morgan-My Angel (Piano Theme 2019)</td>\n",
       "      <td>7</td>\n",
       "    </tr>\n",
       "    <tr>\n",
       "      <th>1</th>\n",
       "      <td>5.691143</td>\n",
       "      <td>-10.550234</td>\n",
       "      <td>pleased</td>\n",
       "      <td>work</td>\n",
       "      <td>evening</td>\n",
       "      <td>working</td>\n",
       "      <td>The Rasmus-October &amp; April</td>\n",
       "      <td>0</td>\n",
       "    </tr>\n",
       "    <tr>\n",
       "      <th>2</th>\n",
       "      <td>5.687331</td>\n",
       "      <td>-10.565908</td>\n",
       "      <td>pleased</td>\n",
       "      <td>work</td>\n",
       "      <td>evening</td>\n",
       "      <td>working</td>\n",
       "      <td>R Armando Morabito-One More Time (feat. Maluka...</td>\n",
       "      <td>0</td>\n",
       "    </tr>\n",
       "    <tr>\n",
       "      <th>3</th>\n",
       "      <td>15.592608</td>\n",
       "      <td>-17.348011</td>\n",
       "      <td>relaxed</td>\n",
       "      <td>work</td>\n",
       "      <td>morning</td>\n",
       "      <td>studying</td>\n",
       "      <td>DJ Snake-Let Me Love You</td>\n",
       "      <td>2</td>\n",
       "    </tr>\n",
       "    <tr>\n",
       "      <th>4</th>\n",
       "      <td>15.594250</td>\n",
       "      <td>-17.350399</td>\n",
       "      <td>relaxed</td>\n",
       "      <td>work</td>\n",
       "      <td>morning</td>\n",
       "      <td>studying</td>\n",
       "      <td>Harry Styles-Sign of the Times</td>\n",
       "      <td>2</td>\n",
       "    </tr>\n",
       "  </tbody>\n",
       "</table>\n",
       "</div>"
      ],
      "text/plain": [
       "       dim_1      dim_2     Mood Location   Period  Activity  \\\n",
       "0   8.715032   2.153782  pleased    other  evening  studying   \n",
       "1   5.691143 -10.550234  pleased     work  evening   working   \n",
       "2   5.687331 -10.565908  pleased     work  evening   working   \n",
       "3  15.592608 -17.348011  relaxed     work  morning  studying   \n",
       "4  15.594250 -17.350399  relaxed     work  morning  studying   \n",
       "\n",
       "                                         Artist_Song  clusters  \n",
       "0           Stive Morgan-My Angel (Piano Theme 2019)         7  \n",
       "1                         The Rasmus-October & April         0  \n",
       "2  R Armando Morabito-One More Time (feat. Maluka...         0  \n",
       "3                           DJ Snake-Let Me Love You         2  \n",
       "4                     Harry Styles-Sign of the Times         2  "
      ]
     },
     "execution_count": 131,
     "metadata": {},
     "output_type": "execute_result"
    }
   ],
   "source": [
    "x_embedded = TSNE(n_components=2, learning_rate=100).fit_transform(d_scaled)\n",
    "print(x_embedded.shape)\n",
    "df_plot = pd.DataFrame()\n",
    "df_plot['dim_1']  = x_embedded[:,0]\n",
    "df_plot['dim_2']  = x_embedded[:,1]\n",
    "df_plot['Mood'] = Y\n",
    "df_plot['Location'] = the_loc\n",
    "df_plot['Period'] = dtime\n",
    "df_plot['Activity'] = activ\n",
    "df_plot['Artist_Song'] = artist_song\n",
    "df_plot['clusters'] = clusters\n",
    "\n",
    "df_plot.head()"
   ]
  },
  {
   "cell_type": "code",
   "execution_count": 125,
   "metadata": {
    "ExecuteTime": {
     "end_time": "2020-02-12T21:31:03.985821Z",
     "start_time": "2020-02-12T21:30:59.941770Z"
    }
   },
   "outputs": [
    {
     "data": {
      "image/png": "[encoded data removed]",
      "text/plain": [
       "<Figure size 864x72 with 1 Axes>"
      ]
     },
     "metadata": {},
     "output_type": "display_data"
    },
    {
     "data": {
      "image/png": "[encoded data removed]",
      "text/plain": [
       "<Figure size 1152x432 with 1 Axes>"
      ]
     },
     "metadata": {},
     "output_type": "display_data"
    },
    {
     "data": {
      "image/png": "[encoded data removed]",
      "text/plain": [
       "<Figure size 1152x432 with 1 Axes>"
      ]
     },
     "metadata": {},
     "output_type": "display_data"
    },
    {
     "data": {
      "image/png": "[encoded data removed]",
      "text/plain": [
       "<Figure size 1152x432 with 1 Axes>"
      ]
     },
     "metadata": {},
     "output_type": "display_data"
    },
    {
     "data": {
      "image/png": "[encoded data removed]",
      "text/plain": [
       "<Figure size 1152x432 with 1 Axes>"
      ]
     },
     "metadata": {},
     "output_type": "display_data"
    }
   ],
   "source": [
    "mpalette = sns.palplot(sns.color_palette('deep',12))\n",
    "plt.figure(figsize=(16,6))\n",
    "ax = sns.countplot(x=\"clusters\", hue=\"Mood\", data=df_plot, palette= mpalette)\n",
    "plt.show()\n",
    "plt.figure(figsize=(16,6))\n",
    "ax = sns.countplot(x=\"clusters\", hue=\"Location\", data=df_plot, palette= mpalette)\n",
    "plt.show()\n",
    "plt.figure(figsize=(16,6))\n",
    "ax = sns.countplot(x=\"clusters\", hue=\"Period\", data=df_plot, palette= mpalette)\n",
    "plt.show()\n",
    "plt.figure(figsize=(16,6))\n",
    "ax = sns.countplot(x=\"clusters\", hue=\"Activity\", data=df_plot, palette= mpalette)\n",
    "plt.show()"
   ]
  },
  {
   "cell_type": "markdown",
   "metadata": {},
   "source": [
    "### Plot Clusters ###"
   ]
  },
  {
   "cell_type": "code",
   "execution_count": 20,
   "metadata": {
    "ExecuteTime": {
     "end_time": "2020-02-12T17:26:19.001241Z",
     "start_time": "2020-02-12T17:26:18.154914Z"
    }
   },
   "outputs": [
    {
     "name": "stderr",
     "output_type": "stream",
     "text": [
      "C:\\ProgramData\\Anaconda3\\lib\\site-packages\\seaborn\\regression.py:546: UserWarning: The `size` paramter has been renamed to `height`; please update your code.\n",
      "  warnings.warn(msg, UserWarning)\n"
     ]
    },
    {
     "data": {
      "text/plain": [
       "<seaborn.axisgrid.FacetGrid at 0x144660597b8>"
      ]
     },
     "execution_count": 20,
     "metadata": {},
     "output_type": "execute_result"
    },
    {
     "data": {
      "image/png": "[encoded data removed]",
      "text/plain": [
       "<Figure size 777.31x720 with 1 Axes>"
      ]
     },
     "metadata": {},
     "output_type": "display_data"
    }
   ],
   "source": [
    "sns.set_context('notebook', font_scale = 1.1)\n",
    "sns.set_style('ticks')\n",
    "\n",
    "sns.lmplot(x='dim_1',\n",
    "          y='dim_2',\n",
    "          data = df_plot,\n",
    "          fit_reg = False,\n",
    "          legend = True,\n",
    "          size = 10,\n",
    "          hue = 'clusters' )"
   ]
  },
  {
   "cell_type": "code",
   "execution_count": 21,
   "metadata": {
    "ExecuteTime": {
     "end_time": "2020-02-12T17:26:21.713731Z",
     "start_time": "2020-02-12T17:26:20.322869Z"
    }
   },
   "outputs": [
    {
     "name": "stdout",
     "output_type": "stream",
     "text": [
      "[1, 2, 3, 4, 5, 6, 7, 8, 9, 10, 11, 12]\n"
     ]
    },
    {
     "data": {
      "image/png": "[encoded data removed]",
      "text/plain": [
       "<Figure size 864x72 with 1 Axes>"
      ]
     },
     "metadata": {},
     "output_type": "display_data"
    },
    {
     "data": {
      "image/png": "[encoded data removed]",
      "text/plain": [
       "<Figure size 1584x1584 with 1 Axes>"
      ]
     },
     "metadata": {},
     "output_type": "display_data"
    }
   ],
   "source": [
    "import matplotlib.patheffects as PathEffects\n",
    "\n",
    "n_clusters=12\n",
    "# An user defined function to create scatter plot of vectors\n",
    "def scatter(x, colors):\n",
    "    n_clusters=12\n",
    "    # We choose a color palette with seaborn.\n",
    "    palette = np.array(sns.color_palette(\"hls\", n_clusters))\n",
    "\n",
    "    # We create a scatter plot.\n",
    "    f = plt.figure(figsize=(22, 22))\n",
    "    ax = plt.subplot(aspect='equal')\n",
    "    sc = ax.scatter(x[:,0], x[:,1], lw=0, s=120,\n",
    "                    c=palette[colors.astype(np.int)])\n",
    "    \n",
    "    ax.axis('off')\n",
    "    ax.axis('tight')\n",
    "\n",
    "    # We add the labels for each cluster.\n",
    "    txts = []\n",
    "    for i in range(n_clusters):\n",
    "        # Position of each label.\n",
    "        xtext, ytext = np.median(x[colors == i, :], axis=0)\n",
    "        txt = ax.text(xtext, ytext, str(i+1), fontsize=50)\n",
    "        txt.set_path_effects([\n",
    "            PathEffects.Stroke(linewidth=5, foreground=\"w\"),\n",
    "            PathEffects.Normal()])\n",
    "        txts.append(txt)\n",
    "\n",
    "    return f, ax, sc, txts\n",
    "\n",
    "\n",
    "print(list(range(1,n_clusters+1)))\n",
    "sns.palplot(np.array(sns.color_palette(\"hls\", n_clusters)))\n",
    "scatter(x_embedded, clusters)\n",
    "plt.savefig('digits_tsne-generated_18_cluster.png', dpi=120)"
   ]
  },
  {
   "cell_type": "markdown",
   "metadata": {},
   "source": [
    "### Predictions based on song metadata and user context ###"
   ]
  },
  {
   "cell_type": "code",
   "execution_count": 22,
   "metadata": {
    "ExecuteTime": {
     "end_time": "2020-02-12T17:26:32.360172Z",
     "start_time": "2020-02-12T17:26:32.322162Z"
    }
   },
   "outputs": [
    {
     "data": {
      "text/html": [
       "<div>\n",
       "<style scoped>\n",
       "    .dataframe tbody tr th:only-of-type {\n",
       "        vertical-align: middle;\n",
       "    }\n",
       "\n",
       "    .dataframe tbody tr th {\n",
       "        vertical-align: top;\n",
       "    }\n",
       "\n",
       "    .dataframe thead th {\n",
       "        text-align: right;\n",
       "    }\n",
       "</style>\n",
       "<table border=\"1\" class=\"dataframe\">\n",
       "  <thead>\n",
       "    <tr style=\"text-align: right;\">\n",
       "      <th></th>\n",
       "      <th>age</th>\n",
       "      <th>gender</th>\n",
       "      <th>location</th>\n",
       "      <th>activity</th>\n",
       "      <th>period</th>\n",
       "      <th>song</th>\n",
       "      <th>artist</th>\n",
       "    </tr>\n",
       "  </thead>\n",
       "  <tbody>\n",
       "    <tr>\n",
       "      <th>0</th>\n",
       "      <td>44</td>\n",
       "      <td>female</td>\n",
       "      <td>home</td>\n",
       "      <td>working</td>\n",
       "      <td>morning</td>\n",
       "      <td>solitude</td>\n",
       "      <td>VNV Nation</td>\n",
       "    </tr>\n",
       "  </tbody>\n",
       "</table>\n",
       "</div>"
      ],
      "text/plain": [
       "   age  gender location activity   period      song      artist\n",
       "0   44  female     home  working  morning  solitude  VNV Nation"
      ]
     },
     "execution_count": 22,
     "metadata": {},
     "output_type": "execute_result"
    }
   ],
   "source": [
    "#1.get user context (target is in what cluster it belongs)\n",
    "#2.get spotify metadata\n",
    "#3.\n",
    "pred_list = pd.read_excel(path + 'predictions.xlsx')\n",
    "pred_list.head()"
   ]
  },
  {
   "cell_type": "code",
   "execution_count": 23,
   "metadata": {
    "ExecuteTime": {
     "end_time": "2020-02-12T17:34:48.593567Z",
     "start_time": "2020-02-12T17:34:48.023477Z"
    }
   },
   "outputs": [],
   "source": [
    "import spotipy\n",
    "from spotipy.oauth2 import SpotifyClientCredentials #to access authorised Spotify data\n",
    "\n",
    "client_id = '8038c4be0f8a4844982edce1b2282ebc'\n",
    "client_secret = '1bd8da3a234e4060a6801a432c0e877d'\n",
    "\n",
    "client_credentials_manager = SpotifyClientCredentials(client_id=client_id, client_secret=client_secret)\n",
    "\n",
    "sp = spotipy.Spotify(client_credentials_manager=client_credentials_manager) #spotify object to access API"
   ]
  },
  {
   "cell_type": "code",
   "execution_count": 24,
   "metadata": {
    "ExecuteTime": {
     "end_time": "2020-02-12T17:34:49.660945Z",
     "start_time": "2020-02-12T17:34:49.640940Z"
    }
   },
   "outputs": [],
   "source": [
    "# extract audio features for each song\n",
    "def audio_features(song_info, song_name, track_id, album_metadata) :    \n",
    "    spotify_song = {}\n",
    "  \n",
    "    #add song metadata\n",
    "    spotify_song['user_id']= song_info[0]\n",
    "    spotify_song['age']= song_info[1]\n",
    "    spotify_song['gender']= song_info[2]\n",
    "    spotify_song['mood']= song_info[3]\n",
    "    spotify_song['location']= song_info[4]\n",
    "    spotify_song['activity']= song_info[5]\n",
    "    spotify_song['period']= song_info[6]\n",
    "                                       \n",
    "    features = sp.audio_features(track_id)\n",
    "    if not features is None:\n",
    "      spotify_song['id'] = features[0]['id']\n",
    "      #Append to relevant key-value\n",
    "      spotify_song['acousticness'] = features[0]['acousticness']\n",
    "      spotify_song['danceability'] = features[0]['danceability']\n",
    "      spotify_song['energy'] = features[0]['energy']\n",
    "      spotify_song['instrumentalness'] = features[0]['instrumentalness']\n",
    "      spotify_song['liveness'] = features[0]['liveness']\n",
    "      spotify_song['loudness'] = features[0]['loudness']\n",
    "      spotify_song['speechiness'] = features[0]['speechiness']\n",
    "      spotify_song['tempo'] = features[0]['tempo']\n",
    "      spotify_song['valence'] = features[0]['valence']\n",
    "      #popularity is stored elsewhere\n",
    "      pop = sp.track(track_id)#track['id'])\n",
    "      spotify_song['popularity'] = pop['popularity']\n",
    "      print(album_metadata)\n",
    "      spotify_song['release_date'] = album_metadata['album']['release_date']\n",
    "      spotify_song['artist_name'] = album_metadata['artists'][0]['name']    \n",
    "      spotify_song['song_name'] = pop['name']       \n",
    "\n",
    "    return spotify_song\n",
    "\n",
    "def add_empty_row(song_info, song_name):\n",
    "    spotify_song = {}\n",
    "\n",
    "    #add song metadata\n",
    "    spotify_song['user_id']= song_info[0]\n",
    "    spotify_song['age']= song_info[1]\n",
    "    spotify_song['gender']= song_info[2]\n",
    "    spotify_song['mood']= song_info[3]\n",
    "    spotify_song['location']= song_info[4]\n",
    "    spotify_song['activity']= song_info[5]\n",
    "    spotify_song['period']= song_info[6]\n",
    "    \n",
    "    spotify_song['id']=pd.NaT\n",
    "    spotify_song['acousticness'] = pd.NaT\n",
    "    spotify_song['danceability'] = pd.NaT\n",
    "    spotify_song['energy'] = pd.NaT\n",
    "    spotify_song['instrumentalness'] = pd.NaT\n",
    "    spotify_song['liveness'] = pd.NaT\n",
    "    spotify_song['loudness'] = pd.NaT\n",
    "    spotify_song['speechiness'] = pd.NaT\n",
    "    spotify_song['tempo'] = pd.NaT\n",
    "    spotify_song['valence'] = pd.NaT        \n",
    "    spotify_song['popularity'] = pd.NaT\n",
    "    spotify_song['release_date'] = pd.NaT\n",
    "    spotify_song['artist_name'] = song_name.split(':')[1]\n",
    "    spotify_song['song_name'] = song_name.split(':')[0]\n",
    "\n",
    "    return spotify_song"
   ]
  },
  {
   "cell_type": "code",
   "execution_count": 25,
   "metadata": {
    "ExecuteTime": {
     "end_time": "2020-02-12T17:34:59.013260Z",
     "start_time": "2020-02-12T17:34:57.761495Z"
    }
   },
   "outputs": [
    {
     "name": "stdout",
     "output_type": "stream",
     "text": [
      "solitude:VNV Nation\n",
      "{'album': {'album_type': 'single', 'artists': [{'external_urls': {'spotify': 'https://open.spotify.com/artist/4KlYg0F5KG9QNDFKaeTNAy'}, 'href': 'https://api.spotify.com/v1/artists/4KlYg0F5KG9QNDFKaeTNAy', 'id': '4KlYg0F5KG9QNDFKaeTNAy', 'name': 'VNV Nation', 'type': 'artist', 'uri': 'spotify:artist:4KlYg0F5KG9QNDFKaeTNAy'}], 'available_markets': ['AD', 'AE', 'AR', 'AT', 'AU', 'BE', 'BG', 'BH', 'BO', 'BR', 'CA', 'CH', 'CL', 'CO', 'CR', 'CY', 'CZ', 'DE', 'DK', 'DO', 'DZ', 'EC', 'EE', 'EG', 'ES', 'FI', 'FR', 'GB', 'GR', 'GT', 'HK', 'HN', 'HU', 'ID', 'IE', 'IL', 'IN', 'IS', 'IT', 'JO', 'JP', 'KW', 'LB', 'LI', 'LT', 'LU', 'LV', 'MA', 'MC', 'MT', 'MX', 'MY', 'NI', 'NL', 'NO', 'NZ', 'OM', 'PA', 'PE', 'PH', 'PL', 'PS', 'PT', 'PY', 'QA', 'RO', 'SA', 'SE', 'SG', 'SK', 'SV', 'TH', 'TN', 'TR', 'TW', 'US', 'UY', 'VN', 'ZA'], 'external_urls': {'spotify': 'https://open.spotify.com/album/5C8NGD2Lw95lb7s98BUpgM'}, 'href': 'https://api.spotify.com/v1/albums/5C8NGD2Lw95lb7s98BUpgM', 'id': '5C8NGD2Lw95lb7s98BUpgM', 'images': [{'height': 640, 'url': 'https://i.scdn.co/image/ab67616d0000b273111cb91dd59504a9ac94d380', 'width': 640}, {'height': 300, 'url': 'https://i.scdn.co/image/ab67616d00001e02111cb91dd59504a9ac94d380', 'width': 300}, {'height': 64, 'url': 'https://i.scdn.co/image/ab67616d00004851111cb91dd59504a9ac94d380', 'width': 64}], 'name': 'The Solitary EP', 'release_date': '2013-09-03', 'release_date_precision': 'day', 'total_tracks': 8, 'type': 'album', 'uri': 'spotify:album:5C8NGD2Lw95lb7s98BUpgM'}, 'artists': [{'external_urls': {'spotify': 'https://open.spotify.com/artist/4KlYg0F5KG9QNDFKaeTNAy'}, 'href': 'https://api.spotify.com/v1/artists/4KlYg0F5KG9QNDFKaeTNAy', 'id': '4KlYg0F5KG9QNDFKaeTNAy', 'name': 'VNV Nation', 'type': 'artist', 'uri': 'spotify:artist:4KlYg0F5KG9QNDFKaeTNAy'}], 'available_markets': ['AD', 'AE', 'AR', 'AT', 'AU', 'BE', 'BG', 'BH', 'BO', 'BR', 'CA', 'CH', 'CL', 'CO', 'CR', 'CY', 'CZ', 'DE', 'DK', 'DO', 'DZ', 'EC', 'EE', 'EG', 'ES', 'FI', 'FR', 'GB', 'GR', 'GT', 'HK', 'HN', 'HU', 'ID', 'IE', 'IL', 'IN', 'IS', 'IT', 'JO', 'JP', 'KW', 'LB', 'LI', 'LT', 'LU', 'LV', 'MA', 'MC', 'MT', 'MX', 'MY', 'NI', 'NL', 'NO', 'NZ', 'OM', 'PA', 'PE', 'PH', 'PL', 'PS', 'PT', 'PY', 'QA', 'RO', 'SA', 'SE', 'SG', 'SK', 'SV', 'TH', 'TN', 'TR', 'TW', 'US', 'UY', 'VN', 'ZA'], 'disc_number': 1, 'duration_ms': 240283, 'explicit': False, 'external_ids': {'isrc': 'DEBL61500390'}, 'external_urls': {'spotify': 'https://open.spotify.com/track/4JScTEXCX6LfmUArUhikgD'}, 'href': 'https://api.spotify.com/v1/tracks/4JScTEXCX6LfmUArUhikgD', 'id': '4JScTEXCX6LfmUArUhikgD', 'is_local': False, 'name': 'Solitude', 'popularity': 9, 'preview_url': 'https://p.scdn.co/mp3-preview/3c5512d2c056564edabc2cb052b4145c6c8d16fe?cid=8038c4be0f8a4844982edce1b2282ebc', 'track_number': 8, 'type': 'track', 'uri': 'spotify:track:4JScTEXCX6LfmUArUhikgD'}\n",
      "added 1 tracks\n"
     ]
    }
   ],
   "source": [
    "songs_found = []\n",
    "\n",
    "for i,row in pred_list.iterrows():  #chosen track  \n",
    "    song = row['song']+':'+row['artist']\n",
    "    print(song)\n",
    "    result = sp.search(song) #search query\n",
    "    song_info = ['', row['age'], row['gender'], '', row['location'], row['activity'], row['period']]\n",
    "    if len(result['tracks']['items'])>0:\n",
    "        track_id = result['tracks']['items'][0]['id']   \n",
    "        songs_found.append(audio_features(song_info, song, track_id, result['tracks']['items'][0]))\n",
    "    else:\n",
    "        print('song {0} not found'.format(song))\n",
    "        songs_found.append(add_empty_row(song_info, song))\n",
    "        #Append to relevant key-value\n",
    "    \n",
    "print('added {0} tracks'.format(len(songs_found)))\n",
    "pred_output = pd.io.json.json_normalize(songs_found)"
   ]
  },
  {
   "cell_type": "code",
   "execution_count": 26,
   "metadata": {
    "ExecuteTime": {
     "end_time": "2020-02-12T17:35:05.953393Z",
     "start_time": "2020-02-12T17:35:05.517390Z"
    }
   },
   "outputs": [],
   "source": [
    "pred_output.head()\n",
    "pred_output.to_excel('athina_playlist_predictions.xlsx', index=False)"
   ]
  },
  {
   "cell_type": "code",
   "execution_count": 99,
   "metadata": {
    "ExecuteTime": {
     "end_time": "2020-02-12T21:04:52.008784Z",
     "start_time": "2020-02-12T21:04:51.714702Z"
    }
   },
   "outputs": [
    {
     "data": {
      "text/html": [
       "<div>\n",
       "<style scoped>\n",
       "    .dataframe tbody tr th:only-of-type {\n",
       "        vertical-align: middle;\n",
       "    }\n",
       "\n",
       "    .dataframe tbody tr th {\n",
       "        vertical-align: top;\n",
       "    }\n",
       "\n",
       "    .dataframe thead th {\n",
       "        text-align: right;\n",
       "    }\n",
       "</style>\n",
       "<table border=\"1\" class=\"dataframe\">\n",
       "  <thead>\n",
       "    <tr style=\"text-align: right;\">\n",
       "      <th></th>\n",
       "      <th>acousticness</th>\n",
       "      <th>activity</th>\n",
       "      <th>age</th>\n",
       "      <th>artist_name</th>\n",
       "      <th>danceability</th>\n",
       "      <th>energy</th>\n",
       "      <th>gender</th>\n",
       "      <th>id</th>\n",
       "      <th>instrumentalness</th>\n",
       "      <th>liveness</th>\n",
       "      <th>location</th>\n",
       "      <th>loudness</th>\n",
       "      <th>mood</th>\n",
       "      <th>period</th>\n",
       "      <th>popularity</th>\n",
       "      <th>release_date</th>\n",
       "      <th>song_name</th>\n",
       "      <th>speechiness</th>\n",
       "      <th>tempo</th>\n",
       "      <th>user_id</th>\n",
       "      <th>valence</th>\n",
       "    </tr>\n",
       "  </thead>\n",
       "  <tbody>\n",
       "    <tr>\n",
       "      <th>0</th>\n",
       "      <td>0.263</td>\n",
       "      <td>working</td>\n",
       "      <td>44</td>\n",
       "      <td>VNV Nation</td>\n",
       "      <td>0.556</td>\n",
       "      <td>0.798</td>\n",
       "      <td>female</td>\n",
       "      <td>4JScTEXCX6LfmUArUhikgD</td>\n",
       "      <td>0.839</td>\n",
       "      <td>0.13</td>\n",
       "      <td>home</td>\n",
       "      <td>-9.443</td>\n",
       "      <td>NaN</td>\n",
       "      <td>morning</td>\n",
       "      <td>9</td>\n",
       "      <td>2013-09-03</td>\n",
       "      <td>Solitude</td>\n",
       "      <td>0.0296</td>\n",
       "      <td>124.955</td>\n",
       "      <td>NaN</td>\n",
       "      <td>0.342</td>\n",
       "    </tr>\n",
       "  </tbody>\n",
       "</table>\n",
       "</div>"
      ],
      "text/plain": [
       "   acousticness activity  age artist_name  danceability  energy  gender  \\\n",
       "0         0.263  working   44  VNV Nation         0.556   0.798  female   \n",
       "\n",
       "                       id  instrumentalness  liveness location  loudness  \\\n",
       "0  4JScTEXCX6LfmUArUhikgD             0.839      0.13     home    -9.443   \n",
       "\n",
       "   mood   period  popularity release_date song_name  speechiness    tempo  \\\n",
       "0   NaN  morning           9   2013-09-03  Solitude       0.0296  124.955   \n",
       "\n",
       "   user_id  valence  \n",
       "0      NaN    0.342  "
      ]
     },
     "execution_count": 99,
     "metadata": {},
     "output_type": "execute_result"
    }
   ],
   "source": [
    "pred_output = pd.read_excel('athina_playlist_predictions.xlsx')\n",
    "pred_output.head()"
   ]
  },
  {
   "cell_type": "code",
   "execution_count": 100,
   "metadata": {
    "ExecuteTime": {
     "end_time": "2020-02-12T21:04:53.740702Z",
     "start_time": "2020-02-12T21:04:53.137547Z"
    }
   },
   "outputs": [
    {
     "name": "stdout",
     "output_type": "stream",
     "text": [
      "other\n",
      "outdoor\n",
      "work\n",
      "activity_other\n",
      "amusing\n",
      "commuting\n",
      "studying\n",
      "working out\n",
      "male\n",
      "afternoon\n",
      "evening\n",
      "midday\n",
      "night\n"
     ]
    },
    {
     "data": {
      "text/html": [
       "<div>\n",
       "<style scoped>\n",
       "    .dataframe tbody tr th:only-of-type {\n",
       "        vertical-align: middle;\n",
       "    }\n",
       "\n",
       "    .dataframe tbody tr th {\n",
       "        vertical-align: top;\n",
       "    }\n",
       "\n",
       "    .dataframe thead th {\n",
       "        text-align: right;\n",
       "    }\n",
       "</style>\n",
       "<table border=\"1\" class=\"dataframe\">\n",
       "  <thead>\n",
       "    <tr style=\"text-align: right;\">\n",
       "      <th></th>\n",
       "      <th>acousticness</th>\n",
       "      <th>age</th>\n",
       "      <th>danceability</th>\n",
       "      <th>energy</th>\n",
       "      <th>instrumentalness</th>\n",
       "      <th>liveness</th>\n",
       "      <th>loudness</th>\n",
       "      <th>popularity</th>\n",
       "      <th>speechiness</th>\n",
       "      <th>tempo</th>\n",
       "      <th>valence</th>\n",
       "      <th>home</th>\n",
       "      <th>working</th>\n",
       "      <th>female</th>\n",
       "      <th>morning</th>\n",
       "      <th>other</th>\n",
       "      <th>outdoor</th>\n",
       "      <th>work</th>\n",
       "      <th>activity_other</th>\n",
       "      <th>amusing</th>\n",
       "      <th>commuting</th>\n",
       "      <th>studying</th>\n",
       "      <th>working out</th>\n",
       "      <th>male</th>\n",
       "      <th>afternoon</th>\n",
       "      <th>evening</th>\n",
       "      <th>midday</th>\n",
       "      <th>night</th>\n",
       "    </tr>\n",
       "  </thead>\n",
       "  <tbody>\n",
       "    <tr>\n",
       "      <th>0</th>\n",
       "      <td>0.263</td>\n",
       "      <td>44</td>\n",
       "      <td>0.556</td>\n",
       "      <td>0.798</td>\n",
       "      <td>0.839</td>\n",
       "      <td>0.13</td>\n",
       "      <td>-9.443</td>\n",
       "      <td>9</td>\n",
       "      <td>0.0296</td>\n",
       "      <td>124.955</td>\n",
       "      <td>0.342</td>\n",
       "      <td>1</td>\n",
       "      <td>1</td>\n",
       "      <td>1</td>\n",
       "      <td>1</td>\n",
       "      <td>0</td>\n",
       "      <td>0</td>\n",
       "      <td>0</td>\n",
       "      <td>0</td>\n",
       "      <td>0</td>\n",
       "      <td>0</td>\n",
       "      <td>0</td>\n",
       "      <td>0</td>\n",
       "      <td>0</td>\n",
       "      <td>0</td>\n",
       "      <td>0</td>\n",
       "      <td>0</td>\n",
       "      <td>0</td>\n",
       "    </tr>\n",
       "  </tbody>\n",
       "</table>\n",
       "</div>"
      ],
      "text/plain": [
       "   acousticness  age  danceability  energy  instrumentalness  liveness  \\\n",
       "0         0.263   44         0.556   0.798             0.839      0.13   \n",
       "\n",
       "   loudness  popularity  speechiness    tempo  valence  home  working  female  \\\n",
       "0    -9.443           9       0.0296  124.955    0.342     1        1       1   \n",
       "\n",
       "   morning  other  outdoor  work  activity_other  amusing  commuting  \\\n",
       "0        1      0        0     0               0        0          0   \n",
       "\n",
       "   studying  working out  male  afternoon  evening  midday  night  \n",
       "0         0            0     0          0        0       0      0  "
      ]
     },
     "execution_count": 100,
     "metadata": {},
     "output_type": "execute_result"
    }
   ],
   "source": [
    "pred_output = encode_features(pred_output, 'location', 'activity', 'gender', 'period')\n",
    "for col in df_enc.columns:\n",
    "    if col not in pred_output.columns:\n",
    "        print(col)\n",
    "        dat2 = pd.DataFrame({col: [0]})\n",
    "        pred_output = pred_output.join(dat2)\n",
    "\n",
    "pred_output = pred_output.drop('user_id', axis=1)\n",
    "pred_output.head()"
   ]
  },
  {
   "cell_type": "code",
   "execution_count": 101,
   "metadata": {
    "ExecuteTime": {
     "end_time": "2020-02-12T21:05:04.941314Z",
     "start_time": "2020-02-12T21:05:04.929320Z"
    }
   },
   "outputs": [
    {
     "name": "stdout",
     "output_type": "stream",
     "text": [
      "-1.0 -0.9999999999999999\n"
     ]
    }
   ],
   "source": [
    "scaler = MinMaxScaler(feature_range=(-1,1)).fit(pred_output)\n",
    "d_scaled = scaler.transform(pred_output)\n",
    "print(d_scaled.min(), d_scaled.max())"
   ]
  },
  {
   "cell_type": "code",
   "execution_count": 103,
   "metadata": {
    "ExecuteTime": {
     "end_time": "2020-02-12T21:08:21.429534Z",
     "start_time": "2020-02-12T21:08:21.418528Z"
    }
   },
   "outputs": [
    {
     "name": "stdout",
     "output_type": "stream",
     "text": [
      "predicted cluster: [8]\n"
     ]
    }
   ],
   "source": [
    "predicted_clu = kmeans.predict(d_scaled)\n",
    "print('predicted cluster:',predicted_clu+1)"
   ]
  },
  {
   "cell_type": "code",
   "execution_count": null,
   "metadata": {},
   "outputs": [],
   "source": []
  }
 ],
 "metadata": {
  "kernelspec": {
   "display_name": "Python 3",
   "language": "python",
   "name": "python3"
  },
  "language_info": {
   "codemirror_mode": {
    "name": "ipython",
    "version": 3
   },
   "file_extension": ".py",
   "mimetype": "text/x-python",
   "name": "python",
   "nbconvert_exporter": "python",
   "pygments_lexer": "ipython3",
   "version": "3.7.0"
  }
 },
 "nbformat": 4,
 "nbformat_minor": 2
}
