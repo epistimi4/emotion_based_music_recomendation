{
 "cells": [
  {
   "cell_type": "code",
   "execution_count": 1,
   "metadata": {
    "ExecuteTime": {
     "end_time": "2020-02-11T18:03:15.030778Z",
     "start_time": "2020-02-11T18:03:08.831131Z"
    }
   },
   "outputs": [],
   "source": [
    "import pandas as pd\n",
    "import numpy as np\n",
    "from sklearn.manifold import TSNE\n",
    "from sklearn.preprocessing import OneHotEncoder\n",
    "from sklearn.preprocessing import LabelEncoder\n",
    "import seaborn as sns\n",
    "import matplotlib.pyplot as plt\n",
    "%matplotlib inline\n",
    "\n",
    "pd.set_option('display.max_columns', 150)\n",
    "path='C:\\\\usersCode\\\\MScDataScience\\\\Multimodal analysis\\\\Preprocessing\\\\'"
   ]
  },
  {
   "cell_type": "code",
   "execution_count": 14,
   "metadata": {
    "ExecuteTime": {
     "end_time": "2020-02-11T18:47:30.747109Z",
     "start_time": "2020-02-11T18:47:30.488965Z"
    }
   },
   "outputs": [
    {
     "data": {
      "text/html": [
       "<div>\n",
       "<style scoped>\n",
       "    .dataframe tbody tr th:only-of-type {\n",
       "        vertical-align: middle;\n",
       "    }\n",
       "\n",
       "    .dataframe tbody tr th {\n",
       "        vertical-align: top;\n",
       "    }\n",
       "\n",
       "    .dataframe thead th {\n",
       "        text-align: right;\n",
       "    }\n",
       "</style>\n",
       "<table border=\"1\" class=\"dataframe\">\n",
       "  <thead>\n",
       "    <tr style=\"text-align: right;\">\n",
       "      <th></th>\n",
       "      <th>acousticness</th>\n",
       "      <th>activity</th>\n",
       "      <th>age</th>\n",
       "      <th>artist_name</th>\n",
       "      <th>danceability</th>\n",
       "      <th>energy</th>\n",
       "      <th>gender</th>\n",
       "      <th>id</th>\n",
       "      <th>instrumentalness</th>\n",
       "      <th>liveness</th>\n",
       "      <th>location</th>\n",
       "      <th>loudness</th>\n",
       "      <th>mood</th>\n",
       "      <th>period</th>\n",
       "      <th>popularity</th>\n",
       "      <th>release_date</th>\n",
       "      <th>song_name</th>\n",
       "      <th>speechiness</th>\n",
       "      <th>tempo</th>\n",
       "      <th>user_id</th>\n",
       "      <th>valence</th>\n",
       "    </tr>\n",
       "  </thead>\n",
       "  <tbody>\n",
       "    <tr>\n",
       "      <th>618</th>\n",
       "      <td>0.09830</td>\n",
       "      <td>commuting</td>\n",
       "      <td>40</td>\n",
       "      <td>Deep Purple</td>\n",
       "      <td>0.632</td>\n",
       "      <td>0.586</td>\n",
       "      <td>male</td>\n",
       "      <td>5SAUIWdZ04OxYfJFDchC7S</td>\n",
       "      <td>0.581000</td>\n",
       "      <td>0.0535</td>\n",
       "      <td>outdoor</td>\n",
       "      <td>-11.333</td>\n",
       "      <td>excited</td>\n",
       "      <td>midday</td>\n",
       "      <td>63.0</td>\n",
       "      <td>1972-03-25</td>\n",
       "      <td>Smoke on the Water</td>\n",
       "      <td>0.0284</td>\n",
       "      <td>114.243</td>\n",
       "      <td>9</td>\n",
       "      <td>0.890</td>\n",
       "    </tr>\n",
       "    <tr>\n",
       "      <th>619</th>\n",
       "      <td>0.07900</td>\n",
       "      <td>commuting</td>\n",
       "      <td>40</td>\n",
       "      <td>The Clash</td>\n",
       "      <td>0.742</td>\n",
       "      <td>0.833</td>\n",
       "      <td>male</td>\n",
       "      <td>39shmbIHICJ2Wxnk1fPSdz</td>\n",
       "      <td>0.000000</td>\n",
       "      <td>0.3840</td>\n",
       "      <td>outdoor</td>\n",
       "      <td>-6.463</td>\n",
       "      <td>excited</td>\n",
       "      <td>midday</td>\n",
       "      <td>77.0</td>\n",
       "      <td>1982</td>\n",
       "      <td>Should I Stay or Should I Go - Remastered</td>\n",
       "      <td>0.1150</td>\n",
       "      <td>113.375</td>\n",
       "      <td>9</td>\n",
       "      <td>0.816</td>\n",
       "    </tr>\n",
       "    <tr>\n",
       "      <th>620</th>\n",
       "      <td>0.00705</td>\n",
       "      <td>commuting</td>\n",
       "      <td>40</td>\n",
       "      <td>Motörhead</td>\n",
       "      <td>0.448</td>\n",
       "      <td>0.936</td>\n",
       "      <td>male</td>\n",
       "      <td>1s0koYJ8UkZstIYYGboZa3</td>\n",
       "      <td>0.245000</td>\n",
       "      <td>0.1280</td>\n",
       "      <td>outdoor</td>\n",
       "      <td>-6.300</td>\n",
       "      <td>excited</td>\n",
       "      <td>midday</td>\n",
       "      <td>29.0</td>\n",
       "      <td>1992-07-28</td>\n",
       "      <td>You Better Run</td>\n",
       "      <td>0.0589</td>\n",
       "      <td>135.135</td>\n",
       "      <td>9</td>\n",
       "      <td>0.536</td>\n",
       "    </tr>\n",
       "    <tr>\n",
       "      <th>621</th>\n",
       "      <td>0.00377</td>\n",
       "      <td>commuting</td>\n",
       "      <td>40</td>\n",
       "      <td>Motörhead</td>\n",
       "      <td>0.660</td>\n",
       "      <td>0.778</td>\n",
       "      <td>male</td>\n",
       "      <td>7BwYSuWTyfcG3vtp1SnP7n</td>\n",
       "      <td>0.000856</td>\n",
       "      <td>0.3730</td>\n",
       "      <td>outdoor</td>\n",
       "      <td>-6.163</td>\n",
       "      <td>excited</td>\n",
       "      <td>midday</td>\n",
       "      <td>45.0</td>\n",
       "      <td>1979-03-24</td>\n",
       "      <td>Louie Louie</td>\n",
       "      <td>0.0583</td>\n",
       "      <td>123.205</td>\n",
       "      <td>9</td>\n",
       "      <td>0.758</td>\n",
       "    </tr>\n",
       "    <tr>\n",
       "      <th>622</th>\n",
       "      <td>0.00014</td>\n",
       "      <td>commuting</td>\n",
       "      <td>40</td>\n",
       "      <td>The Gone Jackals</td>\n",
       "      <td>0.305</td>\n",
       "      <td>0.882</td>\n",
       "      <td>male</td>\n",
       "      <td>2u2hIyLXxO06AudM88TmgF</td>\n",
       "      <td>0.249000</td>\n",
       "      <td>0.3880</td>\n",
       "      <td>outdoor</td>\n",
       "      <td>-13.521</td>\n",
       "      <td>excited</td>\n",
       "      <td>midday</td>\n",
       "      <td>31.0</td>\n",
       "      <td>1995</td>\n",
       "      <td>Legacy</td>\n",
       "      <td>0.0706</td>\n",
       "      <td>125.519</td>\n",
       "      <td>9</td>\n",
       "      <td>0.477</td>\n",
       "    </tr>\n",
       "  </tbody>\n",
       "</table>\n",
       "</div>"
      ],
      "text/plain": [
       "     acousticness   activity  age       artist_name  danceability  energy  \\\n",
       "618       0.09830  commuting   40       Deep Purple         0.632   0.586   \n",
       "619       0.07900  commuting   40         The Clash         0.742   0.833   \n",
       "620       0.00705  commuting   40         Motörhead         0.448   0.936   \n",
       "621       0.00377  commuting   40         Motörhead         0.660   0.778   \n",
       "622       0.00014  commuting   40  The Gone Jackals         0.305   0.882   \n",
       "\n",
       "    gender                      id  instrumentalness  liveness location  \\\n",
       "618   male  5SAUIWdZ04OxYfJFDchC7S          0.581000    0.0535  outdoor   \n",
       "619   male  39shmbIHICJ2Wxnk1fPSdz          0.000000    0.3840  outdoor   \n",
       "620   male  1s0koYJ8UkZstIYYGboZa3          0.245000    0.1280  outdoor   \n",
       "621   male  7BwYSuWTyfcG3vtp1SnP7n          0.000856    0.3730  outdoor   \n",
       "622   male  2u2hIyLXxO06AudM88TmgF          0.249000    0.3880  outdoor   \n",
       "\n",
       "     loudness     mood  period  popularity release_date  \\\n",
       "618   -11.333  excited  midday        63.0   1972-03-25   \n",
       "619    -6.463  excited  midday        77.0         1982   \n",
       "620    -6.300  excited  midday        29.0   1992-07-28   \n",
       "621    -6.163  excited  midday        45.0   1979-03-24   \n",
       "622   -13.521  excited  midday        31.0         1995   \n",
       "\n",
       "                                     song_name  speechiness    tempo  user_id  \\\n",
       "618                         Smoke on the Water       0.0284  114.243        9   \n",
       "619  Should I Stay or Should I Go - Remastered       0.1150  113.375        9   \n",
       "620                             You Better Run       0.0589  135.135        9   \n",
       "621                                Louie Louie       0.0583  123.205        9   \n",
       "622                                     Legacy       0.0706  125.519        9   \n",
       "\n",
       "     valence  \n",
       "618    0.890  \n",
       "619    0.816  \n",
       "620    0.536  \n",
       "621    0.758  \n",
       "622    0.477  "
      ]
     },
     "execution_count": 14,
     "metadata": {},
     "output_type": "execute_result"
    }
   ],
   "source": [
    "df = pd.read_excel(path+'athina_playlist_metadata.xlsx')\n",
    "df.tail()"
   ]
  },
  {
   "cell_type": "code",
   "execution_count": 15,
   "metadata": {
    "ExecuteTime": {
     "end_time": "2020-02-11T18:47:32.064986Z",
     "start_time": "2020-02-11T18:47:31.536413Z"
    }
   },
   "outputs": [
    {
     "name": "stdout",
     "output_type": "stream",
     "text": [
      "calm        162\n",
      "relaxed      91\n",
      "excited      77\n",
      "pleased      50\n",
      "sad          48\n",
      "peaceful     44\n",
      "happy        43\n",
      "angry        33\n",
      "bored        29\n",
      "nervous      29\n",
      "sleepy       17\n",
      "Name: mood, dtype: int64\n"
     ]
    },
    {
     "data": {
      "text/plain": [
       "<matplotlib.axes._subplots.AxesSubplot at 0x2541a989630>"
      ]
     },
     "execution_count": 15,
     "metadata": {},
     "output_type": "execute_result"
    },
    {
     "data": {
      "image/png": "[encoded data removed]",
      "text/plain": [
       "<Figure size 1152x432 with 1 Axes>"
      ]
     },
     "metadata": {
      "needs_background": "light"
     },
     "output_type": "display_data"
    }
   ],
   "source": [
    "print(df['mood'].value_counts())\n",
    "plt.figure(figsize=(16,6))\n",
    "sns.countplot(y='mood', data=df, order = df.mood.value_counts().index )"
   ]
  },
  {
   "cell_type": "code",
   "execution_count": 16,
   "metadata": {
    "ExecuteTime": {
     "end_time": "2020-02-11T18:47:42.705339Z",
     "start_time": "2020-02-11T18:47:42.373943Z"
    }
   },
   "outputs": [
    {
     "data": {
      "text/plain": [
       "<matplotlib.axes._subplots.AxesSubplot at 0x2541a8a9470>"
      ]
     },
     "execution_count": 16,
     "metadata": {},
     "output_type": "execute_result"
    },
    {
     "data": {
      "image/png": "[encoded data removed]",
      "text/plain": [
       "<Figure size 1152x144 with 1 Axes>"
      ]
     },
     "metadata": {
      "needs_background": "light"
     },
     "output_type": "display_data"
    }
   ],
   "source": [
    "df['location'].value_counts()\n",
    "plt.figure(figsize=(16,2))\n",
    "sns.countplot(y='location', data=df, order = df.location.value_counts().index )"
   ]
  },
  {
   "cell_type": "code",
   "execution_count": 17,
   "metadata": {
    "ExecuteTime": {
     "end_time": "2020-02-11T18:47:51.163388Z",
     "start_time": "2020-02-11T18:47:50.811245Z"
    }
   },
   "outputs": [
    {
     "data": {
      "text/plain": [
       "<matplotlib.axes._subplots.AxesSubplot at 0x2541b3d11d0>"
      ]
     },
     "execution_count": 17,
     "metadata": {},
     "output_type": "execute_result"
    },
    {
     "data": {
      "image/png": "[encoded data removed]",
      "text/plain": [
       "<Figure size 1152x216 with 1 Axes>"
      ]
     },
     "metadata": {
      "needs_background": "light"
     },
     "output_type": "display_data"
    }
   ],
   "source": [
    "df['period'].value_counts()\n",
    "plt.figure(figsize=(16,3))\n",
    "sns.countplot(y='period', data=df, order = df.period.value_counts().index )"
   ]
  },
  {
   "cell_type": "code",
   "execution_count": 18,
   "metadata": {
    "ExecuteTime": {
     "end_time": "2020-02-11T18:48:01.010881Z",
     "start_time": "2020-02-11T18:48:00.650173Z"
    }
   },
   "outputs": [
    {
     "name": "stdout",
     "output_type": "stream",
     "text": [
      "working        362\n",
      "amusing        141\n",
      "commuting       44\n",
      "studying        38\n",
      "working out     29\n",
      "other            9\n",
      "Name: activity, dtype: int64\n"
     ]
    },
    {
     "data": {
      "text/plain": [
       "<matplotlib.axes._subplots.AxesSubplot at 0x2541a80d3c8>"
      ]
     },
     "execution_count": 18,
     "metadata": {},
     "output_type": "execute_result"
    },
    {
     "data": {
      "image/png": "[encoded data removed]",
      "text/plain": [
       "<Figure size 1152x288 with 1 Axes>"
      ]
     },
     "metadata": {
      "needs_background": "light"
     },
     "output_type": "display_data"
    }
   ],
   "source": [
    "print(df['activity'].value_counts())\n",
    "plt.figure(figsize=(16,4))\n",
    "sns.countplot(y='activity', data=df, order = df.activity.value_counts().index )"
   ]
  },
  {
   "cell_type": "code",
   "execution_count": 40,
   "metadata": {
    "ExecuteTime": {
     "end_time": "2020-02-11T19:07:53.801732Z",
     "start_time": "2020-02-11T19:07:53.782258Z"
    }
   },
   "outputs": [
    {
     "name": "stdout",
     "output_type": "stream",
     "text": [
      "<class 'pandas.core.frame.DataFrame'>\n",
      "Int64Index: 623 entries, 0 to 622\n",
      "Data columns (total 21 columns):\n",
      "acousticness        432 non-null float64\n",
      "activity            623 non-null object\n",
      "age                 623 non-null int64\n",
      "artist_name         623 non-null object\n",
      "danceability        432 non-null float64\n",
      "energy              432 non-null float64\n",
      "gender              623 non-null object\n",
      "id                  432 non-null object\n",
      "instrumentalness    432 non-null float64\n",
      "liveness            432 non-null float64\n",
      "location            623 non-null object\n",
      "loudness            432 non-null float64\n",
      "mood                623 non-null object\n",
      "period              623 non-null object\n",
      "popularity          432 non-null float64\n",
      "release_date        432 non-null object\n",
      "song_name           623 non-null object\n",
      "speechiness         432 non-null float64\n",
      "tempo               432 non-null float64\n",
      "user_id             623 non-null int64\n",
      "valence             432 non-null float64\n",
      "dtypes: float64(10), int64(2), object(9)\n",
      "memory usage: 127.1+ KB\n"
     ]
    }
   ],
   "source": [
    "df.info()"
   ]
  },
  {
   "cell_type": "code",
   "execution_count": 41,
   "metadata": {
    "ExecuteTime": {
     "end_time": "2020-02-11T19:07:59.933091Z",
     "start_time": "2020-02-11T19:07:59.816952Z"
    }
   },
   "outputs": [],
   "source": [
    "df_enc = df\n",
    "\n",
    "#encode location\n",
    "one_hot_enc = pd.get_dummies(df['location'])\n",
    "df_enc = df_enc.drop('location', axis=1)\n",
    "df_enc = df_enc.join(one_hot_enc)\n",
    "#encode activity\n",
    "replace_values = {'other': 'activity_other'}\n",
    "df = df.replace({'activity': replace_values})\n",
    "one_hot_enc = pd.get_dummies(df['activity'])\n",
    "df_enc = df_enc.drop('activity', axis=1)\n",
    "df_enc = df_enc.join(one_hot_enc)\n",
    "#encode gender\n",
    "one_hot_enc = pd.get_dummies(df['gender'])\n",
    "df_enc = df_enc.drop('gender', axis=1)\n",
    "df_enc = df_enc.join(one_hot_enc)\n",
    "#encode period\n",
    "one_hot_enc = pd.get_dummies(df['period'])\n",
    "df_enc = df_enc.drop('period', axis=1) \n",
    "df_enc = df_enc.join(one_hot_enc)\n",
    "\n",
    "replace_values = {'pleased': 'contentment', 'relaxed': 'contentment', 'calm': 'contentment', \n",
    "                 'peaceful':'contentment', 'excited':'excitement',\n",
    "                 'happy':'excitement', 'nervous':'distress', 'angry':'distress', 'annoying':'distress', \n",
    "                 'sad':'depression', 'sleepy': 'contentment', 'bored': 'depression'}\n",
    "df_enc = df_enc.replace({'mood': replace_values})\n",
    "\n",
    "#target is the mood\n",
    "Y = df_enc['mood']\n",
    "\n",
    "df_enc = df_enc.drop(['artist_name', 'id', 'song_name', 'release_date', 'mood'], axis = 1)\n"
   ]
  },
  {
   "cell_type": "markdown",
   "metadata": {},
   "source": [
    "#### Drop NaN values in Spotify metadata ####"
   ]
  },
  {
   "cell_type": "code",
   "execution_count": 42,
   "metadata": {
    "ExecuteTime": {
     "end_time": "2020-02-11T19:08:14.443298Z",
     "start_time": "2020-02-11T19:08:14.381282Z"
    }
   },
   "outputs": [
    {
     "data": {
      "text/html": [
       "<div>\n",
       "<style scoped>\n",
       "    .dataframe tbody tr th:only-of-type {\n",
       "        vertical-align: middle;\n",
       "    }\n",
       "\n",
       "    .dataframe tbody tr th {\n",
       "        vertical-align: top;\n",
       "    }\n",
       "\n",
       "    .dataframe thead th {\n",
       "        text-align: right;\n",
       "    }\n",
       "</style>\n",
       "<table border=\"1\" class=\"dataframe\">\n",
       "  <thead>\n",
       "    <tr style=\"text-align: right;\">\n",
       "      <th></th>\n",
       "      <th>acousticness</th>\n",
       "      <th>age</th>\n",
       "      <th>danceability</th>\n",
       "      <th>energy</th>\n",
       "      <th>instrumentalness</th>\n",
       "      <th>liveness</th>\n",
       "      <th>loudness</th>\n",
       "      <th>popularity</th>\n",
       "      <th>speechiness</th>\n",
       "      <th>tempo</th>\n",
       "      <th>user_id</th>\n",
       "      <th>valence</th>\n",
       "      <th>home</th>\n",
       "      <th>other</th>\n",
       "      <th>outdoor</th>\n",
       "      <th>work</th>\n",
       "      <th>activity_other</th>\n",
       "      <th>amusing</th>\n",
       "      <th>commuting</th>\n",
       "      <th>studying</th>\n",
       "      <th>working</th>\n",
       "      <th>working out</th>\n",
       "      <th>Female</th>\n",
       "      <th>female</th>\n",
       "      <th>male</th>\n",
       "      <th>afternoon</th>\n",
       "      <th>evening</th>\n",
       "      <th>midday</th>\n",
       "      <th>morning</th>\n",
       "      <th>night</th>\n",
       "    </tr>\n",
       "  </thead>\n",
       "  <tbody>\n",
       "    <tr>\n",
       "      <th>0</th>\n",
       "      <td>0.1430</td>\n",
       "      <td>44</td>\n",
       "      <td>0.517</td>\n",
       "      <td>0.671</td>\n",
       "      <td>0.392000</td>\n",
       "      <td>0.0974</td>\n",
       "      <td>-10.072</td>\n",
       "      <td>19.0</td>\n",
       "      <td>0.0279</td>\n",
       "      <td>188.021</td>\n",
       "      <td>1</td>\n",
       "      <td>0.8620</td>\n",
       "      <td>0</td>\n",
       "      <td>1</td>\n",
       "      <td>0</td>\n",
       "      <td>0</td>\n",
       "      <td>0</td>\n",
       "      <td>0</td>\n",
       "      <td>0</td>\n",
       "      <td>1</td>\n",
       "      <td>0</td>\n",
       "      <td>0</td>\n",
       "      <td>0</td>\n",
       "      <td>1</td>\n",
       "      <td>0</td>\n",
       "      <td>0</td>\n",
       "      <td>1</td>\n",
       "      <td>0</td>\n",
       "      <td>0</td>\n",
       "      <td>0</td>\n",
       "    </tr>\n",
       "    <tr>\n",
       "      <th>1</th>\n",
       "      <td>0.4070</td>\n",
       "      <td>44</td>\n",
       "      <td>0.544</td>\n",
       "      <td>0.463</td>\n",
       "      <td>0.000000</td>\n",
       "      <td>0.0748</td>\n",
       "      <td>-6.832</td>\n",
       "      <td>43.0</td>\n",
       "      <td>0.0294</td>\n",
       "      <td>131.842</td>\n",
       "      <td>1</td>\n",
       "      <td>0.2820</td>\n",
       "      <td>0</td>\n",
       "      <td>0</td>\n",
       "      <td>0</td>\n",
       "      <td>1</td>\n",
       "      <td>0</td>\n",
       "      <td>0</td>\n",
       "      <td>0</td>\n",
       "      <td>0</td>\n",
       "      <td>1</td>\n",
       "      <td>0</td>\n",
       "      <td>0</td>\n",
       "      <td>1</td>\n",
       "      <td>0</td>\n",
       "      <td>0</td>\n",
       "      <td>1</td>\n",
       "      <td>0</td>\n",
       "      <td>0</td>\n",
       "      <td>0</td>\n",
       "    </tr>\n",
       "    <tr>\n",
       "      <th>2</th>\n",
       "      <td>0.6960</td>\n",
       "      <td>44</td>\n",
       "      <td>0.553</td>\n",
       "      <td>0.528</td>\n",
       "      <td>0.001080</td>\n",
       "      <td>0.1040</td>\n",
       "      <td>-12.852</td>\n",
       "      <td>33.0</td>\n",
       "      <td>0.0306</td>\n",
       "      <td>143.937</td>\n",
       "      <td>1</td>\n",
       "      <td>0.0952</td>\n",
       "      <td>0</td>\n",
       "      <td>0</td>\n",
       "      <td>0</td>\n",
       "      <td>1</td>\n",
       "      <td>0</td>\n",
       "      <td>0</td>\n",
       "      <td>0</td>\n",
       "      <td>0</td>\n",
       "      <td>1</td>\n",
       "      <td>0</td>\n",
       "      <td>0</td>\n",
       "      <td>1</td>\n",
       "      <td>0</td>\n",
       "      <td>0</td>\n",
       "      <td>1</td>\n",
       "      <td>0</td>\n",
       "      <td>0</td>\n",
       "      <td>0</td>\n",
       "    </tr>\n",
       "    <tr>\n",
       "      <th>3</th>\n",
       "      <td>0.0863</td>\n",
       "      <td>44</td>\n",
       "      <td>0.649</td>\n",
       "      <td>0.716</td>\n",
       "      <td>0.000026</td>\n",
       "      <td>0.1350</td>\n",
       "      <td>-5.371</td>\n",
       "      <td>80.0</td>\n",
       "      <td>0.0349</td>\n",
       "      <td>99.988</td>\n",
       "      <td>1</td>\n",
       "      <td>0.1630</td>\n",
       "      <td>0</td>\n",
       "      <td>0</td>\n",
       "      <td>0</td>\n",
       "      <td>1</td>\n",
       "      <td>0</td>\n",
       "      <td>0</td>\n",
       "      <td>0</td>\n",
       "      <td>1</td>\n",
       "      <td>0</td>\n",
       "      <td>0</td>\n",
       "      <td>0</td>\n",
       "      <td>1</td>\n",
       "      <td>0</td>\n",
       "      <td>0</td>\n",
       "      <td>0</td>\n",
       "      <td>0</td>\n",
       "      <td>1</td>\n",
       "      <td>0</td>\n",
       "    </tr>\n",
       "    <tr>\n",
       "      <th>4</th>\n",
       "      <td>0.0275</td>\n",
       "      <td>44</td>\n",
       "      <td>0.516</td>\n",
       "      <td>0.595</td>\n",
       "      <td>0.000000</td>\n",
       "      <td>0.1090</td>\n",
       "      <td>-4.630</td>\n",
       "      <td>78.0</td>\n",
       "      <td>0.0313</td>\n",
       "      <td>119.972</td>\n",
       "      <td>1</td>\n",
       "      <td>0.2220</td>\n",
       "      <td>0</td>\n",
       "      <td>0</td>\n",
       "      <td>0</td>\n",
       "      <td>1</td>\n",
       "      <td>0</td>\n",
       "      <td>0</td>\n",
       "      <td>0</td>\n",
       "      <td>1</td>\n",
       "      <td>0</td>\n",
       "      <td>0</td>\n",
       "      <td>0</td>\n",
       "      <td>1</td>\n",
       "      <td>0</td>\n",
       "      <td>0</td>\n",
       "      <td>0</td>\n",
       "      <td>0</td>\n",
       "      <td>1</td>\n",
       "      <td>0</td>\n",
       "    </tr>\n",
       "  </tbody>\n",
       "</table>\n",
       "</div>"
      ],
      "text/plain": [
       "   acousticness  age  danceability  energy  instrumentalness  liveness  \\\n",
       "0        0.1430   44         0.517   0.671          0.392000    0.0974   \n",
       "1        0.4070   44         0.544   0.463          0.000000    0.0748   \n",
       "2        0.6960   44         0.553   0.528          0.001080    0.1040   \n",
       "3        0.0863   44         0.649   0.716          0.000026    0.1350   \n",
       "4        0.0275   44         0.516   0.595          0.000000    0.1090   \n",
       "\n",
       "   loudness  popularity  speechiness    tempo  user_id  valence  home  other  \\\n",
       "0   -10.072        19.0       0.0279  188.021        1   0.8620     0      1   \n",
       "1    -6.832        43.0       0.0294  131.842        1   0.2820     0      0   \n",
       "2   -12.852        33.0       0.0306  143.937        1   0.0952     0      0   \n",
       "3    -5.371        80.0       0.0349   99.988        1   0.1630     0      0   \n",
       "4    -4.630        78.0       0.0313  119.972        1   0.2220     0      0   \n",
       "\n",
       "   outdoor  work  activity_other  amusing  commuting  studying  working  \\\n",
       "0        0     0               0        0          0         1        0   \n",
       "1        0     1               0        0          0         0        1   \n",
       "2        0     1               0        0          0         0        1   \n",
       "3        0     1               0        0          0         1        0   \n",
       "4        0     1               0        0          0         1        0   \n",
       "\n",
       "   working out  Female  female  male  afternoon  evening  midday  morning  \\\n",
       "0            0       0       1     0          0        1       0        0   \n",
       "1            0       0       1     0          0        1       0        0   \n",
       "2            0       0       1     0          0        1       0        0   \n",
       "3            0       0       1     0          0        0       0        1   \n",
       "4            0       0       1     0          0        0       0        1   \n",
       "\n",
       "   night  \n",
       "0      0  \n",
       "1      0  \n",
       "2      0  \n",
       "3      0  \n",
       "4      0  "
      ]
     },
     "execution_count": 42,
     "metadata": {},
     "output_type": "execute_result"
    }
   ],
   "source": [
    "df_enc = df_enc.dropna()\n",
    "df_enc.head()"
   ]
  },
  {
   "cell_type": "markdown",
   "metadata": {},
   "source": [
    "#### Scale data because t-SNE relies on neighborhods ####"
   ]
  },
  {
   "cell_type": "code",
   "execution_count": 43,
   "metadata": {
    "ExecuteTime": {
     "end_time": "2020-02-11T19:08:22.676021Z",
     "start_time": "2020-02-11T19:08:22.664026Z"
    }
   },
   "outputs": [
    {
     "name": "stdout",
     "output_type": "stream",
     "text": [
      "-4.741122768879967 8.426149773176357\n"
     ]
    }
   ],
   "source": [
    "from sklearn import preprocessing\n",
    "scaler = preprocessing.StandardScaler().fit(df_enc)\n",
    "d_scaled = scaler.transform(df_enc)\n",
    "print(d_scaled.min(), d_scaled.max())"
   ]
  },
  {
   "cell_type": "code",
   "execution_count": 75,
   "metadata": {
    "ExecuteTime": {
     "end_time": "2020-02-11T20:03:39.498897Z",
     "start_time": "2020-02-11T20:03:39.485888Z"
    }
   },
   "outputs": [
    {
     "name": "stdout",
     "output_type": "stream",
     "text": [
      "0.0 1.0000000000000002\n"
     ]
    }
   ],
   "source": [
    "from sklearn.preprocessing import MinMaxScaler\n",
    "scaler = MinMaxScaler().fit(df_enc)\n",
    "d_scaled = scaler.transform(df_enc)\n",
    "print(d_scaled.min(), d_scaled.max())"
   ]
  },
  {
   "cell_type": "markdown",
   "metadata": {},
   "source": [
    "#### Apply K-means ####"
   ]
  },
  {
   "cell_type": "code",
   "execution_count": 76,
   "metadata": {
    "ExecuteTime": {
     "end_time": "2020-02-11T20:03:49.558832Z",
     "start_time": "2020-02-11T20:03:49.211767Z"
    }
   },
   "outputs": [
    {
     "name": "stdout",
     "output_type": "stream",
     "text": [
      "(432,)\n"
     ]
    }
   ],
   "source": [
    "from sklearn.cluster import KMeans\n",
    "\n",
    "kmeans = KMeans(n_clusters=15, random_state=2020).fit(d_scaled)\n",
    "clusters = kmeans.labels_\n",
    "print(clusters.shape)"
   ]
  },
  {
   "cell_type": "markdown",
   "metadata": {},
   "source": [
    "#### Find optimal epsilon ####\n",
    "#### The optimal value for epsilon will be found at the point of maximum curvature. ####"
   ]
  },
  {
   "cell_type": "code",
   "execution_count": 44,
   "metadata": {
    "ExecuteTime": {
     "end_time": "2020-02-11T19:10:52.985667Z",
     "start_time": "2020-02-11T19:10:52.189149Z"
    }
   },
   "outputs": [
    {
     "data": {
      "text/plain": [
       "[<matplotlib.lines.Line2D at 0x2541d223e80>]"
      ]
     },
     "execution_count": 44,
     "metadata": {},
     "output_type": "execute_result"
    },
    {
     "data": {
      "image/png": "[encoded data removed]",
      "text/plain": [
       "<Figure size 432x288 with 1 Axes>"
      ]
     },
     "metadata": {},
     "output_type": "display_data"
    }
   ],
   "source": [
    "from sklearn.neighbors import NearestNeighbors\n",
    "\n",
    "neigh = NearestNeighbors(n_neighbors=2)\n",
    "nbrs = neigh.fit(d_scaled)\n",
    "distances, indices = nbrs.kneighbors(d_scaled)\n",
    "distances = np.sort(distances, axis=0)\n",
    "distances = distances[:,1]\n",
    "plt.plot(distances)"
   ]
  },
  {
   "cell_type": "code",
   "execution_count": 48,
   "metadata": {
    "ExecuteTime": {
     "end_time": "2020-02-11T19:11:39.444946Z",
     "start_time": "2020-02-11T19:11:39.309910Z"
    },
    "scrolled": true
   },
   "outputs": [
    {
     "name": "stdout",
     "output_type": "stream",
     "text": [
      "Estimated number of clusters: 9\n",
      "Estimated number of noise points: 11\n"
     ]
    },
    {
     "data": {
      "text/html": [
       "<div>\n",
       "<style scoped>\n",
       "    .dataframe tbody tr th:only-of-type {\n",
       "        vertical-align: middle;\n",
       "    }\n",
       "\n",
       "    .dataframe tbody tr th {\n",
       "        vertical-align: top;\n",
       "    }\n",
       "\n",
       "    .dataframe thead th {\n",
       "        text-align: right;\n",
       "    }\n",
       "</style>\n",
       "<table border=\"1\" class=\"dataframe\">\n",
       "  <thead>\n",
       "    <tr style=\"text-align: right;\">\n",
       "      <th></th>\n",
       "      <th>acousticness</th>\n",
       "      <th>age</th>\n",
       "      <th>danceability</th>\n",
       "      <th>energy</th>\n",
       "      <th>instrumentalness</th>\n",
       "      <th>liveness</th>\n",
       "      <th>loudness</th>\n",
       "      <th>popularity</th>\n",
       "      <th>speechiness</th>\n",
       "      <th>tempo</th>\n",
       "      <th>user_id</th>\n",
       "      <th>valence</th>\n",
       "      <th>home</th>\n",
       "      <th>other</th>\n",
       "      <th>outdoor</th>\n",
       "      <th>work</th>\n",
       "      <th>activity_other</th>\n",
       "      <th>amusing</th>\n",
       "      <th>commuting</th>\n",
       "      <th>studying</th>\n",
       "      <th>working</th>\n",
       "      <th>working out</th>\n",
       "      <th>Female</th>\n",
       "      <th>female</th>\n",
       "      <th>male</th>\n",
       "      <th>afternoon</th>\n",
       "      <th>evening</th>\n",
       "      <th>midday</th>\n",
       "      <th>morning</th>\n",
       "      <th>night</th>\n",
       "    </tr>\n",
       "  </thead>\n",
       "  <tbody>\n",
       "    <tr>\n",
       "      <th>0</th>\n",
       "      <td>0.1430</td>\n",
       "      <td>44</td>\n",
       "      <td>0.517</td>\n",
       "      <td>0.671</td>\n",
       "      <td>0.392000</td>\n",
       "      <td>0.0974</td>\n",
       "      <td>-10.072</td>\n",
       "      <td>19.0</td>\n",
       "      <td>0.0279</td>\n",
       "      <td>188.021</td>\n",
       "      <td>1</td>\n",
       "      <td>0.8620</td>\n",
       "      <td>0</td>\n",
       "      <td>1</td>\n",
       "      <td>0</td>\n",
       "      <td>0</td>\n",
       "      <td>0</td>\n",
       "      <td>0</td>\n",
       "      <td>0</td>\n",
       "      <td>1</td>\n",
       "      <td>0</td>\n",
       "      <td>0</td>\n",
       "      <td>0</td>\n",
       "      <td>1</td>\n",
       "      <td>0</td>\n",
       "      <td>0</td>\n",
       "      <td>1</td>\n",
       "      <td>0</td>\n",
       "      <td>0</td>\n",
       "      <td>0</td>\n",
       "    </tr>\n",
       "    <tr>\n",
       "      <th>1</th>\n",
       "      <td>0.4070</td>\n",
       "      <td>44</td>\n",
       "      <td>0.544</td>\n",
       "      <td>0.463</td>\n",
       "      <td>0.000000</td>\n",
       "      <td>0.0748</td>\n",
       "      <td>-6.832</td>\n",
       "      <td>43.0</td>\n",
       "      <td>0.0294</td>\n",
       "      <td>131.842</td>\n",
       "      <td>1</td>\n",
       "      <td>0.2820</td>\n",
       "      <td>0</td>\n",
       "      <td>0</td>\n",
       "      <td>0</td>\n",
       "      <td>1</td>\n",
       "      <td>0</td>\n",
       "      <td>0</td>\n",
       "      <td>0</td>\n",
       "      <td>0</td>\n",
       "      <td>1</td>\n",
       "      <td>0</td>\n",
       "      <td>0</td>\n",
       "      <td>1</td>\n",
       "      <td>0</td>\n",
       "      <td>0</td>\n",
       "      <td>1</td>\n",
       "      <td>0</td>\n",
       "      <td>0</td>\n",
       "      <td>0</td>\n",
       "    </tr>\n",
       "    <tr>\n",
       "      <th>2</th>\n",
       "      <td>0.6960</td>\n",
       "      <td>44</td>\n",
       "      <td>0.553</td>\n",
       "      <td>0.528</td>\n",
       "      <td>0.001080</td>\n",
       "      <td>0.1040</td>\n",
       "      <td>-12.852</td>\n",
       "      <td>33.0</td>\n",
       "      <td>0.0306</td>\n",
       "      <td>143.937</td>\n",
       "      <td>1</td>\n",
       "      <td>0.0952</td>\n",
       "      <td>0</td>\n",
       "      <td>0</td>\n",
       "      <td>0</td>\n",
       "      <td>1</td>\n",
       "      <td>0</td>\n",
       "      <td>0</td>\n",
       "      <td>0</td>\n",
       "      <td>0</td>\n",
       "      <td>1</td>\n",
       "      <td>0</td>\n",
       "      <td>0</td>\n",
       "      <td>1</td>\n",
       "      <td>0</td>\n",
       "      <td>0</td>\n",
       "      <td>1</td>\n",
       "      <td>0</td>\n",
       "      <td>0</td>\n",
       "      <td>0</td>\n",
       "    </tr>\n",
       "    <tr>\n",
       "      <th>3</th>\n",
       "      <td>0.0863</td>\n",
       "      <td>44</td>\n",
       "      <td>0.649</td>\n",
       "      <td>0.716</td>\n",
       "      <td>0.000026</td>\n",
       "      <td>0.1350</td>\n",
       "      <td>-5.371</td>\n",
       "      <td>80.0</td>\n",
       "      <td>0.0349</td>\n",
       "      <td>99.988</td>\n",
       "      <td>1</td>\n",
       "      <td>0.1630</td>\n",
       "      <td>0</td>\n",
       "      <td>0</td>\n",
       "      <td>0</td>\n",
       "      <td>1</td>\n",
       "      <td>0</td>\n",
       "      <td>0</td>\n",
       "      <td>0</td>\n",
       "      <td>1</td>\n",
       "      <td>0</td>\n",
       "      <td>0</td>\n",
       "      <td>0</td>\n",
       "      <td>1</td>\n",
       "      <td>0</td>\n",
       "      <td>0</td>\n",
       "      <td>0</td>\n",
       "      <td>0</td>\n",
       "      <td>1</td>\n",
       "      <td>0</td>\n",
       "    </tr>\n",
       "    <tr>\n",
       "      <th>4</th>\n",
       "      <td>0.0275</td>\n",
       "      <td>44</td>\n",
       "      <td>0.516</td>\n",
       "      <td>0.595</td>\n",
       "      <td>0.000000</td>\n",
       "      <td>0.1090</td>\n",
       "      <td>-4.630</td>\n",
       "      <td>78.0</td>\n",
       "      <td>0.0313</td>\n",
       "      <td>119.972</td>\n",
       "      <td>1</td>\n",
       "      <td>0.2220</td>\n",
       "      <td>0</td>\n",
       "      <td>0</td>\n",
       "      <td>0</td>\n",
       "      <td>1</td>\n",
       "      <td>0</td>\n",
       "      <td>0</td>\n",
       "      <td>0</td>\n",
       "      <td>1</td>\n",
       "      <td>0</td>\n",
       "      <td>0</td>\n",
       "      <td>0</td>\n",
       "      <td>1</td>\n",
       "      <td>0</td>\n",
       "      <td>0</td>\n",
       "      <td>0</td>\n",
       "      <td>0</td>\n",
       "      <td>1</td>\n",
       "      <td>0</td>\n",
       "    </tr>\n",
       "    <tr>\n",
       "      <th>5</th>\n",
       "      <td>0.1420</td>\n",
       "      <td>44</td>\n",
       "      <td>0.459</td>\n",
       "      <td>0.545</td>\n",
       "      <td>0.000000</td>\n",
       "      <td>0.1050</td>\n",
       "      <td>-4.874</td>\n",
       "      <td>60.0</td>\n",
       "      <td>0.0282</td>\n",
       "      <td>137.941</td>\n",
       "      <td>1</td>\n",
       "      <td>0.1940</td>\n",
       "      <td>0</td>\n",
       "      <td>0</td>\n",
       "      <td>0</td>\n",
       "      <td>1</td>\n",
       "      <td>0</td>\n",
       "      <td>0</td>\n",
       "      <td>0</td>\n",
       "      <td>1</td>\n",
       "      <td>0</td>\n",
       "      <td>0</td>\n",
       "      <td>0</td>\n",
       "      <td>1</td>\n",
       "      <td>0</td>\n",
       "      <td>0</td>\n",
       "      <td>0</td>\n",
       "      <td>0</td>\n",
       "      <td>1</td>\n",
       "      <td>0</td>\n",
       "    </tr>\n",
       "    <tr>\n",
       "      <th>6</th>\n",
       "      <td>0.1230</td>\n",
       "      <td>44</td>\n",
       "      <td>0.478</td>\n",
       "      <td>0.633</td>\n",
       "      <td>0.000000</td>\n",
       "      <td>0.4100</td>\n",
       "      <td>-6.190</td>\n",
       "      <td>67.0</td>\n",
       "      <td>0.0345</td>\n",
       "      <td>89.909</td>\n",
       "      <td>1</td>\n",
       "      <td>0.2870</td>\n",
       "      <td>0</td>\n",
       "      <td>0</td>\n",
       "      <td>0</td>\n",
       "      <td>1</td>\n",
       "      <td>0</td>\n",
       "      <td>0</td>\n",
       "      <td>0</td>\n",
       "      <td>0</td>\n",
       "      <td>1</td>\n",
       "      <td>0</td>\n",
       "      <td>0</td>\n",
       "      <td>1</td>\n",
       "      <td>0</td>\n",
       "      <td>1</td>\n",
       "      <td>0</td>\n",
       "      <td>0</td>\n",
       "      <td>0</td>\n",
       "      <td>0</td>\n",
       "    </tr>\n",
       "    <tr>\n",
       "      <th>7</th>\n",
       "      <td>0.0641</td>\n",
       "      <td>44</td>\n",
       "      <td>0.645</td>\n",
       "      <td>0.787</td>\n",
       "      <td>0.513000</td>\n",
       "      <td>0.3410</td>\n",
       "      <td>-4.707</td>\n",
       "      <td>54.0</td>\n",
       "      <td>0.0274</td>\n",
       "      <td>84.116</td>\n",
       "      <td>1</td>\n",
       "      <td>0.9060</td>\n",
       "      <td>0</td>\n",
       "      <td>0</td>\n",
       "      <td>0</td>\n",
       "      <td>1</td>\n",
       "      <td>0</td>\n",
       "      <td>0</td>\n",
       "      <td>0</td>\n",
       "      <td>0</td>\n",
       "      <td>1</td>\n",
       "      <td>0</td>\n",
       "      <td>0</td>\n",
       "      <td>1</td>\n",
       "      <td>0</td>\n",
       "      <td>1</td>\n",
       "      <td>0</td>\n",
       "      <td>0</td>\n",
       "      <td>0</td>\n",
       "      <td>0</td>\n",
       "    </tr>\n",
       "    <tr>\n",
       "      <th>8</th>\n",
       "      <td>0.1430</td>\n",
       "      <td>44</td>\n",
       "      <td>0.517</td>\n",
       "      <td>0.671</td>\n",
       "      <td>0.392000</td>\n",
       "      <td>0.0974</td>\n",
       "      <td>-10.072</td>\n",
       "      <td>19.0</td>\n",
       "      <td>0.0279</td>\n",
       "      <td>188.021</td>\n",
       "      <td>1</td>\n",
       "      <td>0.8620</td>\n",
       "      <td>0</td>\n",
       "      <td>0</td>\n",
       "      <td>0</td>\n",
       "      <td>1</td>\n",
       "      <td>0</td>\n",
       "      <td>0</td>\n",
       "      <td>0</td>\n",
       "      <td>0</td>\n",
       "      <td>1</td>\n",
       "      <td>0</td>\n",
       "      <td>0</td>\n",
       "      <td>1</td>\n",
       "      <td>0</td>\n",
       "      <td>1</td>\n",
       "      <td>0</td>\n",
       "      <td>0</td>\n",
       "      <td>0</td>\n",
       "      <td>0</td>\n",
       "    </tr>\n",
       "    <tr>\n",
       "      <th>9</th>\n",
       "      <td>0.2870</td>\n",
       "      <td>44</td>\n",
       "      <td>0.441</td>\n",
       "      <td>0.664</td>\n",
       "      <td>0.000010</td>\n",
       "      <td>0.1410</td>\n",
       "      <td>-8.958</td>\n",
       "      <td>31.0</td>\n",
       "      <td>0.0424</td>\n",
       "      <td>132.136</td>\n",
       "      <td>1</td>\n",
       "      <td>0.2010</td>\n",
       "      <td>1</td>\n",
       "      <td>0</td>\n",
       "      <td>0</td>\n",
       "      <td>0</td>\n",
       "      <td>0</td>\n",
       "      <td>1</td>\n",
       "      <td>0</td>\n",
       "      <td>0</td>\n",
       "      <td>0</td>\n",
       "      <td>0</td>\n",
       "      <td>0</td>\n",
       "      <td>1</td>\n",
       "      <td>0</td>\n",
       "      <td>0</td>\n",
       "      <td>1</td>\n",
       "      <td>0</td>\n",
       "      <td>0</td>\n",
       "      <td>0</td>\n",
       "    </tr>\n",
       "  </tbody>\n",
       "</table>\n",
       "</div>"
      ],
      "text/plain": [
       "   acousticness  age  danceability  energy  instrumentalness  liveness  \\\n",
       "0        0.1430   44         0.517   0.671          0.392000    0.0974   \n",
       "1        0.4070   44         0.544   0.463          0.000000    0.0748   \n",
       "2        0.6960   44         0.553   0.528          0.001080    0.1040   \n",
       "3        0.0863   44         0.649   0.716          0.000026    0.1350   \n",
       "4        0.0275   44         0.516   0.595          0.000000    0.1090   \n",
       "5        0.1420   44         0.459   0.545          0.000000    0.1050   \n",
       "6        0.1230   44         0.478   0.633          0.000000    0.4100   \n",
       "7        0.0641   44         0.645   0.787          0.513000    0.3410   \n",
       "8        0.1430   44         0.517   0.671          0.392000    0.0974   \n",
       "9        0.2870   44         0.441   0.664          0.000010    0.1410   \n",
       "\n",
       "   loudness  popularity  speechiness    tempo  user_id  valence  home  other  \\\n",
       "0   -10.072        19.0       0.0279  188.021        1   0.8620     0      1   \n",
       "1    -6.832        43.0       0.0294  131.842        1   0.2820     0      0   \n",
       "2   -12.852        33.0       0.0306  143.937        1   0.0952     0      0   \n",
       "3    -5.371        80.0       0.0349   99.988        1   0.1630     0      0   \n",
       "4    -4.630        78.0       0.0313  119.972        1   0.2220     0      0   \n",
       "5    -4.874        60.0       0.0282  137.941        1   0.1940     0      0   \n",
       "6    -6.190        67.0       0.0345   89.909        1   0.2870     0      0   \n",
       "7    -4.707        54.0       0.0274   84.116        1   0.9060     0      0   \n",
       "8   -10.072        19.0       0.0279  188.021        1   0.8620     0      0   \n",
       "9    -8.958        31.0       0.0424  132.136        1   0.2010     1      0   \n",
       "\n",
       "   outdoor  work  activity_other  amusing  commuting  studying  working  \\\n",
       "0        0     0               0        0          0         1        0   \n",
       "1        0     1               0        0          0         0        1   \n",
       "2        0     1               0        0          0         0        1   \n",
       "3        0     1               0        0          0         1        0   \n",
       "4        0     1               0        0          0         1        0   \n",
       "5        0     1               0        0          0         1        0   \n",
       "6        0     1               0        0          0         0        1   \n",
       "7        0     1               0        0          0         0        1   \n",
       "8        0     1               0        0          0         0        1   \n",
       "9        0     0               0        1          0         0        0   \n",
       "\n",
       "   working out  Female  female  male  afternoon  evening  midday  morning  \\\n",
       "0            0       0       1     0          0        1       0        0   \n",
       "1            0       0       1     0          0        1       0        0   \n",
       "2            0       0       1     0          0        1       0        0   \n",
       "3            0       0       1     0          0        0       0        1   \n",
       "4            0       0       1     0          0        0       0        1   \n",
       "5            0       0       1     0          0        0       0        1   \n",
       "6            0       0       1     0          1        0       0        0   \n",
       "7            0       0       1     0          1        0       0        0   \n",
       "8            0       0       1     0          1        0       0        0   \n",
       "9            0       0       1     0          0        1       0        0   \n",
       "\n",
       "   night  \n",
       "0      0  \n",
       "1      0  \n",
       "2      0  \n",
       "3      0  \n",
       "4      0  \n",
       "5      0  \n",
       "6      0  \n",
       "7      0  \n",
       "8      0  \n",
       "9      0  "
      ]
     },
     "execution_count": 48,
     "metadata": {},
     "output_type": "execute_result"
    }
   ],
   "source": [
    "# to be completed\n",
    "from sklearn.cluster import DBSCAN\n",
    "\n",
    "db_clu = DBSCAN(eps=5, min_samples=2).fit(d_scaled)\n",
    "clusters = db_clu.labels_\n",
    "#d_scaled['db_scan'] = labels\n",
    "\n",
    "#number of clusters\n",
    "n_clusters = len(set(clusters)) - (1 if -1 in clusters else 0)\n",
    "n_noise = list(clusters).count(-1)\n",
    "\n",
    "print('Estimated number of clusters:', n_clusters)\n",
    "print('Estimated number of noise points:', n_noise)\n",
    "df_enc.head(10)\n"
   ]
  },
  {
   "cell_type": "code",
   "execution_count": 55,
   "metadata": {
    "ExecuteTime": {
     "end_time": "2020-02-11T19:18:34.091496Z",
     "start_time": "2020-02-11T19:18:34.084492Z"
    }
   },
   "outputs": [],
   "source": [
    "set(labels)\n",
    "colors = ['royalblue', 'maroon', 'forestgreen', 'mediumorchid', 'tan', 'deeppink', 'olive', 'goldenrod', 'lightcyan', 'navy']\n",
    "vectorizer = np.vectorize(lambda x: colors[x % len(colors)])"
   ]
  },
  {
   "cell_type": "markdown",
   "metadata": {},
   "source": [
    "#### Apply t-stochastic embeddings ####"
   ]
  },
  {
   "cell_type": "code",
   "execution_count": 77,
   "metadata": {
    "ExecuteTime": {
     "end_time": "2020-02-11T20:04:13.068825Z",
     "start_time": "2020-02-11T20:04:00.172606Z"
    }
   },
   "outputs": [
    {
     "name": "stdout",
     "output_type": "stream",
     "text": [
      "(432, 2)\n"
     ]
    }
   ],
   "source": [
    "x_embedded = TSNE(n_components=2, learning_rate=100).fit_transform(d_scaled)\n",
    "print(x_embedded.shape)\n",
    "df_plot = pd.DataFrame()\n",
    "df_plot['dim_1']  = x_embedded[:,0]\n",
    "df_plot['dim_2']  = x_embedded[:,1]\n",
    "df_plot['Mood'] = Y\n",
    "df_plot['clusters'] = clusters"
   ]
  },
  {
   "cell_type": "code",
   "execution_count": 78,
   "metadata": {
    "ExecuteTime": {
     "end_time": "2020-02-11T20:04:14.606342Z",
     "start_time": "2020-02-11T20:04:13.084826Z"
    }
   },
   "outputs": [
    {
     "name": "stderr",
     "output_type": "stream",
     "text": [
      "C:\\ProgramData\\Anaconda3\\lib\\site-packages\\seaborn\\regression.py:546: UserWarning: The `size` paramter has been renamed to `height`; please update your code.\n",
      "  warnings.warn(msg, UserWarning)\n"
     ]
    },
    {
     "data": {
      "text/plain": [
       "<seaborn.axisgrid.FacetGrid at 0x2541da6e0b8>"
      ]
     },
     "execution_count": 78,
     "metadata": {},
     "output_type": "execute_result"
    },
    {
     "data": {
      "image/png": "[encoded data removed]",
      "text/plain": [
       "<Figure size 777.31x720 with 1 Axes>"
      ]
     },
     "metadata": {},
     "output_type": "display_data"
    }
   ],
   "source": [
    "sns.set_context('notebook', font_scale = 1.1)\n",
    "sns.set_style('ticks')\n",
    "\n",
    "sns.lmplot(x='dim_1',\n",
    "          y='dim_2',\n",
    "          data = df_plot,\n",
    "          fit_reg = False,\n",
    "          legend = True,\n",
    "          size = 10,\n",
    "          hue = 'clusters' )"
   ]
  },
  {
   "cell_type": "code",
   "execution_count": 79,
   "metadata": {
    "ExecuteTime": {
     "end_time": "2020-02-11T20:04:16.642612Z",
     "start_time": "2020-02-11T20:04:14.612346Z"
    }
   },
   "outputs": [
    {
     "name": "stdout",
     "output_type": "stream",
     "text": [
      "[1, 2, 3, 4, 5, 6, 7, 8, 9, 10, 11, 12, 13, 14, 15]\n"
     ]
    },
    {
     "data": {
      "image/png": "[encoded data removed]",
      "text/plain": [
       "<Figure size 1080x72 with 1 Axes>"
      ]
     },
     "metadata": {},
     "output_type": "display_data"
    },
    {
     "data": {
      "image/png": "[encoded data removed]",
      "text/plain": [
       "<Figure size 1584x1584 with 1 Axes>"
      ]
     },
     "metadata": {},
     "output_type": "display_data"
    }
   ],
   "source": [
    "import matplotlib.patheffects as PathEffects\n",
    "\n",
    "# An user defined function to create scatter plot of vectors\n",
    "def scatter(x, colors):\n",
    "    # We choose a color palette with seaborn.\n",
    "    palette = np.array(sns.color_palette(\"hls\", 15))\n",
    "\n",
    "    # We create a scatter plot.\n",
    "    f = plt.figure(figsize=(22, 22))\n",
    "    ax = plt.subplot(aspect='equal')\n",
    "    sc = ax.scatter(x[:,0], x[:,1], lw=0, s=120,\n",
    "                    c=palette[colors.astype(np.int)])\n",
    "    \n",
    "    ax.axis('off')\n",
    "    ax.axis('tight')\n",
    "\n",
    "    # We add the labels for each cluster.\n",
    "    txts = []\n",
    "    for i in range(15):\n",
    "        # Position of each label.\n",
    "        xtext, ytext = np.median(x[colors == i, :], axis=0)\n",
    "        txt = ax.text(xtext, ytext, str(i+1), fontsize=50)\n",
    "        txt.set_path_effects([\n",
    "            PathEffects.Stroke(linewidth=5, foreground=\"w\"),\n",
    "            PathEffects.Normal()])\n",
    "        txts.append(txt)\n",
    "\n",
    "    return f, ax, sc, txts\n",
    "\n",
    "\n",
    "print(list(range(1,16)))\n",
    "sns.palplot(np.array(sns.color_palette(\"hls\", 15)))\n",
    "scatter(x_embedded, clusters)\n",
    "plt.savefig('digits_tsne-generated_18_cluster.png', dpi=120)"
   ]
  },
  {
   "cell_type": "code",
   "execution_count": null,
   "metadata": {},
   "outputs": [],
   "source": []
  }
 ],
 "metadata": {
  "kernelspec": {
   "display_name": "Python 3",
   "language": "python",
   "name": "python3"
  },
  "language_info": {
   "codemirror_mode": {
    "name": "ipython",
    "version": 3
   },
   "file_extension": ".py",
   "mimetype": "text/x-python",
   "name": "python",
   "nbconvert_exporter": "python",
   "pygments_lexer": "ipython3",
   "version": "3.7.0"
  }
 },
 "nbformat": 4,
 "nbformat_minor": 2
}
