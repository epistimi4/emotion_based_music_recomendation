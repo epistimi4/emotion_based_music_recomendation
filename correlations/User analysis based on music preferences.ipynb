{
 "cells": [
  {
   "cell_type": "markdown",
   "metadata": {},
   "source": [
    "# User analysis based on music preferences #\n",
    "### Import libraries, setup environment ###"
   ]
  },
  {
   "cell_type": "code",
   "execution_count": 1,
   "metadata": {
    "ExecuteTime": {
     "end_time": "2020-02-16T06:21:33.803134Z",
     "start_time": "2020-02-16T06:21:26.855530Z"
    }
   },
   "outputs": [],
   "source": [
    "import pandas as pd\n",
    "import numpy as np\n",
    "from collections import Counter\n",
    "from sklearn.manifold import TSNE\n",
    "from sklearn.preprocessing import OneHotEncoder,LabelEncoder\n",
    "from sklearn.cluster import KMeans\n",
    "from sklearn.metrics import silhouette_score\n",
    "\n",
    "import seaborn as sns\n",
    "import matplotlib.pyplot as plt\n",
    "%matplotlib inline\n",
    "\n",
    "pd.set_option('display.max_columns', 150)\n",
    "path='C:\\\\usersCode\\\\MScDataScience\\\\Multimodal analysis\\\\Preprocessing\\\\'"
   ]
  },
  {
   "cell_type": "markdown",
   "metadata": {},
   "source": [
    "#### Read input user data ####"
   ]
  },
  {
   "cell_type": "code",
   "execution_count": 2,
   "metadata": {
    "ExecuteTime": {
     "end_time": "2020-02-16T06:21:35.629120Z",
     "start_time": "2020-02-16T06:21:33.822139Z"
    }
   },
   "outputs": [
    {
     "data": {
      "text/html": [
       "<div>\n",
       "<style scoped>\n",
       "    .dataframe tbody tr th:only-of-type {\n",
       "        vertical-align: middle;\n",
       "    }\n",
       "\n",
       "    .dataframe tbody tr th {\n",
       "        vertical-align: top;\n",
       "    }\n",
       "\n",
       "    .dataframe thead th {\n",
       "        text-align: right;\n",
       "    }\n",
       "</style>\n",
       "<table border=\"1\" class=\"dataframe\">\n",
       "  <thead>\n",
       "    <tr style=\"text-align: right;\">\n",
       "      <th></th>\n",
       "      <th>acousticness</th>\n",
       "      <th>activity</th>\n",
       "      <th>age</th>\n",
       "      <th>artist_name</th>\n",
       "      <th>danceability</th>\n",
       "      <th>energy</th>\n",
       "      <th>gender</th>\n",
       "      <th>id</th>\n",
       "      <th>instrumentalness</th>\n",
       "      <th>liveness</th>\n",
       "      <th>location</th>\n",
       "      <th>loudness</th>\n",
       "      <th>mood</th>\n",
       "      <th>period</th>\n",
       "      <th>popularity</th>\n",
       "      <th>release_date</th>\n",
       "      <th>song_name</th>\n",
       "      <th>speechiness</th>\n",
       "      <th>tempo</th>\n",
       "      <th>user_id</th>\n",
       "      <th>valence</th>\n",
       "      <th>age_group</th>\n",
       "      <th>clusters_kmeans</th>\n",
       "      <th>clusters_kmodes</th>\n",
       "      <th>clusters_hdbscan</th>\n",
       "      <th>clusters_dbscan</th>\n",
       "    </tr>\n",
       "  </thead>\n",
       "  <tbody>\n",
       "    <tr>\n",
       "      <th>698</th>\n",
       "      <td>0.09830</td>\n",
       "      <td>commuting</td>\n",
       "      <td>40</td>\n",
       "      <td>Deep Purple</td>\n",
       "      <td>0.632</td>\n",
       "      <td>0.586</td>\n",
       "      <td>male</td>\n",
       "      <td>5SAUIWdZ04OxYfJFDchC7S</td>\n",
       "      <td>0.581000</td>\n",
       "      <td>0.0535</td>\n",
       "      <td>outdoor</td>\n",
       "      <td>-11.333</td>\n",
       "      <td>excitement</td>\n",
       "      <td>midday</td>\n",
       "      <td>63</td>\n",
       "      <td>1972-03-25</td>\n",
       "      <td>Smoke on the Water</td>\n",
       "      <td>0.0284</td>\n",
       "      <td>114.243</td>\n",
       "      <td>9</td>\n",
       "      <td>0.890</td>\n",
       "      <td>41-50</td>\n",
       "      <td>3</td>\n",
       "      <td>6</td>\n",
       "      <td>1</td>\n",
       "      <td>-1</td>\n",
       "    </tr>\n",
       "    <tr>\n",
       "      <th>699</th>\n",
       "      <td>0.07900</td>\n",
       "      <td>commuting</td>\n",
       "      <td>40</td>\n",
       "      <td>The Clash</td>\n",
       "      <td>0.742</td>\n",
       "      <td>0.833</td>\n",
       "      <td>male</td>\n",
       "      <td>39shmbIHICJ2Wxnk1fPSdz</td>\n",
       "      <td>0.000000</td>\n",
       "      <td>0.3840</td>\n",
       "      <td>outdoor</td>\n",
       "      <td>-6.463</td>\n",
       "      <td>excitement</td>\n",
       "      <td>midday</td>\n",
       "      <td>77</td>\n",
       "      <td>1982</td>\n",
       "      <td>Should I Stay or Should I Go - Remastered</td>\n",
       "      <td>0.1150</td>\n",
       "      <td>113.375</td>\n",
       "      <td>9</td>\n",
       "      <td>0.816</td>\n",
       "      <td>41-50</td>\n",
       "      <td>3</td>\n",
       "      <td>6</td>\n",
       "      <td>1</td>\n",
       "      <td>-1</td>\n",
       "    </tr>\n",
       "    <tr>\n",
       "      <th>700</th>\n",
       "      <td>0.00705</td>\n",
       "      <td>commuting</td>\n",
       "      <td>40</td>\n",
       "      <td>Motörhead</td>\n",
       "      <td>0.448</td>\n",
       "      <td>0.936</td>\n",
       "      <td>male</td>\n",
       "      <td>1s0koYJ8UkZstIYYGboZa3</td>\n",
       "      <td>0.245000</td>\n",
       "      <td>0.1280</td>\n",
       "      <td>outdoor</td>\n",
       "      <td>-6.300</td>\n",
       "      <td>excitement</td>\n",
       "      <td>midday</td>\n",
       "      <td>29</td>\n",
       "      <td>1992-07-28</td>\n",
       "      <td>You Better Run</td>\n",
       "      <td>0.0589</td>\n",
       "      <td>135.135</td>\n",
       "      <td>9</td>\n",
       "      <td>0.536</td>\n",
       "      <td>41-50</td>\n",
       "      <td>3</td>\n",
       "      <td>6</td>\n",
       "      <td>1</td>\n",
       "      <td>-1</td>\n",
       "    </tr>\n",
       "    <tr>\n",
       "      <th>701</th>\n",
       "      <td>0.00377</td>\n",
       "      <td>commuting</td>\n",
       "      <td>40</td>\n",
       "      <td>Motörhead</td>\n",
       "      <td>0.660</td>\n",
       "      <td>0.778</td>\n",
       "      <td>male</td>\n",
       "      <td>7BwYSuWTyfcG3vtp1SnP7n</td>\n",
       "      <td>0.000856</td>\n",
       "      <td>0.3730</td>\n",
       "      <td>outdoor</td>\n",
       "      <td>-6.163</td>\n",
       "      <td>excitement</td>\n",
       "      <td>midday</td>\n",
       "      <td>44</td>\n",
       "      <td>1979-03-24</td>\n",
       "      <td>Louie Louie</td>\n",
       "      <td>0.0583</td>\n",
       "      <td>123.205</td>\n",
       "      <td>9</td>\n",
       "      <td>0.758</td>\n",
       "      <td>41-50</td>\n",
       "      <td>3</td>\n",
       "      <td>6</td>\n",
       "      <td>1</td>\n",
       "      <td>-1</td>\n",
       "    </tr>\n",
       "    <tr>\n",
       "      <th>702</th>\n",
       "      <td>0.00014</td>\n",
       "      <td>commuting</td>\n",
       "      <td>40</td>\n",
       "      <td>The Gone Jackals</td>\n",
       "      <td>0.305</td>\n",
       "      <td>0.882</td>\n",
       "      <td>male</td>\n",
       "      <td>2u2hIyLXxO06AudM88TmgF</td>\n",
       "      <td>0.249000</td>\n",
       "      <td>0.3880</td>\n",
       "      <td>outdoor</td>\n",
       "      <td>-13.521</td>\n",
       "      <td>excitement</td>\n",
       "      <td>midday</td>\n",
       "      <td>31</td>\n",
       "      <td>1995</td>\n",
       "      <td>Legacy</td>\n",
       "      <td>0.0706</td>\n",
       "      <td>125.519</td>\n",
       "      <td>9</td>\n",
       "      <td>0.477</td>\n",
       "      <td>41-50</td>\n",
       "      <td>3</td>\n",
       "      <td>6</td>\n",
       "      <td>1</td>\n",
       "      <td>-1</td>\n",
       "    </tr>\n",
       "  </tbody>\n",
       "</table>\n",
       "</div>"
      ],
      "text/plain": [
       "     acousticness   activity  age       artist_name  danceability  energy  \\\n",
       "698       0.09830  commuting   40       Deep Purple         0.632   0.586   \n",
       "699       0.07900  commuting   40         The Clash         0.742   0.833   \n",
       "700       0.00705  commuting   40         Motörhead         0.448   0.936   \n",
       "701       0.00377  commuting   40         Motörhead         0.660   0.778   \n",
       "702       0.00014  commuting   40  The Gone Jackals         0.305   0.882   \n",
       "\n",
       "    gender                      id  instrumentalness  liveness location  \\\n",
       "698   male  5SAUIWdZ04OxYfJFDchC7S          0.581000    0.0535  outdoor   \n",
       "699   male  39shmbIHICJ2Wxnk1fPSdz          0.000000    0.3840  outdoor   \n",
       "700   male  1s0koYJ8UkZstIYYGboZa3          0.245000    0.1280  outdoor   \n",
       "701   male  7BwYSuWTyfcG3vtp1SnP7n          0.000856    0.3730  outdoor   \n",
       "702   male  2u2hIyLXxO06AudM88TmgF          0.249000    0.3880  outdoor   \n",
       "\n",
       "     loudness        mood  period  popularity release_date  \\\n",
       "698   -11.333  excitement  midday          63   1972-03-25   \n",
       "699    -6.463  excitement  midday          77         1982   \n",
       "700    -6.300  excitement  midday          29   1992-07-28   \n",
       "701    -6.163  excitement  midday          44   1979-03-24   \n",
       "702   -13.521  excitement  midday          31         1995   \n",
       "\n",
       "                                     song_name  speechiness    tempo  user_id  \\\n",
       "698                         Smoke on the Water       0.0284  114.243        9   \n",
       "699  Should I Stay or Should I Go - Remastered       0.1150  113.375        9   \n",
       "700                             You Better Run       0.0589  135.135        9   \n",
       "701                                Louie Louie       0.0583  123.205        9   \n",
       "702                                     Legacy       0.0706  125.519        9   \n",
       "\n",
       "     valence age_group  clusters_kmeans  clusters_kmodes  clusters_hdbscan  \\\n",
       "698    0.890     41-50                3                6                 1   \n",
       "699    0.816     41-50                3                6                 1   \n",
       "700    0.536     41-50                3                6                 1   \n",
       "701    0.758     41-50                3                6                 1   \n",
       "702    0.477     41-50                3                6                 1   \n",
       "\n",
       "     clusters_dbscan  \n",
       "698               -1  \n",
       "699               -1  \n",
       "700               -1  \n",
       "701               -1  \n",
       "702               -1  "
      ]
     },
     "execution_count": 2,
     "metadata": {},
     "output_type": "execute_result"
    }
   ],
   "source": [
    "df = pd.read_excel(path+'spotify_metadata_playlist_clu.xlsx')\n",
    "df.tail()"
   ]
  },
  {
   "cell_type": "code",
   "execution_count": 4,
   "metadata": {
    "ExecuteTime": {
     "end_time": "2020-02-16T06:22:56.853228Z",
     "start_time": "2020-02-16T06:22:49.267235Z"
    },
    "scrolled": false
   },
   "outputs": [
    {
     "name": "stdout",
     "output_type": "stream",
     "text": [
      "Profiling User 1\n",
      "Number of items: 30\n",
      "Cluster characteristics of user:1: Clusters: 6 Mood:contentment, Location:home, Activity:working, When:evening\n",
      "Spotify characteristics: Accousticness:0.000841-0.755, Danceability:0.351-0.805, Energy:0.337-0.902, Loudness:-13.692--3.017, Tempo:67.026-188.021, Valence:0.0822-0.909, Instrumentalness:0.0-0.874\n"
     ]
    },
    {
     "data": {
      "image/png": "[encoded data removed]",
      "text/plain": [
       "<Figure size 1152x288 with 1 Axes>"
      ]
     },
     "metadata": {
      "needs_background": "light"
     },
     "output_type": "display_data"
    },
    {
     "name": "stdout",
     "output_type": "stream",
     "text": [
      "Profiling User 2\n",
      "Number of items: 6\n",
      "Cluster characteristics of user:2: Clusters: 2 Mood:contentment, Location:home, Activity:studying, When:evening\n",
      "Spotify characteristics: Accousticness:0.00109-0.995, Danceability:0.137-0.84, Energy:0.0272-0.844, Loudness:-29.648--4.352, Tempo:65.568-170.358, Valence:0.0368-0.37, Instrumentalness:0.000684-0.939\n"
     ]
    },
    {
     "data": {
      "image/png": "[encoded data removed]",
      "text/plain": [
       "<Figure size 1152x288 with 1 Axes>"
      ]
     },
     "metadata": {
      "needs_background": "light"
     },
     "output_type": "display_data"
    },
    {
     "name": "stdout",
     "output_type": "stream",
     "text": [
      "Profiling User 3\n",
      "Number of items: 2\n",
      "Cluster characteristics of user:3: Clusters: 2 Mood:contentment, Location:outdoor, Activity:amusing, When:night\n",
      "Spotify characteristics: Accousticness:0.0622-0.778, Danceability:0.606-0.776, Energy:0.294-0.78, Loudness:-11.836--4.374, Tempo:76.083-124.949, Valence:0.192-0.666, Instrumentalness:0.0-0.162\n"
     ]
    },
    {
     "data": {
      "image/png": "[encoded data removed]",
      "text/plain": [
       "<Figure size 1152x288 with 1 Axes>"
      ]
     },
     "metadata": {
      "needs_background": "light"
     },
     "output_type": "display_data"
    },
    {
     "name": "stdout",
     "output_type": "stream",
     "text": [
      "Profiling User 4\n",
      "Number of items: 1\n",
      "Cluster characteristics of user:4: Clusters: 9 Mood:excitement, Location:work, Activity:working, When:afternoon\n",
      "Spotify characteristics: Accousticness:0.00678-0.00678, Danceability:0.853-0.853, Energy:0.541-0.541, Loudness:-10.229--10.229, Tempo:124.001-124.001, Valence:0.62-0.62, Instrumentalness:0.000224-0.000224\n"
     ]
    },
    {
     "data": {
      "image/png": "[encoded data removed]",
      "text/plain": [
       "<Figure size 1152x288 with 1 Axes>"
      ]
     },
     "metadata": {
      "needs_background": "light"
     },
     "output_type": "display_data"
    },
    {
     "name": "stdout",
     "output_type": "stream",
     "text": [
      "Profiling User 5\n",
      "Number of items: 67\n",
      "Cluster characteristics of user:5: Clusters: 8 Mood:contentment, Location:home, Activity:amusing, When:night\n",
      "Spotify characteristics: Accousticness:0.00286-0.94, Danceability:0.275-0.855, Energy:0.0959-0.968, Loudness:-20.338--3.112, Tempo:75.836-189.785, Valence:0.136-0.963, Instrumentalness:0.0-0.865\n"
     ]
    },
    {
     "data": {
      "image/png": "[encoded data removed]",
      "text/plain": [
       "<Figure size 1152x288 with 1 Axes>"
      ]
     },
     "metadata": {
      "needs_background": "light"
     },
     "output_type": "display_data"
    },
    {
     "name": "stdout",
     "output_type": "stream",
     "text": [
      "Profiling User 6\n",
      "Number of items: 80\n",
      "Cluster characteristics of user:6: Clusters: 7 Mood:contentment, Location:work, Activity:working, When:midday\n",
      "Spotify characteristics: Accousticness:1.15e-05-0.985, Danceability:0.219-0.854, Energy:0.00894-0.975, Loudness:-25.102--3.9, Tempo:56.3-208.571, Valence:0.0547-0.91, Instrumentalness:0.0-0.942\n"
     ]
    },
    {
     "data": {
      "image/png": "[encoded data removed]",
      "text/plain": [
       "<Figure size 1152x288 with 1 Axes>"
      ]
     },
     "metadata": {
      "needs_background": "light"
     },
     "output_type": "display_data"
    },
    {
     "name": "stdout",
     "output_type": "stream",
     "text": [
      "Profiling User 7\n",
      "Number of items: 43\n",
      "Cluster characteristics of user:7: Clusters: 5 Mood:contentment, Location:work, Activity:commuting, When:morning\n",
      "Spotify characteristics: Accousticness:4.52e-05-0.963, Danceability:0.307-0.952, Energy:0.147-0.939, Loudness:-18.097--2.214, Tempo:75.454-199.373, Valence:0.0694-0.965, Instrumentalness:0.0-0.942\n"
     ]
    },
    {
     "data": {
      "image/png": "[encoded data removed]",
      "text/plain": [
       "<Figure size 1152x288 with 1 Axes>"
      ]
     },
     "metadata": {
      "needs_background": "light"
     },
     "output_type": "display_data"
    },
    {
     "name": "stdout",
     "output_type": "stream",
     "text": [
      "Profiling User 8\n",
      "Number of items: 37\n",
      "Cluster characteristics of user:8: Clusters: 1 Mood:contentment, Location:work, Activity:working, When:morning\n",
      "Spotify characteristics: Accousticness:1.95e-05-0.995, Danceability:0.112-0.837, Energy:0.0559-0.962, Loudness:-25.377--2.597, Tempo:72.81-197.705, Valence:0.0348-0.952, Instrumentalness:0.0-0.961\n"
     ]
    },
    {
     "data": {
      "image/png": "[encoded data removed]",
      "text/plain": [
       "<Figure size 1152x288 with 1 Axes>"
      ]
     },
     "metadata": {
      "needs_background": "light"
     },
     "output_type": "display_data"
    },
    {
     "name": "stdout",
     "output_type": "stream",
     "text": [
      "Profiling User 9\n",
      "Number of items: 56\n",
      "Cluster characteristics of user:9: Clusters: 4 Mood:contentment, Location:home, Activity:amusing, When:morning\n",
      "Spotify characteristics: Accousticness:5.36e-06-0.938, Danceability:0.112-0.794, Energy:0.0686-0.983, Loudness:-23.208--2.752, Tempo:77.865-200.024, Valence:0.139-0.954, Instrumentalness:0.0-0.962\n"
     ]
    },
    {
     "data": {
      "image/png": "[encoded data removed]",
      "text/plain": [
       "<Figure size 1152x288 with 1 Axes>"
      ]
     },
     "metadata": {
      "needs_background": "light"
     },
     "output_type": "display_data"
    },
    {
     "name": "stdout",
     "output_type": "stream",
     "text": [
      "Profiling User 10\n",
      "Number of items: 15\n",
      "Cluster characteristics of user:10: Clusters: 1 Mood:contentment, Location:work, Activity:working, When:morning\n",
      "Spotify characteristics: Accousticness:0.000453-0.963, Danceability:0.346-0.798, Energy:0.201-0.913, Loudness:-13.156--2.578, Tempo:72.637-174.53, Valence:0.102-0.89, Instrumentalness:0.0-0.645\n"
     ]
    },
    {
     "data": {
      "image/png": "[encoded data removed]",
      "text/plain": [
       "<Figure size 1152x288 with 1 Axes>"
      ]
     },
     "metadata": {
      "needs_background": "light"
     },
     "output_type": "display_data"
    },
    {
     "name": "stdout",
     "output_type": "stream",
     "text": [
      "Profiling User 11\n",
      "Number of items: 48\n",
      "Cluster characteristics of user:11: Clusters: 3 Mood:excitement, Location:outdoor, Activity:working, When:midday\n",
      "Spotify characteristics: Accousticness:2.77e-06-0.963, Danceability:0.153-0.807, Energy:0.0686-0.961, Loudness:-23.208--2.379, Tempo:64.223-176.445, Valence:0.163-0.952, Instrumentalness:0.0-0.962\n"
     ]
    },
    {
     "data": {
      "image/png": "[encoded data removed]",
      "text/plain": [
       "<Figure size 1152x288 with 1 Axes>"
      ]
     },
     "metadata": {
      "needs_background": "light"
     },
     "output_type": "display_data"
    },
    {
     "name": "stdout",
     "output_type": "stream",
     "text": [
      "Profiling User 12\n",
      "Number of items: 26\n",
      "Cluster characteristics of user:12: Clusters: 4 Mood:contentment, Location:home, Activity:amusing, When:afternoon\n",
      "Spotify characteristics: Accousticness:2.06e-05-0.741, Danceability:0.336-0.856, Energy:0.383-0.99, Loudness:-14.193--1.077, Tempo:79.974-170.036, Valence:0.0928-0.969, Instrumentalness:0.0-0.891\n"
     ]
    },
    {
     "data": {
      "image/png": "[encoded data removed]",
      "text/plain": [
       "<Figure size 1152x288 with 1 Axes>"
      ]
     },
     "metadata": {
      "needs_background": "light"
     },
     "output_type": "display_data"
    },
    {
     "name": "stdout",
     "output_type": "stream",
     "text": [
      "Profiling User 13\n",
      "Number of items: 25\n",
      "Cluster characteristics of user:13: Clusters: 5 Mood:excitement, Location:work, Activity:working, When:morning\n",
      "Spotify characteristics: Accousticness:0.00671-0.925, Danceability:0.252-0.933, Energy:0.216-0.909, Loudness:-13.551--3.017, Tempo:80.609-182.957, Valence:0.166-0.876, Instrumentalness:0.0-0.772\n"
     ]
    },
    {
     "data": {
      "image/png": "[encoded data removed]",
      "text/plain": [
       "<Figure size 1152x288 with 1 Axes>"
      ]
     },
     "metadata": {
      "needs_background": "light"
     },
     "output_type": "display_data"
    },
    {
     "name": "stdout",
     "output_type": "stream",
     "text": [
      "Profiling User 14\n",
      "Number of items: 13\n",
      "Cluster characteristics of user:14: Clusters: 11 Mood:excitement, Location:home, Activity:amusing, When:night\n",
      "Spotify characteristics: Accousticness:0.181-0.692, Danceability:0.53-0.843, Energy:0.338-0.687, Loudness:-10.691--6.4, Tempo:98.027-173.737, Valence:0.111-0.803, Instrumentalness:0.0-0.876\n"
     ]
    },
    {
     "data": {
      "image/png": "[encoded data removed]",
      "text/plain": [
       "<Figure size 1152x288 with 1 Axes>"
      ]
     },
     "metadata": {
      "needs_background": "light"
     },
     "output_type": "display_data"
    },
    {
     "name": "stdout",
     "output_type": "stream",
     "text": [
      "Profiling User 15\n",
      "Number of items: 11\n",
      "Cluster characteristics of user:15: Clusters: 2 Mood:depression, Location:home, Activity:studying, When:night\n",
      "Spotify characteristics: Accousticness:0.000976-0.956, Danceability:0.147-0.825, Energy:0.0954-0.871, Loudness:-29.213--2.959, Tempo:73.418-155.007, Valence:0.0269-0.836, Instrumentalness:0.0-0.943\n"
     ]
    },
    {
     "data": {
      "image/png": "[encoded data removed]",
      "text/plain": [
       "<Figure size 1152x288 with 1 Axes>"
      ]
     },
     "metadata": {
      "needs_background": "light"
     },
     "output_type": "display_data"
    },
    {
     "name": "stdout",
     "output_type": "stream",
     "text": [
      "Profiling User 16\n",
      "Number of items: 75\n",
      "Cluster characteristics of user:16: Clusters: 0 Mood:contentment, Location:home, Activity:studying, When:morning\n",
      "Spotify characteristics: Accousticness:4.52e-05-0.963, Danceability:0.222-0.826, Energy:0.201-0.967, Loudness:-14.192--2.578, Tempo:72.637-193.948, Valence:0.0948-0.923, Instrumentalness:0.0-0.891\n"
     ]
    },
    {
     "data": {
      "image/png": "[encoded data removed]",
      "text/plain": [
       "<Figure size 1152x288 with 1 Axes>"
      ]
     },
     "metadata": {
      "needs_background": "light"
     },
     "output_type": "display_data"
    },
    {
     "data": {
      "text/html": [
       "<div>\n",
       "<style scoped>\n",
       "    .dataframe tbody tr th:only-of-type {\n",
       "        vertical-align: middle;\n",
       "    }\n",
       "\n",
       "    .dataframe tbody tr th {\n",
       "        vertical-align: top;\n",
       "    }\n",
       "\n",
       "    .dataframe thead th {\n",
       "        text-align: right;\n",
       "    }\n",
       "</style>\n",
       "<table border=\"1\" class=\"dataframe\">\n",
       "  <thead>\n",
       "    <tr style=\"text-align: right;\">\n",
       "      <th></th>\n",
       "      <th>acousticness</th>\n",
       "      <th>activity</th>\n",
       "      <th>age</th>\n",
       "      <th>artist_name</th>\n",
       "      <th>danceability</th>\n",
       "      <th>energy</th>\n",
       "      <th>gender</th>\n",
       "      <th>id</th>\n",
       "      <th>instrumentalness</th>\n",
       "      <th>liveness</th>\n",
       "      <th>location</th>\n",
       "      <th>loudness</th>\n",
       "      <th>mood</th>\n",
       "      <th>period</th>\n",
       "      <th>popularity</th>\n",
       "      <th>release_date</th>\n",
       "      <th>song_name</th>\n",
       "      <th>speechiness</th>\n",
       "      <th>tempo</th>\n",
       "      <th>user_id</th>\n",
       "      <th>valence</th>\n",
       "      <th>age_group</th>\n",
       "      <th>clusters_kmeans</th>\n",
       "      <th>clusters_kmodes</th>\n",
       "      <th>clusters_hdbscan</th>\n",
       "      <th>clusters_dbscan</th>\n",
       "    </tr>\n",
       "  </thead>\n",
       "  <tbody>\n",
       "    <tr>\n",
       "      <th>count</th>\n",
       "      <td>75.000000</td>\n",
       "      <td>75</td>\n",
       "      <td>75.0</td>\n",
       "      <td>75</td>\n",
       "      <td>75.000000</td>\n",
       "      <td>75.000000</td>\n",
       "      <td>75</td>\n",
       "      <td>75</td>\n",
       "      <td>75.000000</td>\n",
       "      <td>75.000000</td>\n",
       "      <td>75</td>\n",
       "      <td>75.000000</td>\n",
       "      <td>75</td>\n",
       "      <td>75</td>\n",
       "      <td>75.000000</td>\n",
       "      <td>75</td>\n",
       "      <td>75</td>\n",
       "      <td>75.000000</td>\n",
       "      <td>75.000000</td>\n",
       "      <td>75.0</td>\n",
       "      <td>75.000000</td>\n",
       "      <td>75</td>\n",
       "      <td>75.000000</td>\n",
       "      <td>75.000000</td>\n",
       "      <td>75.000000</td>\n",
       "      <td>75.000000</td>\n",
       "    </tr>\n",
       "    <tr>\n",
       "      <th>unique</th>\n",
       "      <td>NaN</td>\n",
       "      <td>3</td>\n",
       "      <td>NaN</td>\n",
       "      <td>40</td>\n",
       "      <td>NaN</td>\n",
       "      <td>NaN</td>\n",
       "      <td>1</td>\n",
       "      <td>57</td>\n",
       "      <td>NaN</td>\n",
       "      <td>NaN</td>\n",
       "      <td>3</td>\n",
       "      <td>NaN</td>\n",
       "      <td>4</td>\n",
       "      <td>4</td>\n",
       "      <td>NaN</td>\n",
       "      <td>44</td>\n",
       "      <td>57</td>\n",
       "      <td>NaN</td>\n",
       "      <td>NaN</td>\n",
       "      <td>NaN</td>\n",
       "      <td>NaN</td>\n",
       "      <td>1</td>\n",
       "      <td>NaN</td>\n",
       "      <td>NaN</td>\n",
       "      <td>NaN</td>\n",
       "      <td>NaN</td>\n",
       "    </tr>\n",
       "    <tr>\n",
       "      <th>top</th>\n",
       "      <td>NaN</td>\n",
       "      <td>studying</td>\n",
       "      <td>NaN</td>\n",
       "      <td>Imagine Dragons</td>\n",
       "      <td>NaN</td>\n",
       "      <td>NaN</td>\n",
       "      <td>female</td>\n",
       "      <td>5Hv1QAbRWrUSUHaT0CmnMS</td>\n",
       "      <td>NaN</td>\n",
       "      <td>NaN</td>\n",
       "      <td>home</td>\n",
       "      <td>NaN</td>\n",
       "      <td>contentment</td>\n",
       "      <td>morning</td>\n",
       "      <td>NaN</td>\n",
       "      <td>2017-06-23</td>\n",
       "      <td>Into the Night (feat. Chad Kroeger)</td>\n",
       "      <td>NaN</td>\n",
       "      <td>NaN</td>\n",
       "      <td>NaN</td>\n",
       "      <td>NaN</td>\n",
       "      <td>31-40</td>\n",
       "      <td>NaN</td>\n",
       "      <td>NaN</td>\n",
       "      <td>NaN</td>\n",
       "      <td>NaN</td>\n",
       "    </tr>\n",
       "    <tr>\n",
       "      <th>freq</th>\n",
       "      <td>NaN</td>\n",
       "      <td>53</td>\n",
       "      <td>NaN</td>\n",
       "      <td>6</td>\n",
       "      <td>NaN</td>\n",
       "      <td>NaN</td>\n",
       "      <td>75</td>\n",
       "      <td>3</td>\n",
       "      <td>NaN</td>\n",
       "      <td>NaN</td>\n",
       "      <td>43</td>\n",
       "      <td>NaN</td>\n",
       "      <td>43</td>\n",
       "      <td>44</td>\n",
       "      <td>NaN</td>\n",
       "      <td>6</td>\n",
       "      <td>3</td>\n",
       "      <td>NaN</td>\n",
       "      <td>NaN</td>\n",
       "      <td>NaN</td>\n",
       "      <td>NaN</td>\n",
       "      <td>75</td>\n",
       "      <td>NaN</td>\n",
       "      <td>NaN</td>\n",
       "      <td>NaN</td>\n",
       "      <td>NaN</td>\n",
       "    </tr>\n",
       "    <tr>\n",
       "      <th>mean</th>\n",
       "      <td>0.178910</td>\n",
       "      <td>NaN</td>\n",
       "      <td>33.0</td>\n",
       "      <td>NaN</td>\n",
       "      <td>0.562053</td>\n",
       "      <td>0.697267</td>\n",
       "      <td>NaN</td>\n",
       "      <td>NaN</td>\n",
       "      <td>0.075417</td>\n",
       "      <td>0.182136</td>\n",
       "      <td>NaN</td>\n",
       "      <td>-7.393653</td>\n",
       "      <td>NaN</td>\n",
       "      <td>NaN</td>\n",
       "      <td>56.800000</td>\n",
       "      <td>NaN</td>\n",
       "      <td>NaN</td>\n",
       "      <td>0.059793</td>\n",
       "      <td>118.447960</td>\n",
       "      <td>16.0</td>\n",
       "      <td>0.512652</td>\n",
       "      <td>NaN</td>\n",
       "      <td>1.226667</td>\n",
       "      <td>6.946667</td>\n",
       "      <td>2.760000</td>\n",
       "      <td>0.040000</td>\n",
       "    </tr>\n",
       "    <tr>\n",
       "      <th>std</th>\n",
       "      <td>0.227344</td>\n",
       "      <td>NaN</td>\n",
       "      <td>0.0</td>\n",
       "      <td>NaN</td>\n",
       "      <td>0.138969</td>\n",
       "      <td>0.170386</td>\n",
       "      <td>NaN</td>\n",
       "      <td>NaN</td>\n",
       "      <td>0.181475</td>\n",
       "      <td>0.141902</td>\n",
       "      <td>NaN</td>\n",
       "      <td>2.931605</td>\n",
       "      <td>NaN</td>\n",
       "      <td>NaN</td>\n",
       "      <td>19.282396</td>\n",
       "      <td>NaN</td>\n",
       "      <td>NaN</td>\n",
       "      <td>0.046163</td>\n",
       "      <td>26.541111</td>\n",
       "      <td>0.0</td>\n",
       "      <td>0.225009</td>\n",
       "      <td>NaN</td>\n",
       "      <td>2.374261</td>\n",
       "      <td>2.784578</td>\n",
       "      <td>4.049825</td>\n",
       "      <td>1.408852</td>\n",
       "    </tr>\n",
       "    <tr>\n",
       "      <th>min</th>\n",
       "      <td>0.000045</td>\n",
       "      <td>NaN</td>\n",
       "      <td>33.0</td>\n",
       "      <td>NaN</td>\n",
       "      <td>0.222000</td>\n",
       "      <td>0.201000</td>\n",
       "      <td>NaN</td>\n",
       "      <td>NaN</td>\n",
       "      <td>0.000000</td>\n",
       "      <td>0.027200</td>\n",
       "      <td>NaN</td>\n",
       "      <td>-14.192000</td>\n",
       "      <td>NaN</td>\n",
       "      <td>NaN</td>\n",
       "      <td>0.000000</td>\n",
       "      <td>NaN</td>\n",
       "      <td>NaN</td>\n",
       "      <td>0.025400</td>\n",
       "      <td>72.637000</td>\n",
       "      <td>16.0</td>\n",
       "      <td>0.094800</td>\n",
       "      <td>NaN</td>\n",
       "      <td>0.000000</td>\n",
       "      <td>1.000000</td>\n",
       "      <td>-1.000000</td>\n",
       "      <td>-1.000000</td>\n",
       "    </tr>\n",
       "    <tr>\n",
       "      <th>25%</th>\n",
       "      <td>0.005320</td>\n",
       "      <td>NaN</td>\n",
       "      <td>33.0</td>\n",
       "      <td>NaN</td>\n",
       "      <td>0.444000</td>\n",
       "      <td>0.631500</td>\n",
       "      <td>NaN</td>\n",
       "      <td>NaN</td>\n",
       "      <td>0.000000</td>\n",
       "      <td>0.091750</td>\n",
       "      <td>NaN</td>\n",
       "      <td>-9.839000</td>\n",
       "      <td>NaN</td>\n",
       "      <td>NaN</td>\n",
       "      <td>46.500000</td>\n",
       "      <td>NaN</td>\n",
       "      <td>NaN</td>\n",
       "      <td>0.031850</td>\n",
       "      <td>100.025500</td>\n",
       "      <td>16.0</td>\n",
       "      <td>0.338000</td>\n",
       "      <td>NaN</td>\n",
       "      <td>0.000000</td>\n",
       "      <td>4.000000</td>\n",
       "      <td>-1.000000</td>\n",
       "      <td>-1.000000</td>\n",
       "    </tr>\n",
       "    <tr>\n",
       "      <th>50%</th>\n",
       "      <td>0.080100</td>\n",
       "      <td>NaN</td>\n",
       "      <td>33.0</td>\n",
       "      <td>NaN</td>\n",
       "      <td>0.569000</td>\n",
       "      <td>0.704000</td>\n",
       "      <td>NaN</td>\n",
       "      <td>NaN</td>\n",
       "      <td>0.000734</td>\n",
       "      <td>0.127000</td>\n",
       "      <td>NaN</td>\n",
       "      <td>-7.283000</td>\n",
       "      <td>NaN</td>\n",
       "      <td>NaN</td>\n",
       "      <td>62.000000</td>\n",
       "      <td>NaN</td>\n",
       "      <td>NaN</td>\n",
       "      <td>0.044800</td>\n",
       "      <td>114.243000</td>\n",
       "      <td>16.0</td>\n",
       "      <td>0.466000</td>\n",
       "      <td>NaN</td>\n",
       "      <td>0.000000</td>\n",
       "      <td>9.000000</td>\n",
       "      <td>-1.000000</td>\n",
       "      <td>-1.000000</td>\n",
       "    </tr>\n",
       "    <tr>\n",
       "      <th>75%</th>\n",
       "      <td>0.294000</td>\n",
       "      <td>NaN</td>\n",
       "      <td>33.0</td>\n",
       "      <td>NaN</td>\n",
       "      <td>0.671000</td>\n",
       "      <td>0.844500</td>\n",
       "      <td>NaN</td>\n",
       "      <td>NaN</td>\n",
       "      <td>0.018150</td>\n",
       "      <td>0.244000</td>\n",
       "      <td>NaN</td>\n",
       "      <td>-4.850500</td>\n",
       "      <td>NaN</td>\n",
       "      <td>NaN</td>\n",
       "      <td>70.000000</td>\n",
       "      <td>NaN</td>\n",
       "      <td>NaN</td>\n",
       "      <td>0.056400</td>\n",
       "      <td>137.863000</td>\n",
       "      <td>16.0</td>\n",
       "      <td>0.666000</td>\n",
       "      <td>NaN</td>\n",
       "      <td>1.000000</td>\n",
       "      <td>9.000000</td>\n",
       "      <td>6.000000</td>\n",
       "      <td>1.000000</td>\n",
       "    </tr>\n",
       "    <tr>\n",
       "      <th>max</th>\n",
       "      <td>0.963000</td>\n",
       "      <td>NaN</td>\n",
       "      <td>33.0</td>\n",
       "      <td>NaN</td>\n",
       "      <td>0.826000</td>\n",
       "      <td>0.967000</td>\n",
       "      <td>NaN</td>\n",
       "      <td>NaN</td>\n",
       "      <td>0.891000</td>\n",
       "      <td>0.949000</td>\n",
       "      <td>NaN</td>\n",
       "      <td>-2.578000</td>\n",
       "      <td>NaN</td>\n",
       "      <td>NaN</td>\n",
       "      <td>88.000000</td>\n",
       "      <td>NaN</td>\n",
       "      <td>NaN</td>\n",
       "      <td>0.224000</td>\n",
       "      <td>193.948000</td>\n",
       "      <td>16.0</td>\n",
       "      <td>0.923000</td>\n",
       "      <td>NaN</td>\n",
       "      <td>8.000000</td>\n",
       "      <td>10.000000</td>\n",
       "      <td>11.000000</td>\n",
       "      <td>5.000000</td>\n",
       "    </tr>\n",
       "  </tbody>\n",
       "</table>\n",
       "</div>"
      ],
      "text/plain": [
       "        acousticness  activity   age      artist_name  danceability  \\\n",
       "count      75.000000        75  75.0               75     75.000000   \n",
       "unique           NaN         3   NaN               40           NaN   \n",
       "top              NaN  studying   NaN  Imagine Dragons           NaN   \n",
       "freq             NaN        53   NaN                6           NaN   \n",
       "mean        0.178910       NaN  33.0              NaN      0.562053   \n",
       "std         0.227344       NaN   0.0              NaN      0.138969   \n",
       "min         0.000045       NaN  33.0              NaN      0.222000   \n",
       "25%         0.005320       NaN  33.0              NaN      0.444000   \n",
       "50%         0.080100       NaN  33.0              NaN      0.569000   \n",
       "75%         0.294000       NaN  33.0              NaN      0.671000   \n",
       "max         0.963000       NaN  33.0              NaN      0.826000   \n",
       "\n",
       "           energy  gender                      id  instrumentalness  \\\n",
       "count   75.000000      75                      75         75.000000   \n",
       "unique        NaN       1                      57               NaN   \n",
       "top           NaN  female  5Hv1QAbRWrUSUHaT0CmnMS               NaN   \n",
       "freq          NaN      75                       3               NaN   \n",
       "mean     0.697267     NaN                     NaN          0.075417   \n",
       "std      0.170386     NaN                     NaN          0.181475   \n",
       "min      0.201000     NaN                     NaN          0.000000   \n",
       "25%      0.631500     NaN                     NaN          0.000000   \n",
       "50%      0.704000     NaN                     NaN          0.000734   \n",
       "75%      0.844500     NaN                     NaN          0.018150   \n",
       "max      0.967000     NaN                     NaN          0.891000   \n",
       "\n",
       "         liveness location   loudness         mood   period  popularity  \\\n",
       "count   75.000000       75  75.000000           75       75   75.000000   \n",
       "unique        NaN        3        NaN            4        4         NaN   \n",
       "top           NaN     home        NaN  contentment  morning         NaN   \n",
       "freq          NaN       43        NaN           43       44         NaN   \n",
       "mean     0.182136      NaN  -7.393653          NaN      NaN   56.800000   \n",
       "std      0.141902      NaN   2.931605          NaN      NaN   19.282396   \n",
       "min      0.027200      NaN -14.192000          NaN      NaN    0.000000   \n",
       "25%      0.091750      NaN  -9.839000          NaN      NaN   46.500000   \n",
       "50%      0.127000      NaN  -7.283000          NaN      NaN   62.000000   \n",
       "75%      0.244000      NaN  -4.850500          NaN      NaN   70.000000   \n",
       "max      0.949000      NaN  -2.578000          NaN      NaN   88.000000   \n",
       "\n",
       "       release_date                            song_name  speechiness  \\\n",
       "count            75                                   75    75.000000   \n",
       "unique           44                                   57          NaN   \n",
       "top      2017-06-23  Into the Night (feat. Chad Kroeger)          NaN   \n",
       "freq              6                                    3          NaN   \n",
       "mean            NaN                                  NaN     0.059793   \n",
       "std             NaN                                  NaN     0.046163   \n",
       "min             NaN                                  NaN     0.025400   \n",
       "25%             NaN                                  NaN     0.031850   \n",
       "50%             NaN                                  NaN     0.044800   \n",
       "75%             NaN                                  NaN     0.056400   \n",
       "max             NaN                                  NaN     0.224000   \n",
       "\n",
       "             tempo  user_id    valence age_group  clusters_kmeans  \\\n",
       "count    75.000000     75.0  75.000000        75        75.000000   \n",
       "unique         NaN      NaN        NaN         1              NaN   \n",
       "top            NaN      NaN        NaN     31-40              NaN   \n",
       "freq           NaN      NaN        NaN        75              NaN   \n",
       "mean    118.447960     16.0   0.512652       NaN         1.226667   \n",
       "std      26.541111      0.0   0.225009       NaN         2.374261   \n",
       "min      72.637000     16.0   0.094800       NaN         0.000000   \n",
       "25%     100.025500     16.0   0.338000       NaN         0.000000   \n",
       "50%     114.243000     16.0   0.466000       NaN         0.000000   \n",
       "75%     137.863000     16.0   0.666000       NaN         1.000000   \n",
       "max     193.948000     16.0   0.923000       NaN         8.000000   \n",
       "\n",
       "        clusters_kmodes  clusters_hdbscan  clusters_dbscan  \n",
       "count         75.000000         75.000000        75.000000  \n",
       "unique              NaN               NaN              NaN  \n",
       "top                 NaN               NaN              NaN  \n",
       "freq                NaN               NaN              NaN  \n",
       "mean           6.946667          2.760000         0.040000  \n",
       "std            2.784578          4.049825         1.408852  \n",
       "min            1.000000         -1.000000        -1.000000  \n",
       "25%            4.000000         -1.000000        -1.000000  \n",
       "50%            9.000000         -1.000000        -1.000000  \n",
       "75%            9.000000          6.000000         1.000000  \n",
       "max           10.000000         11.000000         5.000000  "
      ]
     },
     "execution_count": 4,
     "metadata": {},
     "output_type": "execute_result"
    }
   ],
   "source": [
    "n_users=17\n",
    "cluster_method = 'clusters_kmeans'\n",
    "\n",
    "for user in range(1,n_users):\n",
    "    df_filtered = df[df['user_id'] == user]\n",
    "    length = len(df_filtered)\n",
    "    \n",
    "    print('Profiling User {}'.format(user) )\n",
    "    print('Number of items:', length)\n",
    "    print('Cluster characteristics of user:{}: Clusters: {} Mood:{}, Location:{}, Activity:{}, When:{}'.format(user, \n",
    "                                                                                        df_filtered[cluster_method].value_counts().sort_values(ascending=False).idxmax(),\n",
    "                                                                                        df_filtered['mood'].value_counts().sort_values(ascending=False).idxmax(),\n",
    "                                                                                        df_filtered['location'].value_counts().sort_values(ascending=False).idxmax(),\n",
    "                                                                                        df_filtered['activity'].value_counts().sort_values(ascending=False).idxmax(),\n",
    "                                                                                        df_filtered['period'].value_counts().sort_values(ascending=False).idxmax()\n",
    "                                                                                                                    ))\n",
    "\n",
    "    print('Spotify characteristics: Accousticness:{}, Danceability:{}, Energy:{}, Loudness:{}, Tempo:{}, Valence:{}, Instrumentalness:{}'.format(\n",
    "                                                                                        str(df_filtered['acousticness'].min())+'-'+str(df_filtered['acousticness'].max()), \n",
    "                                                                                        str(df_filtered['danceability'].min())+'-'+str(df_filtered['danceability'].max()), \n",
    "                                                                                        str(df_filtered['energy'].min())+'-'+str(df_filtered['energy'].max()), \n",
    "                                                                                        str(df_filtered['loudness'].min())+'-'+str(df_filtered['loudness'].max()),\n",
    "                                                                                        str(df_filtered['tempo'].min())+'-'+str(df_filtered['tempo'].max()), \n",
    "                                                                                        str(df_filtered['valence'].min())+'-'+str(df_filtered['valence'].max()), \n",
    "                                                                                        str(df_filtered['instrumentalness'].min())+'-'+str(df_filtered['instrumentalness'].max())\n",
    "                                                                                                                    ))\n",
    "\n",
    "    \n",
    "    plt.figure(figsize=(16,4))\n",
    "    sns.countplot(y='mood', data=df_filtered, hue=cluster_method, order = df_filtered.mood.value_counts().index )\n",
    "    plt.show()\n",
    "    \n",
    "df_filtered.describe(include='all')\n",
    "\n",
    "\n",
    "\n",
    "#sns.pairplot(df_filtered)"
   ]
  },
  {
   "cell_type": "code",
   "execution_count": null,
   "metadata": {},
   "outputs": [],
   "source": []
  }
 ],
 "metadata": {
  "kernelspec": {
   "display_name": "Python 3",
   "language": "python",
   "name": "python3"
  },
  "language_info": {
   "codemirror_mode": {
    "name": "ipython",
    "version": 3
   },
   "file_extension": ".py",
   "mimetype": "text/x-python",
   "name": "python",
   "nbconvert_exporter": "python",
   "pygments_lexer": "ipython3",
   "version": "3.7.0"
  }
 },
 "nbformat": 4,
 "nbformat_minor": 2
}
