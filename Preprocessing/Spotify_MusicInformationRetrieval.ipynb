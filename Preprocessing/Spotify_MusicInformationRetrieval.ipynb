{
  "nbformat": 4,
  "nbformat_minor": 0,
  "metadata": {
    "colab": {
      "name": "Spotify_MusicInformationRetrieval.ipynb",
      "provenance": [],
      "include_colab_link": true
    },
    "kernelspec": {
      "name": "python3",
      "display_name": "Python 3"
    }
  },
  "cells": [
    {
      "cell_type": "markdown",
      "metadata": {
        "id": "view-in-github",
        "colab_type": "text"
      },
      "source": [
        "<a href=\"https://colab.research.google.com/github/epistimi4/emotion_based_music_recomendation/blob/master/Preprocessing/Spotify_MusicInformationRetrieval.ipynb\" target=\"_parent\"><img src=\"https://colab.research.google.com/assets/colab-badge.svg\" alt=\"Open In Colab\"/></a>"
      ]
    },
    {
      "cell_type": "markdown",
      "metadata": {
        "id": "C7eQHubQZQ0R",
        "colab_type": "text"
      },
      "source": [
        "# Music Information Retrieval from Spotify #"
      ]
    },
    {
      "cell_type": "code",
      "metadata": {
        "id": "pCSffweAHAn7",
        "colab_type": "code",
        "outputId": "4c07fee8-3e16-4c5b-b889-d411f9f53d46",
        "colab": {
          "base_uri": "https://localhost:8080/",
          "height": 251
        }
      },
      "source": [
        "!pip install spotipy"
      ],
      "execution_count": 1,
      "outputs": [
        {
          "output_type": "stream",
          "text": [
            "Collecting spotipy\n",
            "  Downloading https://files.pythonhosted.org/packages/59/46/3c957255c96910a8a0e2d9c25db1de51a8676ebba01d7966bedc6e748822/spotipy-2.4.4.tar.gz\n",
            "Requirement already satisfied: requests>=1.0 in /usr/local/lib/python3.6/dist-packages (from spotipy) (2.21.0)\n",
            "Requirement already satisfied: certifi>=2017.4.17 in /usr/local/lib/python3.6/dist-packages (from requests>=1.0->spotipy) (2019.11.28)\n",
            "Requirement already satisfied: urllib3<1.25,>=1.21.1 in /usr/local/lib/python3.6/dist-packages (from requests>=1.0->spotipy) (1.24.3)\n",
            "Requirement already satisfied: idna<2.9,>=2.5 in /usr/local/lib/python3.6/dist-packages (from requests>=1.0->spotipy) (2.8)\n",
            "Requirement already satisfied: chardet<3.1.0,>=3.0.2 in /usr/local/lib/python3.6/dist-packages (from requests>=1.0->spotipy) (3.0.4)\n",
            "Building wheels for collected packages: spotipy\n",
            "  Building wheel for spotipy (setup.py) ... \u001b[?25l\u001b[?25hdone\n",
            "  Created wheel for spotipy: filename=spotipy-2.4.4-cp36-none-any.whl size=12336 sha256=f6a8617550d44f064af815ecb027b9ef9e1b060d7325140632b2d7be3e0799d5\n",
            "  Stored in directory: /root/.cache/pip/wheels/76/28/19/a86ca9bb0e32dbd4a4f580870250f5aeef852870578e0427e6\n",
            "Successfully built spotipy\n",
            "Installing collected packages: spotipy\n",
            "Successfully installed spotipy-2.4.4\n"
          ],
          "name": "stdout"
        }
      ]
    },
    {
      "cell_type": "code",
      "metadata": {
        "id": "RLj8ToFsZN9q",
        "colab_type": "code",
        "colab": {}
      },
      "source": [
        "import numpy as np\n",
        "import spotipy\n",
        "from spotipy.oauth2 import SpotifyClientCredentials #to access authorised Spotify data\n",
        "import json\n",
        "import pandas as pd"
      ],
      "execution_count": 0,
      "outputs": []
    },
    {
      "cell_type": "markdown",
      "metadata": {
        "id": "oe9ODLm5-Yet",
        "colab_type": "text"
      },
      "source": [
        "### Authorization flows ###"
      ]
    },
    {
      "cell_type": "markdown",
      "metadata": {
        "id": "PjYT3ccTHxYv",
        "colab_type": "text"
      },
      "source": [
        "#### deprecated using Spotipy library ####"
      ]
    },
    {
      "cell_type": "code",
      "metadata": {
        "id": "s00o-CHb-TIW",
        "colab_type": "code",
        "colab": {}
      },
      "source": [
        "#deprecated\n",
        "#Temporary user authorization: Implicit Grant\n",
        "auth_request = requests.get(\n",
        "    'https://accounts.spotify.com/authorize?client_id=8038c4be0f8a4844982edce1b2282ebc&\\\n",
        "    redirect_uri=http:%2F%2Fexample.com%2Fcallback&scope=user-read-private%20user-read-email&response_type=token&state=123')\n",
        "\n",
        "print(auth_request.content)\n",
        "response_dict = json.loads(auth_request.text)\n",
        "\n",
        "for i in response_dict:\n",
        "    print(\"key: \", i, \"val: \", response_dict[i])"
      ],
      "execution_count": 0,
      "outputs": []
    },
    {
      "cell_type": "code",
      "metadata": {
        "id": "O3Ov47tXakno",
        "colab_type": "code",
        "outputId": "bec218db-91fb-439b-91ac-1fd16fadaf58",
        "colab": {
          "base_uri": "https://localhost:8080/",
          "height": 33
        }
      },
      "source": [
        "access_token = '1bd8da3a234e4060a6801a432c0e877d'\n",
        "artist_name = 'Nibana'\n",
        "\n",
        "artist_info = requests.get(\n",
        "    'https://api.spotify.com/v1/search',\n",
        "    headers={ 'access_token': access_token },\n",
        "    params={ 'q': artist_name, 'type': 'artist' })\n",
        "\n",
        "print(artist_info)"
      ],
      "execution_count": 0,
      "outputs": [
        {
          "output_type": "stream",
          "text": [
            "<Response [401]>\n"
          ],
          "name": "stdout"
        }
      ]
    },
    {
      "cell_type": "markdown",
      "metadata": {
        "id": "cAKghY_1VaWL",
        "colab_type": "text"
      },
      "source": [
        "### Using spotipy ###"
      ]
    },
    {
      "cell_type": "markdown",
      "metadata": {
        "id": "VF2FTDbSIf0Q",
        "colab_type": "text"
      },
      "source": [
        "#### Authorize app ####"
      ]
    },
    {
      "cell_type": "code",
      "metadata": {
        "id": "8rvlpP7JIaEm",
        "colab_type": "code",
        "colab": {}
      },
      "source": [
        "client_id = '8038c4be0f8a4844982edce1b2282ebc'\n",
        "client_secret = '1bd8da3a234e4060a6801a432c0e877d'\n",
        "\n",
        "client_credentials_manager = SpotifyClientCredentials(client_id=client_id, client_secret=client_secret)\n",
        "\n",
        "sp = spotipy.Spotify(client_credentials_manager=client_credentials_manager) #spotify object to access API"
      ],
      "execution_count": 0,
      "outputs": []
    },
    {
      "cell_type": "markdown",
      "metadata": {
        "id": "LYcMPtAXG4NV",
        "colab_type": "text"
      },
      "source": [
        "### Extract metadata /audio features from a song ###"
      ]
    },
    {
      "cell_type": "code",
      "metadata": {
        "id": "zPuweCVl7rfq",
        "colab_type": "code",
        "colab": {}
      },
      "source": [
        "# extract audio features for each song\n",
        "def audio_features(song_name, track_id, album_metadata) :    \n",
        "    spotify_song = {}\n",
        "  \n",
        "    #for track in songs_found:\n",
        "        #pull audio features per track\n",
        "        \n",
        "    features = sp.audio_features(track_id)\n",
        "    spotify_song['id'] = features[0]['id']\n",
        "    #Append to relevant key-value\n",
        "    spotify_song['acousticness'] = features[0]['acousticness']\n",
        "    spotify_song['danceability'] = features[0]['danceability']\n",
        "    spotify_song['energy'] = features[0]['energy']\n",
        "    spotify_song['instrumentalness'] = features[0]['instrumentalness']\n",
        "    spotify_song['liveness'] = features[0]['liveness']\n",
        "    spotify_song['loudness'] = features[0]['loudness']\n",
        "    spotify_song['speechiness'] = features[0]['speechiness']\n",
        "    spotify_song['tempo'] = features[0]['tempo']\n",
        "    spotify_song['valence'] = features[0]['valence']\n",
        "    #popularity is stored elsewhere\n",
        "    pop = sp.track(track_id)#track['id'])\n",
        "    spotify_song['popularity'] = pop['popularity']\n",
        "    print(album_metadata)\n",
        "    spotify_song['release_date'] = album_metadata['album']['release_date']\n",
        "    spotify_song['artist_name'] = album_metadata['artists'][0]['name']    \n",
        "    spotify_song['song_name'] = pop['name']\n",
        "    \n",
        "    #if spotify_song['song_name'].lower() == song_name.lower():\n",
        "    #print(song_name, spotify_song['song_name'])\n",
        "    #if not any(d['song_name'] == spotify_song['song_name'] for d in spotify_songs):\n",
        "    #  spotify_songs.append(spotify_song)          \n",
        "\n",
        "    return spotify_song"
      ],
      "execution_count": 0,
      "outputs": []
    },
    {
      "cell_type": "markdown",
      "metadata": {
        "id": "jxYlS516nPA6",
        "colab_type": "text"
      },
      "source": [
        "### Search spotify for the songs in my list ###"
      ]
    },
    {
      "cell_type": "markdown",
      "metadata": {
        "id": "2WAd6AXc0nGP",
        "colab_type": "text"
      },
      "source": [
        "#### Specify user lists ####"
      ]
    },
    {
      "cell_type": "code",
      "metadata": {
        "id": "uMa0_oxl7EKh",
        "colab_type": "code",
        "colab": {}
      },
      "source": [
        "artistName=\"Blackmore*\"\n",
        "trackName='Where are we going from here'\n",
        "q = \"{0} artist:{1}\".format(trackName,artistName)\n",
        "sp.search(q)"
      ],
      "execution_count": 0,
      "outputs": []
    },
    {
      "cell_type": "code",
      "metadata": {
        "id": "I71Nrm800kM0",
        "colab_type": "code",
        "colab": {
          "base_uri": "https://localhost:8080/",
          "height": 33
        },
        "outputId": "206e62b0-70b6-49aa-8ba3-1666628e2dfc"
      },
      "source": [
        "user_preferences = [{\n",
        "                    'name':'playlist_1',                  \n",
        "                    'event': 'working',\n",
        "                    'location':'work',\n",
        "                    'time_of_day':'morning,afternoon',\n",
        "                    'mood': 'stressed',\n",
        "                    'song_list':['our eyes (sephira remix) artist:Nibana', 'the grid artist:Daft Punk', 'Sirius 2017(Disco Remix) artist:The Alan Parsons Project ', 'Project L.O.V.E artist:Pryda', 'Tron Legacy - Son Of Flynn artist:Daft Punk', \n",
        "             'Blue... The Color of Dreams artist:Yakuro', 'In a Manner of Speaking artist:Martin Gore', \"Where are we going from here artist:Blackmore*\", 'All of this and nothing artist:david gahan',\n",
        "             'Warrior artist:Paloma Faith','Broken Glass artist:Sia']\n",
        "}]\n",
        "song_list = user_preferences[0]['song_list']\n",
        "\n",
        "print('my playlist has {0} songs'.format(len(song_list)))"
      ],
      "execution_count": 139,
      "outputs": [
        {
          "output_type": "stream",
          "text": [
            "my playlist has 11 songs\n"
          ],
          "name": "stdout"
        }
      ]
    },
    {
      "cell_type": "code",
      "metadata": {
        "id": "NKb6yambEcRS",
        "colab_type": "code",
        "outputId": "1e42b198-1cf9-4371-8e54-8d6b3bf865e3",
        "colab": {
          "base_uri": "https://localhost:8080/",
          "height": 237
        }
      },
      "source": [
        "songs_found = []\n",
        "\n",
        "for name in song_list:  #chosen track\n",
        "  result = sp.search(name) #search query\n",
        "  \n",
        "  if len(result['tracks']['items'])>0:\n",
        "    track_id = result['tracks']['items'][0]['id']\n",
        "    #print(track_id, result['tracks']['items'][0],result['tracks']['items'][0] )\n",
        "    #print(sp.audio_features([track_id]))\n",
        "    songs_found.append(audio_features(name, track_id, result['tracks']['items'][0]))#result['tracks']['items']) )\n",
        "  else:\n",
        "    print('song {0} not found'.format(name))\n",
        "\n",
        "print('added {0} tracks'.format(len(songs_found)))"
      ],
      "execution_count": 140,
      "outputs": [
        {
          "output_type": "stream",
          "text": [
            "{'album': {'album_type': 'album', 'artists': [{'external_urls': {'spotify': 'https://open.spotify.com/artist/01nFu4fAUjWLTZX3OPpFJx'}, 'href': 'https://api.spotify.com/v1/artists/01nFu4fAUjWLTZX3OPpFJx', 'id': '01nFu4fAUjWLTZX3OPpFJx', 'name': 'Nibana', 'type': 'artist', 'uri': 'spotify:artist:01nFu4fAUjWLTZX3OPpFJx'}], 'available_markets': ['AD', 'AE', 'AR', 'AT', 'AU', 'BE', 'BG', 'BH', 'BO', 'BR', 'CA', 'CH', 'CL', 'CO', 'CR', 'CY', 'CZ', 'DE', 'DK', 'DO', 'DZ', 'EC', 'EE', 'EG', 'ES', 'FI', 'FR', 'GB', 'GR', 'GT', 'HK', 'HN', 'HU', 'ID', 'IE', 'IL', 'IN', 'IS', 'IT', 'JO', 'JP', 'KW', 'LB', 'LI', 'LT', 'LU', 'LV', 'MA', 'MC', 'MT', 'MX', 'MY', 'NI', 'NL', 'NO', 'NZ', 'OM', 'PA', 'PE', 'PH', 'PL', 'PS', 'PT', 'PY', 'QA', 'RO', 'SA', 'SE', 'SG', 'SK', 'SV', 'TH', 'TN', 'TR', 'TW', 'US', 'UY', 'VN', 'ZA'], 'external_urls': {'spotify': 'https://open.spotify.com/album/4uudHWe6Q5gxGOd1yAU3Qf'}, 'href': 'https://api.spotify.com/v1/albums/4uudHWe6Q5gxGOd1yAU3Qf', 'id': '4uudHWe6Q5gxGOd1yAU3Qf', 'images': [{'height': 640, 'url': 'https://i.scdn.co/image/ab67616d0000b2732cca6b32f383624ce469958d', 'width': 640}, {'height': 300, 'url': 'https://i.scdn.co/image/ab67616d00001e022cca6b32f383624ce469958d', 'width': 300}, {'height': 64, 'url': 'https://i.scdn.co/image/ab67616d000048512cca6b32f383624ce469958d', 'width': 64}], 'name': 'Ask the Universe', 'release_date': '2014-12-08', 'release_date_precision': 'day', 'total_tracks': 10, 'type': 'album', 'uri': 'spotify:album:4uudHWe6Q5gxGOd1yAU3Qf'}, 'artists': [{'external_urls': {'spotify': 'https://open.spotify.com/artist/01nFu4fAUjWLTZX3OPpFJx'}, 'href': 'https://api.spotify.com/v1/artists/01nFu4fAUjWLTZX3OPpFJx', 'id': '01nFu4fAUjWLTZX3OPpFJx', 'name': 'Nibana', 'type': 'artist', 'uri': 'spotify:artist:01nFu4fAUjWLTZX3OPpFJx'}, {'external_urls': {'spotify': 'https://open.spotify.com/artist/6U9J4NxtfWCfH7Iu2lMrNr'}, 'href': 'https://api.spotify.com/v1/artists/6U9J4NxtfWCfH7Iu2lMrNr', 'id': '6U9J4NxtfWCfH7Iu2lMrNr', 'name': 'Sephira', 'type': 'artist', 'uri': 'spotify:artist:6U9J4NxtfWCfH7Iu2lMrNr'}], 'available_markets': ['AD', 'AE', 'AR', 'AT', 'AU', 'BE', 'BG', 'BH', 'BO', 'BR', 'CA', 'CH', 'CL', 'CO', 'CR', 'CY', 'CZ', 'DE', 'DK', 'DO', 'DZ', 'EC', 'EE', 'EG', 'ES', 'FI', 'FR', 'GB', 'GR', 'GT', 'HK', 'HN', 'HU', 'ID', 'IE', 'IL', 'IN', 'IS', 'IT', 'JO', 'JP', 'KW', 'LB', 'LI', 'LT', 'LU', 'LV', 'MA', 'MC', 'MT', 'MX', 'MY', 'NI', 'NL', 'NO', 'NZ', 'OM', 'PA', 'PE', 'PH', 'PL', 'PS', 'PT', 'PY', 'QA', 'RO', 'SA', 'SE', 'SG', 'SK', 'SV', 'TH', 'TN', 'TR', 'TW', 'US', 'UY', 'VN', 'ZA'], 'disc_number': 1, 'duration_ms': 448493, 'explicit': False, 'external_ids': {'isrc': 'QM4DW1877484'}, 'external_urls': {'spotify': 'https://open.spotify.com/track/3yzlDHdP9buTr9jkZfUyEq'}, 'href': 'https://api.spotify.com/v1/tracks/3yzlDHdP9buTr9jkZfUyEq', 'id': '3yzlDHdP9buTr9jkZfUyEq', 'is_local': False, 'name': 'Our Eyes - Sephira Remix', 'popularity': 21, 'preview_url': 'https://p.scdn.co/mp3-preview/bdb71a0bd1ee0328b23bb2d27e593c3bc137d2ca?cid=8038c4be0f8a4844982edce1b2282ebc', 'track_number': 9, 'type': 'track', 'uri': 'spotify:track:3yzlDHdP9buTr9jkZfUyEq'}\n",
            "{'album': {'album_type': 'album', 'artists': [{'external_urls': {'spotify': 'https://open.spotify.com/artist/4tZwfgrHOc3mvqYlEYSvVi'}, 'href': 'https://api.spotify.com/v1/artists/4tZwfgrHOc3mvqYlEYSvVi', 'id': '4tZwfgrHOc3mvqYlEYSvVi', 'name': 'Daft Punk', 'type': 'artist', 'uri': 'spotify:artist:4tZwfgrHOc3mvqYlEYSvVi'}], 'available_markets': ['CA', 'MX', 'US'], 'external_urls': {'spotify': 'https://open.spotify.com/album/4US3nmuLIKELhVZdBPiKxx'}, 'href': 'https://api.spotify.com/v1/albums/4US3nmuLIKELhVZdBPiKxx', 'id': '4US3nmuLIKELhVZdBPiKxx', 'images': [{'height': 640, 'url': 'https://i.scdn.co/image/cb90bedaf217ee7774a92a5569f6f53e532a8815', 'width': 640}, {'height': 300, 'url': 'https://i.scdn.co/image/00626e717e2eb51ffdbfcfc3fe8ecc6fdda01de1', 'width': 300}, {'height': 64, 'url': 'https://i.scdn.co/image/488d9fdac7b4291c9171ea3566d537082774db3e', 'width': 64}], 'name': 'TRON: Legacy', 'release_date': '2010-01-01', 'release_date_precision': 'day', 'total_tracks': 22, 'type': 'album', 'uri': 'spotify:album:4US3nmuLIKELhVZdBPiKxx'}, 'artists': [{'external_urls': {'spotify': 'https://open.spotify.com/artist/4tZwfgrHOc3mvqYlEYSvVi'}, 'href': 'https://api.spotify.com/v1/artists/4tZwfgrHOc3mvqYlEYSvVi', 'id': '4tZwfgrHOc3mvqYlEYSvVi', 'name': 'Daft Punk', 'type': 'artist', 'uri': 'spotify:artist:4tZwfgrHOc3mvqYlEYSvVi'}], 'available_markets': ['CA', 'MX', 'US'], 'disc_number': 1, 'duration_ms': 96746, 'explicit': False, 'external_ids': {'isrc': 'USWD11054877'}, 'external_urls': {'spotify': 'https://open.spotify.com/track/4Bvxi5oUS3M4DezTfsd5pp'}, 'href': 'https://api.spotify.com/v1/tracks/4Bvxi5oUS3M4DezTfsd5pp', 'id': '4Bvxi5oUS3M4DezTfsd5pp', 'is_local': False, 'name': 'The Grid', 'popularity': 49, 'preview_url': None, 'track_number': 2, 'type': 'track', 'uri': 'spotify:track:4Bvxi5oUS3M4DezTfsd5pp'}\n",
            "{'album': {'album_type': 'single', 'artists': [{'external_urls': {'spotify': 'https://open.spotify.com/artist/2m62cc253Xvd9qYQ8d2X3d'}, 'href': 'https://api.spotify.com/v1/artists/2m62cc253Xvd9qYQ8d2X3d', 'id': '2m62cc253Xvd9qYQ8d2X3d', 'name': 'The Alan Parsons Project', 'type': 'artist', 'uri': 'spotify:artist:2m62cc253Xvd9qYQ8d2X3d'}], 'available_markets': ['AD', 'AE', 'AR', 'AT', 'AU', 'BE', 'BG', 'BH', 'BO', 'BR', 'CA', 'CH', 'CL', 'CO', 'CR', 'CY', 'CZ', 'DE', 'DK', 'DO', 'DZ', 'EC', 'EE', 'EG', 'ES', 'FI', 'FR', 'GB', 'GR', 'GT', 'HK', 'HN', 'HU', 'ID', 'IE', 'IL', 'IN', 'IS', 'IT', 'JO', 'JP', 'KW', 'LB', 'LI', 'LT', 'LU', 'LV', 'MA', 'MC', 'MT', 'MX', 'MY', 'NI', 'NL', 'NO', 'NZ', 'OM', 'PA', 'PE', 'PH', 'PL', 'PS', 'PT', 'PY', 'QA', 'RO', 'SA', 'SE', 'SG', 'SK', 'SV', 'TH', 'TN', 'TR', 'TW', 'US', 'UY', 'VN', 'ZA'], 'external_urls': {'spotify': 'https://open.spotify.com/album/0chYdRihRzcScNJZAx9i3t'}, 'href': 'https://api.spotify.com/v1/albums/0chYdRihRzcScNJZAx9i3t', 'id': '0chYdRihRzcScNJZAx9i3t', 'images': [{'height': 640, 'url': 'https://i.scdn.co/image/ab67616d0000b273fe69568dd55e54742ce0e14d', 'width': 640}, {'height': 300, 'url': 'https://i.scdn.co/image/ab67616d00001e02fe69568dd55e54742ce0e14d', 'width': 300}, {'height': 64, 'url': 'https://i.scdn.co/image/ab67616d00004851fe69568dd55e54742ce0e14d', 'width': 64}], 'name': 'Sirius 2017 (Disco Demolition Remix)', 'release_date': '2017-09-15', 'release_date_precision': 'day', 'total_tracks': 1, 'type': 'album', 'uri': 'spotify:album:0chYdRihRzcScNJZAx9i3t'}, 'artists': [{'external_urls': {'spotify': 'https://open.spotify.com/artist/2m62cc253Xvd9qYQ8d2X3d'}, 'href': 'https://api.spotify.com/v1/artists/2m62cc253Xvd9qYQ8d2X3d', 'id': '2m62cc253Xvd9qYQ8d2X3d', 'name': 'The Alan Parsons Project', 'type': 'artist', 'uri': 'spotify:artist:2m62cc253Xvd9qYQ8d2X3d'}, {'external_urls': {'spotify': 'https://open.spotify.com/artist/2L1W1Lz8JBETtWLopsGcAU'}, 'href': 'https://api.spotify.com/v1/artists/2L1W1Lz8JBETtWLopsGcAU', 'id': '2L1W1Lz8JBETtWLopsGcAU', 'name': 'Disco Demolition', 'type': 'artist', 'uri': 'spotify:artist:2L1W1Lz8JBETtWLopsGcAU'}], 'available_markets': ['AD', 'AE', 'AR', 'AT', 'AU', 'BE', 'BG', 'BH', 'BO', 'BR', 'CA', 'CH', 'CL', 'CO', 'CR', 'CY', 'CZ', 'DE', 'DK', 'DO', 'DZ', 'EC', 'EE', 'EG', 'ES', 'FI', 'FR', 'GB', 'GR', 'GT', 'HK', 'HN', 'HU', 'ID', 'IE', 'IL', 'IN', 'IS', 'IT', 'JO', 'JP', 'KW', 'LB', 'LI', 'LT', 'LU', 'LV', 'MA', 'MC', 'MT', 'MX', 'MY', 'NI', 'NL', 'NO', 'NZ', 'OM', 'PA', 'PE', 'PH', 'PL', 'PS', 'PT', 'PY', 'QA', 'RO', 'SA', 'SE', 'SG', 'SK', 'SV', 'TH', 'TN', 'TR', 'TW', 'US', 'UY', 'VN', 'ZA'], 'disc_number': 1, 'duration_ms': 225882, 'explicit': False, 'external_ids': {'isrc': 'USAR11700264'}, 'external_urls': {'spotify': 'https://open.spotify.com/track/5ld9arEKsxvJr7RqoWd337'}, 'href': 'https://api.spotify.com/v1/tracks/5ld9arEKsxvJr7RqoWd337', 'id': '5ld9arEKsxvJr7RqoWd337', 'is_local': False, 'name': 'Sirius 2017 - Disco Demolition Remix', 'popularity': 40, 'preview_url': 'https://p.scdn.co/mp3-preview/8a5c2b45a017be012a71fb761e0216f8f426d336?cid=8038c4be0f8a4844982edce1b2282ebc', 'track_number': 1, 'type': 'track', 'uri': 'spotify:track:5ld9arEKsxvJr7RqoWd337'}\n",
            "{'album': {'album_type': 'single', 'artists': [{'external_urls': {'spotify': 'https://open.spotify.com/artist/37U9sPqTZMd7AKJCWgcvkt'}, 'href': 'https://api.spotify.com/v1/artists/37U9sPqTZMd7AKJCWgcvkt', 'id': '37U9sPqTZMd7AKJCWgcvkt', 'name': 'Pryda', 'type': 'artist', 'uri': 'spotify:artist:37U9sPqTZMd7AKJCWgcvkt'}], 'available_markets': ['AD', 'AE', 'AR', 'AT', 'AU', 'BE', 'BG', 'BH', 'BO', 'BR', 'CA', 'CH', 'CL', 'CO', 'CR', 'CY', 'CZ', 'DE', 'DK', 'DO', 'DZ', 'EC', 'EE', 'EG', 'ES', 'FI', 'FR', 'GB', 'GR', 'GT', 'HK', 'HN', 'HU', 'ID', 'IE', 'IL', 'IN', 'IS', 'IT', 'JO', 'JP', 'KW', 'LB', 'LI', 'LT', 'LU', 'LV', 'MA', 'MC', 'MT', 'MX', 'MY', 'NI', 'NL', 'NO', 'NZ', 'OM', 'PA', 'PE', 'PH', 'PL', 'PS', 'PT', 'PY', 'QA', 'RO', 'SA', 'SE', 'SG', 'SK', 'SV', 'TH', 'TN', 'TR', 'TW', 'US', 'UY', 'VN', 'ZA'], 'external_urls': {'spotify': 'https://open.spotify.com/album/3Fc7CxOxoTCM2Ixyt7Vmer'}, 'href': 'https://api.spotify.com/v1/albums/3Fc7CxOxoTCM2Ixyt7Vmer', 'id': '3Fc7CxOxoTCM2Ixyt7Vmer', 'images': [{'height': 640, 'url': 'https://i.scdn.co/image/ab67616d0000b2735a446d57a6c7b3880009db06', 'width': 640}, {'height': 300, 'url': 'https://i.scdn.co/image/ab67616d00001e025a446d57a6c7b3880009db06', 'width': 300}, {'height': 64, 'url': 'https://i.scdn.co/image/ab67616d000048515a446d57a6c7b3880009db06', 'width': 64}], 'name': 'Elements', 'release_date': '2018-05-18', 'release_date_precision': 'day', 'total_tracks': 4, 'type': 'album', 'uri': 'spotify:album:3Fc7CxOxoTCM2Ixyt7Vmer'}, 'artists': [{'external_urls': {'spotify': 'https://open.spotify.com/artist/37U9sPqTZMd7AKJCWgcvkt'}, 'href': 'https://api.spotify.com/v1/artists/37U9sPqTZMd7AKJCWgcvkt', 'id': '37U9sPqTZMd7AKJCWgcvkt', 'name': 'Pryda', 'type': 'artist', 'uri': 'spotify:artist:37U9sPqTZMd7AKJCWgcvkt'}], 'available_markets': ['AD', 'AE', 'AR', 'AT', 'AU', 'BE', 'BG', 'BH', 'BO', 'BR', 'CA', 'CH', 'CL', 'CO', 'CR', 'CY', 'CZ', 'DE', 'DK', 'DO', 'DZ', 'EC', 'EE', 'EG', 'ES', 'FI', 'FR', 'GB', 'GR', 'GT', 'HK', 'HN', 'HU', 'ID', 'IE', 'IL', 'IN', 'IS', 'IT', 'JO', 'JP', 'KW', 'LB', 'LI', 'LT', 'LU', 'LV', 'MA', 'MC', 'MT', 'MX', 'MY', 'NI', 'NL', 'NO', 'NZ', 'OM', 'PA', 'PE', 'PH', 'PL', 'PS', 'PT', 'PY', 'QA', 'RO', 'SA', 'SE', 'SG', 'SK', 'SV', 'TH', 'TN', 'TR', 'TW', 'US', 'UY', 'VN', 'ZA'], 'disc_number': 1, 'duration_ms': 373425, 'explicit': False, 'external_ids': {'isrc': 'GB6CM1800138'}, 'external_urls': {'spotify': 'https://open.spotify.com/track/0gX7U91bqxtZVLIZ0MhsTC'}, 'href': 'https://api.spotify.com/v1/tracks/0gX7U91bqxtZVLIZ0MhsTC', 'id': '0gX7U91bqxtZVLIZ0MhsTC', 'is_local': False, 'name': 'Project L.O.V.E', 'popularity': 37, 'preview_url': 'https://p.scdn.co/mp3-preview/074de3e876bc6867aecee7011020b1f7fcc7e831?cid=8038c4be0f8a4844982edce1b2282ebc', 'track_number': 4, 'type': 'track', 'uri': 'spotify:track:0gX7U91bqxtZVLIZ0MhsTC'}\n",
            "{'album': {'album_type': 'album', 'artists': [{'external_urls': {'spotify': 'https://open.spotify.com/artist/4tZwfgrHOc3mvqYlEYSvVi'}, 'href': 'https://api.spotify.com/v1/artists/4tZwfgrHOc3mvqYlEYSvVi', 'id': '4tZwfgrHOc3mvqYlEYSvVi', 'name': 'Daft Punk', 'type': 'artist', 'uri': 'spotify:artist:4tZwfgrHOc3mvqYlEYSvVi'}], 'available_markets': ['CA', 'MX', 'US'], 'external_urls': {'spotify': 'https://open.spotify.com/album/4US3nmuLIKELhVZdBPiKxx'}, 'href': 'https://api.spotify.com/v1/albums/4US3nmuLIKELhVZdBPiKxx', 'id': '4US3nmuLIKELhVZdBPiKxx', 'images': [{'height': 640, 'url': 'https://i.scdn.co/image/cb90bedaf217ee7774a92a5569f6f53e532a8815', 'width': 640}, {'height': 300, 'url': 'https://i.scdn.co/image/00626e717e2eb51ffdbfcfc3fe8ecc6fdda01de1', 'width': 300}, {'height': 64, 'url': 'https://i.scdn.co/image/488d9fdac7b4291c9171ea3566d537082774db3e', 'width': 64}], 'name': 'TRON: Legacy', 'release_date': '2010-01-01', 'release_date_precision': 'day', 'total_tracks': 22, 'type': 'album', 'uri': 'spotify:album:4US3nmuLIKELhVZdBPiKxx'}, 'artists': [{'external_urls': {'spotify': 'https://open.spotify.com/artist/4tZwfgrHOc3mvqYlEYSvVi'}, 'href': 'https://api.spotify.com/v1/artists/4tZwfgrHOc3mvqYlEYSvVi', 'id': '4tZwfgrHOc3mvqYlEYSvVi', 'name': 'Daft Punk', 'type': 'artist', 'uri': 'spotify:artist:4tZwfgrHOc3mvqYlEYSvVi'}], 'available_markets': ['CA', 'MX', 'US'], 'disc_number': 1, 'duration_ms': 95226, 'explicit': False, 'external_ids': {'isrc': 'USWD11054878'}, 'external_urls': {'spotify': 'https://open.spotify.com/track/1xPec5BN0Zxv77zrWKq43S'}, 'href': 'https://api.spotify.com/v1/tracks/1xPec5BN0Zxv77zrWKq43S', 'id': '1xPec5BN0Zxv77zrWKq43S', 'is_local': False, 'name': 'The Son of Flynn', 'popularity': 55, 'preview_url': None, 'track_number': 3, 'type': 'track', 'uri': 'spotify:track:1xPec5BN0Zxv77zrWKq43S'}\n",
            "{'album': {'album_type': 'album', 'artists': [{'external_urls': {'spotify': 'https://open.spotify.com/artist/5etQ4qBFMQkzL1CEEjRWJK'}, 'href': 'https://api.spotify.com/v1/artists/5etQ4qBFMQkzL1CEEjRWJK', 'id': '5etQ4qBFMQkzL1CEEjRWJK', 'name': 'Yakuro', 'type': 'artist', 'uri': 'spotify:artist:5etQ4qBFMQkzL1CEEjRWJK'}], 'available_markets': ['AD', 'AE', 'AR', 'AT', 'AU', 'BE', 'BG', 'BH', 'BO', 'BR', 'CA', 'CH', 'CL', 'CO', 'CR', 'CY', 'CZ', 'DE', 'DK', 'DO', 'DZ', 'EC', 'EE', 'EG', 'ES', 'FI', 'FR', 'GB', 'GR', 'GT', 'HK', 'HN', 'HU', 'ID', 'IE', 'IL', 'IN', 'IS', 'IT', 'JO', 'JP', 'KW', 'LB', 'LI', 'LT', 'LU', 'LV', 'MA', 'MC', 'MT', 'MX', 'MY', 'NI', 'NL', 'NO', 'NZ', 'OM', 'PA', 'PE', 'PH', 'PL', 'PS', 'PT', 'PY', 'QA', 'RO', 'SA', 'SE', 'SG', 'SK', 'SV', 'TH', 'TN', 'TR', 'TW', 'US', 'UY', 'VN', 'ZA'], 'external_urls': {'spotify': 'https://open.spotify.com/album/7vrFtVtqnlifaJ3OnIf0ov'}, 'href': 'https://api.spotify.com/v1/albums/7vrFtVtqnlifaJ3OnIf0ov', 'id': '7vrFtVtqnlifaJ3OnIf0ov', 'images': [{'height': 640, 'url': 'https://i.scdn.co/image/ab67616d0000b2737227e6f02977c6de7988b52d', 'width': 640}, {'height': 300, 'url': 'https://i.scdn.co/image/ab67616d00001e027227e6f02977c6de7988b52d', 'width': 300}, {'height': 64, 'url': 'https://i.scdn.co/image/ab67616d000048517227e6f02977c6de7988b52d', 'width': 64}], 'name': 'Colors of the Worlds, Pt. 1', 'release_date': '2013-03-17', 'release_date_precision': 'day', 'total_tracks': 11, 'type': 'album', 'uri': 'spotify:album:7vrFtVtqnlifaJ3OnIf0ov'}, 'artists': [{'external_urls': {'spotify': 'https://open.spotify.com/artist/5etQ4qBFMQkzL1CEEjRWJK'}, 'href': 'https://api.spotify.com/v1/artists/5etQ4qBFMQkzL1CEEjRWJK', 'id': '5etQ4qBFMQkzL1CEEjRWJK', 'name': 'Yakuro', 'type': 'artist', 'uri': 'spotify:artist:5etQ4qBFMQkzL1CEEjRWJK'}], 'available_markets': ['AD', 'AE', 'AR', 'AT', 'AU', 'BE', 'BG', 'BH', 'BO', 'BR', 'CA', 'CH', 'CL', 'CO', 'CR', 'CY', 'CZ', 'DE', 'DK', 'DO', 'DZ', 'EC', 'EE', 'EG', 'ES', 'FI', 'FR', 'GB', 'GR', 'GT', 'HK', 'HN', 'HU', 'ID', 'IE', 'IL', 'IN', 'IS', 'IT', 'JO', 'JP', 'KW', 'LB', 'LI', 'LT', 'LU', 'LV', 'MA', 'MC', 'MT', 'MX', 'MY', 'NI', 'NL', 'NO', 'NZ', 'OM', 'PA', 'PE', 'PH', 'PL', 'PS', 'PT', 'PY', 'QA', 'RO', 'SA', 'SE', 'SG', 'SK', 'SV', 'TH', 'TN', 'TR', 'TW', 'US', 'UY', 'VN', 'ZA'], 'disc_number': 1, 'duration_ms': 688000, 'explicit': False, 'external_ids': {'isrc': 'FRX201786144'}, 'external_urls': {'spotify': 'https://open.spotify.com/track/2EcJA9RZSfsLSq6cQOLtMu'}, 'href': 'https://api.spotify.com/v1/tracks/2EcJA9RZSfsLSq6cQOLtMu', 'id': '2EcJA9RZSfsLSq6cQOLtMu', 'is_local': False, 'name': 'Blue... The Color of Dreams', 'popularity': 18, 'preview_url': 'https://p.scdn.co/mp3-preview/ae94c5fb30a82922e805cbb8eb60a718208b23c1?cid=8038c4be0f8a4844982edce1b2282ebc', 'track_number': 2, 'type': 'track', 'uri': 'spotify:track:2EcJA9RZSfsLSq6cQOLtMu'}\n",
            "{'album': {'album_type': 'single', 'artists': [{'external_urls': {'spotify': 'https://open.spotify.com/artist/6KQQ6ka4Thwww3kjYqrG0F'}, 'href': 'https://api.spotify.com/v1/artists/6KQQ6ka4Thwww3kjYqrG0F', 'id': '6KQQ6ka4Thwww3kjYqrG0F', 'name': 'Martin Gore', 'type': 'artist', 'uri': 'spotify:artist:6KQQ6ka4Thwww3kjYqrG0F'}], 'available_markets': ['CA', 'MX', 'US'], 'external_urls': {'spotify': 'https://open.spotify.com/album/6p5w0FqlqpLkMo0T8MOx7r'}, 'href': 'https://api.spotify.com/v1/albums/6p5w0FqlqpLkMo0T8MOx7r', 'id': '6p5w0FqlqpLkMo0T8MOx7r', 'images': [{'height': 640, 'url': 'https://i.scdn.co/image/ab67616d0000b273658683b9b07859178b864bec', 'width': 640}, {'height': 300, 'url': 'https://i.scdn.co/image/ab67616d00001e02658683b9b07859178b864bec', 'width': 300}, {'height': 64, 'url': 'https://i.scdn.co/image/ab67616d00004851658683b9b07859178b864bec', 'width': 64}], 'name': 'Counterfeit E.P.', 'release_date': '1989', 'release_date_precision': 'year', 'total_tracks': 6, 'type': 'album', 'uri': 'spotify:album:6p5w0FqlqpLkMo0T8MOx7r'}, 'artists': [{'external_urls': {'spotify': 'https://open.spotify.com/artist/6KQQ6ka4Thwww3kjYqrG0F'}, 'href': 'https://api.spotify.com/v1/artists/6KQQ6ka4Thwww3kjYqrG0F', 'id': '6KQQ6ka4Thwww3kjYqrG0F', 'name': 'Martin Gore', 'type': 'artist', 'uri': 'spotify:artist:6KQQ6ka4Thwww3kjYqrG0F'}], 'available_markets': ['CA', 'MX', 'US'], 'disc_number': 1, 'duration_ms': 259800, 'explicit': False, 'external_ids': {'isrc': 'USRE10900723'}, 'external_urls': {'spotify': 'https://open.spotify.com/track/3yePYpujYvb2KZTdmZCwQg'}, 'href': 'https://api.spotify.com/v1/tracks/3yePYpujYvb2KZTdmZCwQg', 'id': '3yePYpujYvb2KZTdmZCwQg', 'is_local': False, 'name': 'In a Manner of Speaking', 'popularity': 25, 'preview_url': 'https://p.scdn.co/mp3-preview/f7f25f1a8fcad8bccfa986c9b372cdf26ad6ded1?cid=8038c4be0f8a4844982edce1b2282ebc', 'track_number': 2, 'type': 'track', 'uri': 'spotify:track:3yePYpujYvb2KZTdmZCwQg'}\n",
            "{'album': {'album_type': 'album', 'artists': [{'external_urls': {'spotify': 'https://open.spotify.com/artist/5BnNG7QQQDTNd43ozx5y13'}, 'href': 'https://api.spotify.com/v1/artists/5BnNG7QQQDTNd43ozx5y13', 'id': '5BnNG7QQQDTNd43ozx5y13', 'name': \"Blackmore's Night\", 'type': 'artist', 'uri': 'spotify:artist:5BnNG7QQQDTNd43ozx5y13'}], 'available_markets': ['AD', 'AE', 'AR', 'AT', 'AU', 'BE', 'BG', 'BH', 'BO', 'BR', 'CA', 'CH', 'CL', 'CO', 'CR', 'CY', 'CZ', 'DE', 'DK', 'DO', 'DZ', 'EC', 'EE', 'EG', 'ES', 'FI', 'FR', 'GB', 'GR', 'GT', 'HK', 'HN', 'HU', 'ID', 'IE', 'IL', 'IN', 'IS', 'IT', 'JO', 'JP', 'KW', 'LB', 'LI', 'LT', 'LU', 'LV', 'MA', 'MC', 'MT', 'MX', 'MY', 'NI', 'NL', 'NO', 'NZ', 'OM', 'PA', 'PE', 'PH', 'PL', 'PS', 'PT', 'PY', 'QA', 'RO', 'SA', 'SE', 'SG', 'SK', 'SV', 'TH', 'TN', 'TR', 'TW', 'US', 'UY', 'VN', 'ZA'], 'external_urls': {'spotify': 'https://open.spotify.com/album/5Be5KC2Gi1mFG8d3DN7Hws'}, 'href': 'https://api.spotify.com/v1/albums/5Be5KC2Gi1mFG8d3DN7Hws', 'id': '5Be5KC2Gi1mFG8d3DN7Hws', 'images': [{'height': 640, 'url': 'https://i.scdn.co/image/ab67616d0000b2730564c5aa440b9411552ce58d', 'width': 640}, {'height': 300, 'url': 'https://i.scdn.co/image/ab67616d00001e020564c5aa440b9411552ce58d', 'width': 300}, {'height': 64, 'url': 'https://i.scdn.co/image/ab67616d000048510564c5aa440b9411552ce58d', 'width': 64}], 'name': 'Ghost of a Rose', 'release_date': '2003-06-30', 'release_date_precision': 'day', 'total_tracks': 15, 'type': 'album', 'uri': 'spotify:album:5Be5KC2Gi1mFG8d3DN7Hws'}, 'artists': [{'external_urls': {'spotify': 'https://open.spotify.com/artist/5BnNG7QQQDTNd43ozx5y13'}, 'href': 'https://api.spotify.com/v1/artists/5BnNG7QQQDTNd43ozx5y13', 'id': '5BnNG7QQQDTNd43ozx5y13', 'name': \"Blackmore's Night\", 'type': 'artist', 'uri': 'spotify:artist:5BnNG7QQQDTNd43ozx5y13'}], 'available_markets': ['AD', 'AE', 'AR', 'AT', 'AU', 'BE', 'BG', 'BH', 'BO', 'BR', 'CA', 'CH', 'CL', 'CO', 'CR', 'CY', 'CZ', 'DE', 'DK', 'DO', 'DZ', 'EC', 'EE', 'EG', 'ES', 'FI', 'FR', 'GB', 'GR', 'GT', 'HK', 'HN', 'HU', 'ID', 'IE', 'IL', 'IN', 'IS', 'IT', 'JO', 'JP', 'KW', 'LB', 'LI', 'LT', 'LU', 'LV', 'MA', 'MC', 'MT', 'MX', 'MY', 'NI', 'NL', 'NO', 'NZ', 'OM', 'PA', 'PE', 'PH', 'PL', 'PS', 'PT', 'PY', 'QA', 'RO', 'SA', 'SE', 'SG', 'SK', 'SV', 'TH', 'TN', 'TR', 'TW', 'US', 'UY', 'VN', 'ZA'], 'disc_number': 1, 'duration_ms': 244760, 'explicit': False, 'external_ids': {'isrc': 'DEZ901000331'}, 'external_urls': {'spotify': 'https://open.spotify.com/track/7egPYhEXcKE0WFGn2qt1Yz'}, 'href': 'https://api.spotify.com/v1/tracks/7egPYhEXcKE0WFGn2qt1Yz', 'id': '7egPYhEXcKE0WFGn2qt1Yz', 'is_local': False, 'name': 'Where Are We Going from Here', 'popularity': 28, 'preview_url': 'https://p.scdn.co/mp3-preview/78875465080b7f5d2475eb1457a5a691ebc9e558?cid=8038c4be0f8a4844982edce1b2282ebc', 'track_number': 12, 'type': 'track', 'uri': 'spotify:track:7egPYhEXcKE0WFGn2qt1Yz'}\n",
            "song All of this and nothing artist:david gahan not found\n",
            "{'album': {'album_type': 'album', 'artists': [{'external_urls': {'spotify': 'https://open.spotify.com/artist/4fwuXg6XQHfdlOdmw36OHa'}, 'href': 'https://api.spotify.com/v1/artists/4fwuXg6XQHfdlOdmw36OHa', 'id': '4fwuXg6XQHfdlOdmw36OHa', 'name': 'Paloma Faith', 'type': 'artist', 'uri': 'spotify:artist:4fwuXg6XQHfdlOdmw36OHa'}], 'available_markets': ['AD', 'AE', 'AR', 'AT', 'AU', 'BE', 'BG', 'BH', 'BO', 'BR', 'CA', 'CH', 'CL', 'CO', 'CR', 'CY', 'CZ', 'DE', 'DK', 'DO', 'DZ', 'EC', 'EE', 'EG', 'ES', 'FI', 'FR', 'GB', 'GR', 'GT', 'HK', 'HN', 'HU', 'ID', 'IE', 'IL', 'IN', 'IS', 'IT', 'JO', 'JP', 'KW', 'LB', 'LI', 'LT', 'LU', 'LV', 'MA', 'MC', 'MT', 'MX', 'MY', 'NI', 'NL', 'NO', 'NZ', 'OM', 'PA', 'PE', 'PH', 'PL', 'PS', 'PT', 'PY', 'QA', 'RO', 'SA', 'SE', 'SG', 'SK', 'SV', 'TH', 'TN', 'TR', 'TW', 'US', 'UY', 'VN', 'ZA'], 'external_urls': {'spotify': 'https://open.spotify.com/album/6jXWfehoSTsRDXExVJMeAh'}, 'href': 'https://api.spotify.com/v1/albums/6jXWfehoSTsRDXExVJMeAh', 'id': '6jXWfehoSTsRDXExVJMeAh', 'images': [{'height': 640, 'url': 'https://i.scdn.co/image/ab67616d0000b2736c099678098ab74ffb712ccd', 'width': 640}, {'height': 300, 'url': 'https://i.scdn.co/image/ab67616d00001e026c099678098ab74ffb712ccd', 'width': 300}, {'height': 64, 'url': 'https://i.scdn.co/image/ab67616d000048516c099678098ab74ffb712ccd', 'width': 64}], 'name': 'The Architect (Zeitgeist Edition)', 'release_date': '2018-11-16', 'release_date_precision': 'day', 'total_tracks': 25, 'type': 'album', 'uri': 'spotify:album:6jXWfehoSTsRDXExVJMeAh'}, 'artists': [{'external_urls': {'spotify': 'https://open.spotify.com/artist/4fwuXg6XQHfdlOdmw36OHa'}, 'href': 'https://api.spotify.com/v1/artists/4fwuXg6XQHfdlOdmw36OHa', 'id': '4fwuXg6XQHfdlOdmw36OHa', 'name': 'Paloma Faith', 'type': 'artist', 'uri': 'spotify:artist:4fwuXg6XQHfdlOdmw36OHa'}], 'available_markets': ['AD', 'AE', 'AR', 'AT', 'AU', 'BE', 'BG', 'BH', 'BO', 'BR', 'CA', 'CH', 'CL', 'CO', 'CR', 'CY', 'CZ', 'DE', 'DK', 'DO', 'DZ', 'EC', 'EE', 'EG', 'ES', 'FI', 'FR', 'GB', 'GR', 'GT', 'HK', 'HN', 'HU', 'ID', 'IE', 'IL', 'IN', 'IS', 'IT', 'JO', 'JP', 'KW', 'LB', 'LI', 'LT', 'LU', 'LV', 'MA', 'MC', 'MT', 'MX', 'MY', 'NI', 'NL', 'NO', 'NZ', 'OM', 'PA', 'PE', 'PH', 'PL', 'PS', 'PT', 'PY', 'QA', 'RO', 'SA', 'SE', 'SG', 'SK', 'SV', 'TH', 'TN', 'TR', 'TW', 'US', 'UY', 'VN', 'ZA'], 'disc_number': 1, 'duration_ms': 224146, 'explicit': False, 'external_ids': {'isrc': 'GBARL1701789'}, 'external_urls': {'spotify': 'https://open.spotify.com/track/5EpvQcpMPOJbIAdbtDmxxS'}, 'href': 'https://api.spotify.com/v1/tracks/5EpvQcpMPOJbIAdbtDmxxS', 'id': '5EpvQcpMPOJbIAdbtDmxxS', 'is_local': False, 'name': 'Warrior', 'popularity': 44, 'preview_url': 'https://p.scdn.co/mp3-preview/83baf346468e65725a367adb0e8a70670e189484?cid=8038c4be0f8a4844982edce1b2282ebc', 'track_number': 15, 'type': 'track', 'uri': 'spotify:track:5EpvQcpMPOJbIAdbtDmxxS'}\n",
            "{'album': {'album_type': 'album', 'artists': [{'external_urls': {'spotify': 'https://open.spotify.com/artist/5WUlDfRSoLAfcVSX1WnrxN'}, 'href': 'https://api.spotify.com/v1/artists/5WUlDfRSoLAfcVSX1WnrxN', 'id': '5WUlDfRSoLAfcVSX1WnrxN', 'name': 'Sia', 'type': 'artist', 'uri': 'spotify:artist:5WUlDfRSoLAfcVSX1WnrxN'}], 'available_markets': ['AD', 'AE', 'AR', 'AT', 'BE', 'BG', 'BH', 'BO', 'BR', 'CA', 'CH', 'CL', 'CO', 'CR', 'CY', 'CZ', 'DE', 'DK', 'DO', 'DZ', 'EC', 'EE', 'EG', 'ES', 'FI', 'FR', 'GB', 'GR', 'GT', 'HK', 'HN', 'HU', 'ID', 'IE', 'IL', 'IN', 'IS', 'IT', 'JO', 'JP', 'KW', 'LB', 'LI', 'LT', 'LU', 'LV', 'MA', 'MC', 'MT', 'MX', 'MY', 'NI', 'NL', 'NO', 'OM', 'PA', 'PE', 'PH', 'PL', 'PS', 'PT', 'PY', 'QA', 'RO', 'SA', 'SE', 'SG', 'SK', 'SV', 'TH', 'TN', 'TR', 'TW', 'US', 'UY', 'VN', 'ZA'], 'external_urls': {'spotify': 'https://open.spotify.com/album/2eV6DIPDnGl1idcjww6xyX'}, 'href': 'https://api.spotify.com/v1/albums/2eV6DIPDnGl1idcjww6xyX', 'id': '2eV6DIPDnGl1idcjww6xyX', 'images': [{'height': 640, 'url': 'https://i.scdn.co/image/ab67616d0000b273754b2fddebe7039fdb912837', 'width': 640}, {'height': 300, 'url': 'https://i.scdn.co/image/ab67616d00001e02754b2fddebe7039fdb912837', 'width': 300}, {'height': 64, 'url': 'https://i.scdn.co/image/ab67616d00004851754b2fddebe7039fdb912837', 'width': 64}], 'name': 'This Is Acting (Deluxe Version)', 'release_date': '2016-10-21', 'release_date_precision': 'day', 'total_tracks': 19, 'type': 'album', 'uri': 'spotify:album:2eV6DIPDnGl1idcjww6xyX'}, 'artists': [{'external_urls': {'spotify': 'https://open.spotify.com/artist/5WUlDfRSoLAfcVSX1WnrxN'}, 'href': 'https://api.spotify.com/v1/artists/5WUlDfRSoLAfcVSX1WnrxN', 'id': '5WUlDfRSoLAfcVSX1WnrxN', 'name': 'Sia', 'type': 'artist', 'uri': 'spotify:artist:5WUlDfRSoLAfcVSX1WnrxN'}], 'available_markets': ['AD', 'AE', 'AR', 'AT', 'BE', 'BG', 'BH', 'BO', 'BR', 'CA', 'CH', 'CL', 'CO', 'CR', 'CY', 'CZ', 'DE', 'DK', 'DO', 'DZ', 'EC', 'EE', 'EG', 'ES', 'FI', 'FR', 'GB', 'GR', 'GT', 'HK', 'HN', 'HU', 'ID', 'IE', 'IL', 'IN', 'IS', 'IT', 'JO', 'JP', 'KW', 'LB', 'LI', 'LT', 'LU', 'LV', 'MA', 'MC', 'MT', 'MX', 'MY', 'NI', 'NL', 'NO', 'OM', 'PA', 'PE', 'PH', 'PL', 'PS', 'PT', 'PY', 'QA', 'RO', 'SA', 'SE', 'SG', 'SK', 'SV', 'TH', 'TN', 'TR', 'TW', 'US', 'UY', 'VN', 'ZA'], 'disc_number': 1, 'duration_ms': 264986, 'explicit': False, 'external_ids': {'isrc': 'USRC11502940'}, 'external_urls': {'spotify': 'https://open.spotify.com/track/22iKiimk9wEJWdHlKdtFsA'}, 'href': 'https://api.spotify.com/v1/tracks/22iKiimk9wEJWdHlKdtFsA', 'id': '22iKiimk9wEJWdHlKdtFsA', 'is_local': False, 'name': 'Broken Glass', 'popularity': 54, 'preview_url': 'https://p.scdn.co/mp3-preview/0492854ab126902be840aeeb8359ca26bebba0b7?cid=8038c4be0f8a4844982edce1b2282ebc', 'track_number': 11, 'type': 'track', 'uri': 'spotify:track:22iKiimk9wEJWdHlKdtFsA'}\n",
            "added 10 tracks\n"
          ],
          "name": "stdout"
        }
      ]
    },
    {
      "cell_type": "code",
      "metadata": {
        "id": "N5hUvWG9FHwI",
        "colab_type": "code",
        "outputId": "d97eb328-647d-40a9-c8f6-c9f19d2b9d4e",
        "colab": {
          "base_uri": "https://localhost:8080/",
          "height": 616
        }
      },
      "source": [
        "df = pd.io.json.json_normalize(songs_found)\n",
        "#display(list(songs_found))\n",
        "df.head(10)"
      ],
      "execution_count": 141,
      "outputs": [
        {
          "output_type": "execute_result",
          "data": {
            "text/html": [
              "<div>\n",
              "<style scoped>\n",
              "    .dataframe tbody tr th:only-of-type {\n",
              "        vertical-align: middle;\n",
              "    }\n",
              "\n",
              "    .dataframe tbody tr th {\n",
              "        vertical-align: top;\n",
              "    }\n",
              "\n",
              "    .dataframe thead th {\n",
              "        text-align: right;\n",
              "    }\n",
              "</style>\n",
              "<table border=\"1\" class=\"dataframe\">\n",
              "  <thead>\n",
              "    <tr style=\"text-align: right;\">\n",
              "      <th></th>\n",
              "      <th>id</th>\n",
              "      <th>acousticness</th>\n",
              "      <th>danceability</th>\n",
              "      <th>energy</th>\n",
              "      <th>instrumentalness</th>\n",
              "      <th>liveness</th>\n",
              "      <th>loudness</th>\n",
              "      <th>speechiness</th>\n",
              "      <th>tempo</th>\n",
              "      <th>valence</th>\n",
              "      <th>popularity</th>\n",
              "      <th>release_date</th>\n",
              "      <th>artist_name</th>\n",
              "      <th>song_name</th>\n",
              "    </tr>\n",
              "  </thead>\n",
              "  <tbody>\n",
              "    <tr>\n",
              "      <th>0</th>\n",
              "      <td>3yzlDHdP9buTr9jkZfUyEq</td>\n",
              "      <td>0.055400</td>\n",
              "      <td>0.642</td>\n",
              "      <td>0.833</td>\n",
              "      <td>0.865000</td>\n",
              "      <td>0.272</td>\n",
              "      <td>-8.621</td>\n",
              "      <td>0.0358</td>\n",
              "      <td>100.015</td>\n",
              "      <td>0.0493</td>\n",
              "      <td>21</td>\n",
              "      <td>2014-12-08</td>\n",
              "      <td>Nibana</td>\n",
              "      <td>Our Eyes - Sephira Remix</td>\n",
              "    </tr>\n",
              "    <tr>\n",
              "      <th>1</th>\n",
              "      <td>4Bvxi5oUS3M4DezTfsd5pp</td>\n",
              "      <td>0.302000</td>\n",
              "      <td>0.548</td>\n",
              "      <td>0.496</td>\n",
              "      <td>0.135000</td>\n",
              "      <td>0.321</td>\n",
              "      <td>-13.466</td>\n",
              "      <td>0.0355</td>\n",
              "      <td>102.062</td>\n",
              "      <td>0.0973</td>\n",
              "      <td>49</td>\n",
              "      <td>2010-01-01</td>\n",
              "      <td>Daft Punk</td>\n",
              "      <td>The Grid</td>\n",
              "    </tr>\n",
              "    <tr>\n",
              "      <th>2</th>\n",
              "      <td>5ld9arEKsxvJr7RqoWd337</td>\n",
              "      <td>0.077700</td>\n",
              "      <td>0.533</td>\n",
              "      <td>0.864</td>\n",
              "      <td>0.904000</td>\n",
              "      <td>0.130</td>\n",
              "      <td>-7.941</td>\n",
              "      <td>0.0394</td>\n",
              "      <td>119.023</td>\n",
              "      <td>0.0787</td>\n",
              "      <td>40</td>\n",
              "      <td>2017-09-15</td>\n",
              "      <td>The Alan Parsons Project</td>\n",
              "      <td>Sirius 2017 - Disco Demolition Remix</td>\n",
              "    </tr>\n",
              "    <tr>\n",
              "      <th>3</th>\n",
              "      <td>0gX7U91bqxtZVLIZ0MhsTC</td>\n",
              "      <td>0.000242</td>\n",
              "      <td>0.575</td>\n",
              "      <td>0.908</td>\n",
              "      <td>0.537000</td>\n",
              "      <td>0.440</td>\n",
              "      <td>-7.535</td>\n",
              "      <td>0.0345</td>\n",
              "      <td>126.001</td>\n",
              "      <td>0.0713</td>\n",
              "      <td>37</td>\n",
              "      <td>2018-05-18</td>\n",
              "      <td>Pryda</td>\n",
              "      <td>Project L.O.V.E</td>\n",
              "    </tr>\n",
              "    <tr>\n",
              "      <th>4</th>\n",
              "      <td>1xPec5BN0Zxv77zrWKq43S</td>\n",
              "      <td>0.901000</td>\n",
              "      <td>0.543</td>\n",
              "      <td>0.775</td>\n",
              "      <td>0.902000</td>\n",
              "      <td>0.258</td>\n",
              "      <td>-17.616</td>\n",
              "      <td>0.0520</td>\n",
              "      <td>106.018</td>\n",
              "      <td>0.0222</td>\n",
              "      <td>55</td>\n",
              "      <td>2010-01-01</td>\n",
              "      <td>Daft Punk</td>\n",
              "      <td>The Son of Flynn</td>\n",
              "    </tr>\n",
              "    <tr>\n",
              "      <th>5</th>\n",
              "      <td>2EcJA9RZSfsLSq6cQOLtMu</td>\n",
              "      <td>0.393000</td>\n",
              "      <td>0.521</td>\n",
              "      <td>0.660</td>\n",
              "      <td>0.831000</td>\n",
              "      <td>0.117</td>\n",
              "      <td>-10.207</td>\n",
              "      <td>0.0260</td>\n",
              "      <td>119.996</td>\n",
              "      <td>0.1610</td>\n",
              "      <td>18</td>\n",
              "      <td>2013-03-17</td>\n",
              "      <td>Yakuro</td>\n",
              "      <td>Blue... The Color of Dreams</td>\n",
              "    </tr>\n",
              "    <tr>\n",
              "      <th>6</th>\n",
              "      <td>3yePYpujYvb2KZTdmZCwQg</td>\n",
              "      <td>0.052800</td>\n",
              "      <td>0.601</td>\n",
              "      <td>0.466</td>\n",
              "      <td>0.833000</td>\n",
              "      <td>0.210</td>\n",
              "      <td>-14.061</td>\n",
              "      <td>0.0280</td>\n",
              "      <td>109.995</td>\n",
              "      <td>0.1650</td>\n",
              "      <td>25</td>\n",
              "      <td>1989</td>\n",
              "      <td>Martin Gore</td>\n",
              "      <td>In a Manner of Speaking</td>\n",
              "    </tr>\n",
              "    <tr>\n",
              "      <th>7</th>\n",
              "      <td>7egPYhEXcKE0WFGn2qt1Yz</td>\n",
              "      <td>0.575000</td>\n",
              "      <td>0.497</td>\n",
              "      <td>0.388</td>\n",
              "      <td>0.000002</td>\n",
              "      <td>0.131</td>\n",
              "      <td>-10.266</td>\n",
              "      <td>0.0300</td>\n",
              "      <td>152.113</td>\n",
              "      <td>0.1960</td>\n",
              "      <td>28</td>\n",
              "      <td>2003-06-30</td>\n",
              "      <td>Blackmore's Night</td>\n",
              "      <td>Where Are We Going from Here</td>\n",
              "    </tr>\n",
              "    <tr>\n",
              "      <th>8</th>\n",
              "      <td>5EpvQcpMPOJbIAdbtDmxxS</td>\n",
              "      <td>0.004290</td>\n",
              "      <td>0.424</td>\n",
              "      <td>0.773</td>\n",
              "      <td>0.000322</td>\n",
              "      <td>0.115</td>\n",
              "      <td>-5.158</td>\n",
              "      <td>0.0627</td>\n",
              "      <td>145.900</td>\n",
              "      <td>0.3050</td>\n",
              "      <td>44</td>\n",
              "      <td>2018-11-16</td>\n",
              "      <td>Paloma Faith</td>\n",
              "      <td>Warrior</td>\n",
              "    </tr>\n",
              "    <tr>\n",
              "      <th>9</th>\n",
              "      <td>22iKiimk9wEJWdHlKdtFsA</td>\n",
              "      <td>0.012800</td>\n",
              "      <td>0.406</td>\n",
              "      <td>0.917</td>\n",
              "      <td>0.057100</td>\n",
              "      <td>0.120</td>\n",
              "      <td>-2.812</td>\n",
              "      <td>0.0662</td>\n",
              "      <td>154.033</td>\n",
              "      <td>0.3970</td>\n",
              "      <td>54</td>\n",
              "      <td>2016-10-21</td>\n",
              "      <td>Sia</td>\n",
              "      <td>Broken Glass</td>\n",
              "    </tr>\n",
              "  </tbody>\n",
              "</table>\n",
              "</div>"
            ],
            "text/plain": [
              "                       id  ...                             song_name\n",
              "0  3yzlDHdP9buTr9jkZfUyEq  ...              Our Eyes - Sephira Remix\n",
              "1  4Bvxi5oUS3M4DezTfsd5pp  ...                              The Grid\n",
              "2  5ld9arEKsxvJr7RqoWd337  ...  Sirius 2017 - Disco Demolition Remix\n",
              "3  0gX7U91bqxtZVLIZ0MhsTC  ...                       Project L.O.V.E\n",
              "4  1xPec5BN0Zxv77zrWKq43S  ...                      The Son of Flynn\n",
              "5  2EcJA9RZSfsLSq6cQOLtMu  ...           Blue... The Color of Dreams\n",
              "6  3yePYpujYvb2KZTdmZCwQg  ...               In a Manner of Speaking\n",
              "7  7egPYhEXcKE0WFGn2qt1Yz  ...          Where Are We Going from Here\n",
              "8  5EpvQcpMPOJbIAdbtDmxxS  ...                               Warrior\n",
              "9  22iKiimk9wEJWdHlKdtFsA  ...                          Broken Glass\n",
              "\n",
              "[10 rows x 14 columns]"
            ]
          },
          "metadata": {
            "tags": []
          },
          "execution_count": 141
        }
      ]
    },
    {
      "cell_type": "code",
      "metadata": {
        "id": "zk-E5P-YflZu",
        "colab_type": "code",
        "colab": {}
      },
      "source": [
        "  "
      ],
      "execution_count": 0,
      "outputs": []
    }
  ]
}