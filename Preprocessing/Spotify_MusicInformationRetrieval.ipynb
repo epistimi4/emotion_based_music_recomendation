{
  "nbformat": 4,
  "nbformat_minor": 0,
  "metadata": {
    "colab": {
      "name": "Spotify_MusicInformationRetrieval.ipynb",
      "provenance": []
    },
    "kernelspec": {
      "name": "python3",
      "display_name": "Python 3"
    }
  },
  "cells": [
    {
      "cell_type": "markdown",
      "metadata": {
        "id": "C7eQHubQZQ0R",
        "colab_type": "text"
      },
      "source": [
        "# Music Information Retrieval from Spotify #"
      ]
    },
    {
      "cell_type": "code",
      "metadata": {
        "id": "pCSffweAHAn7",
        "colab_type": "code",
        "outputId": "4c07fee8-3e16-4c5b-b889-d411f9f53d46",
        "colab": {
          "base_uri": "https://localhost:8080/",
          "height": 251
        }
      },
      "source": [
        "!pip install spotipy"
      ],
      "execution_count": 1,
      "outputs": [
        {
          "output_type": "stream",
          "text": [
            "Collecting spotipy\n",
            "  Downloading https://files.pythonhosted.org/packages/59/46/3c957255c96910a8a0e2d9c25db1de51a8676ebba01d7966bedc6e748822/spotipy-2.4.4.tar.gz\n",
            "Requirement already satisfied: requests>=1.0 in /usr/local/lib/python3.6/dist-packages (from spotipy) (2.21.0)\n",
            "Requirement already satisfied: certifi>=2017.4.17 in /usr/local/lib/python3.6/dist-packages (from requests>=1.0->spotipy) (2019.11.28)\n",
            "Requirement already satisfied: urllib3<1.25,>=1.21.1 in /usr/local/lib/python3.6/dist-packages (from requests>=1.0->spotipy) (1.24.3)\n",
            "Requirement already satisfied: idna<2.9,>=2.5 in /usr/local/lib/python3.6/dist-packages (from requests>=1.0->spotipy) (2.8)\n",
            "Requirement already satisfied: chardet<3.1.0,>=3.0.2 in /usr/local/lib/python3.6/dist-packages (from requests>=1.0->spotipy) (3.0.4)\n",
            "Building wheels for collected packages: spotipy\n",
            "  Building wheel for spotipy (setup.py) ... \u001b[?25l\u001b[?25hdone\n",
            "  Created wheel for spotipy: filename=spotipy-2.4.4-cp36-none-any.whl size=12336 sha256=f6a8617550d44f064af815ecb027b9ef9e1b060d7325140632b2d7be3e0799d5\n",
            "  Stored in directory: /root/.cache/pip/wheels/76/28/19/a86ca9bb0e32dbd4a4f580870250f5aeef852870578e0427e6\n",
            "Successfully built spotipy\n",
            "Installing collected packages: spotipy\n",
            "Successfully installed spotipy-2.4.4\n"
          ],
          "name": "stdout"
        }
      ]
    },
    {
      "cell_type": "code",
      "metadata": {
        "id": "RLj8ToFsZN9q",
        "colab_type": "code",
        "colab": {}
      },
      "source": [
        "import numpy as np\n",
        "import spotipy\n",
        "from spotipy.oauth2 import SpotifyClientCredentials #to access authorised Spotify data\n",
        "import json"
      ],
      "execution_count": 0,
      "outputs": []
    },
    {
      "cell_type": "markdown",
      "metadata": {
        "id": "oe9ODLm5-Yet",
        "colab_type": "text"
      },
      "source": [
        "### Authorization flows ###"
      ]
    },
    {
      "cell_type": "markdown",
      "metadata": {
        "id": "PjYT3ccTHxYv",
        "colab_type": "text"
      },
      "source": [
        "#### deprecated using Spotipy library ####"
      ]
    },
    {
      "cell_type": "code",
      "metadata": {
        "id": "s00o-CHb-TIW",
        "colab_type": "code",
        "colab": {}
      },
      "source": [
        "#deprecated\n",
        "#Temporary user authorization: Implicit Grant\n",
        "auth_request = requests.get(\n",
        "    'https://accounts.spotify.com/authorize?client_id=8038c4be0f8a4844982edce1b2282ebc&\\\n",
        "    redirect_uri=http:%2F%2Fexample.com%2Fcallback&scope=user-read-private%20user-read-email&response_type=token&state=123')\n",
        "\n",
        "print(auth_request.content)\n",
        "response_dict = json.loads(auth_request.text)\n",
        "\n",
        "for i in response_dict:\n",
        "    print(\"key: \", i, \"val: \", response_dict[i])"
      ],
      "execution_count": 0,
      "outputs": []
    },
    {
      "cell_type": "code",
      "metadata": {
        "id": "O3Ov47tXakno",
        "colab_type": "code",
        "outputId": "bec218db-91fb-439b-91ac-1fd16fadaf58",
        "colab": {
          "base_uri": "https://localhost:8080/",
          "height": 33
        }
      },
      "source": [
        "access_token = '1bd8da3a234e4060a6801a432c0e877d'\n",
        "artist_name = 'Nibana'\n",
        "\n",
        "artist_info = requests.get(\n",
        "    'https://api.spotify.com/v1/search',\n",
        "    headers={ 'access_token': access_token },\n",
        "    params={ 'q': artist_name, 'type': 'artist' })\n",
        "\n",
        "print(artist_info)"
      ],
      "execution_count": 0,
      "outputs": [
        {
          "output_type": "stream",
          "text": [
            "<Response [401]>\n"
          ],
          "name": "stdout"
        }
      ]
    },
    {
      "cell_type": "markdown",
      "metadata": {
        "id": "cAKghY_1VaWL",
        "colab_type": "text"
      },
      "source": [
        "### Using spotipy ###"
      ]
    },
    {
      "cell_type": "markdown",
      "metadata": {
        "id": "VF2FTDbSIf0Q",
        "colab_type": "text"
      },
      "source": [
        "#### Authorize app ####"
      ]
    },
    {
      "cell_type": "code",
      "metadata": {
        "id": "8rvlpP7JIaEm",
        "colab_type": "code",
        "colab": {}
      },
      "source": [
        "client_id = '8038c4be0f8a4844982edce1b2282ebc'\n",
        "client_secret = '1bd8da3a234e4060a6801a432c0e877d'\n",
        "\n",
        "client_credentials_manager = SpotifyClientCredentials(client_id=client_id, client_secret=client_secret)\n",
        "\n",
        "sp = spotipy.Spotify(client_credentials_manager=client_credentials_manager) #spotify object to access API"
      ],
      "execution_count": 0,
      "outputs": []
    },
    {
      "cell_type": "markdown",
      "metadata": {
        "id": "LYcMPtAXG4NV",
        "colab_type": "text"
      },
      "source": [
        "### Extract metadata /audio features from a song ###"
      ]
    },
    {
      "cell_type": "code",
      "metadata": {
        "id": "zPuweCVl7rfq",
        "colab_type": "code",
        "colab": {}
      },
      "source": [
        "# extract audio features for each song\n",
        "def audio_features(song_name, track_id):\n",
        "    spotify_songs=[]\n",
        "    spotify_song = {}\n",
        "  \n",
        "    #for track in songs_found:\n",
        "        #pull audio features per track\n",
        "        \n",
        "    features = sp.audio_features(track_id)\n",
        "    spotify_song['id'] = features[0]['id']\n",
        "    #Append to relevant key-value\n",
        "    spotify_song['acousticness'] = features[0]['acousticness']\n",
        "    spotify_song['danceability'] = features[0]['danceability']\n",
        "    spotify_song['energy'] = features[0]['energy']\n",
        "    spotify_song['instrumentalness'] = features[0]['instrumentalness']\n",
        "    spotify_song['liveness'] = features[0]['liveness']\n",
        "    spotify_song['loudness'] = features[0]['loudness']\n",
        "    spotify_song['speechiness'] = features[0]['speechiness']\n",
        "    spotify_song['tempo'] = features[0]['tempo']\n",
        "    spotify_song['valence'] = features[0]['valence']\n",
        "    #popularity is stored elsewhere\n",
        "    pop = sp.track(track_id)#track['id'])\n",
        "    spotify_song['popularity'] = pop['popularity']\n",
        "    spotify_song['song_name'] = pop['name']\n",
        "    \n",
        "    #if spotify_song['song_name'].lower() == song_name.lower():\n",
        "    print(song_name, spotify_song['song_name'])\n",
        "    if not any(d['song_name'] == spotify_song['song_name'] for d in spotify_songs):\n",
        "      spotify_songs.append(spotify_song)          \n",
        "\n",
        "    return spotify_songs"
      ],
      "execution_count": 0,
      "outputs": []
    },
    {
      "cell_type": "markdown",
      "metadata": {
        "id": "jxYlS516nPA6",
        "colab_type": "text"
      },
      "source": [
        "### Search spotify for the songs in my list ###"
      ]
    },
    {
      "cell_type": "code",
      "metadata": {
        "id": "NKb6yambEcRS",
        "colab_type": "code",
        "outputId": "81ce0962-5b34-4bf7-a61a-9f97ef9cbf64",
        "colab": {
          "base_uri": "https://localhost:8080/",
          "height": 271
        }
      },
      "source": [
        "songs_found = []\n",
        "song_list = [\"our eyes (sephira remix)\", \"the grid\", 'Sirius 2017(Disco Demolition Remix)', 'Project L.O.V.E', 'Tron Legacy - Son Of Flynn', 'Blue... The Color of Dreams']\n",
        "print('my playlist has {0} songs'.format(len(song_list)))\n",
        "\n",
        "for name in song_list:  #chosen track\n",
        "  result = sp.search(name) #search query\n",
        "  track_id = result['tracks']['items'][0]['id']\n",
        "  print(track_id, result['tracks']['items'][0])\n",
        "  #print(sp.audio_features([track_id]))\n",
        "  songs_found.append(audio_features(name, track_id))#result['tracks']['items']) )\n",
        "\n",
        "print('added {0} tracks'.format(len(songs_found)))"
      ],
      "execution_count": 38,
      "outputs": [
        {
          "output_type": "stream",
          "text": [
            "my playlist has 6 songs\n",
            "3yzlDHdP9buTr9jkZfUyEq {'album': {'album_type': 'album', 'artists': [{'external_urls': {'spotify': 'https://open.spotify.com/artist/01nFu4fAUjWLTZX3OPpFJx'}, 'href': 'https://api.spotify.com/v1/artists/01nFu4fAUjWLTZX3OPpFJx', 'id': '01nFu4fAUjWLTZX3OPpFJx', 'name': 'Nibana', 'type': 'artist', 'uri': 'spotify:artist:01nFu4fAUjWLTZX3OPpFJx'}], 'available_markets': ['AD', 'AE', 'AR', 'AT', 'AU', 'BE', 'BG', 'BH', 'BO', 'BR', 'CA', 'CH', 'CL', 'CO', 'CR', 'CY', 'CZ', 'DE', 'DK', 'DO', 'DZ', 'EC', 'EE', 'EG', 'ES', 'FI', 'FR', 'GB', 'GR', 'GT', 'HK', 'HN', 'HU', 'ID', 'IE', 'IL', 'IN', 'IS', 'IT', 'JO', 'JP', 'KW', 'LB', 'LI', 'LT', 'LU', 'LV', 'MA', 'MC', 'MT', 'MX', 'MY', 'NI', 'NL', 'NO', 'NZ', 'OM', 'PA', 'PE', 'PH', 'PL', 'PS', 'PT', 'PY', 'QA', 'RO', 'SA', 'SE', 'SG', 'SK', 'SV', 'TH', 'TN', 'TR', 'TW', 'US', 'UY', 'VN', 'ZA'], 'external_urls': {'spotify': 'https://open.spotify.com/album/4uudHWe6Q5gxGOd1yAU3Qf'}, 'href': 'https://api.spotify.com/v1/albums/4uudHWe6Q5gxGOd1yAU3Qf', 'id': '4uudHWe6Q5gxGOd1yAU3Qf', 'images': [{'height': 640, 'url': 'https://i.scdn.co/image/ab67616d0000b2732cca6b32f383624ce469958d', 'width': 640}, {'height': 300, 'url': 'https://i.scdn.co/image/ab67616d00001e022cca6b32f383624ce469958d', 'width': 300}, {'height': 64, 'url': 'https://i.scdn.co/image/ab67616d000048512cca6b32f383624ce469958d', 'width': 64}], 'name': 'Ask the Universe', 'release_date': '2014-12-08', 'release_date_precision': 'day', 'total_tracks': 10, 'type': 'album', 'uri': 'spotify:album:4uudHWe6Q5gxGOd1yAU3Qf'}, 'artists': [{'external_urls': {'spotify': 'https://open.spotify.com/artist/01nFu4fAUjWLTZX3OPpFJx'}, 'href': 'https://api.spotify.com/v1/artists/01nFu4fAUjWLTZX3OPpFJx', 'id': '01nFu4fAUjWLTZX3OPpFJx', 'name': 'Nibana', 'type': 'artist', 'uri': 'spotify:artist:01nFu4fAUjWLTZX3OPpFJx'}, {'external_urls': {'spotify': 'https://open.spotify.com/artist/6U9J4NxtfWCfH7Iu2lMrNr'}, 'href': 'https://api.spotify.com/v1/artists/6U9J4NxtfWCfH7Iu2lMrNr', 'id': '6U9J4NxtfWCfH7Iu2lMrNr', 'name': 'Sephira', 'type': 'artist', 'uri': 'spotify:artist:6U9J4NxtfWCfH7Iu2lMrNr'}], 'available_markets': ['AD', 'AE', 'AR', 'AT', 'AU', 'BE', 'BG', 'BH', 'BO', 'BR', 'CA', 'CH', 'CL', 'CO', 'CR', 'CY', 'CZ', 'DE', 'DK', 'DO', 'DZ', 'EC', 'EE', 'EG', 'ES', 'FI', 'FR', 'GB', 'GR', 'GT', 'HK', 'HN', 'HU', 'ID', 'IE', 'IL', 'IN', 'IS', 'IT', 'JO', 'JP', 'KW', 'LB', 'LI', 'LT', 'LU', 'LV', 'MA', 'MC', 'MT', 'MX', 'MY', 'NI', 'NL', 'NO', 'NZ', 'OM', 'PA', 'PE', 'PH', 'PL', 'PS', 'PT', 'PY', 'QA', 'RO', 'SA', 'SE', 'SG', 'SK', 'SV', 'TH', 'TN', 'TR', 'TW', 'US', 'UY', 'VN', 'ZA'], 'disc_number': 1, 'duration_ms': 448493, 'explicit': False, 'external_ids': {'isrc': 'QM4DW1877484'}, 'external_urls': {'spotify': 'https://open.spotify.com/track/3yzlDHdP9buTr9jkZfUyEq'}, 'href': 'https://api.spotify.com/v1/tracks/3yzlDHdP9buTr9jkZfUyEq', 'id': '3yzlDHdP9buTr9jkZfUyEq', 'is_local': False, 'name': 'Our Eyes - Sephira Remix', 'popularity': 21, 'preview_url': 'https://p.scdn.co/mp3-preview/bdb71a0bd1ee0328b23bb2d27e593c3bc137d2ca?cid=8038c4be0f8a4844982edce1b2282ebc', 'track_number': 9, 'type': 'track', 'uri': 'spotify:track:3yzlDHdP9buTr9jkZfUyEq'}\n",
            "our eyes (sephira remix) Our Eyes - Sephira Remix\n",
            "5STtg0bZXSoWfF20qWGxeV {'album': {'album_type': 'single', 'artists': [{'external_urls': {'spotify': 'https://open.spotify.com/artist/7GMot9WvBYqhhJz92vhBp6'}, 'href': 'https://api.spotify.com/v1/artists/7GMot9WvBYqhhJz92vhBp6', 'id': '7GMot9WvBYqhhJz92vhBp6', 'name': 'EDX', 'type': 'artist', 'uri': 'spotify:artist:7GMot9WvBYqhhJz92vhBp6'}, {'external_urls': {'spotify': 'https://open.spotify.com/artist/4RTCIP5yp2tL1AtBCq7ukj'}, 'href': 'https://api.spotify.com/v1/artists/4RTCIP5yp2tL1AtBCq7ukj', 'id': '4RTCIP5yp2tL1AtBCq7ukj', 'name': 'Amba Shepherd', 'type': 'artist', 'uri': 'spotify:artist:4RTCIP5yp2tL1AtBCq7ukj'}], 'available_markets': ['AD', 'AE', 'AR', 'AU', 'BE', 'BG', 'BH', 'BO', 'BR', 'CA', 'CL', 'CO', 'CR', 'CY', 'CZ', 'DK', 'DO', 'DZ', 'EC', 'EE', 'EG', 'ES', 'FI', 'FR', 'GB', 'GR', 'GT', 'HK', 'HN', 'HU', 'ID', 'IE', 'IL', 'IS', 'IT', 'JO', 'JP', 'KW', 'LB', 'LT', 'LU', 'LV', 'MA', 'MC', 'MT', 'MX', 'MY', 'NI', 'NL', 'NO', 'NZ', 'OM', 'PA', 'PE', 'PH', 'PL', 'PS', 'PT', 'PY', 'QA', 'RO', 'SA', 'SE', 'SG', 'SK', 'SV', 'TH', 'TN', 'TR', 'TW', 'US', 'UY', 'VN', 'ZA'], 'external_urls': {'spotify': 'https://open.spotify.com/album/3LtRLIjbYcaQfvr1yUZPyA'}, 'href': 'https://api.spotify.com/v1/albums/3LtRLIjbYcaQfvr1yUZPyA', 'id': '3LtRLIjbYcaQfvr1yUZPyA', 'images': [{'height': 640, 'url': 'https://i.scdn.co/image/ab67616d0000b273d73df5d8a2864a04a142ec20', 'width': 640}, {'height': 300, 'url': 'https://i.scdn.co/image/ab67616d00001e02d73df5d8a2864a04a142ec20', 'width': 300}, {'height': 64, 'url': 'https://i.scdn.co/image/ab67616d00004851d73df5d8a2864a04a142ec20', 'width': 64}], 'name': 'Off The Grid', 'release_date': '2019-04-26', 'release_date_precision': 'day', 'total_tracks': 1, 'type': 'album', 'uri': 'spotify:album:3LtRLIjbYcaQfvr1yUZPyA'}, 'artists': [{'external_urls': {'spotify': 'https://open.spotify.com/artist/7GMot9WvBYqhhJz92vhBp6'}, 'href': 'https://api.spotify.com/v1/artists/7GMot9WvBYqhhJz92vhBp6', 'id': '7GMot9WvBYqhhJz92vhBp6', 'name': 'EDX', 'type': 'artist', 'uri': 'spotify:artist:7GMot9WvBYqhhJz92vhBp6'}, {'external_urls': {'spotify': 'https://open.spotify.com/artist/4RTCIP5yp2tL1AtBCq7ukj'}, 'href': 'https://api.spotify.com/v1/artists/4RTCIP5yp2tL1AtBCq7ukj', 'id': '4RTCIP5yp2tL1AtBCq7ukj', 'name': 'Amba Shepherd', 'type': 'artist', 'uri': 'spotify:artist:4RTCIP5yp2tL1AtBCq7ukj'}], 'available_markets': ['AD', 'AE', 'AR', 'AU', 'BE', 'BG', 'BH', 'BO', 'BR', 'CA', 'CL', 'CO', 'CR', 'CY', 'CZ', 'DK', 'DO', 'DZ', 'EC', 'EE', 'EG', 'ES', 'FI', 'FR', 'GB', 'GR', 'GT', 'HK', 'HN', 'HU', 'ID', 'IE', 'IL', 'IS', 'IT', 'JO', 'JP', 'KW', 'LB', 'LT', 'LU', 'LV', 'MA', 'MC', 'MT', 'MX', 'MY', 'NI', 'NL', 'NO', 'NZ', 'OM', 'PA', 'PE', 'PH', 'PL', 'PS', 'PT', 'PY', 'QA', 'RO', 'SA', 'SE', 'SG', 'SK', 'SV', 'TH', 'TN', 'TR', 'TW', 'US', 'UY', 'VN', 'ZA'], 'disc_number': 1, 'duration_ms': 175645, 'explicit': False, 'external_ids': {'isrc': 'CH3131900361'}, 'external_urls': {'spotify': 'https://open.spotify.com/track/5STtg0bZXSoWfF20qWGxeV'}, 'href': 'https://api.spotify.com/v1/tracks/5STtg0bZXSoWfF20qWGxeV', 'id': '5STtg0bZXSoWfF20qWGxeV', 'is_local': False, 'name': 'Off The Grid', 'popularity': 59, 'preview_url': 'https://p.scdn.co/mp3-preview/ef1bdac4e247043ca851fde7c8aeda5cfce24d99?cid=8038c4be0f8a4844982edce1b2282ebc', 'track_number': 1, 'type': 'track', 'uri': 'spotify:track:5STtg0bZXSoWfF20qWGxeV'}\n",
            "the grid Off The Grid\n",
            "5ld9arEKsxvJr7RqoWd337 {'album': {'album_type': 'single', 'artists': [{'external_urls': {'spotify': 'https://open.spotify.com/artist/2m62cc253Xvd9qYQ8d2X3d'}, 'href': 'https://api.spotify.com/v1/artists/2m62cc253Xvd9qYQ8d2X3d', 'id': '2m62cc253Xvd9qYQ8d2X3d', 'name': 'The Alan Parsons Project', 'type': 'artist', 'uri': 'spotify:artist:2m62cc253Xvd9qYQ8d2X3d'}], 'available_markets': ['AD', 'AE', 'AR', 'AT', 'AU', 'BE', 'BG', 'BH', 'BO', 'BR', 'CA', 'CH', 'CL', 'CO', 'CR', 'CY', 'CZ', 'DE', 'DK', 'DO', 'DZ', 'EC', 'EE', 'EG', 'ES', 'FI', 'FR', 'GB', 'GR', 'GT', 'HK', 'HN', 'HU', 'ID', 'IE', 'IL', 'IN', 'IS', 'IT', 'JO', 'JP', 'KW', 'LB', 'LI', 'LT', 'LU', 'LV', 'MA', 'MC', 'MT', 'MX', 'MY', 'NI', 'NL', 'NO', 'NZ', 'OM', 'PA', 'PE', 'PH', 'PL', 'PS', 'PT', 'PY', 'QA', 'RO', 'SA', 'SE', 'SG', 'SK', 'SV', 'TH', 'TN', 'TR', 'TW', 'US', 'UY', 'VN', 'ZA'], 'external_urls': {'spotify': 'https://open.spotify.com/album/0chYdRihRzcScNJZAx9i3t'}, 'href': 'https://api.spotify.com/v1/albums/0chYdRihRzcScNJZAx9i3t', 'id': '0chYdRihRzcScNJZAx9i3t', 'images': [{'height': 640, 'url': 'https://i.scdn.co/image/ab67616d0000b273fe69568dd55e54742ce0e14d', 'width': 640}, {'height': 300, 'url': 'https://i.scdn.co/image/ab67616d00001e02fe69568dd55e54742ce0e14d', 'width': 300}, {'height': 64, 'url': 'https://i.scdn.co/image/ab67616d00004851fe69568dd55e54742ce0e14d', 'width': 64}], 'name': 'Sirius 2017 (Disco Demolition Remix)', 'release_date': '2017-09-15', 'release_date_precision': 'day', 'total_tracks': 1, 'type': 'album', 'uri': 'spotify:album:0chYdRihRzcScNJZAx9i3t'}, 'artists': [{'external_urls': {'spotify': 'https://open.spotify.com/artist/2m62cc253Xvd9qYQ8d2X3d'}, 'href': 'https://api.spotify.com/v1/artists/2m62cc253Xvd9qYQ8d2X3d', 'id': '2m62cc253Xvd9qYQ8d2X3d', 'name': 'The Alan Parsons Project', 'type': 'artist', 'uri': 'spotify:artist:2m62cc253Xvd9qYQ8d2X3d'}, {'external_urls': {'spotify': 'https://open.spotify.com/artist/2L1W1Lz8JBETtWLopsGcAU'}, 'href': 'https://api.spotify.com/v1/artists/2L1W1Lz8JBETtWLopsGcAU', 'id': '2L1W1Lz8JBETtWLopsGcAU', 'name': 'Disco Demolition', 'type': 'artist', 'uri': 'spotify:artist:2L1W1Lz8JBETtWLopsGcAU'}], 'available_markets': ['AD', 'AE', 'AR', 'AT', 'AU', 'BE', 'BG', 'BH', 'BO', 'BR', 'CA', 'CH', 'CL', 'CO', 'CR', 'CY', 'CZ', 'DE', 'DK', 'DO', 'DZ', 'EC', 'EE', 'EG', 'ES', 'FI', 'FR', 'GB', 'GR', 'GT', 'HK', 'HN', 'HU', 'ID', 'IE', 'IL', 'IN', 'IS', 'IT', 'JO', 'JP', 'KW', 'LB', 'LI', 'LT', 'LU', 'LV', 'MA', 'MC', 'MT', 'MX', 'MY', 'NI', 'NL', 'NO', 'NZ', 'OM', 'PA', 'PE', 'PH', 'PL', 'PS', 'PT', 'PY', 'QA', 'RO', 'SA', 'SE', 'SG', 'SK', 'SV', 'TH', 'TN', 'TR', 'TW', 'US', 'UY', 'VN', 'ZA'], 'disc_number': 1, 'duration_ms': 225882, 'explicit': False, 'external_ids': {'isrc': 'USAR11700264'}, 'external_urls': {'spotify': 'https://open.spotify.com/track/5ld9arEKsxvJr7RqoWd337'}, 'href': 'https://api.spotify.com/v1/tracks/5ld9arEKsxvJr7RqoWd337', 'id': '5ld9arEKsxvJr7RqoWd337', 'is_local': False, 'name': 'Sirius 2017 - Disco Demolition Remix', 'popularity': 40, 'preview_url': 'https://p.scdn.co/mp3-preview/8a5c2b45a017be012a71fb761e0216f8f426d336?cid=8038c4be0f8a4844982edce1b2282ebc', 'track_number': 1, 'type': 'track', 'uri': 'spotify:track:5ld9arEKsxvJr7RqoWd337'}\n",
            "Sirius 2017(Disco Demolition Remix) Sirius 2017 - Disco Demolition Remix\n",
            "0gX7U91bqxtZVLIZ0MhsTC {'album': {'album_type': 'single', 'artists': [{'external_urls': {'spotify': 'https://open.spotify.com/artist/37U9sPqTZMd7AKJCWgcvkt'}, 'href': 'https://api.spotify.com/v1/artists/37U9sPqTZMd7AKJCWgcvkt', 'id': '37U9sPqTZMd7AKJCWgcvkt', 'name': 'Pryda', 'type': 'artist', 'uri': 'spotify:artist:37U9sPqTZMd7AKJCWgcvkt'}], 'available_markets': ['AD', 'AE', 'AR', 'AT', 'AU', 'BE', 'BG', 'BH', 'BO', 'BR', 'CA', 'CH', 'CL', 'CO', 'CR', 'CY', 'CZ', 'DE', 'DK', 'DO', 'DZ', 'EC', 'EE', 'EG', 'ES', 'FI', 'FR', 'GB', 'GR', 'GT', 'HK', 'HN', 'HU', 'ID', 'IE', 'IL', 'IN', 'IS', 'IT', 'JO', 'JP', 'KW', 'LB', 'LI', 'LT', 'LU', 'LV', 'MA', 'MC', 'MT', 'MX', 'MY', 'NI', 'NL', 'NO', 'NZ', 'OM', 'PA', 'PE', 'PH', 'PL', 'PS', 'PT', 'PY', 'QA', 'RO', 'SA', 'SE', 'SG', 'SK', 'SV', 'TH', 'TN', 'TR', 'TW', 'US', 'UY', 'VN', 'ZA'], 'external_urls': {'spotify': 'https://open.spotify.com/album/3Fc7CxOxoTCM2Ixyt7Vmer'}, 'href': 'https://api.spotify.com/v1/albums/3Fc7CxOxoTCM2Ixyt7Vmer', 'id': '3Fc7CxOxoTCM2Ixyt7Vmer', 'images': [{'height': 640, 'url': 'https://i.scdn.co/image/ab67616d0000b2735a446d57a6c7b3880009db06', 'width': 640}, {'height': 300, 'url': 'https://i.scdn.co/image/ab67616d00001e025a446d57a6c7b3880009db06', 'width': 300}, {'height': 64, 'url': 'https://i.scdn.co/image/ab67616d000048515a446d57a6c7b3880009db06', 'width': 64}], 'name': 'Elements', 'release_date': '2018-05-18', 'release_date_precision': 'day', 'total_tracks': 4, 'type': 'album', 'uri': 'spotify:album:3Fc7CxOxoTCM2Ixyt7Vmer'}, 'artists': [{'external_urls': {'spotify': 'https://open.spotify.com/artist/37U9sPqTZMd7AKJCWgcvkt'}, 'href': 'https://api.spotify.com/v1/artists/37U9sPqTZMd7AKJCWgcvkt', 'id': '37U9sPqTZMd7AKJCWgcvkt', 'name': 'Pryda', 'type': 'artist', 'uri': 'spotify:artist:37U9sPqTZMd7AKJCWgcvkt'}], 'available_markets': ['AD', 'AE', 'AR', 'AT', 'AU', 'BE', 'BG', 'BH', 'BO', 'BR', 'CA', 'CH', 'CL', 'CO', 'CR', 'CY', 'CZ', 'DE', 'DK', 'DO', 'DZ', 'EC', 'EE', 'EG', 'ES', 'FI', 'FR', 'GB', 'GR', 'GT', 'HK', 'HN', 'HU', 'ID', 'IE', 'IL', 'IN', 'IS', 'IT', 'JO', 'JP', 'KW', 'LB', 'LI', 'LT', 'LU', 'LV', 'MA', 'MC', 'MT', 'MX', 'MY', 'NI', 'NL', 'NO', 'NZ', 'OM', 'PA', 'PE', 'PH', 'PL', 'PS', 'PT', 'PY', 'QA', 'RO', 'SA', 'SE', 'SG', 'SK', 'SV', 'TH', 'TN', 'TR', 'TW', 'US', 'UY', 'VN', 'ZA'], 'disc_number': 1, 'duration_ms': 373425, 'explicit': False, 'external_ids': {'isrc': 'GB6CM1800138'}, 'external_urls': {'spotify': 'https://open.spotify.com/track/0gX7U91bqxtZVLIZ0MhsTC'}, 'href': 'https://api.spotify.com/v1/tracks/0gX7U91bqxtZVLIZ0MhsTC', 'id': '0gX7U91bqxtZVLIZ0MhsTC', 'is_local': False, 'name': 'Project L.O.V.E', 'popularity': 37, 'preview_url': 'https://p.scdn.co/mp3-preview/074de3e876bc6867aecee7011020b1f7fcc7e831?cid=8038c4be0f8a4844982edce1b2282ebc', 'track_number': 4, 'type': 'track', 'uri': 'spotify:track:0gX7U91bqxtZVLIZ0MhsTC'}\n",
            "Project L.O.V.E Project L.O.V.E\n",
            "1xPec5BN0Zxv77zrWKq43S {'album': {'album_type': 'album', 'artists': [{'external_urls': {'spotify': 'https://open.spotify.com/artist/4tZwfgrHOc3mvqYlEYSvVi'}, 'href': 'https://api.spotify.com/v1/artists/4tZwfgrHOc3mvqYlEYSvVi', 'id': '4tZwfgrHOc3mvqYlEYSvVi', 'name': 'Daft Punk', 'type': 'artist', 'uri': 'spotify:artist:4tZwfgrHOc3mvqYlEYSvVi'}], 'available_markets': ['CA', 'MX', 'US'], 'external_urls': {'spotify': 'https://open.spotify.com/album/4US3nmuLIKELhVZdBPiKxx'}, 'href': 'https://api.spotify.com/v1/albums/4US3nmuLIKELhVZdBPiKxx', 'id': '4US3nmuLIKELhVZdBPiKxx', 'images': [{'height': 640, 'url': 'https://i.scdn.co/image/cb90bedaf217ee7774a92a5569f6f53e532a8815', 'width': 640}, {'height': 300, 'url': 'https://i.scdn.co/image/00626e717e2eb51ffdbfcfc3fe8ecc6fdda01de1', 'width': 300}, {'height': 64, 'url': 'https://i.scdn.co/image/488d9fdac7b4291c9171ea3566d537082774db3e', 'width': 64}], 'name': 'TRON: Legacy', 'release_date': '2010-01-01', 'release_date_precision': 'day', 'total_tracks': 22, 'type': 'album', 'uri': 'spotify:album:4US3nmuLIKELhVZdBPiKxx'}, 'artists': [{'external_urls': {'spotify': 'https://open.spotify.com/artist/4tZwfgrHOc3mvqYlEYSvVi'}, 'href': 'https://api.spotify.com/v1/artists/4tZwfgrHOc3mvqYlEYSvVi', 'id': '4tZwfgrHOc3mvqYlEYSvVi', 'name': 'Daft Punk', 'type': 'artist', 'uri': 'spotify:artist:4tZwfgrHOc3mvqYlEYSvVi'}], 'available_markets': ['CA', 'MX', 'US'], 'disc_number': 1, 'duration_ms': 95226, 'explicit': False, 'external_ids': {'isrc': 'USWD11054878'}, 'external_urls': {'spotify': 'https://open.spotify.com/track/1xPec5BN0Zxv77zrWKq43S'}, 'href': 'https://api.spotify.com/v1/tracks/1xPec5BN0Zxv77zrWKq43S', 'id': '1xPec5BN0Zxv77zrWKq43S', 'is_local': False, 'name': 'The Son of Flynn', 'popularity': 55, 'preview_url': None, 'track_number': 3, 'type': 'track', 'uri': 'spotify:track:1xPec5BN0Zxv77zrWKq43S'}\n",
            "Tron Legacy - Son Of Flynn The Son of Flynn\n",
            "2EcJA9RZSfsLSq6cQOLtMu {'album': {'album_type': 'album', 'artists': [{'external_urls': {'spotify': 'https://open.spotify.com/artist/5etQ4qBFMQkzL1CEEjRWJK'}, 'href': 'https://api.spotify.com/v1/artists/5etQ4qBFMQkzL1CEEjRWJK', 'id': '5etQ4qBFMQkzL1CEEjRWJK', 'name': 'Yakuro', 'type': 'artist', 'uri': 'spotify:artist:5etQ4qBFMQkzL1CEEjRWJK'}], 'available_markets': ['AD', 'AE', 'AR', 'AT', 'AU', 'BE', 'BG', 'BH', 'BO', 'BR', 'CA', 'CH', 'CL', 'CO', 'CR', 'CY', 'CZ', 'DE', 'DK', 'DO', 'DZ', 'EC', 'EE', 'EG', 'ES', 'FI', 'FR', 'GB', 'GR', 'GT', 'HK', 'HN', 'HU', 'ID', 'IE', 'IL', 'IN', 'IS', 'IT', 'JO', 'JP', 'KW', 'LB', 'LI', 'LT', 'LU', 'LV', 'MA', 'MC', 'MT', 'MX', 'MY', 'NI', 'NL', 'NO', 'NZ', 'OM', 'PA', 'PE', 'PH', 'PL', 'PS', 'PT', 'PY', 'QA', 'RO', 'SA', 'SE', 'SG', 'SK', 'SV', 'TH', 'TN', 'TR', 'TW', 'US', 'UY', 'VN', 'ZA'], 'external_urls': {'spotify': 'https://open.spotify.com/album/7vrFtVtqnlifaJ3OnIf0ov'}, 'href': 'https://api.spotify.com/v1/albums/7vrFtVtqnlifaJ3OnIf0ov', 'id': '7vrFtVtqnlifaJ3OnIf0ov', 'images': [{'height': 640, 'url': 'https://i.scdn.co/image/ab67616d0000b2737227e6f02977c6de7988b52d', 'width': 640}, {'height': 300, 'url': 'https://i.scdn.co/image/ab67616d00001e027227e6f02977c6de7988b52d', 'width': 300}, {'height': 64, 'url': 'https://i.scdn.co/image/ab67616d000048517227e6f02977c6de7988b52d', 'width': 64}], 'name': 'Colors of the Worlds, Pt. 1', 'release_date': '2013-03-17', 'release_date_precision': 'day', 'total_tracks': 11, 'type': 'album', 'uri': 'spotify:album:7vrFtVtqnlifaJ3OnIf0ov'}, 'artists': [{'external_urls': {'spotify': 'https://open.spotify.com/artist/5etQ4qBFMQkzL1CEEjRWJK'}, 'href': 'https://api.spotify.com/v1/artists/5etQ4qBFMQkzL1CEEjRWJK', 'id': '5etQ4qBFMQkzL1CEEjRWJK', 'name': 'Yakuro', 'type': 'artist', 'uri': 'spotify:artist:5etQ4qBFMQkzL1CEEjRWJK'}], 'available_markets': ['AD', 'AE', 'AR', 'AT', 'AU', 'BE', 'BG', 'BH', 'BO', 'BR', 'CA', 'CH', 'CL', 'CO', 'CR', 'CY', 'CZ', 'DE', 'DK', 'DO', 'DZ', 'EC', 'EE', 'EG', 'ES', 'FI', 'FR', 'GB', 'GR', 'GT', 'HK', 'HN', 'HU', 'ID', 'IE', 'IL', 'IN', 'IS', 'IT', 'JO', 'JP', 'KW', 'LB', 'LI', 'LT', 'LU', 'LV', 'MA', 'MC', 'MT', 'MX', 'MY', 'NI', 'NL', 'NO', 'NZ', 'OM', 'PA', 'PE', 'PH', 'PL', 'PS', 'PT', 'PY', 'QA', 'RO', 'SA', 'SE', 'SG', 'SK', 'SV', 'TH', 'TN', 'TR', 'TW', 'US', 'UY', 'VN', 'ZA'], 'disc_number': 1, 'duration_ms': 688000, 'explicit': False, 'external_ids': {'isrc': 'FRX201786144'}, 'external_urls': {'spotify': 'https://open.spotify.com/track/2EcJA9RZSfsLSq6cQOLtMu'}, 'href': 'https://api.spotify.com/v1/tracks/2EcJA9RZSfsLSq6cQOLtMu', 'id': '2EcJA9RZSfsLSq6cQOLtMu', 'is_local': False, 'name': 'Blue... The Color of Dreams', 'popularity': 18, 'preview_url': 'https://p.scdn.co/mp3-preview/ae94c5fb30a82922e805cbb8eb60a718208b23c1?cid=8038c4be0f8a4844982edce1b2282ebc', 'track_number': 2, 'type': 'track', 'uri': 'spotify:track:2EcJA9RZSfsLSq6cQOLtMu'}\n",
            "Blue... The Color of Dreams Blue... The Color of Dreams\n",
            "added 6 tracks\n"
          ],
          "name": "stdout"
        }
      ]
    },
    {
      "cell_type": "code",
      "metadata": {
        "id": "N5hUvWG9FHwI",
        "colab_type": "code",
        "outputId": "7d4f506d-d5db-42eb-eae0-23b6ba3fad75",
        "colab": {
          "base_uri": "https://localhost:8080/",
          "height": 1000
        }
      },
      "source": [
        "display(list(songs_found))"
      ],
      "execution_count": 39,
      "outputs": [
        {
          "output_type": "display_data",
          "data": {
            "text/plain": [
              "[[{'acousticness': 0.0554,\n",
              "   'danceability': 0.642,\n",
              "   'energy': 0.833,\n",
              "   'id': '3yzlDHdP9buTr9jkZfUyEq',\n",
              "   'instrumentalness': 0.865,\n",
              "   'liveness': 0.272,\n",
              "   'loudness': -8.621,\n",
              "   'popularity': 21,\n",
              "   'song_name': 'Our Eyes - Sephira Remix',\n",
              "   'speechiness': 0.0358,\n",
              "   'tempo': 100.015,\n",
              "   'valence': 0.0493}],\n",
              " [{'acousticness': 0.0549,\n",
              "   'danceability': 0.734,\n",
              "   'energy': 0.899,\n",
              "   'id': '5STtg0bZXSoWfF20qWGxeV',\n",
              "   'instrumentalness': 3.9e-05,\n",
              "   'liveness': 0.108,\n",
              "   'loudness': -4.442,\n",
              "   'popularity': 59,\n",
              "   'song_name': 'Off The Grid',\n",
              "   'speechiness': 0.0669,\n",
              "   'tempo': 124.035,\n",
              "   'valence': 0.52}],\n",
              " [{'acousticness': 0.0777,\n",
              "   'danceability': 0.533,\n",
              "   'energy': 0.864,\n",
              "   'id': '5ld9arEKsxvJr7RqoWd337',\n",
              "   'instrumentalness': 0.904,\n",
              "   'liveness': 0.13,\n",
              "   'loudness': -7.941,\n",
              "   'popularity': 40,\n",
              "   'song_name': 'Sirius 2017 - Disco Demolition Remix',\n",
              "   'speechiness': 0.0394,\n",
              "   'tempo': 119.023,\n",
              "   'valence': 0.0787}],\n",
              " [{'acousticness': 0.000242,\n",
              "   'danceability': 0.575,\n",
              "   'energy': 0.908,\n",
              "   'id': '0gX7U91bqxtZVLIZ0MhsTC',\n",
              "   'instrumentalness': 0.537,\n",
              "   'liveness': 0.44,\n",
              "   'loudness': -7.535,\n",
              "   'popularity': 37,\n",
              "   'song_name': 'Project L.O.V.E',\n",
              "   'speechiness': 0.0345,\n",
              "   'tempo': 126.001,\n",
              "   'valence': 0.0713}],\n",
              " [{'acousticness': 0.901,\n",
              "   'danceability': 0.543,\n",
              "   'energy': 0.775,\n",
              "   'id': '1xPec5BN0Zxv77zrWKq43S',\n",
              "   'instrumentalness': 0.902,\n",
              "   'liveness': 0.258,\n",
              "   'loudness': -17.616,\n",
              "   'popularity': 55,\n",
              "   'song_name': 'The Son of Flynn',\n",
              "   'speechiness': 0.052,\n",
              "   'tempo': 106.018,\n",
              "   'valence': 0.0222}],\n",
              " [{'acousticness': 0.393,\n",
              "   'danceability': 0.521,\n",
              "   'energy': 0.66,\n",
              "   'id': '2EcJA9RZSfsLSq6cQOLtMu',\n",
              "   'instrumentalness': 0.831,\n",
              "   'liveness': 0.117,\n",
              "   'loudness': -10.207,\n",
              "   'popularity': 18,\n",
              "   'song_name': 'Blue... The Color of Dreams',\n",
              "   'speechiness': 0.026,\n",
              "   'tempo': 119.996,\n",
              "   'valence': 0.161}]]"
            ]
          },
          "metadata": {
            "tags": []
          }
        }
      ]
    },
    {
      "cell_type": "code",
      "metadata": {
        "id": "zk-E5P-YflZu",
        "colab_type": "code",
        "colab": {}
      },
      "source": [
        ""
      ],
      "execution_count": 0,
      "outputs": []
    }
  ]
}