{
  "nbformat": 4,
  "nbformat_minor": 0,
  "metadata": {
    "colab": {
      "name": "Spotify_MusicInformationRetrieval.ipynb",
      "provenance": [],
      "include_colab_link": true
    },
    "kernelspec": {
      "name": "python3",
      "display_name": "Python 3"
    }
  },
  "cells": [
    {
      "cell_type": "markdown",
      "metadata": {
        "id": "view-in-github",
        "colab_type": "text"
      },
      "source": [
        "<a href=\"https://colab.research.google.com/github/epistimi4/emotion_based_music_recomendation/blob/master/Preprocessing/Spotify_MusicInformationRetrieval.ipynb\" target=\"_parent\"><img src=\"https://colab.research.google.com/assets/colab-badge.svg\" alt=\"Open In Colab\"/></a>"
      ]
    },
    {
      "cell_type": "markdown",
      "metadata": {
        "id": "C7eQHubQZQ0R",
        "colab_type": "text"
      },
      "source": [
        "# Music Information Retrieval from Spotify #"
      ]
    },
    {
      "cell_type": "markdown",
      "metadata": {
        "id": "t6lARILNGF8T",
        "colab_type": "text"
      },
      "source": [
        "# P3 - Emotion and context-aware recommendation system #"
      ]
    },
    {
      "cell_type": "markdown",
      "metadata": {
        "id": "pdE86l-4GAK-",
        "colab_type": "text"
      },
      "source": [
        "## Import libraries and install dependencies ##"
      ]
    },
    {
      "cell_type": "code",
      "metadata": {
        "id": "pCSffweAHAn7",
        "colab_type": "code",
        "colab": {}
      },
      "source": [
        "!pip install spotipy"
      ],
      "execution_count": 0,
      "outputs": []
    },
    {
      "cell_type": "code",
      "metadata": {
        "id": "RLj8ToFsZN9q",
        "colab_type": "code",
        "colab": {}
      },
      "source": [
        "import numpy as np\n",
        "import spotipy\n",
        "from spotipy.oauth2 import SpotifyClientCredentials #to access authorised Spotify data\n",
        "import json\n",
        "import pandas as pd"
      ],
      "execution_count": 0,
      "outputs": []
    },
    {
      "cell_type": "markdown",
      "metadata": {
        "id": "oe9ODLm5-Yet",
        "colab_type": "text"
      },
      "source": [
        "### Authorization flows ###"
      ]
    },
    {
      "cell_type": "markdown",
      "metadata": {
        "id": "PjYT3ccTHxYv",
        "colab_type": "text"
      },
      "source": [
        "#### deprecated using Spotipy library ####"
      ]
    },
    {
      "cell_type": "code",
      "metadata": {
        "id": "s00o-CHb-TIW",
        "colab_type": "code",
        "colab": {}
      },
      "source": [
        "#deprecated\n",
        "#Temporary user authorization: Implicit Grant\n",
        "auth_request = requests.get(\n",
        "    'https://accounts.spotify.com/authorize?client_id=8038c4be0f8a4844982edce1b2282ebc&\\\n",
        "    redirect_uri=http:%2F%2Fexample.com%2Fcallback&scope=user-read-private%20user-read-email&response_type=token&state=123')\n",
        "\n",
        "print(auth_request.content)\n",
        "response_dict = json.loads(auth_request.text)\n",
        "\n",
        "for i in response_dict:\n",
        "    print(\"key: \", i, \"val: \", response_dict[i])"
      ],
      "execution_count": 0,
      "outputs": []
    },
    {
      "cell_type": "code",
      "metadata": {
        "id": "O3Ov47tXakno",
        "colab_type": "code",
        "colab": {}
      },
      "source": [
        "access_token = '1bd8da3a234e4060a6801a432c0e877d'\n",
        "artist_name = 'Nibana'\n",
        "\n",
        "artist_info = requests.get(\n",
        "    'https://api.spotify.com/v1/search',\n",
        "    headers={ 'access_token': access_token },\n",
        "    params={ 'q': artist_name, 'type': 'artist' })\n",
        "\n",
        "print(artist_info)"
      ],
      "execution_count": 0,
      "outputs": []
    },
    {
      "cell_type": "markdown",
      "metadata": {
        "id": "cAKghY_1VaWL",
        "colab_type": "text"
      },
      "source": [
        "### Using spotipy ###"
      ]
    },
    {
      "cell_type": "markdown",
      "metadata": {
        "id": "VF2FTDbSIf0Q",
        "colab_type": "text"
      },
      "source": [
        "#### Authorize app ####"
      ]
    },
    {
      "cell_type": "code",
      "metadata": {
        "id": "8rvlpP7JIaEm",
        "colab_type": "code",
        "colab": {}
      },
      "source": [
        "client_id = '8038c4be0f8a4844982edce1b2282ebc'\n",
        "client_secret = '1bd8da3a234e4060a6801a432c0e877d'\n",
        "\n",
        "client_credentials_manager = SpotifyClientCredentials(client_id=client_id, client_secret=client_secret)\n",
        "\n",
        "sp = spotipy.Spotify(client_credentials_manager=client_credentials_manager) #spotify object to access API"
      ],
      "execution_count": 0,
      "outputs": []
    },
    {
      "cell_type": "markdown",
      "metadata": {
        "id": "LYcMPtAXG4NV",
        "colab_type": "text"
      },
      "source": [
        "### Extract metadata /audio features from a song ###"
      ]
    },
    {
      "cell_type": "code",
      "metadata": {
        "id": "zPuweCVl7rfq",
        "colab_type": "code",
        "colab": {}
      },
      "source": [
        "# extract audio features for each song\n",
        "def audio_features(song_name, track_id, album_metadata) :    \n",
        "    spotify_song = {}\n",
        "  \n",
        "    #for track in songs_found:\n",
        "        #pull audio features per track\n",
        "        \n",
        "    features = sp.audio_features(track_id)\n",
        "    spotify_song['id'] = features[0]['id']\n",
        "    #Append to relevant key-value\n",
        "    spotify_song['acousticness'] = features[0]['acousticness']\n",
        "    spotify_song['danceability'] = features[0]['danceability']\n",
        "    spotify_song['energy'] = features[0]['energy']\n",
        "    spotify_song['instrumentalness'] = features[0]['instrumentalness']\n",
        "    spotify_song['liveness'] = features[0]['liveness']\n",
        "    spotify_song['loudness'] = features[0]['loudness']\n",
        "    spotify_song['speechiness'] = features[0]['speechiness']\n",
        "    spotify_song['tempo'] = features[0]['tempo']\n",
        "    spotify_song['valence'] = features[0]['valence']\n",
        "    #popularity is stored elsewhere\n",
        "    pop = sp.track(track_id)#track['id'])\n",
        "    spotify_song['popularity'] = pop['popularity']\n",
        "    print(album_metadata)\n",
        "    spotify_song['release_date'] = album_metadata['album']['release_date']\n",
        "    spotify_song['artist_name'] = album_metadata['artists'][0]['name']    \n",
        "    spotify_song['song_name'] = pop['name']\n",
        "    \n",
        "    #if spotify_song['song_name'].lower() == song_name.lower():\n",
        "    #print(song_name, spotify_song['song_name'])\n",
        "    #if not any(d['song_name'] == spotify_song['song_name'] for d in spotify_songs):\n",
        "    #  spotify_songs.append(spotify_song)          \n",
        "\n",
        "    return spotify_song"
      ],
      "execution_count": 0,
      "outputs": []
    },
    {
      "cell_type": "markdown",
      "metadata": {
        "id": "jxYlS516nPA6",
        "colab_type": "text"
      },
      "source": [
        "### Search spotify for the songs in my list ###"
      ]
    },
    {
      "cell_type": "markdown",
      "metadata": {
        "id": "2WAd6AXc0nGP",
        "colab_type": "text"
      },
      "source": [
        "#### Specify user lists ####"
      ]
    },
    {
      "cell_type": "code",
      "metadata": {
        "id": "uMa0_oxl7EKh",
        "colab_type": "code",
        "colab": {}
      },
      "source": [
        "artistName=\"Blackmore*\"\n",
        "trackName='Where are we going from here'\n",
        "q = \"{0} artist:{1}\".format(trackName,artistName)\n",
        "sp.search(q)"
      ],
      "execution_count": 0,
      "outputs": []
    },
    {
      "cell_type": "code",
      "metadata": {
        "id": "I71Nrm800kM0",
        "colab_type": "code",
        "outputId": "9d654272-f6b8-41a6-91e7-d1d2e8b27a2e",
        "colab": {
          "base_uri": "https://localhost:8080/",
          "height": 33
        }
      },
      "source": [
        "user_preferences = [{\n",
        "                    'name':'playlist_1',                  \n",
        "                    'event': 'working',\n",
        "                    'location':'work',\n",
        "                    'time_of_day':'morning,afternoon',\n",
        "                    'mood': 'stressed',\n",
        "                    'song_list':['Blue... The Color of Dreams artist:Yakuro', \n",
        "                                 'the grid artist:Daft Punk', \n",
        "                                 'Sirius 2017(Disco Remix) artist:The Alan Parsons Project ', \n",
        "                                 'Project L.O.V.E artist:Pryda', \n",
        "                                 'Tron Legacy - Son Of Flynn artist:Daft Punk', \n",
        "                                 'our eyes (sephira remix) artist:Nibana',\n",
        "                                 'Lady in Black artist:Ken Hensley',\n",
        "                                 'In a Manner of Speaking artist:Martin Gore', \n",
        "                                 \"Where are we going from here artist:Blackmore*\", \n",
        "                                 'All of this and nothing artist:david gahan',\n",
        "                                 'Warrior artist:Paloma Faith',\n",
        "                                 'Broken Glass artist:Sia']\n",
        "}]\n",
        "song_list = user_preferences[0]['song_list']\n",
        "\n",
        "print('my playlist has {0} songs'.format(len(song_list)))"
      ],
      "execution_count": 0,
      "outputs": [
        {
          "output_type": "stream",
          "text": [
            "my playlist has 12 songs\n"
          ],
          "name": "stdout"
        }
      ]
    },
    {
      "cell_type": "code",
      "metadata": {
        "id": "NKb6yambEcRS",
        "colab_type": "code",
        "outputId": "8ad1a47f-7dd2-4417-8fd8-62b7dc1dacdc",
        "colab": {
          "base_uri": "https://localhost:8080/",
          "height": 254
        }
      },
      "source": [
        "songs_found = []\n",
        "\n",
        "for name in song_list:  #chosen track\n",
        "  result = sp.search(name) #search query\n",
        "  \n",
        "  if len(result['tracks']['items'])>0:\n",
        "    track_id = result['tracks']['items'][0]['id']\n",
        "    #print(track_id, result['tracks']['items'][0],result['tracks']['items'][0] )\n",
        "    #print(sp.audio_features([track_id]))\n",
        "    songs_found.append(audio_features(name, track_id, result['tracks']['items'][0]))#result['tracks']['items']) )\n",
        "  else:\n",
        "    print('song {0} not found'.format(name))\n",
        "\n",
        "print('added {0} tracks'.format(len(songs_found)))"
      ],
      "execution_count": 0,
      "outputs": [
        {
          "output_type": "stream",
          "text": [
            "{'album': {'album_type': 'album', 'artists': [{'external_urls': {'spotify': 'https://open.spotify.com/artist/5etQ4qBFMQkzL1CEEjRWJK'}, 'href': 'https://api.spotify.com/v1/artists/5etQ4qBFMQkzL1CEEjRWJK', 'id': '5etQ4qBFMQkzL1CEEjRWJK', 'name': 'Yakuro', 'type': 'artist', 'uri': 'spotify:artist:5etQ4qBFMQkzL1CEEjRWJK'}], 'available_markets': ['AD', 'AE', 'AR', 'AT', 'AU', 'BE', 'BG', 'BH', 'BO', 'BR', 'CA', 'CH', 'CL', 'CO', 'CR', 'CY', 'CZ', 'DE', 'DK', 'DO', 'DZ', 'EC', 'EE', 'EG', 'ES', 'FI', 'FR', 'GB', 'GR', 'GT', 'HK', 'HN', 'HU', 'ID', 'IE', 'IL', 'IN', 'IS', 'IT', 'JO', 'JP', 'KW', 'LB', 'LI', 'LT', 'LU', 'LV', 'MA', 'MC', 'MT', 'MX', 'MY', 'NI', 'NL', 'NO', 'NZ', 'OM', 'PA', 'PE', 'PH', 'PL', 'PS', 'PT', 'PY', 'QA', 'RO', 'SA', 'SE', 'SG', 'SK', 'SV', 'TH', 'TN', 'TR', 'TW', 'US', 'UY', 'VN', 'ZA'], 'external_urls': {'spotify': 'https://open.spotify.com/album/7vrFtVtqnlifaJ3OnIf0ov'}, 'href': 'https://api.spotify.com/v1/albums/7vrFtVtqnlifaJ3OnIf0ov', 'id': '7vrFtVtqnlifaJ3OnIf0ov', 'images': [{'height': 640, 'url': 'https://i.scdn.co/image/ab67616d0000b2737227e6f02977c6de7988b52d', 'width': 640}, {'height': 300, 'url': 'https://i.scdn.co/image/ab67616d00001e027227e6f02977c6de7988b52d', 'width': 300}, {'height': 64, 'url': 'https://i.scdn.co/image/ab67616d000048517227e6f02977c6de7988b52d', 'width': 64}], 'name': 'Colors of the Worlds, Pt. 1', 'release_date': '2013-03-17', 'release_date_precision': 'day', 'total_tracks': 11, 'type': 'album', 'uri': 'spotify:album:7vrFtVtqnlifaJ3OnIf0ov'}, 'artists': [{'external_urls': {'spotify': 'https://open.spotify.com/artist/5etQ4qBFMQkzL1CEEjRWJK'}, 'href': 'https://api.spotify.com/v1/artists/5etQ4qBFMQkzL1CEEjRWJK', 'id': '5etQ4qBFMQkzL1CEEjRWJK', 'name': 'Yakuro', 'type': 'artist', 'uri': 'spotify:artist:5etQ4qBFMQkzL1CEEjRWJK'}], 'available_markets': ['AD', 'AE', 'AR', 'AT', 'AU', 'BE', 'BG', 'BH', 'BO', 'BR', 'CA', 'CH', 'CL', 'CO', 'CR', 'CY', 'CZ', 'DE', 'DK', 'DO', 'DZ', 'EC', 'EE', 'EG', 'ES', 'FI', 'FR', 'GB', 'GR', 'GT', 'HK', 'HN', 'HU', 'ID', 'IE', 'IL', 'IN', 'IS', 'IT', 'JO', 'JP', 'KW', 'LB', 'LI', 'LT', 'LU', 'LV', 'MA', 'MC', 'MT', 'MX', 'MY', 'NI', 'NL', 'NO', 'NZ', 'OM', 'PA', 'PE', 'PH', 'PL', 'PS', 'PT', 'PY', 'QA', 'RO', 'SA', 'SE', 'SG', 'SK', 'SV', 'TH', 'TN', 'TR', 'TW', 'US', 'UY', 'VN', 'ZA'], 'disc_number': 1, 'duration_ms': 688000, 'explicit': False, 'external_ids': {'isrc': 'FRX201786144'}, 'external_urls': {'spotify': 'https://open.spotify.com/track/2EcJA9RZSfsLSq6cQOLtMu'}, 'href': 'https://api.spotify.com/v1/tracks/2EcJA9RZSfsLSq6cQOLtMu', 'id': '2EcJA9RZSfsLSq6cQOLtMu', 'is_local': False, 'name': 'Blue... The Color of Dreams', 'popularity': 18, 'preview_url': 'https://p.scdn.co/mp3-preview/ae94c5fb30a82922e805cbb8eb60a718208b23c1?cid=8038c4be0f8a4844982edce1b2282ebc', 'track_number': 2, 'type': 'track', 'uri': 'spotify:track:2EcJA9RZSfsLSq6cQOLtMu'}\n",
            "{'album': {'album_type': 'album', 'artists': [{'external_urls': {'spotify': 'https://open.spotify.com/artist/4tZwfgrHOc3mvqYlEYSvVi'}, 'href': 'https://api.spotify.com/v1/artists/4tZwfgrHOc3mvqYlEYSvVi', 'id': '4tZwfgrHOc3mvqYlEYSvVi', 'name': 'Daft Punk', 'type': 'artist', 'uri': 'spotify:artist:4tZwfgrHOc3mvqYlEYSvVi'}], 'available_markets': ['CA', 'MX', 'US'], 'external_urls': {'spotify': 'https://open.spotify.com/album/4US3nmuLIKELhVZdBPiKxx'}, 'href': 'https://api.spotify.com/v1/albums/4US3nmuLIKELhVZdBPiKxx', 'id': '4US3nmuLIKELhVZdBPiKxx', 'images': [{'height': 640, 'url': 'https://i.scdn.co/image/cb90bedaf217ee7774a92a5569f6f53e532a8815', 'width': 640}, {'height': 300, 'url': 'https://i.scdn.co/image/00626e717e2eb51ffdbfcfc3fe8ecc6fdda01de1', 'width': 300}, {'height': 64, 'url': 'https://i.scdn.co/image/488d9fdac7b4291c9171ea3566d537082774db3e', 'width': 64}], 'name': 'TRON: Legacy', 'release_date': '2010-01-01', 'release_date_precision': 'day', 'total_tracks': 22, 'type': 'album', 'uri': 'spotify:album:4US3nmuLIKELhVZdBPiKxx'}, 'artists': [{'external_urls': {'spotify': 'https://open.spotify.com/artist/4tZwfgrHOc3mvqYlEYSvVi'}, 'href': 'https://api.spotify.com/v1/artists/4tZwfgrHOc3mvqYlEYSvVi', 'id': '4tZwfgrHOc3mvqYlEYSvVi', 'name': 'Daft Punk', 'type': 'artist', 'uri': 'spotify:artist:4tZwfgrHOc3mvqYlEYSvVi'}], 'available_markets': ['CA', 'MX', 'US'], 'disc_number': 1, 'duration_ms': 96746, 'explicit': False, 'external_ids': {'isrc': 'USWD11054877'}, 'external_urls': {'spotify': 'https://open.spotify.com/track/4Bvxi5oUS3M4DezTfsd5pp'}, 'href': 'https://api.spotify.com/v1/tracks/4Bvxi5oUS3M4DezTfsd5pp', 'id': '4Bvxi5oUS3M4DezTfsd5pp', 'is_local': False, 'name': 'The Grid', 'popularity': 49, 'preview_url': None, 'track_number': 2, 'type': 'track', 'uri': 'spotify:track:4Bvxi5oUS3M4DezTfsd5pp'}\n",
            "{'album': {'album_type': 'single', 'artists': [{'external_urls': {'spotify': 'https://open.spotify.com/artist/2m62cc253Xvd9qYQ8d2X3d'}, 'href': 'https://api.spotify.com/v1/artists/2m62cc253Xvd9qYQ8d2X3d', 'id': '2m62cc253Xvd9qYQ8d2X3d', 'name': 'The Alan Parsons Project', 'type': 'artist', 'uri': 'spotify:artist:2m62cc253Xvd9qYQ8d2X3d'}], 'available_markets': ['AD', 'AE', 'AR', 'AT', 'AU', 'BE', 'BG', 'BH', 'BO', 'BR', 'CA', 'CH', 'CL', 'CO', 'CR', 'CY', 'CZ', 'DE', 'DK', 'DO', 'DZ', 'EC', 'EE', 'EG', 'ES', 'FI', 'FR', 'GB', 'GR', 'GT', 'HK', 'HN', 'HU', 'ID', 'IE', 'IL', 'IN', 'IS', 'IT', 'JO', 'JP', 'KW', 'LB', 'LI', 'LT', 'LU', 'LV', 'MA', 'MC', 'MT', 'MX', 'MY', 'NI', 'NL', 'NO', 'NZ', 'OM', 'PA', 'PE', 'PH', 'PL', 'PS', 'PT', 'PY', 'QA', 'RO', 'SA', 'SE', 'SG', 'SK', 'SV', 'TH', 'TN', 'TR', 'TW', 'US', 'UY', 'VN', 'ZA'], 'external_urls': {'spotify': 'https://open.spotify.com/album/0chYdRihRzcScNJZAx9i3t'}, 'href': 'https://api.spotify.com/v1/albums/0chYdRihRzcScNJZAx9i3t', 'id': '0chYdRihRzcScNJZAx9i3t', 'images': [{'height': 640, 'url': 'https://i.scdn.co/image/ab67616d0000b273fe69568dd55e54742ce0e14d', 'width': 640}, {'height': 300, 'url': 'https://i.scdn.co/image/ab67616d00001e02fe69568dd55e54742ce0e14d', 'width': 300}, {'height': 64, 'url': 'https://i.scdn.co/image/ab67616d00004851fe69568dd55e54742ce0e14d', 'width': 64}], 'name': 'Sirius 2017 (Disco Demolition Remix)', 'release_date': '2017-09-15', 'release_date_precision': 'day', 'total_tracks': 1, 'type': 'album', 'uri': 'spotify:album:0chYdRihRzcScNJZAx9i3t'}, 'artists': [{'external_urls': {'spotify': 'https://open.spotify.com/artist/2m62cc253Xvd9qYQ8d2X3d'}, 'href': 'https://api.spotify.com/v1/artists/2m62cc253Xvd9qYQ8d2X3d', 'id': '2m62cc253Xvd9qYQ8d2X3d', 'name': 'The Alan Parsons Project', 'type': 'artist', 'uri': 'spotify:artist:2m62cc253Xvd9qYQ8d2X3d'}, {'external_urls': {'spotify': 'https://open.spotify.com/artist/2L1W1Lz8JBETtWLopsGcAU'}, 'href': 'https://api.spotify.com/v1/artists/2L1W1Lz8JBETtWLopsGcAU', 'id': '2L1W1Lz8JBETtWLopsGcAU', 'name': 'Disco Demolition', 'type': 'artist', 'uri': 'spotify:artist:2L1W1Lz8JBETtWLopsGcAU'}], 'available_markets': ['AD', 'AE', 'AR', 'AT', 'AU', 'BE', 'BG', 'BH', 'BO', 'BR', 'CA', 'CH', 'CL', 'CO', 'CR', 'CY', 'CZ', 'DE', 'DK', 'DO', 'DZ', 'EC', 'EE', 'EG', 'ES', 'FI', 'FR', 'GB', 'GR', 'GT', 'HK', 'HN', 'HU', 'ID', 'IE', 'IL', 'IN', 'IS', 'IT', 'JO', 'JP', 'KW', 'LB', 'LI', 'LT', 'LU', 'LV', 'MA', 'MC', 'MT', 'MX', 'MY', 'NI', 'NL', 'NO', 'NZ', 'OM', 'PA', 'PE', 'PH', 'PL', 'PS', 'PT', 'PY', 'QA', 'RO', 'SA', 'SE', 'SG', 'SK', 'SV', 'TH', 'TN', 'TR', 'TW', 'US', 'UY', 'VN', 'ZA'], 'disc_number': 1, 'duration_ms': 225882, 'explicit': False, 'external_ids': {'isrc': 'USAR11700264'}, 'external_urls': {'spotify': 'https://open.spotify.com/track/5ld9arEKsxvJr7RqoWd337'}, 'href': 'https://api.spotify.com/v1/tracks/5ld9arEKsxvJr7RqoWd337', 'id': '5ld9arEKsxvJr7RqoWd337', 'is_local': False, 'name': 'Sirius 2017 - Disco Demolition Remix', 'popularity': 40, 'preview_url': 'https://p.scdn.co/mp3-preview/8a5c2b45a017be012a71fb761e0216f8f426d336?cid=8038c4be0f8a4844982edce1b2282ebc', 'track_number': 1, 'type': 'track', 'uri': 'spotify:track:5ld9arEKsxvJr7RqoWd337'}\n",
            "{'album': {'album_type': 'single', 'artists': [{'external_urls': {'spotify': 'https://open.spotify.com/artist/37U9sPqTZMd7AKJCWgcvkt'}, 'href': 'https://api.spotify.com/v1/artists/37U9sPqTZMd7AKJCWgcvkt', 'id': '37U9sPqTZMd7AKJCWgcvkt', 'name': 'Pryda', 'type': 'artist', 'uri': 'spotify:artist:37U9sPqTZMd7AKJCWgcvkt'}], 'available_markets': ['AD', 'AE', 'AR', 'AT', 'AU', 'BE', 'BG', 'BH', 'BO', 'BR', 'CA', 'CH', 'CL', 'CO', 'CR', 'CY', 'CZ', 'DE', 'DK', 'DO', 'DZ', 'EC', 'EE', 'EG', 'ES', 'FI', 'FR', 'GB', 'GR', 'GT', 'HK', 'HN', 'HU', 'ID', 'IE', 'IL', 'IN', 'IS', 'IT', 'JO', 'JP', 'KW', 'LB', 'LI', 'LT', 'LU', 'LV', 'MA', 'MC', 'MT', 'MX', 'MY', 'NI', 'NL', 'NO', 'NZ', 'OM', 'PA', 'PE', 'PH', 'PL', 'PS', 'PT', 'PY', 'QA', 'RO', 'SA', 'SE', 'SG', 'SK', 'SV', 'TH', 'TN', 'TR', 'TW', 'US', 'UY', 'VN', 'ZA'], 'external_urls': {'spotify': 'https://open.spotify.com/album/3Fc7CxOxoTCM2Ixyt7Vmer'}, 'href': 'https://api.spotify.com/v1/albums/3Fc7CxOxoTCM2Ixyt7Vmer', 'id': '3Fc7CxOxoTCM2Ixyt7Vmer', 'images': [{'height': 640, 'url': 'https://i.scdn.co/image/ab67616d0000b2735a446d57a6c7b3880009db06', 'width': 640}, {'height': 300, 'url': 'https://i.scdn.co/image/ab67616d00001e025a446d57a6c7b3880009db06', 'width': 300}, {'height': 64, 'url': 'https://i.scdn.co/image/ab67616d000048515a446d57a6c7b3880009db06', 'width': 64}], 'name': 'Elements', 'release_date': '2018-05-18', 'release_date_precision': 'day', 'total_tracks': 4, 'type': 'album', 'uri': 'spotify:album:3Fc7CxOxoTCM2Ixyt7Vmer'}, 'artists': [{'external_urls': {'spotify': 'https://open.spotify.com/artist/37U9sPqTZMd7AKJCWgcvkt'}, 'href': 'https://api.spotify.com/v1/artists/37U9sPqTZMd7AKJCWgcvkt', 'id': '37U9sPqTZMd7AKJCWgcvkt', 'name': 'Pryda', 'type': 'artist', 'uri': 'spotify:artist:37U9sPqTZMd7AKJCWgcvkt'}], 'available_markets': ['AD', 'AE', 'AR', 'AT', 'AU', 'BE', 'BG', 'BH', 'BO', 'BR', 'CA', 'CH', 'CL', 'CO', 'CR', 'CY', 'CZ', 'DE', 'DK', 'DO', 'DZ', 'EC', 'EE', 'EG', 'ES', 'FI', 'FR', 'GB', 'GR', 'GT', 'HK', 'HN', 'HU', 'ID', 'IE', 'IL', 'IN', 'IS', 'IT', 'JO', 'JP', 'KW', 'LB', 'LI', 'LT', 'LU', 'LV', 'MA', 'MC', 'MT', 'MX', 'MY', 'NI', 'NL', 'NO', 'NZ', 'OM', 'PA', 'PE', 'PH', 'PL', 'PS', 'PT', 'PY', 'QA', 'RO', 'SA', 'SE', 'SG', 'SK', 'SV', 'TH', 'TN', 'TR', 'TW', 'US', 'UY', 'VN', 'ZA'], 'disc_number': 1, 'duration_ms': 373425, 'explicit': False, 'external_ids': {'isrc': 'GB6CM1800138'}, 'external_urls': {'spotify': 'https://open.spotify.com/track/0gX7U91bqxtZVLIZ0MhsTC'}, 'href': 'https://api.spotify.com/v1/tracks/0gX7U91bqxtZVLIZ0MhsTC', 'id': '0gX7U91bqxtZVLIZ0MhsTC', 'is_local': False, 'name': 'Project L.O.V.E', 'popularity': 37, 'preview_url': 'https://p.scdn.co/mp3-preview/074de3e876bc6867aecee7011020b1f7fcc7e831?cid=8038c4be0f8a4844982edce1b2282ebc', 'track_number': 4, 'type': 'track', 'uri': 'spotify:track:0gX7U91bqxtZVLIZ0MhsTC'}\n",
            "{'album': {'album_type': 'album', 'artists': [{'external_urls': {'spotify': 'https://open.spotify.com/artist/4tZwfgrHOc3mvqYlEYSvVi'}, 'href': 'https://api.spotify.com/v1/artists/4tZwfgrHOc3mvqYlEYSvVi', 'id': '4tZwfgrHOc3mvqYlEYSvVi', 'name': 'Daft Punk', 'type': 'artist', 'uri': 'spotify:artist:4tZwfgrHOc3mvqYlEYSvVi'}], 'available_markets': ['CA', 'MX', 'US'], 'external_urls': {'spotify': 'https://open.spotify.com/album/4US3nmuLIKELhVZdBPiKxx'}, 'href': 'https://api.spotify.com/v1/albums/4US3nmuLIKELhVZdBPiKxx', 'id': '4US3nmuLIKELhVZdBPiKxx', 'images': [{'height': 640, 'url': 'https://i.scdn.co/image/cb90bedaf217ee7774a92a5569f6f53e532a8815', 'width': 640}, {'height': 300, 'url': 'https://i.scdn.co/image/00626e717e2eb51ffdbfcfc3fe8ecc6fdda01de1', 'width': 300}, {'height': 64, 'url': 'https://i.scdn.co/image/488d9fdac7b4291c9171ea3566d537082774db3e', 'width': 64}], 'name': 'TRON: Legacy', 'release_date': '2010-01-01', 'release_date_precision': 'day', 'total_tracks': 22, 'type': 'album', 'uri': 'spotify:album:4US3nmuLIKELhVZdBPiKxx'}, 'artists': [{'external_urls': {'spotify': 'https://open.spotify.com/artist/4tZwfgrHOc3mvqYlEYSvVi'}, 'href': 'https://api.spotify.com/v1/artists/4tZwfgrHOc3mvqYlEYSvVi', 'id': '4tZwfgrHOc3mvqYlEYSvVi', 'name': 'Daft Punk', 'type': 'artist', 'uri': 'spotify:artist:4tZwfgrHOc3mvqYlEYSvVi'}], 'available_markets': ['CA', 'MX', 'US'], 'disc_number': 1, 'duration_ms': 95226, 'explicit': False, 'external_ids': {'isrc': 'USWD11054878'}, 'external_urls': {'spotify': 'https://open.spotify.com/track/1xPec5BN0Zxv77zrWKq43S'}, 'href': 'https://api.spotify.com/v1/tracks/1xPec5BN0Zxv77zrWKq43S', 'id': '1xPec5BN0Zxv77zrWKq43S', 'is_local': False, 'name': 'The Son of Flynn', 'popularity': 55, 'preview_url': None, 'track_number': 3, 'type': 'track', 'uri': 'spotify:track:1xPec5BN0Zxv77zrWKq43S'}\n",
            "{'album': {'album_type': 'album', 'artists': [{'external_urls': {'spotify': 'https://open.spotify.com/artist/01nFu4fAUjWLTZX3OPpFJx'}, 'href': 'https://api.spotify.com/v1/artists/01nFu4fAUjWLTZX3OPpFJx', 'id': '01nFu4fAUjWLTZX3OPpFJx', 'name': 'Nibana', 'type': 'artist', 'uri': 'spotify:artist:01nFu4fAUjWLTZX3OPpFJx'}], 'available_markets': ['AD', 'AE', 'AR', 'AT', 'AU', 'BE', 'BG', 'BH', 'BO', 'BR', 'CA', 'CH', 'CL', 'CO', 'CR', 'CY', 'CZ', 'DE', 'DK', 'DO', 'DZ', 'EC', 'EE', 'EG', 'ES', 'FI', 'FR', 'GB', 'GR', 'GT', 'HK', 'HN', 'HU', 'ID', 'IE', 'IL', 'IN', 'IS', 'IT', 'JO', 'JP', 'KW', 'LB', 'LI', 'LT', 'LU', 'LV', 'MA', 'MC', 'MT', 'MX', 'MY', 'NI', 'NL', 'NO', 'NZ', 'OM', 'PA', 'PE', 'PH', 'PL', 'PS', 'PT', 'PY', 'QA', 'RO', 'SA', 'SE', 'SG', 'SK', 'SV', 'TH', 'TN', 'TR', 'TW', 'US', 'UY', 'VN', 'ZA'], 'external_urls': {'spotify': 'https://open.spotify.com/album/4uudHWe6Q5gxGOd1yAU3Qf'}, 'href': 'https://api.spotify.com/v1/albums/4uudHWe6Q5gxGOd1yAU3Qf', 'id': '4uudHWe6Q5gxGOd1yAU3Qf', 'images': [{'height': 640, 'url': 'https://i.scdn.co/image/ab67616d0000b2732cca6b32f383624ce469958d', 'width': 640}, {'height': 300, 'url': 'https://i.scdn.co/image/ab67616d00001e022cca6b32f383624ce469958d', 'width': 300}, {'height': 64, 'url': 'https://i.scdn.co/image/ab67616d000048512cca6b32f383624ce469958d', 'width': 64}], 'name': 'Ask the Universe', 'release_date': '2014-12-08', 'release_date_precision': 'day', 'total_tracks': 10, 'type': 'album', 'uri': 'spotify:album:4uudHWe6Q5gxGOd1yAU3Qf'}, 'artists': [{'external_urls': {'spotify': 'https://open.spotify.com/artist/01nFu4fAUjWLTZX3OPpFJx'}, 'href': 'https://api.spotify.com/v1/artists/01nFu4fAUjWLTZX3OPpFJx', 'id': '01nFu4fAUjWLTZX3OPpFJx', 'name': 'Nibana', 'type': 'artist', 'uri': 'spotify:artist:01nFu4fAUjWLTZX3OPpFJx'}, {'external_urls': {'spotify': 'https://open.spotify.com/artist/6U9J4NxtfWCfH7Iu2lMrNr'}, 'href': 'https://api.spotify.com/v1/artists/6U9J4NxtfWCfH7Iu2lMrNr', 'id': '6U9J4NxtfWCfH7Iu2lMrNr', 'name': 'Sephira', 'type': 'artist', 'uri': 'spotify:artist:6U9J4NxtfWCfH7Iu2lMrNr'}], 'available_markets': ['AD', 'AE', 'AR', 'AT', 'AU', 'BE', 'BG', 'BH', 'BO', 'BR', 'CA', 'CH', 'CL', 'CO', 'CR', 'CY', 'CZ', 'DE', 'DK', 'DO', 'DZ', 'EC', 'EE', 'EG', 'ES', 'FI', 'FR', 'GB', 'GR', 'GT', 'HK', 'HN', 'HU', 'ID', 'IE', 'IL', 'IN', 'IS', 'IT', 'JO', 'JP', 'KW', 'LB', 'LI', 'LT', 'LU', 'LV', 'MA', 'MC', 'MT', 'MX', 'MY', 'NI', 'NL', 'NO', 'NZ', 'OM', 'PA', 'PE', 'PH', 'PL', 'PS', 'PT', 'PY', 'QA', 'RO', 'SA', 'SE', 'SG', 'SK', 'SV', 'TH', 'TN', 'TR', 'TW', 'US', 'UY', 'VN', 'ZA'], 'disc_number': 1, 'duration_ms': 448493, 'explicit': False, 'external_ids': {'isrc': 'QM4DW1877484'}, 'external_urls': {'spotify': 'https://open.spotify.com/track/3yzlDHdP9buTr9jkZfUyEq'}, 'href': 'https://api.spotify.com/v1/tracks/3yzlDHdP9buTr9jkZfUyEq', 'id': '3yzlDHdP9buTr9jkZfUyEq', 'is_local': False, 'name': 'Our Eyes - Sephira Remix', 'popularity': 21, 'preview_url': 'https://p.scdn.co/mp3-preview/bdb71a0bd1ee0328b23bb2d27e593c3bc137d2ca?cid=8038c4be0f8a4844982edce1b2282ebc', 'track_number': 9, 'type': 'track', 'uri': 'spotify:track:3yzlDHdP9buTr9jkZfUyEq'}\n",
            "{'album': {'album_type': 'album', 'artists': [{'external_urls': {'spotify': 'https://open.spotify.com/artist/60ztBo3v68OYEaicdHnutg'}, 'href': 'https://api.spotify.com/v1/artists/60ztBo3v68OYEaicdHnutg', 'id': '60ztBo3v68OYEaicdHnutg', 'name': 'Ken Hensley', 'type': 'artist', 'uri': 'spotify:artist:60ztBo3v68OYEaicdHnutg'}], 'available_markets': ['AD', 'AE', 'AR', 'AT', 'AU', 'BE', 'BG', 'BH', 'BO', 'BR', 'CA', 'CH', 'CL', 'CO', 'CR', 'CY', 'CZ', 'DE', 'DK', 'DO', 'DZ', 'EC', 'EE', 'EG', 'ES', 'FI', 'FR', 'GB', 'GR', 'GT', 'HK', 'HN', 'HU', 'ID', 'IE', 'IL', 'IN', 'IS', 'IT', 'JO', 'JP', 'KW', 'LB', 'LI', 'LT', 'LU', 'LV', 'MA', 'MC', 'MT', 'MX', 'MY', 'NI', 'NL', 'NO', 'NZ', 'OM', 'PA', 'PE', 'PH', 'PL', 'PS', 'PT', 'PY', 'QA', 'RO', 'SA', 'SE', 'SG', 'SK', 'SV', 'TH', 'TN', 'TR', 'TW', 'US', 'UY', 'VN', 'ZA'], 'external_urls': {'spotify': 'https://open.spotify.com/album/3Umcq2H99WDantc189duoy'}, 'href': 'https://api.spotify.com/v1/albums/3Umcq2H99WDantc189duoy', 'id': '3Umcq2H99WDantc189duoy', 'images': [{'height': 640, 'url': 'https://i.scdn.co/image/ab67616d0000b27355335f3bf0aff9bf1cc22f34', 'width': 640}, {'height': 300, 'url': 'https://i.scdn.co/image/ab67616d00001e0255335f3bf0aff9bf1cc22f34', 'width': 300}, {'height': 64, 'url': 'https://i.scdn.co/image/ab67616d0000485155335f3bf0aff9bf1cc22f34', 'width': 64}], 'name': 'The Wizards Diary Vol.1', 'release_date': '2005-11-05', 'release_date_precision': 'day', 'total_tracks': 12, 'type': 'album', 'uri': 'spotify:album:3Umcq2H99WDantc189duoy'}, 'artists': [{'external_urls': {'spotify': 'https://open.spotify.com/artist/60ztBo3v68OYEaicdHnutg'}, 'href': 'https://api.spotify.com/v1/artists/60ztBo3v68OYEaicdHnutg', 'id': '60ztBo3v68OYEaicdHnutg', 'name': 'Ken Hensley', 'type': 'artist', 'uri': 'spotify:artist:60ztBo3v68OYEaicdHnutg'}], 'available_markets': ['AD', 'AE', 'AR', 'AT', 'AU', 'BE', 'BG', 'BH', 'BO', 'BR', 'CA', 'CH', 'CL', 'CO', 'CR', 'CY', 'CZ', 'DE', 'DK', 'DO', 'DZ', 'EC', 'EE', 'EG', 'ES', 'FI', 'FR', 'GB', 'GR', 'GT', 'HK', 'HN', 'HU', 'ID', 'IE', 'IL', 'IN', 'IS', 'IT', 'JO', 'JP', 'KW', 'LB', 'LI', 'LT', 'LU', 'LV', 'MA', 'MC', 'MT', 'MX', 'MY', 'NI', 'NL', 'NO', 'NZ', 'OM', 'PA', 'PE', 'PH', 'PL', 'PS', 'PT', 'PY', 'QA', 'RO', 'SA', 'SE', 'SG', 'SK', 'SV', 'TH', 'TN', 'TR', 'TW', 'US', 'UY', 'VN', 'ZA'], 'disc_number': 1, 'duration_ms': 480013, 'explicit': False, 'external_ids': {'isrc': 'GBBLY1804998'}, 'external_urls': {'spotify': 'https://open.spotify.com/track/7LC2RIcKlE8TNUqT6JRogp'}, 'href': 'https://api.spotify.com/v1/tracks/7LC2RIcKlE8TNUqT6JRogp', 'id': '7LC2RIcKlE8TNUqT6JRogp', 'is_local': False, 'name': 'Lady in Black', 'popularity': 30, 'preview_url': 'https://p.scdn.co/mp3-preview/329b8e7f0038b3e4c27aeed21a134aed9f1c1fc1?cid=8038c4be0f8a4844982edce1b2282ebc', 'track_number': 8, 'type': 'track', 'uri': 'spotify:track:7LC2RIcKlE8TNUqT6JRogp'}\n",
            "{'album': {'album_type': 'single', 'artists': [{'external_urls': {'spotify': 'https://open.spotify.com/artist/6KQQ6ka4Thwww3kjYqrG0F'}, 'href': 'https://api.spotify.com/v1/artists/6KQQ6ka4Thwww3kjYqrG0F', 'id': '6KQQ6ka4Thwww3kjYqrG0F', 'name': 'Martin Gore', 'type': 'artist', 'uri': 'spotify:artist:6KQQ6ka4Thwww3kjYqrG0F'}], 'available_markets': ['CA', 'MX', 'US'], 'external_urls': {'spotify': 'https://open.spotify.com/album/6p5w0FqlqpLkMo0T8MOx7r'}, 'href': 'https://api.spotify.com/v1/albums/6p5w0FqlqpLkMo0T8MOx7r', 'id': '6p5w0FqlqpLkMo0T8MOx7r', 'images': [{'height': 640, 'url': 'https://i.scdn.co/image/ab67616d0000b273658683b9b07859178b864bec', 'width': 640}, {'height': 300, 'url': 'https://i.scdn.co/image/ab67616d00001e02658683b9b07859178b864bec', 'width': 300}, {'height': 64, 'url': 'https://i.scdn.co/image/ab67616d00004851658683b9b07859178b864bec', 'width': 64}], 'name': 'Counterfeit E.P.', 'release_date': '1989', 'release_date_precision': 'year', 'total_tracks': 6, 'type': 'album', 'uri': 'spotify:album:6p5w0FqlqpLkMo0T8MOx7r'}, 'artists': [{'external_urls': {'spotify': 'https://open.spotify.com/artist/6KQQ6ka4Thwww3kjYqrG0F'}, 'href': 'https://api.spotify.com/v1/artists/6KQQ6ka4Thwww3kjYqrG0F', 'id': '6KQQ6ka4Thwww3kjYqrG0F', 'name': 'Martin Gore', 'type': 'artist', 'uri': 'spotify:artist:6KQQ6ka4Thwww3kjYqrG0F'}], 'available_markets': ['CA', 'MX', 'US'], 'disc_number': 1, 'duration_ms': 259800, 'explicit': False, 'external_ids': {'isrc': 'USRE10900723'}, 'external_urls': {'spotify': 'https://open.spotify.com/track/3yePYpujYvb2KZTdmZCwQg'}, 'href': 'https://api.spotify.com/v1/tracks/3yePYpujYvb2KZTdmZCwQg', 'id': '3yePYpujYvb2KZTdmZCwQg', 'is_local': False, 'name': 'In a Manner of Speaking', 'popularity': 25, 'preview_url': 'https://p.scdn.co/mp3-preview/f7f25f1a8fcad8bccfa986c9b372cdf26ad6ded1?cid=8038c4be0f8a4844982edce1b2282ebc', 'track_number': 2, 'type': 'track', 'uri': 'spotify:track:3yePYpujYvb2KZTdmZCwQg'}\n",
            "{'album': {'album_type': 'album', 'artists': [{'external_urls': {'spotify': 'https://open.spotify.com/artist/5BnNG7QQQDTNd43ozx5y13'}, 'href': 'https://api.spotify.com/v1/artists/5BnNG7QQQDTNd43ozx5y13', 'id': '5BnNG7QQQDTNd43ozx5y13', 'name': \"Blackmore's Night\", 'type': 'artist', 'uri': 'spotify:artist:5BnNG7QQQDTNd43ozx5y13'}], 'available_markets': ['AD', 'AE', 'AR', 'AT', 'AU', 'BE', 'BG', 'BH', 'BO', 'BR', 'CA', 'CH', 'CL', 'CO', 'CR', 'CY', 'CZ', 'DE', 'DK', 'DO', 'DZ', 'EC', 'EE', 'EG', 'ES', 'FI', 'FR', 'GB', 'GR', 'GT', 'HK', 'HN', 'HU', 'ID', 'IE', 'IL', 'IN', 'IS', 'IT', 'JO', 'JP', 'KW', 'LB', 'LI', 'LT', 'LU', 'LV', 'MA', 'MC', 'MT', 'MX', 'MY', 'NI', 'NL', 'NO', 'NZ', 'OM', 'PA', 'PE', 'PH', 'PL', 'PS', 'PT', 'PY', 'QA', 'RO', 'SA', 'SE', 'SG', 'SK', 'SV', 'TH', 'TN', 'TR', 'TW', 'US', 'UY', 'VN', 'ZA'], 'external_urls': {'spotify': 'https://open.spotify.com/album/5Be5KC2Gi1mFG8d3DN7Hws'}, 'href': 'https://api.spotify.com/v1/albums/5Be5KC2Gi1mFG8d3DN7Hws', 'id': '5Be5KC2Gi1mFG8d3DN7Hws', 'images': [{'height': 640, 'url': 'https://i.scdn.co/image/ab67616d0000b2730564c5aa440b9411552ce58d', 'width': 640}, {'height': 300, 'url': 'https://i.scdn.co/image/ab67616d00001e020564c5aa440b9411552ce58d', 'width': 300}, {'height': 64, 'url': 'https://i.scdn.co/image/ab67616d000048510564c5aa440b9411552ce58d', 'width': 64}], 'name': 'Ghost of a Rose', 'release_date': '2003-06-30', 'release_date_precision': 'day', 'total_tracks': 15, 'type': 'album', 'uri': 'spotify:album:5Be5KC2Gi1mFG8d3DN7Hws'}, 'artists': [{'external_urls': {'spotify': 'https://open.spotify.com/artist/5BnNG7QQQDTNd43ozx5y13'}, 'href': 'https://api.spotify.com/v1/artists/5BnNG7QQQDTNd43ozx5y13', 'id': '5BnNG7QQQDTNd43ozx5y13', 'name': \"Blackmore's Night\", 'type': 'artist', 'uri': 'spotify:artist:5BnNG7QQQDTNd43ozx5y13'}], 'available_markets': ['AD', 'AE', 'AR', 'AT', 'AU', 'BE', 'BG', 'BH', 'BO', 'BR', 'CA', 'CH', 'CL', 'CO', 'CR', 'CY', 'CZ', 'DE', 'DK', 'DO', 'DZ', 'EC', 'EE', 'EG', 'ES', 'FI', 'FR', 'GB', 'GR', 'GT', 'HK', 'HN', 'HU', 'ID', 'IE', 'IL', 'IN', 'IS', 'IT', 'JO', 'JP', 'KW', 'LB', 'LI', 'LT', 'LU', 'LV', 'MA', 'MC', 'MT', 'MX', 'MY', 'NI', 'NL', 'NO', 'NZ', 'OM', 'PA', 'PE', 'PH', 'PL', 'PS', 'PT', 'PY', 'QA', 'RO', 'SA', 'SE', 'SG', 'SK', 'SV', 'TH', 'TN', 'TR', 'TW', 'US', 'UY', 'VN', 'ZA'], 'disc_number': 1, 'duration_ms': 244760, 'explicit': False, 'external_ids': {'isrc': 'DEZ901000331'}, 'external_urls': {'spotify': 'https://open.spotify.com/track/7egPYhEXcKE0WFGn2qt1Yz'}, 'href': 'https://api.spotify.com/v1/tracks/7egPYhEXcKE0WFGn2qt1Yz', 'id': '7egPYhEXcKE0WFGn2qt1Yz', 'is_local': False, 'name': 'Where Are We Going from Here', 'popularity': 28, 'preview_url': 'https://p.scdn.co/mp3-preview/78875465080b7f5d2475eb1457a5a691ebc9e558?cid=8038c4be0f8a4844982edce1b2282ebc', 'track_number': 12, 'type': 'track', 'uri': 'spotify:track:7egPYhEXcKE0WFGn2qt1Yz'}\n",
            "song All of this and nothing artist:david gahan not found\n",
            "{'album': {'album_type': 'album', 'artists': [{'external_urls': {'spotify': 'https://open.spotify.com/artist/4fwuXg6XQHfdlOdmw36OHa'}, 'href': 'https://api.spotify.com/v1/artists/4fwuXg6XQHfdlOdmw36OHa', 'id': '4fwuXg6XQHfdlOdmw36OHa', 'name': 'Paloma Faith', 'type': 'artist', 'uri': 'spotify:artist:4fwuXg6XQHfdlOdmw36OHa'}], 'available_markets': ['AD', 'AE', 'AR', 'AT', 'AU', 'BE', 'BG', 'BH', 'BO', 'BR', 'CA', 'CH', 'CL', 'CO', 'CR', 'CY', 'CZ', 'DE', 'DK', 'DO', 'DZ', 'EC', 'EE', 'EG', 'ES', 'FI', 'FR', 'GB', 'GR', 'GT', 'HK', 'HN', 'HU', 'ID', 'IE', 'IL', 'IN', 'IS', 'IT', 'JO', 'JP', 'KW', 'LB', 'LI', 'LT', 'LU', 'LV', 'MA', 'MC', 'MT', 'MX', 'MY', 'NI', 'NL', 'NO', 'NZ', 'OM', 'PA', 'PE', 'PH', 'PL', 'PS', 'PT', 'PY', 'QA', 'RO', 'SA', 'SE', 'SG', 'SK', 'SV', 'TH', 'TN', 'TR', 'TW', 'US', 'UY', 'VN', 'ZA'], 'external_urls': {'spotify': 'https://open.spotify.com/album/6jXWfehoSTsRDXExVJMeAh'}, 'href': 'https://api.spotify.com/v1/albums/6jXWfehoSTsRDXExVJMeAh', 'id': '6jXWfehoSTsRDXExVJMeAh', 'images': [{'height': 640, 'url': 'https://i.scdn.co/image/ab67616d0000b2736c099678098ab74ffb712ccd', 'width': 640}, {'height': 300, 'url': 'https://i.scdn.co/image/ab67616d00001e026c099678098ab74ffb712ccd', 'width': 300}, {'height': 64, 'url': 'https://i.scdn.co/image/ab67616d000048516c099678098ab74ffb712ccd', 'width': 64}], 'name': 'The Architect (Zeitgeist Edition)', 'release_date': '2018-11-16', 'release_date_precision': 'day', 'total_tracks': 25, 'type': 'album', 'uri': 'spotify:album:6jXWfehoSTsRDXExVJMeAh'}, 'artists': [{'external_urls': {'spotify': 'https://open.spotify.com/artist/4fwuXg6XQHfdlOdmw36OHa'}, 'href': 'https://api.spotify.com/v1/artists/4fwuXg6XQHfdlOdmw36OHa', 'id': '4fwuXg6XQHfdlOdmw36OHa', 'name': 'Paloma Faith', 'type': 'artist', 'uri': 'spotify:artist:4fwuXg6XQHfdlOdmw36OHa'}], 'available_markets': ['AD', 'AE', 'AR', 'AT', 'AU', 'BE', 'BG', 'BH', 'BO', 'BR', 'CA', 'CH', 'CL', 'CO', 'CR', 'CY', 'CZ', 'DE', 'DK', 'DO', 'DZ', 'EC', 'EE', 'EG', 'ES', 'FI', 'FR', 'GB', 'GR', 'GT', 'HK', 'HN', 'HU', 'ID', 'IE', 'IL', 'IN', 'IS', 'IT', 'JO', 'JP', 'KW', 'LB', 'LI', 'LT', 'LU', 'LV', 'MA', 'MC', 'MT', 'MX', 'MY', 'NI', 'NL', 'NO', 'NZ', 'OM', 'PA', 'PE', 'PH', 'PL', 'PS', 'PT', 'PY', 'QA', 'RO', 'SA', 'SE', 'SG', 'SK', 'SV', 'TH', 'TN', 'TR', 'TW', 'US', 'UY', 'VN', 'ZA'], 'disc_number': 1, 'duration_ms': 224146, 'explicit': False, 'external_ids': {'isrc': 'GBARL1701789'}, 'external_urls': {'spotify': 'https://open.spotify.com/track/5EpvQcpMPOJbIAdbtDmxxS'}, 'href': 'https://api.spotify.com/v1/tracks/5EpvQcpMPOJbIAdbtDmxxS', 'id': '5EpvQcpMPOJbIAdbtDmxxS', 'is_local': False, 'name': 'Warrior', 'popularity': 44, 'preview_url': 'https://p.scdn.co/mp3-preview/83baf346468e65725a367adb0e8a70670e189484?cid=8038c4be0f8a4844982edce1b2282ebc', 'track_number': 15, 'type': 'track', 'uri': 'spotify:track:5EpvQcpMPOJbIAdbtDmxxS'}\n",
            "{'album': {'album_type': 'album', 'artists': [{'external_urls': {'spotify': 'https://open.spotify.com/artist/5WUlDfRSoLAfcVSX1WnrxN'}, 'href': 'https://api.spotify.com/v1/artists/5WUlDfRSoLAfcVSX1WnrxN', 'id': '5WUlDfRSoLAfcVSX1WnrxN', 'name': 'Sia', 'type': 'artist', 'uri': 'spotify:artist:5WUlDfRSoLAfcVSX1WnrxN'}], 'available_markets': ['AD', 'AE', 'AR', 'AT', 'BE', 'BG', 'BH', 'BO', 'BR', 'CA', 'CH', 'CL', 'CO', 'CR', 'CY', 'CZ', 'DE', 'DK', 'DO', 'DZ', 'EC', 'EE', 'EG', 'ES', 'FI', 'FR', 'GB', 'GR', 'GT', 'HK', 'HN', 'HU', 'ID', 'IE', 'IL', 'IN', 'IS', 'IT', 'JO', 'JP', 'KW', 'LB', 'LI', 'LT', 'LU', 'LV', 'MA', 'MC', 'MT', 'MX', 'MY', 'NI', 'NL', 'NO', 'OM', 'PA', 'PE', 'PH', 'PL', 'PS', 'PT', 'PY', 'QA', 'RO', 'SA', 'SE', 'SG', 'SK', 'SV', 'TH', 'TN', 'TR', 'TW', 'US', 'UY', 'VN', 'ZA'], 'external_urls': {'spotify': 'https://open.spotify.com/album/2eV6DIPDnGl1idcjww6xyX'}, 'href': 'https://api.spotify.com/v1/albums/2eV6DIPDnGl1idcjww6xyX', 'id': '2eV6DIPDnGl1idcjww6xyX', 'images': [{'height': 640, 'url': 'https://i.scdn.co/image/ab67616d0000b273754b2fddebe7039fdb912837', 'width': 640}, {'height': 300, 'url': 'https://i.scdn.co/image/ab67616d00001e02754b2fddebe7039fdb912837', 'width': 300}, {'height': 64, 'url': 'https://i.scdn.co/image/ab67616d00004851754b2fddebe7039fdb912837', 'width': 64}], 'name': 'This Is Acting (Deluxe Version)', 'release_date': '2016-10-21', 'release_date_precision': 'day', 'total_tracks': 19, 'type': 'album', 'uri': 'spotify:album:2eV6DIPDnGl1idcjww6xyX'}, 'artists': [{'external_urls': {'spotify': 'https://open.spotify.com/artist/5WUlDfRSoLAfcVSX1WnrxN'}, 'href': 'https://api.spotify.com/v1/artists/5WUlDfRSoLAfcVSX1WnrxN', 'id': '5WUlDfRSoLAfcVSX1WnrxN', 'name': 'Sia', 'type': 'artist', 'uri': 'spotify:artist:5WUlDfRSoLAfcVSX1WnrxN'}], 'available_markets': ['AD', 'AE', 'AR', 'AT', 'BE', 'BG', 'BH', 'BO', 'BR', 'CA', 'CH', 'CL', 'CO', 'CR', 'CY', 'CZ', 'DE', 'DK', 'DO', 'DZ', 'EC', 'EE', 'EG', 'ES', 'FI', 'FR', 'GB', 'GR', 'GT', 'HK', 'HN', 'HU', 'ID', 'IE', 'IL', 'IN', 'IS', 'IT', 'JO', 'JP', 'KW', 'LB', 'LI', 'LT', 'LU', 'LV', 'MA', 'MC', 'MT', 'MX', 'MY', 'NI', 'NL', 'NO', 'OM', 'PA', 'PE', 'PH', 'PL', 'PS', 'PT', 'PY', 'QA', 'RO', 'SA', 'SE', 'SG', 'SK', 'SV', 'TH', 'TN', 'TR', 'TW', 'US', 'UY', 'VN', 'ZA'], 'disc_number': 1, 'duration_ms': 264986, 'explicit': False, 'external_ids': {'isrc': 'USRC11502940'}, 'external_urls': {'spotify': 'https://open.spotify.com/track/22iKiimk9wEJWdHlKdtFsA'}, 'href': 'https://api.spotify.com/v1/tracks/22iKiimk9wEJWdHlKdtFsA', 'id': '22iKiimk9wEJWdHlKdtFsA', 'is_local': False, 'name': 'Broken Glass', 'popularity': 54, 'preview_url': 'https://p.scdn.co/mp3-preview/0492854ab126902be840aeeb8359ca26bebba0b7?cid=8038c4be0f8a4844982edce1b2282ebc', 'track_number': 11, 'type': 'track', 'uri': 'spotify:track:22iKiimk9wEJWdHlKdtFsA'}\n",
            "added 11 tracks\n"
          ],
          "name": "stdout"
        }
      ]
    },
    {
      "cell_type": "code",
      "metadata": {
        "id": "N5hUvWG9FHwI",
        "colab_type": "code",
        "outputId": "2fc29712-f33f-4974-e4c3-c4104b484931",
        "colab": {
          "base_uri": "https://localhost:8080/",
          "height": 130
        }
      },
      "source": [
        "df = pd.io.json.json_normalize(songs_found)\n",
        "#display(list(songs_found))\n",
        "df.head(1)\n",
        "#df.to_excel('playlist1_metadata.xlsx')"
      ],
      "execution_count": 0,
      "outputs": [
        {
          "output_type": "execute_result",
          "data": {
            "text/html": [
              "<div>\n",
              "<style scoped>\n",
              "    .dataframe tbody tr th:only-of-type {\n",
              "        vertical-align: middle;\n",
              "    }\n",
              "\n",
              "    .dataframe tbody tr th {\n",
              "        vertical-align: top;\n",
              "    }\n",
              "\n",
              "    .dataframe thead th {\n",
              "        text-align: right;\n",
              "    }\n",
              "</style>\n",
              "<table border=\"1\" class=\"dataframe\">\n",
              "  <thead>\n",
              "    <tr style=\"text-align: right;\">\n",
              "      <th></th>\n",
              "      <th>id</th>\n",
              "      <th>acousticness</th>\n",
              "      <th>danceability</th>\n",
              "      <th>energy</th>\n",
              "      <th>instrumentalness</th>\n",
              "      <th>liveness</th>\n",
              "      <th>loudness</th>\n",
              "      <th>speechiness</th>\n",
              "      <th>tempo</th>\n",
              "      <th>valence</th>\n",
              "      <th>popularity</th>\n",
              "      <th>release_date</th>\n",
              "      <th>artist_name</th>\n",
              "      <th>song_name</th>\n",
              "    </tr>\n",
              "  </thead>\n",
              "  <tbody>\n",
              "    <tr>\n",
              "      <th>0</th>\n",
              "      <td>2EcJA9RZSfsLSq6cQOLtMu</td>\n",
              "      <td>0.393</td>\n",
              "      <td>0.521</td>\n",
              "      <td>0.66</td>\n",
              "      <td>0.831</td>\n",
              "      <td>0.117</td>\n",
              "      <td>-10.207</td>\n",
              "      <td>0.026</td>\n",
              "      <td>119.996</td>\n",
              "      <td>0.161</td>\n",
              "      <td>18</td>\n",
              "      <td>2013-03-17</td>\n",
              "      <td>Yakuro</td>\n",
              "      <td>Blue... The Color of Dreams</td>\n",
              "    </tr>\n",
              "  </tbody>\n",
              "</table>\n",
              "</div>"
            ],
            "text/plain": [
              "                       id  ...                    song_name\n",
              "0  2EcJA9RZSfsLSq6cQOLtMu  ...  Blue... The Color of Dreams\n",
              "\n",
              "[1 rows x 14 columns]"
            ]
          },
          "metadata": {
            "tags": []
          },
          "execution_count": 17
        }
      ]
    },
    {
      "cell_type": "markdown",
      "metadata": {
        "id": "7qHMyX3aF7lD",
        "colab_type": "text"
      },
      "source": [
        "### Audio Analysis ###"
      ]
    },
    {
      "cell_type": "markdown",
      "metadata": {
        "id": "JjvSumZKFzJp",
        "colab_type": "text"
      },
      "source": [
        "#### Download and Install pyAudioAnalysis ####"
      ]
    },
    {
      "cell_type": "code",
      "metadata": {
        "id": "5pELmAnsFCFy",
        "colab_type": "code",
        "outputId": "904ab1ea-7c61-4c68-f510-f5b298793903",
        "colab": {
          "base_uri": "https://localhost:8080/",
          "height": 150
        }
      },
      "source": [
        "!git clone https://github.com/tyiannak/pyAudioAnalysis.git"
      ],
      "execution_count": 2,
      "outputs": [
        {
          "output_type": "stream",
          "text": [
            "Cloning into 'pyAudioAnalysis'...\n",
            "remote: Enumerating objects: 77, done.\u001b[K\n",
            "remote: Counting objects:   1% (1/77)\u001b[K\rremote: Counting objects:   2% (2/77)\u001b[K\rremote: Counting objects:   3% (3/77)\u001b[K\rremote: Counting objects:   5% (4/77)\u001b[K\rremote: Counting objects:   6% (5/77)\u001b[K\rremote: Counting objects:   7% (6/77)\u001b[K\rremote: Counting objects:   9% (7/77)\u001b[K\rremote: Counting objects:  10% (8/77)\u001b[K\rremote: Counting objects:  11% (9/77)\u001b[K\rremote: Counting objects:  12% (10/77)\u001b[K\rremote: Counting objects:  14% (11/77)\u001b[K\rremote: Counting objects:  15% (12/77)\u001b[K\rremote: Counting objects:  16% (13/77)\u001b[K\rremote: Counting objects:  18% (14/77)\u001b[K\rremote: Counting objects:  19% (15/77)\u001b[K\rremote: Counting objects:  20% (16/77)\u001b[K\rremote: Counting objects:  22% (17/77)\u001b[K\rremote: Counting objects:  23% (18/77)\u001b[K\rremote: Counting objects:  24% (19/77)\u001b[K\rremote: Counting objects:  25% (20/77)\u001b[K\rremote: Counting objects:  27% (21/77)\u001b[K\rremote: Counting objects:  28% (22/77)\u001b[K\rremote: Counting objects:  29% (23/77)\u001b[K\rremote: Counting objects:  31% (24/77)\u001b[K\rremote: Counting objects:  32% (25/77)\u001b[K\rremote: Counting objects:  33% (26/77)\u001b[K\rremote: Counting objects:  35% (27/77)\u001b[K\rremote: Counting objects:  36% (28/77)\u001b[K\rremote: Counting objects:  37% (29/77)\u001b[K\rremote: Counting objects:  38% (30/77)\u001b[K\rremote: Counting objects:  40% (31/77)\u001b[K\rremote: Counting objects:  41% (32/77)\u001b[K\rremote: Counting objects:  42% (33/77)\u001b[K\rremote: Counting objects:  44% (34/77)\u001b[K\rremote: Counting objects:  45% (35/77)\u001b[K\rremote: Counting objects:  46% (36/77)\u001b[K\rremote: Counting objects:  48% (37/77)\u001b[K\rremote: Counting objects:  49% (38/77)\u001b[K\rremote: Counting objects:  50% (39/77)\u001b[K\rremote: Counting objects:  51% (40/77)\u001b[K\rremote: Counting objects:  53% (41/77)\u001b[K\rremote: Counting objects:  54% (42/77)\u001b[K\rremote: Counting objects:  55% (43/77)\u001b[K\rremote: Counting objects:  57% (44/77)\u001b[K\rremote: Counting objects:  58% (45/77)\u001b[K\rremote: Counting objects:  59% (46/77)\u001b[K\rremote: Counting objects:  61% (47/77)\u001b[K\rremote: Counting objects:  62% (48/77)\u001b[K\rremote: Counting objects:  63% (49/77)\u001b[K\rremote: Counting objects:  64% (50/77)\u001b[K\rremote: Counting objects:  66% (51/77)\u001b[K\rremote: Counting objects:  67% (52/77)\u001b[K\rremote: Counting objects:  68% (53/77)\u001b[K\rremote: Counting objects:  70% (54/77)\u001b[K\rremote: Counting objects:  71% (55/77)\u001b[K\rremote: Counting objects:  72% (56/77)\u001b[K\rremote: Counting objects:  74% (57/77)\u001b[K\rremote: Counting objects:  75% (58/77)\u001b[K\rremote: Counting objects:  76% (59/77)\u001b[K\rremote: Counting objects:  77% (60/77)\u001b[K\rremote: Counting objects:  79% (61/77)\u001b[K\rremote: Counting objects:  80% (62/77)\u001b[K\rremote: Counting objects:  81% (63/77)\u001b[K\rremote: Counting objects:  83% (64/77)\u001b[K\rremote: Counting objects:  84% (65/77)\u001b[K\rremote: Counting objects:  85% (66/77)\u001b[K\rremote: Counting objects:  87% (67/77)\u001b[K\rremote: Counting objects:  88% (68/77)\u001b[K\rremote: Counting objects:  89% (69/77)\u001b[K\rremote: Counting objects:  90% (70/77)\u001b[K\rremote: Counting objects:  92% (71/77)\u001b[K\rremote: Counting objects:  93% (72/77)\u001b[K\rremote: Counting objects:  94% (73/77)\u001b[K\rremote: Counting objects:  96% (74/77)\u001b[K\rremote: Counting objects:  97% (75/77)\u001b[K\rremote: Counting objects:  98% (76/77)\u001b[K\rremote: Counting objects: 100% (77/77)\u001b[K\rremote: Counting objects: 100% (77/77), done.\u001b[K\n",
            "remote: Compressing objects: 100% (73/73), done.\u001b[K\n",
            "remote: Total 1926 (delta 46), reused 23 (delta 4), pack-reused 1849\u001b[K\n",
            "Receiving objects: 100% (1926/1926), 81.98 MiB | 27.60 MiB/s, done.\n",
            "Resolving deltas: 100% (1152/1152), done.\n",
            "Checking out files: 100% (178/178), done.\n"
          ],
          "name": "stdout"
        }
      ]
    },
    {
      "cell_type": "code",
      "metadata": {
        "id": "zk-E5P-YflZu",
        "colab_type": "code",
        "outputId": "79946be5-bc41-467f-a93f-7c1dd0d4b478",
        "colab": {
          "base_uri": "https://localhost:8080/",
          "height": 824
        }
      },
      "source": [
        "#!pip install -r ./requirements.txt\n",
        "!pip install -e pyAudioAnalysis"
      ],
      "execution_count": 3,
      "outputs": [
        {
          "output_type": "stream",
          "text": [
            "Obtaining file:///content/pyAudioAnalysis\n",
            "Requirement already satisfied: numpy in /usr/local/lib/python3.6/dist-packages (from pyAudioAnalysis==0.2.5) (1.17.4)\n",
            "Collecting matplotlib==1.5.3\n",
            "\u001b[?25l  Downloading https://files.pythonhosted.org/packages/61/f6/9aeee05e614043add127f1485a8e25758bed58f2a5361bbd870aa071e87a/matplotlib-1.5.3-cp36-cp36m-manylinux1_x86_64.whl (13.7MB)\n",
            "\u001b[K     |████████████████████████████████| 13.8MB 308kB/s \n",
            "\u001b[?25hRequirement already satisfied: scipy in /usr/local/lib/python3.6/dist-packages (from pyAudioAnalysis==0.2.5) (1.3.3)\n",
            "Requirement already satisfied: sklearn in /usr/local/lib/python3.6/dist-packages (from pyAudioAnalysis==0.2.5) (0.0)\n",
            "Collecting hmmlearn\n",
            "\u001b[?25l  Downloading https://files.pythonhosted.org/packages/ff/7b/33f629a443a0671161c019e55c3f1b511c7e9fdce5ab8c8c3c33470eb939/hmmlearn-0.2.3-cp36-cp36m-manylinux1_x86_64.whl (363kB)\n",
            "\u001b[K     |████████████████████████████████| 368kB 45.8MB/s \n",
            "\u001b[?25hCollecting simplejson\n",
            "\u001b[?25l  Downloading https://files.pythonhosted.org/packages/98/87/a7b98aa9256c8843f92878966dc3d8d914c14aad97e2c5ce4798d5743e07/simplejson-3.17.0.tar.gz (83kB)\n",
            "\u001b[K     |████████████████████████████████| 92kB 11.0MB/s \n",
            "\u001b[?25hCollecting eyed3\n",
            "\u001b[?25l  Downloading https://files.pythonhosted.org/packages/cd/07/7bbbd0a72b7884900785c95b5447345397b5bdbba44785601147084b7701/eyeD3-0.8.11-py2.py3-none-any.whl (147kB)\n",
            "\u001b[K     |████████████████████████████████| 153kB 43.4MB/s \n",
            "\u001b[?25hCollecting pydub\n",
            "  Downloading https://files.pythonhosted.org/packages/79/db/eaf620b73a1eec3c8c6f8f5b0b236a50f9da88ad57802154b7ba7664d0b8/pydub-0.23.1-py2.py3-none-any.whl\n",
            "Requirement already satisfied: pytz in /usr/local/lib/python3.6/dist-packages (from matplotlib==1.5.3->pyAudioAnalysis==0.2.5) (2018.9)\n",
            "Requirement already satisfied: pyparsing!=2.0.0,!=2.0.4,!=2.1.2,>=1.5.6 in /usr/local/lib/python3.6/dist-packages (from matplotlib==1.5.3->pyAudioAnalysis==0.2.5) (2.4.5)\n",
            "Requirement already satisfied: python-dateutil in /usr/local/lib/python3.6/dist-packages (from matplotlib==1.5.3->pyAudioAnalysis==0.2.5) (2.6.1)\n",
            "Requirement already satisfied: cycler in /usr/local/lib/python3.6/dist-packages (from matplotlib==1.5.3->pyAudioAnalysis==0.2.5) (0.10.0)\n",
            "Requirement already satisfied: scikit-learn in /usr/local/lib/python3.6/dist-packages (from sklearn->pyAudioAnalysis==0.2.5) (0.21.3)\n",
            "Requirement already satisfied: six in /usr/local/lib/python3.6/dist-packages (from eyed3->pyAudioAnalysis==0.2.5) (1.12.0)\n",
            "Collecting python-magic\n",
            "  Downloading https://files.pythonhosted.org/packages/42/a1/76d30c79992e3750dac6790ce16f056f870d368ba142f83f75f694d93001/python_magic-0.4.15-py2.py3-none-any.whl\n",
            "Requirement already satisfied: joblib>=0.11 in /usr/local/lib/python3.6/dist-packages (from scikit-learn->sklearn->pyAudioAnalysis==0.2.5) (0.14.1)\n",
            "Building wheels for collected packages: simplejson\n",
            "  Building wheel for simplejson (setup.py) ... \u001b[?25l\u001b[?25hdone\n",
            "  Created wheel for simplejson: filename=simplejson-3.17.0-cp36-cp36m-linux_x86_64.whl size=114208 sha256=19620cf457ed2f49df35cc6e1e3caf1a3819d55341eab59b88b4fedb78473644\n",
            "  Stored in directory: /root/.cache/pip/wheels/86/c0/83/dcd0339abb2640544bb8e0938aab2d069cef55e5647ce6e097\n",
            "Successfully built simplejson\n",
            "\u001b[31mERROR: scikit-image 0.15.0 has requirement matplotlib!=3.0.0,>=2.0.0, but you'll have matplotlib 1.5.3 which is incompatible.\u001b[0m\n",
            "\u001b[31mERROR: plotnine 0.5.1 has requirement matplotlib>=3.0.0, but you'll have matplotlib 1.5.3 which is incompatible.\u001b[0m\n",
            "\u001b[31mERROR: fbprophet 0.5 has requirement matplotlib>=2.0.0, but you'll have matplotlib 1.5.3 which is incompatible.\u001b[0m\n",
            "\u001b[31mERROR: albumentations 0.1.12 has requirement imgaug<0.2.7,>=0.2.5, but you'll have imgaug 0.2.9 which is incompatible.\u001b[0m\n",
            "Installing collected packages: matplotlib, hmmlearn, simplejson, python-magic, eyed3, pydub, pyAudioAnalysis\n",
            "  Found existing installation: matplotlib 3.1.2\n",
            "    Uninstalling matplotlib-3.1.2:\n",
            "      Successfully uninstalled matplotlib-3.1.2\n",
            "  Running setup.py develop for pyAudioAnalysis\n",
            "Successfully installed eyed3-0.8.11 hmmlearn-0.2.3 matplotlib-1.5.3 pyAudioAnalysis pydub-0.23.1 python-magic-0.4.15 simplejson-3.17.0\n"
          ],
          "name": "stdout"
        },
        {
          "output_type": "display_data",
          "data": {
            "application/vnd.colab-display-data+json": {
              "pip_warning": {
                "packages": [
                  "matplotlib",
                  "mpl_toolkits"
                ]
              }
            }
          },
          "metadata": {
            "tags": []
          }
        }
      ]
    },
    {
      "cell_type": "code",
      "metadata": {
        "id": "VutvuZhV5IYM",
        "colab_type": "code",
        "colab": {}
      },
      "source": [
        "from pyAudioAnalysis import ShortTermFeatures as ShortTermFeatures \n",
        "import scipy.io.wavfile as wavfile\n",
        "from scipy.signal import medfilt as mf\n",
        "import librosa \n",
        "import numpy as np\n",
        "import plotly\n",
        "import plotly.graph_objs as go\n",
        "from google.colab import drive\n",
        "\n",
        "drive.mount('/content/gdrive')\n",
        "path = '/content/gdrive/My Drive/DataScience/Multimodal Analysis/data/'"
      ],
      "execution_count": 0,
      "outputs": []
    },
    {
      "cell_type": "markdown",
      "metadata": {
        "id": "820nC2x3EKza",
        "colab_type": "text"
      },
      "source": [
        "#### Pitch estimation ###"
      ]
    },
    {
      "cell_type": "code",
      "metadata": {
        "id": "OEcdiMq48l-s",
        "colab_type": "code",
        "outputId": "3f0126e9-406a-47b4-967d-1ffd9dd4f8d4",
        "colab": {
          "base_uri": "https://localhost:8080/",
          "height": 50
        }
      },
      "source": [
        "layout = go.Layout(title='Librosa pitch estimation', \n",
        "                     xaxis=dict(title='time frame',), \n",
        "                     yaxis=dict(title='freq (Hz)',)) \n",
        "   \n",
        "def get_librosa_pitch(signal, fs, window): \n",
        "    pitches, magnitudes = librosa.piptrack(y=signal, sr=fs, n_fft=int(window), \n",
        "                                            hop_length=int(window/10)) \n",
        "    pitch_pos = np.argmax(magnitudes, axis=0) \n",
        "    pitches_final = [] \n",
        "    for i in range(len(pitch_pos)): \n",
        "        pitches_final.append(pitches[pitch_pos[i], i]) \n",
        "    pitches_final = np.array(pitches_final) \n",
        "    pitches_final[pitches_final > 2000] = 0  # cut high pitches \n",
        "    return mf(pitches_final, 3)              # use medfilt for smoothing \n",
        "   \n",
        "\n",
        "s, fs = librosa.load(path+\"/Yakuro - Blue... the colour of dreams.wav\")\n",
        "print(type(float(fs)), type(s))\n",
        "p = get_librosa_pitch(s, float(fs), float(fs/20)) \n",
        "plt = go.Scatter(x=np.arange(len(p)), y=p, mode='markers', showlegend=False) \n",
        "plotly.offline.plot(go.Figure(data=[plt], layout=layout), \n",
        "                    filename=path+\"pitch_track.html\", auto_open=True)\n"
      ],
      "execution_count": 0,
      "outputs": [
        {
          "output_type": "stream",
          "text": [
            "<class 'float'> <class 'numpy.ndarray'>\n"
          ],
          "name": "stdout"
        },
        {
          "output_type": "execute_result",
          "data": {
            "text/plain": [
              "'pitch_track.html'"
            ]
          },
          "metadata": {
            "tags": []
          },
          "execution_count": 29
        }
      ]
    },
    {
      "cell_type": "code",
      "metadata": {
        "id": "hZ2ROrG2pVZ3",
        "colab_type": "code",
        "outputId": "73487ccb-b715-440e-f283-92a2258bd88a",
        "colab": {
          "base_uri": "https://localhost:8080/",
          "height": 33
        }
      },
      "source": [
        "plotly.offline.plot(go.Figure(data=[plt], layout=layout), \n",
        "                    filename=path+\"pitch_track.html\", auto_open=True)"
      ],
      "execution_count": 0,
      "outputs": [
        {
          "output_type": "execute_result",
          "data": {
            "text/plain": [
              "'/content/gdrive/My Drive/DataScience/Multimodal Analysis/data/pitch_track.html'"
            ]
          },
          "metadata": {
            "tags": []
          },
          "execution_count": 31
        }
      ]
    },
    {
      "cell_type": "markdown",
      "metadata": {
        "id": "-oZROsk6ERHl",
        "colab_type": "text"
      },
      "source": [
        "#### Mel spectogram ####"
      ]
    },
    {
      "cell_type": "code",
      "metadata": {
        "id": "qMmGA51QkMd_",
        "colab_type": "code",
        "colab": {
          "base_uri": "https://localhost:8080/",
          "height": 50
        },
        "outputId": "3280dcc7-9085-4258-e6e9-48e0232ec8e0"
      },
      "source": [
        "layout = go.Layout(title='Melgram Extraction Example using librosa', \n",
        "                    xaxis=dict(title='time (sec)',), \n",
        "                    yaxis=dict(title='Mel Coefficient (index)',)) \n",
        "  \n",
        "def normalize_signal(signal): \n",
        "  signal = np.double(signal) \n",
        "  signal = signal / (2.0 ** 15) \n",
        "  return (signal - signal.mean()) / ((np.abs(signal)).max() + 0.0000000001) \n",
        "\n",
        "\n",
        "[s, Fs] = librosa.load(path+\"/Yakuro - Blue... the colour of dreams.wav\")\n",
        "s = normalize_signal(s) \n",
        "S = librosa.feature.melspectrogram(s, Fs, None, int(Fs * 0.020), \n",
        "                                    int(Fs * 0.020), power=2) \n",
        "# create frequency and time axes\n",
        "print(S.shape[0]) \n",
        "f = [*range(S.shape[0])]\n",
        "t = [float(t * int(Fs * 0.020)) / Fs for t in range(S.shape[1])] \n",
        "heatmap = go.Heatmap(z=S, y=f, x=t) \n",
        "plotly.offline.plot(go.Figure(data=[heatmap], layout=layout), \n",
        "                    filename=path+\"mel_gram.html\", auto_open=True)\n"
      ],
      "execution_count": 8,
      "outputs": [
        {
          "output_type": "stream",
          "text": [
            "128\n"
          ],
          "name": "stdout"
        },
        {
          "output_type": "execute_result",
          "data": {
            "text/plain": [
              "'/content/gdrive/My Drive/DataScience/Multimodal Analysis/data/mel_gram.html'"
            ]
          },
          "metadata": {
            "tags": []
          },
          "execution_count": 8
        }
      ]
    },
    {
      "cell_type": "code",
      "metadata": {
        "id": "e6DzViPaUIaJ",
        "colab_type": "code",
        "colab": {}
      },
      "source": [
        ""
      ],
      "execution_count": 0,
      "outputs": []
    }
  ]
}