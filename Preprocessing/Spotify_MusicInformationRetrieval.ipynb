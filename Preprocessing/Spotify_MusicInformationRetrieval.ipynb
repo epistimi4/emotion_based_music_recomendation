{
  "nbformat": 4,
  "nbformat_minor": 0,
  "metadata": {
    "colab": {
      "name": "Spotify_MusicInformationRetrieval.ipynb",
      "provenance": [],
      "include_colab_link": true
    },
    "kernelspec": {
      "name": "python3",
      "display_name": "Python 3"
    }
  },
  "cells": [
    {
      "cell_type": "markdown",
      "metadata": {
        "id": "view-in-github",
        "colab_type": "text"
      },
      "source": [
        "<a href=\"https://colab.research.google.com/github/epistimi4/emotion_based_music_recomendation/blob/master/Preprocessing/Spotify_MusicInformationRetrieval.ipynb\" target=\"_parent\"><img src=\"https://colab.research.google.com/assets/colab-badge.svg\" alt=\"Open In Colab\"/></a>"
      ]
    },
    {
      "cell_type": "markdown",
      "metadata": {
        "id": "C7eQHubQZQ0R",
        "colab_type": "text"
      },
      "source": [
        "# Music Information Retrieval from Spotify #"
      ]
    },
    {
      "cell_type": "code",
      "metadata": {
        "id": "pCSffweAHAn7",
        "colab_type": "code",
        "outputId": "4c07fee8-3e16-4c5b-b889-d411f9f53d46",
        "colab": {
          "base_uri": "https://localhost:8080/",
          "height": 251
        }
      },
      "source": [
        "!pip install spotipy"
      ],
      "execution_count": 1,
      "outputs": [
        {
          "output_type": "stream",
          "text": [
            "Collecting spotipy\n",
            "  Downloading https://files.pythonhosted.org/packages/59/46/3c957255c96910a8a0e2d9c25db1de51a8676ebba01d7966bedc6e748822/spotipy-2.4.4.tar.gz\n",
            "Requirement already satisfied: requests>=1.0 in /usr/local/lib/python3.6/dist-packages (from spotipy) (2.21.0)\n",
            "Requirement already satisfied: certifi>=2017.4.17 in /usr/local/lib/python3.6/dist-packages (from requests>=1.0->spotipy) (2019.11.28)\n",
            "Requirement already satisfied: urllib3<1.25,>=1.21.1 in /usr/local/lib/python3.6/dist-packages (from requests>=1.0->spotipy) (1.24.3)\n",
            "Requirement already satisfied: idna<2.9,>=2.5 in /usr/local/lib/python3.6/dist-packages (from requests>=1.0->spotipy) (2.8)\n",
            "Requirement already satisfied: chardet<3.1.0,>=3.0.2 in /usr/local/lib/python3.6/dist-packages (from requests>=1.0->spotipy) (3.0.4)\n",
            "Building wheels for collected packages: spotipy\n",
            "  Building wheel for spotipy (setup.py) ... \u001b[?25l\u001b[?25hdone\n",
            "  Created wheel for spotipy: filename=spotipy-2.4.4-cp36-none-any.whl size=12336 sha256=f6a8617550d44f064af815ecb027b9ef9e1b060d7325140632b2d7be3e0799d5\n",
            "  Stored in directory: /root/.cache/pip/wheels/76/28/19/a86ca9bb0e32dbd4a4f580870250f5aeef852870578e0427e6\n",
            "Successfully built spotipy\n",
            "Installing collected packages: spotipy\n",
            "Successfully installed spotipy-2.4.4\n"
          ],
          "name": "stdout"
        }
      ]
    },
    {
      "cell_type": "code",
      "metadata": {
        "id": "RLj8ToFsZN9q",
        "colab_type": "code",
        "colab": {}
      },
      "source": [
        "import numpy as np\n",
        "import spotipy\n",
        "from spotipy.oauth2 import SpotifyClientCredentials #to access authorised Spotify data\n",
        "import json\n",
        "import pandas as pd"
      ],
      "execution_count": 0,
      "outputs": []
    },
    {
      "cell_type": "markdown",
      "metadata": {
        "id": "oe9ODLm5-Yet",
        "colab_type": "text"
      },
      "source": [
        "### Authorization flows ###"
      ]
    },
    {
      "cell_type": "markdown",
      "metadata": {
        "id": "PjYT3ccTHxYv",
        "colab_type": "text"
      },
      "source": [
        "#### deprecated using Spotipy library ####"
      ]
    },
    {
      "cell_type": "code",
      "metadata": {
        "id": "s00o-CHb-TIW",
        "colab_type": "code",
        "colab": {}
      },
      "source": [
        "#deprecated\n",
        "#Temporary user authorization: Implicit Grant\n",
        "auth_request = requests.get(\n",
        "    'https://accounts.spotify.com/authorize?client_id=8038c4be0f8a4844982edce1b2282ebc&\\\n",
        "    redirect_uri=http:%2F%2Fexample.com%2Fcallback&scope=user-read-private%20user-read-email&response_type=token&state=123')\n",
        "\n",
        "print(auth_request.content)\n",
        "response_dict = json.loads(auth_request.text)\n",
        "\n",
        "for i in response_dict:\n",
        "    print(\"key: \", i, \"val: \", response_dict[i])"
      ],
      "execution_count": 0,
      "outputs": []
    },
    {
      "cell_type": "code",
      "metadata": {
        "id": "O3Ov47tXakno",
        "colab_type": "code",
        "outputId": "bec218db-91fb-439b-91ac-1fd16fadaf58",
        "colab": {
          "base_uri": "https://localhost:8080/",
          "height": 33
        }
      },
      "source": [
        "access_token = '1bd8da3a234e4060a6801a432c0e877d'\n",
        "artist_name = 'Nibana'\n",
        "\n",
        "artist_info = requests.get(\n",
        "    'https://api.spotify.com/v1/search',\n",
        "    headers={ 'access_token': access_token },\n",
        "    params={ 'q': artist_name, 'type': 'artist' })\n",
        "\n",
        "print(artist_info)"
      ],
      "execution_count": 0,
      "outputs": [
        {
          "output_type": "stream",
          "text": [
            "<Response [401]>\n"
          ],
          "name": "stdout"
        }
      ]
    },
    {
      "cell_type": "markdown",
      "metadata": {
        "id": "cAKghY_1VaWL",
        "colab_type": "text"
      },
      "source": [
        "### Using spotipy ###"
      ]
    },
    {
      "cell_type": "markdown",
      "metadata": {
        "id": "VF2FTDbSIf0Q",
        "colab_type": "text"
      },
      "source": [
        "#### Authorize app ####"
      ]
    },
    {
      "cell_type": "code",
      "metadata": {
        "id": "8rvlpP7JIaEm",
        "colab_type": "code",
        "colab": {}
      },
      "source": [
        "client_id = '8038c4be0f8a4844982edce1b2282ebc'\n",
        "client_secret = '1bd8da3a234e4060a6801a432c0e877d'\n",
        "\n",
        "client_credentials_manager = SpotifyClientCredentials(client_id=client_id, client_secret=client_secret)\n",
        "\n",
        "sp = spotipy.Spotify(client_credentials_manager=client_credentials_manager) #spotify object to access API"
      ],
      "execution_count": 0,
      "outputs": []
    },
    {
      "cell_type": "markdown",
      "metadata": {
        "id": "LYcMPtAXG4NV",
        "colab_type": "text"
      },
      "source": [
        "### Extract metadata /audio features from a song ###"
      ]
    },
    {
      "cell_type": "code",
      "metadata": {
        "id": "zPuweCVl7rfq",
        "colab_type": "code",
        "colab": {}
      },
      "source": [
        "# extract audio features for each song\n",
        "def audio_features(song_name, track_id):    \n",
        "    spotify_song = {}\n",
        "  \n",
        "    #for track in songs_found:\n",
        "        #pull audio features per track\n",
        "        \n",
        "    features = sp.audio_features(track_id)\n",
        "    spotify_song['id'] = features[0]['id']\n",
        "    #Append to relevant key-value\n",
        "    spotify_song['acousticness'] = features[0]['acousticness']\n",
        "    spotify_song['danceability'] = features[0]['danceability']\n",
        "    spotify_song['energy'] = features[0]['energy']\n",
        "    spotify_song['instrumentalness'] = features[0]['instrumentalness']\n",
        "    spotify_song['liveness'] = features[0]['liveness']\n",
        "    spotify_song['loudness'] = features[0]['loudness']\n",
        "    spotify_song['speechiness'] = features[0]['speechiness']\n",
        "    spotify_song['tempo'] = features[0]['tempo']\n",
        "    spotify_song['valence'] = features[0]['valence']\n",
        "    #popularity is stored elsewhere\n",
        "    pop = sp.track(track_id)#track['id'])\n",
        "    spotify_song['popularity'] = pop['popularity']\n",
        "    spotify_song['song_name'] = pop['name']\n",
        "    \n",
        "    #if spotify_song['song_name'].lower() == song_name.lower():\n",
        "    print(song_name, spotify_song['song_name'])\n",
        "    #if not any(d['song_name'] == spotify_song['song_name'] for d in spotify_songs):\n",
        "    #  spotify_songs.append(spotify_song)          \n",
        "\n",
        "    return spotify_song"
      ],
      "execution_count": 0,
      "outputs": []
    },
    {
      "cell_type": "markdown",
      "metadata": {
        "id": "jxYlS516nPA6",
        "colab_type": "text"
      },
      "source": [
        "### Search spotify for the songs in my list ###"
      ]
    },
    {
      "cell_type": "code",
      "metadata": {
        "id": "NKb6yambEcRS",
        "colab_type": "code",
        "outputId": "efc80c4b-1300-4cad-ad25-95b8a2a64269",
        "colab": {
          "base_uri": "https://localhost:8080/",
          "height": 150
        }
      },
      "source": [
        "songs_found = []\n",
        "song_list = [\"our eyes (sephira remix)\", \"the grid\", 'Sirius 2017(Disco Demolition Remix)', 'Project L.O.V.E', 'Tron Legacy - Son Of Flynn', 'Blue... The Color of Dreams']\n",
        "print('my playlist has {0} songs'.format(len(song_list)))\n",
        "\n",
        "for name in song_list:  #chosen track\n",
        "  result = sp.search(name) #search query\n",
        "  track_id = result['tracks']['items'][0]['id']\n",
        "  #print(track_id, result['tracks']['items'][0])\n",
        "  #print(sp.audio_features([track_id]))\n",
        "  songs_found.append(audio_features(name, track_id))#result['tracks']['items']) )\n",
        "\n",
        "print('added {0} tracks'.format(len(songs_found)))"
      ],
      "execution_count": 53,
      "outputs": [
        {
          "output_type": "stream",
          "text": [
            "my playlist has 6 songs\n",
            "our eyes (sephira remix) Our Eyes - Sephira Remix\n",
            "the grid Off The Grid\n",
            "Sirius 2017(Disco Demolition Remix) Sirius 2017 - Disco Demolition Remix\n",
            "Project L.O.V.E Project L.O.V.E\n",
            "Tron Legacy - Son Of Flynn The Son of Flynn\n",
            "Blue... The Color of Dreams Blue... The Color of Dreams\n",
            "added 6 tracks\n"
          ],
          "name": "stdout"
        }
      ]
    },
    {
      "cell_type": "code",
      "metadata": {
        "id": "N5hUvWG9FHwI",
        "colab_type": "code",
        "outputId": "fa161ad4-966d-4e95-93eb-d3ed287c166a",
        "colab": {
          "base_uri": "https://localhost:8080/",
          "height": 276
        }
      },
      "source": [
        "df = pd.io.json.json_normalize(songs_found)\n",
        "#display(list(songs_found))\n",
        "df.head(10)"
      ],
      "execution_count": 56,
      "outputs": [
        {
          "output_type": "execute_result",
          "data": {
            "text/html": [
              "<div>\n",
              "<style scoped>\n",
              "    .dataframe tbody tr th:only-of-type {\n",
              "        vertical-align: middle;\n",
              "    }\n",
              "\n",
              "    .dataframe tbody tr th {\n",
              "        vertical-align: top;\n",
              "    }\n",
              "\n",
              "    .dataframe thead th {\n",
              "        text-align: right;\n",
              "    }\n",
              "</style>\n",
              "<table border=\"1\" class=\"dataframe\">\n",
              "  <thead>\n",
              "    <tr style=\"text-align: right;\">\n",
              "      <th></th>\n",
              "      <th>id</th>\n",
              "      <th>acousticness</th>\n",
              "      <th>danceability</th>\n",
              "      <th>energy</th>\n",
              "      <th>instrumentalness</th>\n",
              "      <th>liveness</th>\n",
              "      <th>loudness</th>\n",
              "      <th>speechiness</th>\n",
              "      <th>tempo</th>\n",
              "      <th>valence</th>\n",
              "      <th>popularity</th>\n",
              "      <th>song_name</th>\n",
              "    </tr>\n",
              "  </thead>\n",
              "  <tbody>\n",
              "    <tr>\n",
              "      <th>0</th>\n",
              "      <td>3yzlDHdP9buTr9jkZfUyEq</td>\n",
              "      <td>0.055400</td>\n",
              "      <td>0.642</td>\n",
              "      <td>0.833</td>\n",
              "      <td>0.865000</td>\n",
              "      <td>0.272</td>\n",
              "      <td>-8.621</td>\n",
              "      <td>0.0358</td>\n",
              "      <td>100.015</td>\n",
              "      <td>0.0493</td>\n",
              "      <td>21</td>\n",
              "      <td>Our Eyes - Sephira Remix</td>\n",
              "    </tr>\n",
              "    <tr>\n",
              "      <th>1</th>\n",
              "      <td>5STtg0bZXSoWfF20qWGxeV</td>\n",
              "      <td>0.054900</td>\n",
              "      <td>0.734</td>\n",
              "      <td>0.899</td>\n",
              "      <td>0.000039</td>\n",
              "      <td>0.108</td>\n",
              "      <td>-4.442</td>\n",
              "      <td>0.0669</td>\n",
              "      <td>124.035</td>\n",
              "      <td>0.5200</td>\n",
              "      <td>59</td>\n",
              "      <td>Off The Grid</td>\n",
              "    </tr>\n",
              "    <tr>\n",
              "      <th>2</th>\n",
              "      <td>5ld9arEKsxvJr7RqoWd337</td>\n",
              "      <td>0.077700</td>\n",
              "      <td>0.533</td>\n",
              "      <td>0.864</td>\n",
              "      <td>0.904000</td>\n",
              "      <td>0.130</td>\n",
              "      <td>-7.941</td>\n",
              "      <td>0.0394</td>\n",
              "      <td>119.023</td>\n",
              "      <td>0.0787</td>\n",
              "      <td>40</td>\n",
              "      <td>Sirius 2017 - Disco Demolition Remix</td>\n",
              "    </tr>\n",
              "    <tr>\n",
              "      <th>3</th>\n",
              "      <td>0gX7U91bqxtZVLIZ0MhsTC</td>\n",
              "      <td>0.000242</td>\n",
              "      <td>0.575</td>\n",
              "      <td>0.908</td>\n",
              "      <td>0.537000</td>\n",
              "      <td>0.440</td>\n",
              "      <td>-7.535</td>\n",
              "      <td>0.0345</td>\n",
              "      <td>126.001</td>\n",
              "      <td>0.0713</td>\n",
              "      <td>37</td>\n",
              "      <td>Project L.O.V.E</td>\n",
              "    </tr>\n",
              "    <tr>\n",
              "      <th>4</th>\n",
              "      <td>1xPec5BN0Zxv77zrWKq43S</td>\n",
              "      <td>0.901000</td>\n",
              "      <td>0.543</td>\n",
              "      <td>0.775</td>\n",
              "      <td>0.902000</td>\n",
              "      <td>0.258</td>\n",
              "      <td>-17.616</td>\n",
              "      <td>0.0520</td>\n",
              "      <td>106.018</td>\n",
              "      <td>0.0222</td>\n",
              "      <td>55</td>\n",
              "      <td>The Son of Flynn</td>\n",
              "    </tr>\n",
              "    <tr>\n",
              "      <th>5</th>\n",
              "      <td>2EcJA9RZSfsLSq6cQOLtMu</td>\n",
              "      <td>0.393000</td>\n",
              "      <td>0.521</td>\n",
              "      <td>0.660</td>\n",
              "      <td>0.831000</td>\n",
              "      <td>0.117</td>\n",
              "      <td>-10.207</td>\n",
              "      <td>0.0260</td>\n",
              "      <td>119.996</td>\n",
              "      <td>0.1610</td>\n",
              "      <td>18</td>\n",
              "      <td>Blue... The Color of Dreams</td>\n",
              "    </tr>\n",
              "  </tbody>\n",
              "</table>\n",
              "</div>"
            ],
            "text/plain": [
              "                       id  ...                             song_name\n",
              "0  3yzlDHdP9buTr9jkZfUyEq  ...              Our Eyes - Sephira Remix\n",
              "1  5STtg0bZXSoWfF20qWGxeV  ...                          Off The Grid\n",
              "2  5ld9arEKsxvJr7RqoWd337  ...  Sirius 2017 - Disco Demolition Remix\n",
              "3  0gX7U91bqxtZVLIZ0MhsTC  ...                       Project L.O.V.E\n",
              "4  1xPec5BN0Zxv77zrWKq43S  ...                      The Son of Flynn\n",
              "5  2EcJA9RZSfsLSq6cQOLtMu  ...           Blue... The Color of Dreams\n",
              "\n",
              "[6 rows x 12 columns]"
            ]
          },
          "metadata": {
            "tags": []
          },
          "execution_count": 56
        }
      ]
    },
    {
      "cell_type": "code",
      "metadata": {
        "id": "zk-E5P-YflZu",
        "colab_type": "code",
        "colab": {}
      },
      "source": [
        "  "
      ],
      "execution_count": 0,
      "outputs": []
    }
  ]
}