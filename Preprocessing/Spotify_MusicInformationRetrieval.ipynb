{
  "nbformat": 4,
  "nbformat_minor": 0,
  "metadata": {
    "colab": {
      "name": "Spotify_MusicInformationRetrieval.ipynb",
      "provenance": []
    },
    "kernelspec": {
      "name": "python3",
      "display_name": "Python 3"
    }
  },
  "cells": [
    {
      "cell_type": "markdown",
      "metadata": {
        "id": "C7eQHubQZQ0R",
        "colab_type": "text"
      },
      "source": [
        "# Music Information Retrieval from Spotify #"
      ]
    },
    {
      "cell_type": "code",
      "metadata": {
        "id": "pCSffweAHAn7",
        "colab_type": "code",
        "colab": {
          "base_uri": "https://localhost:8080/",
          "height": 251
        },
        "outputId": "13ca65d4-1024-4f73-dcce-6d2f25305bdf"
      },
      "source": [
        "!pip install spotipy"
      ],
      "execution_count": 1,
      "outputs": [
        {
          "output_type": "stream",
          "text": [
            "Collecting spotipy\n",
            "  Downloading https://files.pythonhosted.org/packages/59/46/3c957255c96910a8a0e2d9c25db1de51a8676ebba01d7966bedc6e748822/spotipy-2.4.4.tar.gz\n",
            "Requirement already satisfied: requests>=1.0 in /usr/local/lib/python3.6/dist-packages (from spotipy) (2.21.0)\n",
            "Requirement already satisfied: idna<2.9,>=2.5 in /usr/local/lib/python3.6/dist-packages (from requests>=1.0->spotipy) (2.8)\n",
            "Requirement already satisfied: certifi>=2017.4.17 in /usr/local/lib/python3.6/dist-packages (from requests>=1.0->spotipy) (2019.11.28)\n",
            "Requirement already satisfied: urllib3<1.25,>=1.21.1 in /usr/local/lib/python3.6/dist-packages (from requests>=1.0->spotipy) (1.24.3)\n",
            "Requirement already satisfied: chardet<3.1.0,>=3.0.2 in /usr/local/lib/python3.6/dist-packages (from requests>=1.0->spotipy) (3.0.4)\n",
            "Building wheels for collected packages: spotipy\n",
            "  Building wheel for spotipy (setup.py) ... \u001b[?25l\u001b[?25hdone\n",
            "  Created wheel for spotipy: filename=spotipy-2.4.4-cp36-none-any.whl size=12336 sha256=2704bb380d8b37decb96f001865567c97878d689de55c483ab4332eb8c8f646e\n",
            "  Stored in directory: /root/.cache/pip/wheels/76/28/19/a86ca9bb0e32dbd4a4f580870250f5aeef852870578e0427e6\n",
            "Successfully built spotipy\n",
            "Installing collected packages: spotipy\n",
            "Successfully installed spotipy-2.4.4\n"
          ],
          "name": "stdout"
        }
      ]
    },
    {
      "cell_type": "code",
      "metadata": {
        "id": "RLj8ToFsZN9q",
        "colab_type": "code",
        "colab": {}
      },
      "source": [
        "import numpy as np\n",
        "import spotipy\n",
        "from spotipy.oauth2 import SpotifyClientCredentials #to access authorised Spotify data\n",
        "import json"
      ],
      "execution_count": 0,
      "outputs": []
    },
    {
      "cell_type": "markdown",
      "metadata": {
        "id": "oe9ODLm5-Yet",
        "colab_type": "text"
      },
      "source": [
        "### Authorization flows ###"
      ]
    },
    {
      "cell_type": "markdown",
      "metadata": {
        "id": "PjYT3ccTHxYv",
        "colab_type": "text"
      },
      "source": [
        "#### deprecated using Spotipy library ####"
      ]
    },
    {
      "cell_type": "code",
      "metadata": {
        "id": "s00o-CHb-TIW",
        "colab_type": "code",
        "colab": {}
      },
      "source": [
        "#deprecated\n",
        "#Temporary user authorization: Implicit Grant\n",
        "auth_request = requests.get(\n",
        "    'https://accounts.spotify.com/authorize?client_id=8038c4be0f8a4844982edce1b2282ebc&\\\n",
        "    redirect_uri=http:%2F%2Fexample.com%2Fcallback&scope=user-read-private%20user-read-email&response_type=token&state=123')\n",
        "\n",
        "print(auth_request.content)\n",
        "response_dict = json.loads(auth_request.text)\n",
        "\n",
        "for i in response_dict:\n",
        "    print(\"key: \", i, \"val: \", response_dict[i])"
      ],
      "execution_count": 0,
      "outputs": []
    },
    {
      "cell_type": "code",
      "metadata": {
        "id": "O3Ov47tXakno",
        "colab_type": "code",
        "outputId": "bec218db-91fb-439b-91ac-1fd16fadaf58",
        "colab": {
          "base_uri": "https://localhost:8080/",
          "height": 33
        }
      },
      "source": [
        "access_token = '1bd8da3a234e4060a6801a432c0e877d'\n",
        "artist_name = 'Nibana'\n",
        "\n",
        "artist_info = requests.get(\n",
        "    'https://api.spotify.com/v1/search',\n",
        "    headers={ 'access_token': access_token },\n",
        "    params={ 'q': artist_name, 'type': 'artist' })\n",
        "\n",
        "print(artist_info)"
      ],
      "execution_count": 0,
      "outputs": [
        {
          "output_type": "stream",
          "text": [
            "<Response [401]>\n"
          ],
          "name": "stdout"
        }
      ]
    },
    {
      "cell_type": "markdown",
      "metadata": {
        "id": "cAKghY_1VaWL",
        "colab_type": "text"
      },
      "source": [
        "### Using spotipy ###"
      ]
    },
    {
      "cell_type": "markdown",
      "metadata": {
        "id": "VF2FTDbSIf0Q",
        "colab_type": "text"
      },
      "source": [
        "#### Authorize app ####"
      ]
    },
    {
      "cell_type": "code",
      "metadata": {
        "id": "8rvlpP7JIaEm",
        "colab_type": "code",
        "colab": {}
      },
      "source": [
        "client_id = '8038c4be0f8a4844982edce1b2282ebc'\n",
        "client_secret = '1bd8da3a234e4060a6801a432c0e877d'\n",
        "\n",
        "client_credentials_manager = SpotifyClientCredentials(client_id=client_id, client_secret=client_secret)\n",
        "\n",
        "sp = spotipy.Spotify(client_credentials_manager=client_credentials_manager) #spotify object to access API"
      ],
      "execution_count": 0,
      "outputs": []
    },
    {
      "cell_type": "markdown",
      "metadata": {
        "id": "LYcMPtAXG4NV",
        "colab_type": "text"
      },
      "source": [
        "### Extract metadata /audio features from a song ###"
      ]
    },
    {
      "cell_type": "code",
      "metadata": {
        "id": "zPuweCVl7rfq",
        "colab_type": "code",
        "colab": {}
      },
      "source": [
        "# extract audio features for each song\n",
        "def audio_features(songs_found):\n",
        "    spotify_songs=[]\n",
        "    spotify_song = {}\n",
        "  \n",
        "    for track in songs_found:\n",
        "        #pull audio features per track\n",
        "        features = sp.audio_features(track['id'])\n",
        "        spotify_song['id'] = features[0]['id']\n",
        "        #Append to relevant key-value\n",
        "        spotify_song['acousticness'] = features[0]['acousticness']\n",
        "        spotify_song['danceability'] = features[0]['danceability']\n",
        "        spotify_song['energy'] = features[0]['energy']\n",
        "        spotify_song['instrumentalness'] = features[0]['instrumentalness']\n",
        "        spotify_song['liveness'] = features[0]['liveness']\n",
        "        spotify_song['loudness'] = features[0]['loudness']\n",
        "        spotify_song['speechiness'] = features[0]['speechiness']\n",
        "        spotify_song['tempo'] = features[0]['tempo']\n",
        "        spotify_song['valence'] = features[0]['valence']\n",
        "        #popularity is stored elsewhere\n",
        "        pop = sp.track(track['id'])\n",
        "        spotify_song['popularity'] = pop['popularity']\n",
        "        spotify_song['song_name'] = pop['name']\n",
        "        if not any(d['id'] == spotify_song['id'] for d in spotify_songs):\n",
        "          spotify_songs.append(spotify_song)          \n",
        "\n",
        "    return spotify_songs"
      ],
      "execution_count": 0,
      "outputs": []
    },
    {
      "cell_type": "markdown",
      "metadata": {
        "id": "jxYlS516nPA6",
        "colab_type": "text"
      },
      "source": [
        "### Search spotify for the songs in my list ###"
      ]
    },
    {
      "cell_type": "code",
      "metadata": {
        "id": "NKb6yambEcRS",
        "colab_type": "code",
        "colab": {
          "base_uri": "https://localhost:8080/",
          "height": 50
        },
        "outputId": "4d15eb7f-031f-4b87-b516-adf571f3cd9d"
      },
      "source": [
        "songs_found = []\n",
        "song_list = [\"our eyes (sephira remix)\", \"the grid\", 'Sirius 2017(Disco Demolition Remix)', 'Project L.O.V.E', 'Tron Legacy - Son Of Flynn']\n",
        "print('my playlist has {0} songs'.format(len(song_list)))\n",
        "\n",
        "for name in song_list:  #chosen track\n",
        "  result = sp.search(name) #search query\n",
        "  track_id = result['tracks']['items'][0]['id']\n",
        "  #print(track_id, result['tracks']['items'])\n",
        "  #print(sp.audio_features([track_id]))\n",
        "  songs_found.append( audio_features(result['tracks']['items']) )\n",
        "\n",
        "print('added {0} tracks'.format(len(songs_found)))"
      ],
      "execution_count": 23,
      "outputs": [
        {
          "output_type": "stream",
          "text": [
            "my playlist has 5 songs\n",
            "added 5 tracks\n"
          ],
          "name": "stdout"
        }
      ]
    },
    {
      "cell_type": "code",
      "metadata": {
        "id": "N5hUvWG9FHwI",
        "colab_type": "code",
        "colab": {
          "base_uri": "https://localhost:8080/",
          "height": 1000
        },
        "outputId": "f2b433f8-4e73-4a9f-90cd-66bcccf5ef13"
      },
      "source": [
        "display(list(songs_found))"
      ],
      "execution_count": 24,
      "outputs": [
        {
          "output_type": "display_data",
          "data": {
            "text/plain": [
              "[[{'acousticness': 0.0554,\n",
              "   'danceability': 0.642,\n",
              "   'energy': 0.833,\n",
              "   'id': '3yzlDHdP9buTr9jkZfUyEq',\n",
              "   'instrumentalness': 0.865,\n",
              "   'liveness': 0.272,\n",
              "   'loudness': -8.621,\n",
              "   'popularity': 20,\n",
              "   'song_name': 'Our Eyes - Sephira Remix',\n",
              "   'speechiness': 0.0358,\n",
              "   'tempo': 100.015,\n",
              "   'valence': 0.0493}],\n",
              " [{'acousticness': 0.255,\n",
              "   'danceability': 0.684,\n",
              "   'energy': 0.496,\n",
              "   'id': '55C015UA6pxegrX7PaWn9w',\n",
              "   'instrumentalness': 0.415,\n",
              "   'liveness': 0.11,\n",
              "   'loudness': -9.607,\n",
              "   'popularity': 31,\n",
              "   'song_name': 'The Grid',\n",
              "   'speechiness': 0.0329,\n",
              "   'tempo': 76.709,\n",
              "   'valence': 0.813}],\n",
              " [{'acousticness': 0.0777,\n",
              "   'danceability': 0.533,\n",
              "   'energy': 0.864,\n",
              "   'id': '5ld9arEKsxvJr7RqoWd337',\n",
              "   'instrumentalness': 0.904,\n",
              "   'liveness': 0.13,\n",
              "   'loudness': -7.941,\n",
              "   'popularity': 39,\n",
              "   'song_name': 'Sirius 2017 - Disco Demolition Remix',\n",
              "   'speechiness': 0.0394,\n",
              "   'tempo': 119.023,\n",
              "   'valence': 0.0787}],\n",
              " [{'acousticness': 0.194,\n",
              "   'danceability': 0.639,\n",
              "   'energy': 0.464,\n",
              "   'id': '6k09UHJstgt7db0sv4kleF',\n",
              "   'instrumentalness': 0.811,\n",
              "   'liveness': 0.0913,\n",
              "   'loudness': -15.309,\n",
              "   'popularity': 1,\n",
              "   'song_name': 'L.O.V.E - Mushrooms Project Remix',\n",
              "   'speechiness': 0.042,\n",
              "   'tempo': 99.998,\n",
              "   'valence': 0.135}],\n",
              " [{'acousticness': 0.0175,\n",
              "   'danceability': 0.431,\n",
              "   'energy': 0.955,\n",
              "   'id': '1TT6gRprLQ5vSWgoWpyKfR',\n",
              "   'instrumentalness': 0.693,\n",
              "   'liveness': 0.164,\n",
              "   'loudness': -5.601,\n",
              "   'popularity': 39,\n",
              "   'song_name': 'The Son of Flynn - Remixed by Ki:Theory',\n",
              "   'speechiness': 0.0361,\n",
              "   'tempo': 106.011,\n",
              "   'valence': 0.282}]]"
            ]
          },
          "metadata": {
            "tags": []
          }
        }
      ]
    },
    {
      "cell_type": "code",
      "metadata": {
        "id": "zk-E5P-YflZu",
        "colab_type": "code",
        "colab": {}
      },
      "source": [
        ""
      ],
      "execution_count": 0,
      "outputs": []
    }
  ]
}